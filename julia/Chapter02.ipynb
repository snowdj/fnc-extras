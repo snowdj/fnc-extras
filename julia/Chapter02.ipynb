{
 "cells": [
  {
   "cell_type": "code",
   "execution_count": 1,
   "metadata": {},
   "outputs": [
    {
     "data": {
      "text/plain": [
       "Main.FNC"
      ]
     },
     "execution_count": 1,
     "metadata": {},
     "output_type": "execute_result"
    }
   ],
   "source": [
    "using Plots\n",
    "using Polynomials\n",
    "using LinearAlgebra,SparseArrays\n",
    "using DataFrames\n",
    "include(\"FNC.jl\")"
   ]
  },
  {
   "cell_type": "markdown",
   "metadata": {},
   "source": [
    "# Example 2.1.1"
   ]
  },
  {
   "cell_type": "markdown",
   "metadata": {},
   "source": [
    "We create two vectors for data about the population of China. The first has the years of census data, the other has the numbers of millions of people."
   ]
  },
  {
   "cell_type": "code",
   "execution_count": 2,
   "metadata": {},
   "outputs": [],
   "source": [
    "year = 1980:10:2010 \n",
    "pop = [984.736, 1148.364, 1263.638, 1330.141];"
   ]
  },
  {
   "cell_type": "markdown",
   "metadata": {},
   "source": [
    "It's convenient to measure time in years since 1980. We use `.-` to subtract a scalar from a vector elementwise."
   ]
  },
  {
   "cell_type": "code",
   "execution_count": 3,
   "metadata": {},
   "outputs": [],
   "source": [
    "t = year .- 1980\n",
    "y = pop;"
   ]
  },
  {
   "cell_type": "markdown",
   "metadata": {},
   "source": [
    "Now we have four data points $(t_1,y_1),\\dots,(t_4,y_4)$, so $n=4$ and we seek an interpolating cubic polynomial. We construct the associated Vandermonde matrix: "
   ]
  },
  {
   "cell_type": "code",
   "execution_count": 4,
   "metadata": {},
   "outputs": [
    {
     "data": {
      "text/plain": [
       "4×4 Array{Int64,2}:\n",
       " 1   0    0      0\n",
       " 1  10  100   1000\n",
       " 1  20  400   8000\n",
       " 1  30  900  27000"
      ]
     },
     "execution_count": 4,
     "metadata": {},
     "output_type": "execute_result"
    }
   ],
   "source": [
    "V = [ t[i]^j for i=1:4, j=0:3 ]"
   ]
  },
  {
   "cell_type": "markdown",
   "metadata": {},
   "source": [
    "To solve for the vector of polynomial coefficients, we use a backslash:"
   ]
  },
  {
   "cell_type": "code",
   "execution_count": 5,
   "metadata": {},
   "outputs": [
    {
     "data": {
      "text/plain": [
       "4-element Array{Float64,1}:\n",
       " 984.736               \n",
       "  18.766600000000025   \n",
       "  -0.2396850000000029  \n",
       "  -6.949999999992921e-5"
      ]
     },
     "execution_count": 5,
     "metadata": {},
     "output_type": "execute_result"
    }
   ],
   "source": [
    "c = V \\ y"
   ]
  },
  {
   "cell_type": "markdown",
   "metadata": {},
   "source": [
    "The algorithms used by the backslash operator are the main topic of this chapter. For now, observe that the coefficients of the cubic polynomial vary over several orders of magnitude, which is typical in this context. By our definitions, these coefficients are given in ascending order of power in $t$. "
   ]
  },
  {
   "cell_type": "markdown",
   "metadata": {},
   "source": [
    "We can use the resulting polynomial to estimate the population of China in 2005:"
   ]
  },
  {
   "cell_type": "code",
   "execution_count": 6,
   "metadata": {},
   "outputs": [
    {
     "data": {
      "text/plain": [
       "1303.0119375"
      ]
     },
     "execution_count": 6,
     "metadata": {},
     "output_type": "execute_result"
    }
   ],
   "source": [
    "p = Poly(c)    # construct a polynomial\n",
    "p(2005-1980)   # apply the 1980 time shift"
   ]
  },
  {
   "cell_type": "markdown",
   "metadata": {},
   "source": [
    "The official figure is 1297.8, so our result is not bad. "
   ]
  },
  {
   "cell_type": "markdown",
   "metadata": {},
   "source": [
    "We can visualize the interpolation process. First, we plot the data as points. We'll shift the $t$ variable back to actual years. "
   ]
  },
  {
   "cell_type": "code",
   "execution_count": 7,
   "metadata": {},
   "outputs": [
    {
     "data": {
      "image/svg+xml": [
       "<?xml version=\"1.0\" encoding=\"utf-8\"?>\n",
       "<svg xmlns=\"http://www.w3.org/2000/svg\" xmlns:xlink=\"http://www.w3.org/1999/xlink\" width=\"600\" height=\"400\" viewBox=\"0 0 2400 1600\">\n",
       "<defs>\n",
       "  <clipPath id=\"clip9500\">\n",
       "    <rect x=\"0\" y=\"0\" width=\"2400\" height=\"1600\"/>\n",
       "  </clipPath>\n",
       "</defs>\n",
       "<polygon clip-path=\"url(#clip9500)\" points=\"\n",
       "0,1600 2400,1600 2400,0 0,0 \n",
       "  \" fill=\"#ffffff\" fill-rule=\"evenodd\" fill-opacity=\"1\"/>\n",
       "<defs>\n",
       "  <clipPath id=\"clip9501\">\n",
       "    <rect x=\"480\" y=\"0\" width=\"1681\" height=\"1600\"/>\n",
       "  </clipPath>\n",
       "</defs>\n",
       "<polygon clip-path=\"url(#clip9500)\" points=\"\n",
       "255.898,1425.62 2352.76,1425.62 2352.76,121.675 255.898,121.675 \n",
       "  \" fill=\"#ffffff\" fill-rule=\"evenodd\" fill-opacity=\"1\"/>\n",
       "<defs>\n",
       "  <clipPath id=\"clip9502\">\n",
       "    <rect x=\"255\" y=\"121\" width=\"2098\" height=\"1305\"/>\n",
       "  </clipPath>\n",
       "</defs>\n",
       "<polyline clip-path=\"url(#clip9502)\" style=\"stroke:#000000; stroke-width:2; stroke-opacity:0.1; fill:none\" points=\"\n",
       "  315.243,1425.62 315.243,121.675 \n",
       "  \"/>\n",
       "<polyline clip-path=\"url(#clip9502)\" style=\"stroke:#000000; stroke-width:2; stroke-opacity:0.1; fill:none\" points=\"\n",
       "  974.632,1425.62 974.632,121.675 \n",
       "  \"/>\n",
       "<polyline clip-path=\"url(#clip9502)\" style=\"stroke:#000000; stroke-width:2; stroke-opacity:0.1; fill:none\" points=\"\n",
       "  1634.02,1425.62 1634.02,121.675 \n",
       "  \"/>\n",
       "<polyline clip-path=\"url(#clip9502)\" style=\"stroke:#000000; stroke-width:2; stroke-opacity:0.1; fill:none\" points=\"\n",
       "  2293.41,1425.62 2293.41,121.675 \n",
       "  \"/>\n",
       "<polyline clip-path=\"url(#clip9502)\" style=\"stroke:#000000; stroke-width:2; stroke-opacity:0.1; fill:none\" points=\"\n",
       "  255.898,1334.35 2352.76,1334.35 \n",
       "  \"/>\n",
       "<polyline clip-path=\"url(#clip9502)\" style=\"stroke:#000000; stroke-width:2; stroke-opacity:0.1; fill:none\" points=\"\n",
       "  255.898,978.21 2352.76,978.21 \n",
       "  \"/>\n",
       "<polyline clip-path=\"url(#clip9502)\" style=\"stroke:#000000; stroke-width:2; stroke-opacity:0.1; fill:none\" points=\"\n",
       "  255.898,622.067 2352.76,622.067 \n",
       "  \"/>\n",
       "<polyline clip-path=\"url(#clip9502)\" style=\"stroke:#000000; stroke-width:2; stroke-opacity:0.1; fill:none\" points=\"\n",
       "  255.898,265.924 2352.76,265.924 \n",
       "  \"/>\n",
       "<polyline clip-path=\"url(#clip9500)\" style=\"stroke:#000000; stroke-width:4; stroke-opacity:1; fill:none\" points=\"\n",
       "  255.898,1425.62 2352.76,1425.62 \n",
       "  \"/>\n",
       "<polyline clip-path=\"url(#clip9500)\" style=\"stroke:#000000; stroke-width:4; stroke-opacity:1; fill:none\" points=\"\n",
       "  255.898,1425.62 255.898,121.675 \n",
       "  \"/>\n",
       "<polyline clip-path=\"url(#clip9500)\" style=\"stroke:#000000; stroke-width:4; stroke-opacity:1; fill:none\" points=\"\n",
       "  315.243,1425.62 315.243,1406.06 \n",
       "  \"/>\n",
       "<polyline clip-path=\"url(#clip9500)\" style=\"stroke:#000000; stroke-width:4; stroke-opacity:1; fill:none\" points=\"\n",
       "  974.632,1425.62 974.632,1406.06 \n",
       "  \"/>\n",
       "<polyline clip-path=\"url(#clip9500)\" style=\"stroke:#000000; stroke-width:4; stroke-opacity:1; fill:none\" points=\"\n",
       "  1634.02,1425.62 1634.02,1406.06 \n",
       "  \"/>\n",
       "<polyline clip-path=\"url(#clip9500)\" style=\"stroke:#000000; stroke-width:4; stroke-opacity:1; fill:none\" points=\"\n",
       "  2293.41,1425.62 2293.41,1406.06 \n",
       "  \"/>\n",
       "<polyline clip-path=\"url(#clip9500)\" style=\"stroke:#000000; stroke-width:4; stroke-opacity:1; fill:none\" points=\"\n",
       "  255.898,1334.35 287.35,1334.35 \n",
       "  \"/>\n",
       "<polyline clip-path=\"url(#clip9500)\" style=\"stroke:#000000; stroke-width:4; stroke-opacity:1; fill:none\" points=\"\n",
       "  255.898,978.21 287.35,978.21 \n",
       "  \"/>\n",
       "<polyline clip-path=\"url(#clip9500)\" style=\"stroke:#000000; stroke-width:4; stroke-opacity:1; fill:none\" points=\"\n",
       "  255.898,622.067 287.35,622.067 \n",
       "  \"/>\n",
       "<polyline clip-path=\"url(#clip9500)\" style=\"stroke:#000000; stroke-width:4; stroke-opacity:1; fill:none\" points=\"\n",
       "  255.898,265.924 287.35,265.924 \n",
       "  \"/>\n",
       "<g clip-path=\"url(#clip9500)\">\n",
       "<text style=\"fill:#000000; fill-opacity:1; font-family:Arial,Helvetica Neue,Helvetica,sans-serif; font-size:48px; text-anchor:middle;\" transform=\"rotate(0, 315.243, 1479.62)\" x=\"315.243\" y=\"1479.62\">1980</text>\n",
       "</g>\n",
       "<g clip-path=\"url(#clip9500)\">\n",
       "<text style=\"fill:#000000; fill-opacity:1; font-family:Arial,Helvetica Neue,Helvetica,sans-serif; font-size:48px; text-anchor:middle;\" transform=\"rotate(0, 974.632, 1479.62)\" x=\"974.632\" y=\"1479.62\">1990</text>\n",
       "</g>\n",
       "<g clip-path=\"url(#clip9500)\">\n",
       "<text style=\"fill:#000000; fill-opacity:1; font-family:Arial,Helvetica Neue,Helvetica,sans-serif; font-size:48px; text-anchor:middle;\" transform=\"rotate(0, 1634.02, 1479.62)\" x=\"1634.02\" y=\"1479.62\">2000</text>\n",
       "</g>\n",
       "<g clip-path=\"url(#clip9500)\">\n",
       "<text style=\"fill:#000000; fill-opacity:1; font-family:Arial,Helvetica Neue,Helvetica,sans-serif; font-size:48px; text-anchor:middle;\" transform=\"rotate(0, 2293.41, 1479.62)\" x=\"2293.41\" y=\"1479.62\">2010</text>\n",
       "</g>\n",
       "<g clip-path=\"url(#clip9500)\">\n",
       "<text style=\"fill:#000000; fill-opacity:1; font-family:Arial,Helvetica Neue,Helvetica,sans-serif; font-size:48px; text-anchor:end;\" transform=\"rotate(0, 231.898, 1351.85)\" x=\"231.898\" y=\"1351.85\">1000</text>\n",
       "</g>\n",
       "<g clip-path=\"url(#clip9500)\">\n",
       "<text style=\"fill:#000000; fill-opacity:1; font-family:Arial,Helvetica Neue,Helvetica,sans-serif; font-size:48px; text-anchor:end;\" transform=\"rotate(0, 231.898, 995.71)\" x=\"231.898\" y=\"995.71\">1100</text>\n",
       "</g>\n",
       "<g clip-path=\"url(#clip9500)\">\n",
       "<text style=\"fill:#000000; fill-opacity:1; font-family:Arial,Helvetica Neue,Helvetica,sans-serif; font-size:48px; text-anchor:end;\" transform=\"rotate(0, 231.898, 639.567)\" x=\"231.898\" y=\"639.567\">1200</text>\n",
       "</g>\n",
       "<g clip-path=\"url(#clip9500)\">\n",
       "<text style=\"fill:#000000; fill-opacity:1; font-family:Arial,Helvetica Neue,Helvetica,sans-serif; font-size:48px; text-anchor:end;\" transform=\"rotate(0, 231.898, 283.424)\" x=\"231.898\" y=\"283.424\">1300</text>\n",
       "</g>\n",
       "<g clip-path=\"url(#clip9500)\">\n",
       "<text style=\"fill:#000000; fill-opacity:1; font-family:Arial,Helvetica Neue,Helvetica,sans-serif; font-size:84px; text-anchor:middle;\" transform=\"rotate(0, 1304.33, 73.2)\" x=\"1304.33\" y=\"73.2\">Population of China</text>\n",
       "</g>\n",
       "<g clip-path=\"url(#clip9500)\">\n",
       "<text style=\"fill:#000000; fill-opacity:1; font-family:Arial,Helvetica Neue,Helvetica,sans-serif; font-size:66px; text-anchor:middle;\" transform=\"rotate(0, 1304.33, 1559.48)\" x=\"1304.33\" y=\"1559.48\">year</text>\n",
       "</g>\n",
       "<g clip-path=\"url(#clip9500)\">\n",
       "<text style=\"fill:#000000; fill-opacity:1; font-family:Arial,Helvetica Neue,Helvetica,sans-serif; font-size:66px; text-anchor:middle;\" transform=\"rotate(-90, 89.2861, 773.647)\" x=\"89.2861\" y=\"773.647\">population (millions)</text>\n",
       "</g>\n",
       "<circle clip-path=\"url(#clip9502)\" style=\"fill:#000000; stroke:none; fill-opacity:1\" cx=\"315.243\" cy=\"1388.71\" r=\"18\"/>\n",
       "<circle clip-path=\"url(#clip9502)\" style=\"fill:#009af9; stroke:none; fill-opacity:1\" cx=\"315.243\" cy=\"1388.71\" r=\"14\"/>\n",
       "<circle clip-path=\"url(#clip9502)\" style=\"fill:#000000; stroke:none; fill-opacity:1\" cx=\"974.632\" cy=\"805.965\" r=\"18\"/>\n",
       "<circle clip-path=\"url(#clip9502)\" style=\"fill:#009af9; stroke:none; fill-opacity:1\" cx=\"974.632\" cy=\"805.965\" r=\"14\"/>\n",
       "<circle clip-path=\"url(#clip9502)\" style=\"fill:#000000; stroke:none; fill-opacity:1\" cx=\"1634.02\" cy=\"395.425\" r=\"18\"/>\n",
       "<circle clip-path=\"url(#clip9502)\" style=\"fill:#009af9; stroke:none; fill-opacity:1\" cx=\"1634.02\" cy=\"395.425\" r=\"14\"/>\n",
       "<circle clip-path=\"url(#clip9502)\" style=\"fill:#000000; stroke:none; fill-opacity:1\" cx=\"2293.41\" cy=\"158.579\" r=\"18\"/>\n",
       "<circle clip-path=\"url(#clip9502)\" style=\"fill:#009af9; stroke:none; fill-opacity:1\" cx=\"2293.41\" cy=\"158.579\" r=\"14\"/>\n",
       "<polygon clip-path=\"url(#clip9500)\" points=\"\n",
       "327.898,326.155 696.318,326.155 696.318,205.195 327.898,205.195 \n",
       "  \" fill=\"#ffffff\" fill-rule=\"evenodd\" fill-opacity=\"1\"/>\n",
       "<polyline clip-path=\"url(#clip9500)\" style=\"stroke:#000000; stroke-width:4; stroke-opacity:1; fill:none\" points=\"\n",
       "  327.898,326.155 696.318,326.155 696.318,205.195 327.898,205.195 327.898,326.155 \n",
       "  \"/>\n",
       "<circle clip-path=\"url(#clip9500)\" style=\"fill:#000000; stroke:none; fill-opacity:1\" cx=\"435.898\" cy=\"265.675\" r=\"25\"/>\n",
       "<circle clip-path=\"url(#clip9500)\" style=\"fill:#009af9; stroke:none; fill-opacity:1\" cx=\"435.898\" cy=\"265.675\" r=\"21\"/>\n",
       "<g clip-path=\"url(#clip9500)\">\n",
       "<text style=\"fill:#000000; fill-opacity:1; font-family:Arial,Helvetica Neue,Helvetica,sans-serif; font-size:48px; text-anchor:start;\" transform=\"rotate(0, 519.898, 283.175)\" x=\"519.898\" y=\"283.175\">actual</text>\n",
       "</g>\n",
       "</svg>\n"
      ]
     },
     "execution_count": 7,
     "metadata": {},
     "output_type": "execute_result"
    }
   ],
   "source": [
    "scatter(1980 .+ t,y,label=\"actual\",\n",
    "    legend=:topleft,xlabel=\"year\",ylabel=\"population (millions)\",title=\"Population of China\")"
   ]
  },
  {
   "cell_type": "markdown",
   "metadata": {},
   "source": [
    "We want to superimpose a plot of the polynomial. We do that by evaluating it at a lot of points in the interval. Note the use of `plot!` to add to the current plot, rather than replacing it. "
   ]
  },
  {
   "cell_type": "code",
   "execution_count": 8,
   "metadata": {},
   "outputs": [
    {
     "data": {
      "image/svg+xml": [
       "<?xml version=\"1.0\" encoding=\"utf-8\"?>\n",
       "<svg xmlns=\"http://www.w3.org/2000/svg\" xmlns:xlink=\"http://www.w3.org/1999/xlink\" width=\"600\" height=\"400\" viewBox=\"0 0 2400 1600\">\n",
       "<defs>\n",
       "  <clipPath id=\"clip9900\">\n",
       "    <rect x=\"0\" y=\"0\" width=\"2400\" height=\"1600\"/>\n",
       "  </clipPath>\n",
       "</defs>\n",
       "<polygon clip-path=\"url(#clip9900)\" points=\"\n",
       "0,1600 2400,1600 2400,0 0,0 \n",
       "  \" fill=\"#ffffff\" fill-rule=\"evenodd\" fill-opacity=\"1\"/>\n",
       "<defs>\n",
       "  <clipPath id=\"clip9901\">\n",
       "    <rect x=\"480\" y=\"0\" width=\"1681\" height=\"1600\"/>\n",
       "  </clipPath>\n",
       "</defs>\n",
       "<polygon clip-path=\"url(#clip9900)\" points=\"\n",
       "255.898,1425.62 2352.76,1425.62 2352.76,121.675 255.898,121.675 \n",
       "  \" fill=\"#ffffff\" fill-rule=\"evenodd\" fill-opacity=\"1\"/>\n",
       "<defs>\n",
       "  <clipPath id=\"clip9902\">\n",
       "    <rect x=\"255\" y=\"121\" width=\"2098\" height=\"1305\"/>\n",
       "  </clipPath>\n",
       "</defs>\n",
       "<polyline clip-path=\"url(#clip9902)\" style=\"stroke:#000000; stroke-width:2; stroke-opacity:0.1; fill:none\" points=\"\n",
       "  315.243,1425.62 315.243,121.675 \n",
       "  \"/>\n",
       "<polyline clip-path=\"url(#clip9902)\" style=\"stroke:#000000; stroke-width:2; stroke-opacity:0.1; fill:none\" points=\"\n",
       "  974.632,1425.62 974.632,121.675 \n",
       "  \"/>\n",
       "<polyline clip-path=\"url(#clip9902)\" style=\"stroke:#000000; stroke-width:2; stroke-opacity:0.1; fill:none\" points=\"\n",
       "  1634.02,1425.62 1634.02,121.675 \n",
       "  \"/>\n",
       "<polyline clip-path=\"url(#clip9902)\" style=\"stroke:#000000; stroke-width:2; stroke-opacity:0.1; fill:none\" points=\"\n",
       "  2293.41,1425.62 2293.41,121.675 \n",
       "  \"/>\n",
       "<polyline clip-path=\"url(#clip9902)\" style=\"stroke:#000000; stroke-width:2; stroke-opacity:0.1; fill:none\" points=\"\n",
       "  255.898,1334.35 2352.76,1334.35 \n",
       "  \"/>\n",
       "<polyline clip-path=\"url(#clip9902)\" style=\"stroke:#000000; stroke-width:2; stroke-opacity:0.1; fill:none\" points=\"\n",
       "  255.898,978.21 2352.76,978.21 \n",
       "  \"/>\n",
       "<polyline clip-path=\"url(#clip9902)\" style=\"stroke:#000000; stroke-width:2; stroke-opacity:0.1; fill:none\" points=\"\n",
       "  255.898,622.067 2352.76,622.067 \n",
       "  \"/>\n",
       "<polyline clip-path=\"url(#clip9902)\" style=\"stroke:#000000; stroke-width:2; stroke-opacity:0.1; fill:none\" points=\"\n",
       "  255.898,265.924 2352.76,265.924 \n",
       "  \"/>\n",
       "<polyline clip-path=\"url(#clip9900)\" style=\"stroke:#000000; stroke-width:4; stroke-opacity:1; fill:none\" points=\"\n",
       "  255.898,1425.62 2352.76,1425.62 \n",
       "  \"/>\n",
       "<polyline clip-path=\"url(#clip9900)\" style=\"stroke:#000000; stroke-width:4; stroke-opacity:1; fill:none\" points=\"\n",
       "  255.898,1425.62 255.898,121.675 \n",
       "  \"/>\n",
       "<polyline clip-path=\"url(#clip9900)\" style=\"stroke:#000000; stroke-width:4; stroke-opacity:1; fill:none\" points=\"\n",
       "  315.243,1425.62 315.243,1406.06 \n",
       "  \"/>\n",
       "<polyline clip-path=\"url(#clip9900)\" style=\"stroke:#000000; stroke-width:4; stroke-opacity:1; fill:none\" points=\"\n",
       "  974.632,1425.62 974.632,1406.06 \n",
       "  \"/>\n",
       "<polyline clip-path=\"url(#clip9900)\" style=\"stroke:#000000; stroke-width:4; stroke-opacity:1; fill:none\" points=\"\n",
       "  1634.02,1425.62 1634.02,1406.06 \n",
       "  \"/>\n",
       "<polyline clip-path=\"url(#clip9900)\" style=\"stroke:#000000; stroke-width:4; stroke-opacity:1; fill:none\" points=\"\n",
       "  2293.41,1425.62 2293.41,1406.06 \n",
       "  \"/>\n",
       "<polyline clip-path=\"url(#clip9900)\" style=\"stroke:#000000; stroke-width:4; stroke-opacity:1; fill:none\" points=\"\n",
       "  255.898,1334.35 287.35,1334.35 \n",
       "  \"/>\n",
       "<polyline clip-path=\"url(#clip9900)\" style=\"stroke:#000000; stroke-width:4; stroke-opacity:1; fill:none\" points=\"\n",
       "  255.898,978.21 287.35,978.21 \n",
       "  \"/>\n",
       "<polyline clip-path=\"url(#clip9900)\" style=\"stroke:#000000; stroke-width:4; stroke-opacity:1; fill:none\" points=\"\n",
       "  255.898,622.067 287.35,622.067 \n",
       "  \"/>\n",
       "<polyline clip-path=\"url(#clip9900)\" style=\"stroke:#000000; stroke-width:4; stroke-opacity:1; fill:none\" points=\"\n",
       "  255.898,265.924 287.35,265.924 \n",
       "  \"/>\n",
       "<g clip-path=\"url(#clip9900)\">\n",
       "<text style=\"fill:#000000; fill-opacity:1; font-family:Arial,Helvetica Neue,Helvetica,sans-serif; font-size:48px; text-anchor:middle;\" transform=\"rotate(0, 315.243, 1479.62)\" x=\"315.243\" y=\"1479.62\">1980</text>\n",
       "</g>\n",
       "<g clip-path=\"url(#clip9900)\">\n",
       "<text style=\"fill:#000000; fill-opacity:1; font-family:Arial,Helvetica Neue,Helvetica,sans-serif; font-size:48px; text-anchor:middle;\" transform=\"rotate(0, 974.632, 1479.62)\" x=\"974.632\" y=\"1479.62\">1990</text>\n",
       "</g>\n",
       "<g clip-path=\"url(#clip9900)\">\n",
       "<text style=\"fill:#000000; fill-opacity:1; font-family:Arial,Helvetica Neue,Helvetica,sans-serif; font-size:48px; text-anchor:middle;\" transform=\"rotate(0, 1634.02, 1479.62)\" x=\"1634.02\" y=\"1479.62\">2000</text>\n",
       "</g>\n",
       "<g clip-path=\"url(#clip9900)\">\n",
       "<text style=\"fill:#000000; fill-opacity:1; font-family:Arial,Helvetica Neue,Helvetica,sans-serif; font-size:48px; text-anchor:middle;\" transform=\"rotate(0, 2293.41, 1479.62)\" x=\"2293.41\" y=\"1479.62\">2010</text>\n",
       "</g>\n",
       "<g clip-path=\"url(#clip9900)\">\n",
       "<text style=\"fill:#000000; fill-opacity:1; font-family:Arial,Helvetica Neue,Helvetica,sans-serif; font-size:48px; text-anchor:end;\" transform=\"rotate(0, 231.898, 1351.85)\" x=\"231.898\" y=\"1351.85\">1000</text>\n",
       "</g>\n",
       "<g clip-path=\"url(#clip9900)\">\n",
       "<text style=\"fill:#000000; fill-opacity:1; font-family:Arial,Helvetica Neue,Helvetica,sans-serif; font-size:48px; text-anchor:end;\" transform=\"rotate(0, 231.898, 995.71)\" x=\"231.898\" y=\"995.71\">1100</text>\n",
       "</g>\n",
       "<g clip-path=\"url(#clip9900)\">\n",
       "<text style=\"fill:#000000; fill-opacity:1; font-family:Arial,Helvetica Neue,Helvetica,sans-serif; font-size:48px; text-anchor:end;\" transform=\"rotate(0, 231.898, 639.567)\" x=\"231.898\" y=\"639.567\">1200</text>\n",
       "</g>\n",
       "<g clip-path=\"url(#clip9900)\">\n",
       "<text style=\"fill:#000000; fill-opacity:1; font-family:Arial,Helvetica Neue,Helvetica,sans-serif; font-size:48px; text-anchor:end;\" transform=\"rotate(0, 231.898, 283.424)\" x=\"231.898\" y=\"283.424\">1300</text>\n",
       "</g>\n",
       "<g clip-path=\"url(#clip9900)\">\n",
       "<text style=\"fill:#000000; fill-opacity:1; font-family:Arial,Helvetica Neue,Helvetica,sans-serif; font-size:84px; text-anchor:middle;\" transform=\"rotate(0, 1304.33, 73.2)\" x=\"1304.33\" y=\"73.2\">Population of China</text>\n",
       "</g>\n",
       "<g clip-path=\"url(#clip9900)\">\n",
       "<text style=\"fill:#000000; fill-opacity:1; font-family:Arial,Helvetica Neue,Helvetica,sans-serif; font-size:66px; text-anchor:middle;\" transform=\"rotate(0, 1304.33, 1559.48)\" x=\"1304.33\" y=\"1559.48\">year</text>\n",
       "</g>\n",
       "<g clip-path=\"url(#clip9900)\">\n",
       "<text style=\"fill:#000000; fill-opacity:1; font-family:Arial,Helvetica Neue,Helvetica,sans-serif; font-size:66px; text-anchor:middle;\" transform=\"rotate(-90, 89.2861, 773.647)\" x=\"89.2861\" y=\"773.647\">population (millions)</text>\n",
       "</g>\n",
       "<circle clip-path=\"url(#clip9902)\" style=\"fill:#000000; stroke:none; fill-opacity:1\" cx=\"315.243\" cy=\"1388.71\" r=\"18\"/>\n",
       "<circle clip-path=\"url(#clip9902)\" style=\"fill:#009af9; stroke:none; fill-opacity:1\" cx=\"315.243\" cy=\"1388.71\" r=\"14\"/>\n",
       "<circle clip-path=\"url(#clip9902)\" style=\"fill:#000000; stroke:none; fill-opacity:1\" cx=\"974.632\" cy=\"805.965\" r=\"18\"/>\n",
       "<circle clip-path=\"url(#clip9902)\" style=\"fill:#009af9; stroke:none; fill-opacity:1\" cx=\"974.632\" cy=\"805.965\" r=\"14\"/>\n",
       "<circle clip-path=\"url(#clip9902)\" style=\"fill:#000000; stroke:none; fill-opacity:1\" cx=\"1634.02\" cy=\"395.425\" r=\"18\"/>\n",
       "<circle clip-path=\"url(#clip9902)\" style=\"fill:#009af9; stroke:none; fill-opacity:1\" cx=\"1634.02\" cy=\"395.425\" r=\"14\"/>\n",
       "<circle clip-path=\"url(#clip9902)\" style=\"fill:#000000; stroke:none; fill-opacity:1\" cx=\"2293.41\" cy=\"158.579\" r=\"18\"/>\n",
       "<circle clip-path=\"url(#clip9902)\" style=\"fill:#009af9; stroke:none; fill-opacity:1\" cx=\"2293.41\" cy=\"158.579\" r=\"14\"/>\n",
       "<polyline clip-path=\"url(#clip9902)\" style=\"stroke:#e26f46; stroke-width:4; stroke-opacity:1; fill:none\" points=\"\n",
       "  315.243,1388.71 321.859,1382.02 328.475,1375.34 335.09,1368.67 341.706,1362.03 348.322,1355.4 354.938,1348.79 361.554,1342.19 368.17,1335.62 374.786,1329.06 \n",
       "  381.402,1322.51 388.018,1315.99 394.634,1309.48 401.25,1302.99 407.866,1296.52 414.482,1290.06 421.098,1283.62 427.714,1277.2 434.33,1270.79 440.946,1264.41 \n",
       "  447.562,1258.04 454.178,1251.68 460.793,1245.35 467.409,1239.03 474.025,1232.73 480.641,1226.44 487.257,1220.17 493.873,1213.92 500.489,1207.69 507.105,1201.48 \n",
       "  513.721,1195.28 520.337,1189.1 526.953,1182.93 533.569,1176.79 540.185,1170.66 546.801,1164.54 553.417,1158.45 560.033,1152.37 566.649,1146.31 573.265,1140.27 \n",
       "  579.881,1134.24 586.496,1128.23 593.112,1122.24 599.728,1116.27 606.344,1110.31 612.96,1104.37 619.576,1098.45 626.192,1092.54 632.808,1086.66 639.424,1080.79 \n",
       "  646.04,1074.93 652.656,1069.1 659.272,1063.28 665.888,1057.48 672.504,1051.69 679.12,1045.92 685.736,1040.17 692.352,1034.44 698.968,1028.73 705.584,1023.03 \n",
       "  712.199,1017.35 718.815,1011.68 725.431,1006.04 732.047,1000.41 738.663,994.798 745.279,989.204 751.895,983.627 758.511,978.067 765.127,972.525 771.743,967 \n",
       "  778.359,961.492 784.975,956.001 791.591,950.528 798.207,945.072 804.823,939.633 811.439,934.212 818.055,928.808 824.671,923.421 831.287,918.052 837.902,912.7 \n",
       "  844.518,907.365 851.134,902.047 857.75,896.747 864.366,891.464 870.982,886.198 877.598,880.95 884.214,875.719 890.83,870.506 897.446,865.309 904.062,860.13 \n",
       "  910.678,854.968 917.294,849.824 923.91,844.697 930.526,839.587 937.142,834.495 943.758,829.42 950.374,824.362 956.99,819.321 963.605,814.298 970.221,809.293 \n",
       "  976.837,804.304 983.453,799.333 990.069,794.379 996.685,789.443 1003.3,784.524 1009.92,779.622 1016.53,774.738 1023.15,769.871 1029.76,765.021 1036.38,760.189 \n",
       "  1043,755.374 1049.61,750.576 1056.23,745.796 1062.84,741.033 1069.46,736.287 1076.08,731.559 1082.69,726.848 1089.31,722.155 1095.92,717.478 1102.54,712.82 \n",
       "  1109.16,708.178 1115.77,703.554 1122.39,698.948 1129,694.358 1135.62,689.786 1142.24,685.232 1148.85,680.695 1155.47,676.175 1162.08,671.672 1168.7,667.187 \n",
       "  1175.32,662.72 1181.93,658.269 1188.55,653.836 1195.16,649.421 1201.78,645.023 1208.4,640.642 1215.01,636.279 1221.63,631.933 1228.24,627.604 1234.86,623.293 \n",
       "  1241.48,618.999 1248.09,614.723 1254.71,610.464 1261.32,606.222 1267.94,601.998 1274.55,597.791 1281.17,593.602 1287.79,589.43 1294.4,585.275 1301.02,581.138 \n",
       "  1307.63,577.018 1314.25,572.916 1320.87,568.831 1327.48,564.764 1334.1,560.713 1340.71,556.681 1347.33,552.665 1353.95,548.668 1360.56,544.687 1367.18,540.724 \n",
       "  1373.79,536.779 1380.41,532.851 1387.03,528.94 1393.64,525.047 1400.26,521.171 1406.87,517.312 1413.49,513.471 1420.11,509.648 1426.72,505.842 1433.34,502.053 \n",
       "  1439.95,498.282 1446.57,494.528 1453.19,490.792 1459.8,487.073 1466.42,483.371 1473.03,479.687 1479.65,476.021 1486.27,472.372 1492.88,468.74 1499.5,465.126 \n",
       "  1506.11,461.529 1512.73,457.95 1519.35,454.388 1525.96,450.843 1532.58,447.317 1539.19,443.807 1545.81,440.315 1552.42,436.841 1559.04,433.384 1565.66,429.944 \n",
       "  1572.27,426.522 1578.89,423.117 1585.5,419.73 1592.12,416.36 1598.74,413.008 1605.35,409.673 1611.97,406.356 1618.58,403.056 1625.2,399.774 1631.82,396.509 \n",
       "  1638.43,393.262 1645.05,390.032 1651.66,386.82 1658.28,383.625 1664.9,380.448 1671.51,377.288 1678.13,374.145 1684.74,371.02 1691.36,367.913 1697.98,364.823 \n",
       "  1704.59,361.751 1711.21,358.696 1717.82,355.658 1724.44,352.639 1731.06,349.636 1737.67,346.651 1744.29,343.684 1750.9,340.734 1757.52,337.802 1764.14,334.887 \n",
       "  1770.75,331.99 1777.37,329.11 1783.98,326.248 1790.6,323.403 1797.21,320.576 1803.83,317.766 1810.45,314.974 1817.06,312.199 1823.68,309.442 1830.29,306.702 \n",
       "  1836.91,303.98 1843.53,301.276 1850.14,298.589 1856.76,295.919 1863.37,293.267 1869.99,290.633 1876.61,288.016 1883.22,285.417 1889.84,282.835 1896.45,280.271 \n",
       "  1903.07,277.724 1909.69,275.195 1916.3,272.683 1922.92,270.189 1929.53,267.713 1936.15,265.254 1942.77,262.813 1949.38,260.389 1956,257.983 1962.61,255.594 \n",
       "  1969.23,253.223 1975.85,250.869 1982.46,248.533 1989.08,246.215 1995.69,243.914 2002.31,241.63 2008.93,239.365 2015.54,237.116 2022.16,234.886 2028.77,232.673 \n",
       "  2035.39,230.477 2042,228.299 2048.62,226.139 2055.24,223.996 2061.85,221.871 2068.47,219.764 2075.08,217.674 2081.7,215.601 2088.32,213.547 2094.93,211.509 \n",
       "  2101.55,209.49 2108.16,207.488 2114.78,205.503 2121.4,203.536 2128.01,201.587 2134.63,199.656 2141.24,197.741 2147.86,195.845 2154.48,193.966 2161.09,192.105 \n",
       "  2167.71,190.261 2174.32,188.435 2180.94,186.627 2187.56,184.836 2194.17,183.063 2200.79,181.307 2207.4,179.569 2214.02,177.849 2220.64,176.146 2227.25,174.461 \n",
       "  2233.87,172.794 2240.48,171.144 2247.1,169.511 2253.72,167.897 2260.33,166.3 2266.95,164.72 2273.56,163.159 2280.18,161.615 2286.79,160.088 2293.41,158.579 \n",
       "  \n",
       "  \"/>\n",
       "<polygon clip-path=\"url(#clip9900)\" points=\"\n",
       "327.898,386.635 792.634,386.635 792.634,205.195 327.898,205.195 \n",
       "  \" fill=\"#ffffff\" fill-rule=\"evenodd\" fill-opacity=\"1\"/>\n",
       "<polyline clip-path=\"url(#clip9900)\" style=\"stroke:#000000; stroke-width:4; stroke-opacity:1; fill:none\" points=\"\n",
       "  327.898,386.635 792.634,386.635 792.634,205.195 327.898,205.195 327.898,386.635 \n",
       "  \"/>\n",
       "<circle clip-path=\"url(#clip9900)\" style=\"fill:#000000; stroke:none; fill-opacity:1\" cx=\"435.898\" cy=\"265.675\" r=\"25\"/>\n",
       "<circle clip-path=\"url(#clip9900)\" style=\"fill:#009af9; stroke:none; fill-opacity:1\" cx=\"435.898\" cy=\"265.675\" r=\"21\"/>\n",
       "<g clip-path=\"url(#clip9900)\">\n",
       "<text style=\"fill:#000000; fill-opacity:1; font-family:Arial,Helvetica Neue,Helvetica,sans-serif; font-size:48px; text-anchor:start;\" transform=\"rotate(0, 519.898, 283.175)\" x=\"519.898\" y=\"283.175\">actual</text>\n",
       "</g>\n",
       "<polyline clip-path=\"url(#clip9900)\" style=\"stroke:#e26f46; stroke-width:4; stroke-opacity:1; fill:none\" points=\"\n",
       "  351.898,326.155 495.898,326.155 \n",
       "  \"/>\n",
       "<g clip-path=\"url(#clip9900)\">\n",
       "<text style=\"fill:#000000; fill-opacity:1; font-family:Arial,Helvetica Neue,Helvetica,sans-serif; font-size:48px; text-anchor:start;\" transform=\"rotate(0, 519.898, 343.655)\" x=\"519.898\" y=\"343.655\">interpolant</text>\n",
       "</g>\n",
       "</svg>\n"
      ]
     },
     "execution_count": 8,
     "metadata": {},
     "output_type": "execute_result"
    }
   ],
   "source": [
    "tt = LinRange(0,30,300)        # 300 times from 1980 to 2010\n",
    "plot!(1980 .+ tt,p(tt),label=\"interpolant\")"
   ]
  },
  {
   "cell_type": "markdown",
   "metadata": {},
   "source": [
    "Let's redo it, this time continuing the curve outside of the original date range. "
   ]
  },
  {
   "cell_type": "code",
   "execution_count": 9,
   "metadata": {},
   "outputs": [
    {
     "data": {
      "image/svg+xml": [
       "<?xml version=\"1.0\" encoding=\"utf-8\"?>\n",
       "<svg xmlns=\"http://www.w3.org/2000/svg\" xmlns:xlink=\"http://www.w3.org/1999/xlink\" width=\"600\" height=\"400\" viewBox=\"0 0 2400 1600\">\n",
       "<defs>\n",
       "  <clipPath id=\"clip0300\">\n",
       "    <rect x=\"0\" y=\"0\" width=\"2400\" height=\"1600\"/>\n",
       "  </clipPath>\n",
       "</defs>\n",
       "<polygon clip-path=\"url(#clip0300)\" points=\"\n",
       "0,1600 2400,1600 2400,0 0,0 \n",
       "  \" fill=\"#ffffff\" fill-rule=\"evenodd\" fill-opacity=\"1\"/>\n",
       "<defs>\n",
       "  <clipPath id=\"clip0301\">\n",
       "    <rect x=\"480\" y=\"0\" width=\"1681\" height=\"1600\"/>\n",
       "  </clipPath>\n",
       "</defs>\n",
       "<polygon clip-path=\"url(#clip0300)\" points=\"\n",
       "255.898,1425.62 2352.76,1425.62 2352.76,121.675 255.898,121.675 \n",
       "  \" fill=\"#ffffff\" fill-rule=\"evenodd\" fill-opacity=\"1\"/>\n",
       "<defs>\n",
       "  <clipPath id=\"clip0302\">\n",
       "    <rect x=\"255\" y=\"121\" width=\"2098\" height=\"1305\"/>\n",
       "  </clipPath>\n",
       "</defs>\n",
       "<polyline clip-path=\"url(#clip0302)\" style=\"stroke:#000000; stroke-width:2; stroke-opacity:0.1; fill:none\" points=\"\n",
       "  315.243,1425.62 315.243,121.675 \n",
       "  \"/>\n",
       "<polyline clip-path=\"url(#clip0302)\" style=\"stroke:#000000; stroke-width:2; stroke-opacity:0.1; fill:none\" points=\"\n",
       "  644.937,1425.62 644.937,121.675 \n",
       "  \"/>\n",
       "<polyline clip-path=\"url(#clip0302)\" style=\"stroke:#000000; stroke-width:2; stroke-opacity:0.1; fill:none\" points=\"\n",
       "  974.632,1425.62 974.632,121.675 \n",
       "  \"/>\n",
       "<polyline clip-path=\"url(#clip0302)\" style=\"stroke:#000000; stroke-width:2; stroke-opacity:0.1; fill:none\" points=\"\n",
       "  1304.33,1425.62 1304.33,121.675 \n",
       "  \"/>\n",
       "<polyline clip-path=\"url(#clip0302)\" style=\"stroke:#000000; stroke-width:2; stroke-opacity:0.1; fill:none\" points=\"\n",
       "  1634.02,1425.62 1634.02,121.675 \n",
       "  \"/>\n",
       "<polyline clip-path=\"url(#clip0302)\" style=\"stroke:#000000; stroke-width:2; stroke-opacity:0.1; fill:none\" points=\"\n",
       "  1963.72,1425.62 1963.72,121.675 \n",
       "  \"/>\n",
       "<polyline clip-path=\"url(#clip0302)\" style=\"stroke:#000000; stroke-width:2; stroke-opacity:0.1; fill:none\" points=\"\n",
       "  2293.41,1425.62 2293.41,121.675 \n",
       "  \"/>\n",
       "<polyline clip-path=\"url(#clip0302)\" style=\"stroke:#000000; stroke-width:2; stroke-opacity:0.1; fill:none\" points=\"\n",
       "  255.898,1331.3 2352.76,1331.3 \n",
       "  \"/>\n",
       "<polyline clip-path=\"url(#clip0302)\" style=\"stroke:#000000; stroke-width:2; stroke-opacity:0.1; fill:none\" points=\"\n",
       "  255.898,1117.3 2352.76,1117.3 \n",
       "  \"/>\n",
       "<polyline clip-path=\"url(#clip0302)\" style=\"stroke:#000000; stroke-width:2; stroke-opacity:0.1; fill:none\" points=\"\n",
       "  255.898,903.308 2352.76,903.308 \n",
       "  \"/>\n",
       "<polyline clip-path=\"url(#clip0302)\" style=\"stroke:#000000; stroke-width:2; stroke-opacity:0.1; fill:none\" points=\"\n",
       "  255.898,689.312 2352.76,689.312 \n",
       "  \"/>\n",
       "<polyline clip-path=\"url(#clip0302)\" style=\"stroke:#000000; stroke-width:2; stroke-opacity:0.1; fill:none\" points=\"\n",
       "  255.898,475.315 2352.76,475.315 \n",
       "  \"/>\n",
       "<polyline clip-path=\"url(#clip0302)\" style=\"stroke:#000000; stroke-width:2; stroke-opacity:0.1; fill:none\" points=\"\n",
       "  255.898,261.319 2352.76,261.319 \n",
       "  \"/>\n",
       "<polyline clip-path=\"url(#clip0300)\" style=\"stroke:#000000; stroke-width:4; stroke-opacity:1; fill:none\" points=\"\n",
       "  255.898,1425.62 2352.76,1425.62 \n",
       "  \"/>\n",
       "<polyline clip-path=\"url(#clip0300)\" style=\"stroke:#000000; stroke-width:4; stroke-opacity:1; fill:none\" points=\"\n",
       "  255.898,1425.62 255.898,121.675 \n",
       "  \"/>\n",
       "<polyline clip-path=\"url(#clip0300)\" style=\"stroke:#000000; stroke-width:4; stroke-opacity:1; fill:none\" points=\"\n",
       "  315.243,1425.62 315.243,1406.06 \n",
       "  \"/>\n",
       "<polyline clip-path=\"url(#clip0300)\" style=\"stroke:#000000; stroke-width:4; stroke-opacity:1; fill:none\" points=\"\n",
       "  644.937,1425.62 644.937,1406.06 \n",
       "  \"/>\n",
       "<polyline clip-path=\"url(#clip0300)\" style=\"stroke:#000000; stroke-width:4; stroke-opacity:1; fill:none\" points=\"\n",
       "  974.632,1425.62 974.632,1406.06 \n",
       "  \"/>\n",
       "<polyline clip-path=\"url(#clip0300)\" style=\"stroke:#000000; stroke-width:4; stroke-opacity:1; fill:none\" points=\"\n",
       "  1304.33,1425.62 1304.33,1406.06 \n",
       "  \"/>\n",
       "<polyline clip-path=\"url(#clip0300)\" style=\"stroke:#000000; stroke-width:4; stroke-opacity:1; fill:none\" points=\"\n",
       "  1634.02,1425.62 1634.02,1406.06 \n",
       "  \"/>\n",
       "<polyline clip-path=\"url(#clip0300)\" style=\"stroke:#000000; stroke-width:4; stroke-opacity:1; fill:none\" points=\"\n",
       "  1963.72,1425.62 1963.72,1406.06 \n",
       "  \"/>\n",
       "<polyline clip-path=\"url(#clip0300)\" style=\"stroke:#000000; stroke-width:4; stroke-opacity:1; fill:none\" points=\"\n",
       "  2293.41,1425.62 2293.41,1406.06 \n",
       "  \"/>\n",
       "<polyline clip-path=\"url(#clip0300)\" style=\"stroke:#000000; stroke-width:4; stroke-opacity:1; fill:none\" points=\"\n",
       "  255.898,1331.3 287.35,1331.3 \n",
       "  \"/>\n",
       "<polyline clip-path=\"url(#clip0300)\" style=\"stroke:#000000; stroke-width:4; stroke-opacity:1; fill:none\" points=\"\n",
       "  255.898,1117.3 287.35,1117.3 \n",
       "  \"/>\n",
       "<polyline clip-path=\"url(#clip0300)\" style=\"stroke:#000000; stroke-width:4; stroke-opacity:1; fill:none\" points=\"\n",
       "  255.898,903.308 287.35,903.308 \n",
       "  \"/>\n",
       "<polyline clip-path=\"url(#clip0300)\" style=\"stroke:#000000; stroke-width:4; stroke-opacity:1; fill:none\" points=\"\n",
       "  255.898,689.312 287.35,689.312 \n",
       "  \"/>\n",
       "<polyline clip-path=\"url(#clip0300)\" style=\"stroke:#000000; stroke-width:4; stroke-opacity:1; fill:none\" points=\"\n",
       "  255.898,475.315 287.35,475.315 \n",
       "  \"/>\n",
       "<polyline clip-path=\"url(#clip0300)\" style=\"stroke:#000000; stroke-width:4; stroke-opacity:1; fill:none\" points=\"\n",
       "  255.898,261.319 287.35,261.319 \n",
       "  \"/>\n",
       "<g clip-path=\"url(#clip0300)\">\n",
       "<text style=\"fill:#000000; fill-opacity:1; font-family:Arial,Helvetica Neue,Helvetica,sans-serif; font-size:48px; text-anchor:middle;\" transform=\"rotate(0, 315.243, 1479.62)\" x=\"315.243\" y=\"1479.62\">1970</text>\n",
       "</g>\n",
       "<g clip-path=\"url(#clip0300)\">\n",
       "<text style=\"fill:#000000; fill-opacity:1; font-family:Arial,Helvetica Neue,Helvetica,sans-serif; font-size:48px; text-anchor:middle;\" transform=\"rotate(0, 644.937, 1479.62)\" x=\"644.937\" y=\"1479.62\">1980</text>\n",
       "</g>\n",
       "<g clip-path=\"url(#clip0300)\">\n",
       "<text style=\"fill:#000000; fill-opacity:1; font-family:Arial,Helvetica Neue,Helvetica,sans-serif; font-size:48px; text-anchor:middle;\" transform=\"rotate(0, 974.632, 1479.62)\" x=\"974.632\" y=\"1479.62\">1990</text>\n",
       "</g>\n",
       "<g clip-path=\"url(#clip0300)\">\n",
       "<text style=\"fill:#000000; fill-opacity:1; font-family:Arial,Helvetica Neue,Helvetica,sans-serif; font-size:48px; text-anchor:middle;\" transform=\"rotate(0, 1304.33, 1479.62)\" x=\"1304.33\" y=\"1479.62\">2000</text>\n",
       "</g>\n",
       "<g clip-path=\"url(#clip0300)\">\n",
       "<text style=\"fill:#000000; fill-opacity:1; font-family:Arial,Helvetica Neue,Helvetica,sans-serif; font-size:48px; text-anchor:middle;\" transform=\"rotate(0, 1634.02, 1479.62)\" x=\"1634.02\" y=\"1479.62\">2010</text>\n",
       "</g>\n",
       "<g clip-path=\"url(#clip0300)\">\n",
       "<text style=\"fill:#000000; fill-opacity:1; font-family:Arial,Helvetica Neue,Helvetica,sans-serif; font-size:48px; text-anchor:middle;\" transform=\"rotate(0, 1963.72, 1479.62)\" x=\"1963.72\" y=\"1479.62\">2020</text>\n",
       "</g>\n",
       "<g clip-path=\"url(#clip0300)\">\n",
       "<text style=\"fill:#000000; fill-opacity:1; font-family:Arial,Helvetica Neue,Helvetica,sans-serif; font-size:48px; text-anchor:middle;\" transform=\"rotate(0, 2293.41, 1479.62)\" x=\"2293.41\" y=\"1479.62\">2030</text>\n",
       "</g>\n",
       "<g clip-path=\"url(#clip0300)\">\n",
       "<text style=\"fill:#000000; fill-opacity:1; font-family:Arial,Helvetica Neue,Helvetica,sans-serif; font-size:48px; text-anchor:end;\" transform=\"rotate(0, 231.898, 1348.8)\" x=\"231.898\" y=\"1348.8\">800</text>\n",
       "</g>\n",
       "<g clip-path=\"url(#clip0300)\">\n",
       "<text style=\"fill:#000000; fill-opacity:1; font-family:Arial,Helvetica Neue,Helvetica,sans-serif; font-size:48px; text-anchor:end;\" transform=\"rotate(0, 231.898, 1134.8)\" x=\"231.898\" y=\"1134.8\">900</text>\n",
       "</g>\n",
       "<g clip-path=\"url(#clip0300)\">\n",
       "<text style=\"fill:#000000; fill-opacity:1; font-family:Arial,Helvetica Neue,Helvetica,sans-serif; font-size:48px; text-anchor:end;\" transform=\"rotate(0, 231.898, 920.808)\" x=\"231.898\" y=\"920.808\">1000</text>\n",
       "</g>\n",
       "<g clip-path=\"url(#clip0300)\">\n",
       "<text style=\"fill:#000000; fill-opacity:1; font-family:Arial,Helvetica Neue,Helvetica,sans-serif; font-size:48px; text-anchor:end;\" transform=\"rotate(0, 231.898, 706.812)\" x=\"231.898\" y=\"706.812\">1100</text>\n",
       "</g>\n",
       "<g clip-path=\"url(#clip0300)\">\n",
       "<text style=\"fill:#000000; fill-opacity:1; font-family:Arial,Helvetica Neue,Helvetica,sans-serif; font-size:48px; text-anchor:end;\" transform=\"rotate(0, 231.898, 492.815)\" x=\"231.898\" y=\"492.815\">1200</text>\n",
       "</g>\n",
       "<g clip-path=\"url(#clip0300)\">\n",
       "<text style=\"fill:#000000; fill-opacity:1; font-family:Arial,Helvetica Neue,Helvetica,sans-serif; font-size:48px; text-anchor:end;\" transform=\"rotate(0, 231.898, 278.819)\" x=\"231.898\" y=\"278.819\">1300</text>\n",
       "</g>\n",
       "<g clip-path=\"url(#clip0300)\">\n",
       "<text style=\"fill:#000000; fill-opacity:1; font-family:Arial,Helvetica Neue,Helvetica,sans-serif; font-size:84px; text-anchor:middle;\" transform=\"rotate(0, 1304.33, 73.2)\" x=\"1304.33\" y=\"73.2\">Population of China</text>\n",
       "</g>\n",
       "<g clip-path=\"url(#clip0300)\">\n",
       "<text style=\"fill:#000000; fill-opacity:1; font-family:Arial,Helvetica Neue,Helvetica,sans-serif; font-size:66px; text-anchor:middle;\" transform=\"rotate(0, 1304.33, 1559.48)\" x=\"1304.33\" y=\"1559.48\">year</text>\n",
       "</g>\n",
       "<g clip-path=\"url(#clip0300)\">\n",
       "<text style=\"fill:#000000; fill-opacity:1; font-family:Arial,Helvetica Neue,Helvetica,sans-serif; font-size:66px; text-anchor:middle;\" transform=\"rotate(-90, 89.2861, 773.647)\" x=\"89.2861\" y=\"773.647\">population (millions)</text>\n",
       "</g>\n",
       "<circle clip-path=\"url(#clip0302)\" style=\"fill:#000000; stroke:none; fill-opacity:1\" cx=\"644.937\" cy=\"935.973\" r=\"18\"/>\n",
       "<circle clip-path=\"url(#clip0302)\" style=\"fill:#009af9; stroke:none; fill-opacity:1\" cx=\"644.937\" cy=\"935.973\" r=\"14\"/>\n",
       "<circle clip-path=\"url(#clip0302)\" style=\"fill:#000000; stroke:none; fill-opacity:1\" cx=\"974.632\" cy=\"585.815\" r=\"18\"/>\n",
       "<circle clip-path=\"url(#clip0302)\" style=\"fill:#009af9; stroke:none; fill-opacity:1\" cx=\"974.632\" cy=\"585.815\" r=\"14\"/>\n",
       "<circle clip-path=\"url(#clip0302)\" style=\"fill:#000000; stroke:none; fill-opacity:1\" cx=\"1304.33\" cy=\"339.132\" r=\"18\"/>\n",
       "<circle clip-path=\"url(#clip0302)\" style=\"fill:#009af9; stroke:none; fill-opacity:1\" cx=\"1304.33\" cy=\"339.132\" r=\"14\"/>\n",
       "<circle clip-path=\"url(#clip0302)\" style=\"fill:#000000; stroke:none; fill-opacity:1\" cx=\"1634.02\" cy=\"196.818\" r=\"18\"/>\n",
       "<circle clip-path=\"url(#clip0302)\" style=\"fill:#009af9; stroke:none; fill-opacity:1\" cx=\"1634.02\" cy=\"196.818\" r=\"14\"/>\n",
       "<polyline clip-path=\"url(#clip0302)\" style=\"stroke:#e26f46; stroke-width:4; stroke-opacity:1; fill:none\" points=\"\n",
       "  315.243,1388.71 321.859,1378.63 328.475,1368.58 335.09,1358.57 341.706,1348.61 348.322,1338.68 354.938,1328.8 361.554,1318.96 368.17,1309.16 374.786,1299.4 \n",
       "  381.402,1289.68 388.018,1280 394.634,1270.36 401.25,1260.77 407.866,1251.21 414.482,1241.7 421.098,1232.23 427.714,1222.79 434.33,1213.4 440.946,1204.05 \n",
       "  447.562,1194.75 454.178,1185.48 460.793,1176.25 467.409,1167.07 474.025,1157.92 480.641,1148.82 487.257,1139.76 493.873,1130.74 500.489,1121.76 507.105,1112.82 \n",
       "  513.721,1103.92 520.337,1095.07 526.953,1086.25 533.569,1077.48 540.185,1068.74 546.801,1060.05 553.417,1051.4 560.033,1042.79 566.649,1034.23 573.265,1025.7 \n",
       "  579.881,1017.21 586.496,1008.77 593.112,1000.37 599.728,992.006 606.344,983.685 612.96,975.406 619.576,967.169 626.192,958.972 632.808,950.817 639.424,942.703 \n",
       "  646.04,934.63 652.656,926.599 659.272,918.609 665.888,910.66 672.504,902.753 679.12,894.887 685.736,887.062 692.352,879.279 698.968,871.537 705.584,863.837 \n",
       "  712.199,856.177 718.815,848.56 725.431,840.983 732.047,833.448 738.663,825.955 745.279,818.502 751.895,811.092 758.511,803.722 765.127,796.394 771.743,789.108 \n",
       "  778.359,781.863 784.975,774.659 791.591,767.497 798.207,760.376 804.823,753.297 811.439,746.26 818.055,739.263 824.671,732.309 831.287,725.395 837.902,718.524 \n",
       "  844.518,711.694 851.134,704.905 857.75,698.158 864.366,691.452 870.982,684.788 877.598,678.166 884.214,671.585 890.83,665.045 897.446,658.548 904.062,652.091 \n",
       "  910.678,645.677 917.294,639.304 923.91,632.972 930.526,626.683 937.142,620.434 943.758,614.228 950.374,608.063 956.99,601.94 963.605,595.858 970.221,589.818 \n",
       "  976.837,583.82 983.453,577.863 990.069,571.948 996.685,566.075 1003.3,560.244 1009.92,554.454 1016.53,548.705 1023.15,542.999 1029.76,537.334 1036.38,531.711 \n",
       "  1043,526.13 1049.61,520.59 1056.23,515.093 1062.84,509.637 1069.46,504.222 1076.08,498.85 1082.69,493.519 1089.31,488.23 1095.92,482.983 1102.54,477.778 \n",
       "  1109.16,472.614 1115.77,467.493 1122.39,462.413 1129,457.375 1135.62,452.378 1142.24,447.424 1148.85,442.512 1155.47,437.641 1162.08,432.812 1168.7,428.025 \n",
       "  1175.32,423.28 1181.93,418.577 1188.55,413.916 1195.16,409.296 1201.78,404.719 1208.4,400.183 1215.01,395.69 1221.63,391.238 1228.24,386.828 1234.86,382.46 \n",
       "  1241.48,378.134 1248.09,373.851 1254.71,369.609 1261.32,365.409 1267.94,361.251 1274.55,357.135 1281.17,353.061 1287.79,349.029 1294.4,345.039 1301.02,341.091 \n",
       "  1307.63,337.185 1314.25,333.321 1320.87,329.499 1327.48,325.719 1334.1,321.981 1340.71,318.285 1347.33,314.632 1353.95,311.02 1360.56,307.451 1367.18,303.923 \n",
       "  1373.79,300.438 1380.41,296.995 1387.03,293.594 1393.64,290.235 1400.26,286.918 1406.87,283.643 1413.49,280.41 1420.11,277.22 1426.72,274.072 1433.34,270.966 \n",
       "  1439.95,267.902 1446.57,264.88 1453.19,261.9 1459.8,258.963 1466.42,256.067 1473.03,253.214 1479.65,250.404 1486.27,247.635 1492.88,244.909 1499.5,242.224 \n",
       "  1506.11,239.583 1512.73,236.983 1519.35,234.426 1525.96,231.91 1532.58,229.438 1539.19,227.007 1545.81,224.619 1552.42,222.273 1559.04,219.969 1565.66,217.707 \n",
       "  1572.27,215.488 1578.89,213.312 1585.5,211.177 1592.12,209.085 1598.74,207.035 1605.35,205.028 1611.97,203.063 1618.58,201.14 1625.2,199.26 1631.82,197.422 \n",
       "  1638.43,195.626 1645.05,193.873 1651.66,192.162 1658.28,190.494 1664.9,188.868 1671.51,187.284 1678.13,185.743 1684.74,184.244 1691.36,182.788 1697.98,181.374 \n",
       "  1704.59,180.003 1711.21,178.674 1717.82,177.387 1724.44,176.143 1731.06,174.942 1737.67,173.783 1744.29,172.667 1750.9,171.593 1757.52,170.561 1764.14,169.572 \n",
       "  1770.75,168.626 1777.37,167.722 1783.98,166.861 1790.6,166.042 1797.21,165.266 1803.83,164.532 1810.45,163.841 1817.06,163.192 1823.68,162.586 1830.29,162.023 \n",
       "  1836.91,161.502 1843.53,161.024 1850.14,160.589 1856.76,160.196 1863.37,159.846 1869.99,159.538 1876.61,159.273 1883.22,159.051 1889.84,158.871 1896.45,158.734 \n",
       "  1903.07,158.64 1909.69,158.588 1916.3,158.579 1922.92,158.613 1929.53,158.689 1936.15,158.809 1942.77,158.97 1949.38,159.175 1956,159.422 1962.61,159.712 \n",
       "  1969.23,160.045 1975.85,160.421 1982.46,160.839 1989.08,161.3 1995.69,161.804 2002.31,162.351 2008.93,162.94 2015.54,163.572 2022.16,164.247 2028.77,164.965 \n",
       "  2035.39,165.726 2042,166.529 2048.62,167.375 2055.24,168.265 2061.85,169.196 2068.47,170.171 2075.08,171.189 2081.7,172.25 2088.32,173.353 2094.93,174.499 \n",
       "  2101.55,175.688 2108.16,176.921 2114.78,178.196 2121.4,179.513 2128.01,180.874 2134.63,182.278 2141.24,183.725 2147.86,185.214 2154.48,186.747 2161.09,188.322 \n",
       "  2167.71,189.941 2174.32,191.602 2180.94,193.307 2187.56,195.054 2194.17,196.845 2200.79,198.678 2207.4,200.554 2214.02,202.474 2220.64,204.436 2227.25,206.442 \n",
       "  2233.87,208.49 2240.48,210.582 2247.1,212.716 2253.72,214.894 2260.33,217.115 2266.95,219.378 2273.56,221.685 2280.18,224.035 2286.79,226.428 2293.41,228.864 \n",
       "  \n",
       "  \"/>\n",
       "<polygon clip-path=\"url(#clip0300)\" points=\"\n",
       "327.898,386.635 792.634,386.635 792.634,205.195 327.898,205.195 \n",
       "  \" fill=\"#ffffff\" fill-rule=\"evenodd\" fill-opacity=\"1\"/>\n",
       "<polyline clip-path=\"url(#clip0300)\" style=\"stroke:#000000; stroke-width:4; stroke-opacity:1; fill:none\" points=\"\n",
       "  327.898,386.635 792.634,386.635 792.634,205.195 327.898,205.195 327.898,386.635 \n",
       "  \"/>\n",
       "<circle clip-path=\"url(#clip0300)\" style=\"fill:#000000; stroke:none; fill-opacity:1\" cx=\"435.898\" cy=\"265.675\" r=\"25\"/>\n",
       "<circle clip-path=\"url(#clip0300)\" style=\"fill:#009af9; stroke:none; fill-opacity:1\" cx=\"435.898\" cy=\"265.675\" r=\"21\"/>\n",
       "<g clip-path=\"url(#clip0300)\">\n",
       "<text style=\"fill:#000000; fill-opacity:1; font-family:Arial,Helvetica Neue,Helvetica,sans-serif; font-size:48px; text-anchor:start;\" transform=\"rotate(0, 519.898, 283.175)\" x=\"519.898\" y=\"283.175\">actual</text>\n",
       "</g>\n",
       "<polyline clip-path=\"url(#clip0300)\" style=\"stroke:#e26f46; stroke-width:4; stroke-opacity:1; fill:none\" points=\"\n",
       "  351.898,326.155 495.898,326.155 \n",
       "  \"/>\n",
       "<g clip-path=\"url(#clip0300)\">\n",
       "<text style=\"fill:#000000; fill-opacity:1; font-family:Arial,Helvetica Neue,Helvetica,sans-serif; font-size:48px; text-anchor:start;\" transform=\"rotate(0, 519.898, 343.655)\" x=\"519.898\" y=\"343.655\">interpolant</text>\n",
       "</g>\n",
       "</svg>\n"
      ]
     },
     "execution_count": 9,
     "metadata": {},
     "output_type": "execute_result"
    }
   ],
   "source": [
    "scatter(1980 .+ t,y,label=\"actual\",\n",
    "    legend=:topleft,xlabel=\"year\",ylabel=\"population (millions)\",title=\"Population of China\")\n",
    "\n",
    "tt = LinRange(-10,50,300)   \n",
    "plot!(1980 .+ tt,p(tt),label=\"interpolant\")"
   ]
  },
  {
   "cell_type": "markdown",
   "metadata": {},
   "source": [
    "While the interpolation is plausible, the extrapolation to the future is highly questionable! As a rule, extrapolation more than a short distance beyond the original interval is not reliable."
   ]
  },
  {
   "cell_type": "markdown",
   "metadata": {},
   "source": [
    "# Example 2.2.1"
   ]
  },
  {
   "cell_type": "markdown",
   "metadata": {},
   "source": [
    "Square brackets are used to enclose elements of a matrix or vector. Use spaces for horizontal concatenation, and semicolons or new lines to indicate vertical concatenation."
   ]
  },
  {
   "cell_type": "code",
   "execution_count": 10,
   "metadata": {},
   "outputs": [
    {
     "data": {
      "text/plain": [
       "3×5 Array{Float64,2}:\n",
       "  1.0       2.0       3.0       4.0       5.0    \n",
       " 50.0      40.0      30.0      20.0      10.0    \n",
       "  3.14159   1.41421   2.71828   1.61803   1.09861"
      ]
     },
     "execution_count": 10,
     "metadata": {},
     "output_type": "execute_result"
    }
   ],
   "source": [
    "A = [ 1 2 3 4 5; 50 40 30 20 10\n",
    "    pi sqrt(2) exp(1) (1+sqrt(5))/2 log(3) ]"
   ]
  },
  {
   "cell_type": "code",
   "execution_count": 11,
   "metadata": {},
   "outputs": [
    {
     "data": {
      "text/plain": [
       "(3, 5)"
      ]
     },
     "execution_count": 11,
     "metadata": {},
     "output_type": "execute_result"
    }
   ],
   "source": [
    "m,n = size(A)"
   ]
  },
  {
   "cell_type": "markdown",
   "metadata": {},
   "source": [
    "A vector is not quite the same thing as a matrix. It has only one dimension, not two. Separate its elements by commas."
   ]
  },
  {
   "cell_type": "code",
   "execution_count": 12,
   "metadata": {},
   "outputs": [
    {
     "data": {
      "text/plain": [
       "(5,)"
      ]
     },
     "execution_count": 12,
     "metadata": {},
     "output_type": "execute_result"
    }
   ],
   "source": [
    "x = [ 3, 3, 0, 1, 0 ]\n",
    "size(x)"
   ]
  },
  {
   "cell_type": "markdown",
   "metadata": {},
   "source": [
    "For many purposes, though, an $n$-vector in Julia is a lot like an $n\\times 1$ column vector."
   ]
  },
  {
   "cell_type": "code",
   "execution_count": 13,
   "metadata": {},
   "outputs": [
    {
     "data": {
      "text/plain": [
       "(5,)"
      ]
     },
     "execution_count": 13,
     "metadata": {},
     "output_type": "execute_result"
    }
   ],
   "source": [
    "size( [3;3;0;1;0] )"
   ]
  },
  {
   "cell_type": "markdown",
   "metadata": {},
   "source": [
    "Concatenated elements within brackets may be matrices for a block representation, as long as all the block sizes are compatible."
   ]
  },
  {
   "cell_type": "code",
   "execution_count": 14,
   "metadata": {},
   "outputs": [
    {
     "data": {
      "text/plain": [
       "6×5 Array{Float64,2}:\n",
       "  1.0       2.0       3.0       4.0       5.0    \n",
       " 50.0      40.0      30.0      20.0      10.0    \n",
       "  3.14159   1.41421   2.71828   1.61803   1.09861\n",
       "  1.0       2.0       3.0       4.0       5.0    \n",
       " 50.0      40.0      30.0      20.0      10.0    \n",
       "  3.14159   1.41421   2.71828   1.61803   1.09861"
      ]
     },
     "execution_count": 14,
     "metadata": {},
     "output_type": "execute_result"
    }
   ],
   "source": [
    "AA = [ A; A ]"
   ]
  },
  {
   "cell_type": "code",
   "execution_count": 15,
   "metadata": {},
   "outputs": [
    {
     "data": {
      "text/plain": [
       "3×3 Array{Float64,2}:\n",
       " 0.0  0.0  1.0\n",
       " 0.0  0.0  1.0\n",
       " 0.0  0.0  1.0"
      ]
     },
     "execution_count": 15,
     "metadata": {},
     "output_type": "execute_result"
    }
   ],
   "source": [
    "B = [ zeros(3,2) ones(3,1) ]"
   ]
  },
  {
   "cell_type": "markdown",
   "metadata": {},
   "source": [
    "The dot-quote `.'` transposes a matrix. A single quote `'` on its own performs the hermitian (transpose and complex conjugation). For a real matrix, the two operations are the same."
   ]
  },
  {
   "cell_type": "code",
   "execution_count": 16,
   "metadata": {},
   "outputs": [
    {
     "data": {
      "text/plain": [
       "5×3 Adjoint{Float64,Array{Float64,2}}:\n",
       " 1.0  50.0  3.14159\n",
       " 2.0  40.0  1.41421\n",
       " 3.0  30.0  2.71828\n",
       " 4.0  20.0  1.61803\n",
       " 5.0  10.0  1.09861"
      ]
     },
     "execution_count": 16,
     "metadata": {},
     "output_type": "execute_result"
    }
   ],
   "source": [
    "A'"
   ]
  },
  {
   "cell_type": "markdown",
   "metadata": {},
   "source": [
    "If `x` is simply a vector, then its transpose has a row shape."
   ]
  },
  {
   "cell_type": "code",
   "execution_count": 17,
   "metadata": {},
   "outputs": [
    {
     "data": {
      "text/plain": [
       "1×5 Adjoint{Int64,Array{Int64,1}}:\n",
       " 3  3  0  1  0"
      ]
     },
     "execution_count": 17,
     "metadata": {},
     "output_type": "execute_result"
    }
   ],
   "source": [
    "x'"
   ]
  },
  {
   "cell_type": "markdown",
   "metadata": {},
   "source": [
    "There are many convenient shorthand ways of building vectors and matrices other than entering all of their entries directly or in a loop. To get a vector with evenly spaced entries between two endpoints, you have two options."
   ]
  },
  {
   "cell_type": "code",
   "execution_count": 18,
   "metadata": {},
   "outputs": [
    {
     "data": {
      "text/plain": [
       "1:4"
      ]
     },
     "execution_count": 18,
     "metadata": {},
     "output_type": "execute_result"
    }
   ],
   "source": [
    "y = 1:4              # start:stop"
   ]
  },
  {
   "cell_type": "code",
   "execution_count": 19,
   "metadata": {},
   "outputs": [
    {
     "data": {
      "text/plain": [
       "1×5 Adjoint{Int64,StepRange{Int64,Int64}}:\n",
       " 0  3  6  9  12"
      ]
     },
     "execution_count": 19,
     "metadata": {},
     "output_type": "execute_result"
    }
   ],
   "source": [
    "z = ( 0:3:12 )'     # start:step:stop"
   ]
  },
  {
   "cell_type": "markdown",
   "metadata": {},
   "source": [
    "(Technically, `y` above is not a vector but a *range*. It behaves identically in most circumstances.)"
   ]
  },
  {
   "cell_type": "code",
   "execution_count": 20,
   "metadata": {},
   "outputs": [
    {
     "data": {
      "text/plain": [
       "5-element LinRange{Float64}:\n",
       " -1.0,-0.5,0.0,0.5,1.0"
      ]
     },
     "execution_count": 20,
     "metadata": {},
     "output_type": "execute_result"
    }
   ],
   "source": [
    "s = LinRange(-1,1,5)  "
   ]
  },
  {
   "cell_type": "markdown",
   "metadata": {},
   "source": [
    "Accessing an element is done by giving one (for a vector) or two index values in square brackets. The keyword `end` as an index refers to the last position in the corresponding dimension."
   ]
  },
  {
   "cell_type": "code",
   "execution_count": 21,
   "metadata": {},
   "outputs": [
    {
     "data": {
      "text/plain": [
       "20.0"
      ]
     },
     "execution_count": 21,
     "metadata": {},
     "output_type": "execute_result"
    }
   ],
   "source": [
    "a = A[2,end-1]"
   ]
  },
  {
   "cell_type": "code",
   "execution_count": 22,
   "metadata": {},
   "outputs": [
    {
     "data": {
      "text/plain": [
       "3"
      ]
     },
     "execution_count": 22,
     "metadata": {},
     "output_type": "execute_result"
    }
   ],
   "source": [
    "x[2]"
   ]
  },
  {
   "cell_type": "markdown",
   "metadata": {},
   "source": [
    "The indices can be vectors or ranges, in which case a block of the matrix is accessed."
   ]
  },
  {
   "cell_type": "code",
   "execution_count": 23,
   "metadata": {},
   "outputs": [
    {
     "data": {
      "text/plain": [
       "2×3 Array{Float64,2}:\n",
       "  3.0   4.0   5.0\n",
       " 30.0  20.0  10.0"
      ]
     },
     "execution_count": 23,
     "metadata": {},
     "output_type": "execute_result"
    }
   ],
   "source": [
    "A[1:2,end-2:end]    # first two rows, last three columns"
   ]
  },
  {
   "cell_type": "markdown",
   "metadata": {},
   "source": [
    "If a dimension has only the index `:` (a colon), then it refers to all the entries in that dimension of the matrix."
   ]
  },
  {
   "cell_type": "code",
   "execution_count": 24,
   "metadata": {},
   "outputs": [
    {
     "data": {
      "text/plain": [
       "3×3 Array{Float64,2}:\n",
       "  1.0       3.0       5.0    \n",
       " 50.0      30.0      10.0    \n",
       "  3.14159   2.71828   1.09861"
      ]
     },
     "execution_count": 24,
     "metadata": {},
     "output_type": "execute_result"
    }
   ],
   "source": [
    "A[:,1:2:end]        # all of the odd columns"
   ]
  },
  {
   "cell_type": "markdown",
   "metadata": {},
   "source": [
    "The matrix and vector senses of addition, subtraction, scalar multiplication, multiplication, and power are all handled by the usual symbols. If matrix sizes are such that the operation is not defined, an error message will result."
   ]
  },
  {
   "cell_type": "code",
   "execution_count": 25,
   "metadata": {},
   "outputs": [
    {
     "data": {
      "text/plain": [
       "3×3 Array{Int64,2}:\n",
       " -1  0   0\n",
       "  0  0   0\n",
       "  0  0  -5"
      ]
     },
     "execution_count": 25,
     "metadata": {},
     "output_type": "execute_result"
    }
   ],
   "source": [
    "B = diagm( 0=>[-1,0,-5] )     # create a diagonal matrix"
   ]
  },
  {
   "cell_type": "code",
   "execution_count": 26,
   "metadata": {},
   "outputs": [
    {
     "data": {
      "text/plain": [
       "3×5 Array{Float64,2}:\n",
       "  -1.0    -2.0       -3.0     -4.0      -5.0    \n",
       "   0.0     0.0        0.0      0.0       0.0    \n",
       " -15.708  -7.07107  -13.5914  -8.09017  -5.49306"
      ]
     },
     "execution_count": 26,
     "metadata": {},
     "output_type": "execute_result"
    }
   ],
   "source": [
    "BA = B*A     # matrix product"
   ]
  },
  {
   "cell_type": "markdown",
   "metadata": {},
   "source": [
    "`A*B` causes an error. "
   ]
  },
  {
   "cell_type": "code",
   "execution_count": 27,
   "metadata": {},
   "outputs": [
    {
     "ename": "DimensionMismatch",
     "evalue": "DimensionMismatch(\"matrix A has dimensions (3,5), matrix B has dimensions (3,3)\")",
     "output_type": "error",
     "traceback": [
      "DimensionMismatch(\"matrix A has dimensions (3,5), matrix B has dimensions (3,3)\")",
      "",
      "Stacktrace:",
      " [1] _generic_matmatmul!(::Array{Float64,2}, ::Char, ::Char, ::Array{Float64,2}, ::Array{Int64,2}) at /Users/osx/buildbot/slave/package_osx64/build/usr/share/julia/stdlib/v1.1/LinearAlgebra/src/matmul.jl:591",
      " [2] generic_matmatmul!(::Array{Float64,2}, ::Char, ::Char, ::Array{Float64,2}, ::Array{Int64,2}) at /Users/osx/buildbot/slave/package_osx64/build/usr/share/julia/stdlib/v1.1/LinearAlgebra/src/matmul.jl:581",
      " [3] mul! at /Users/osx/buildbot/slave/package_osx64/build/usr/share/julia/stdlib/v1.1/LinearAlgebra/src/matmul.jl:175 [inlined]",
      " [4] *(::Array{Float64,2}, ::Array{Int64,2}) at /Users/osx/buildbot/slave/package_osx64/build/usr/share/julia/stdlib/v1.1/LinearAlgebra/src/matmul.jl:142",
      " [5] top-level scope at In[27]:1"
     ]
    }
   ],
   "source": [
    "A*B"
   ]
  },
  {
   "cell_type": "markdown",
   "metadata": {},
   "source": [
    "A square matrix raised to an integer power is the same as repeated matrix multiplication."
   ]
  },
  {
   "cell_type": "code",
   "execution_count": 28,
   "metadata": {},
   "outputs": [
    {
     "data": {
      "text/plain": [
       "3×3 Array{Int64,2}:\n",
       " -1  0     0\n",
       "  0  0     0\n",
       "  0  0  -125"
      ]
     },
     "execution_count": 28,
     "metadata": {},
     "output_type": "execute_result"
    }
   ],
   "source": [
    "B^3    # same as B*B*B"
   ]
  },
  {
   "cell_type": "markdown",
   "metadata": {},
   "source": [
    "In many cases, one instead wants to treat a matrix or vector as a mere array and simply apply a single operation to each element of it. For multiplication, division, and power, the corresponding operators start with a dot."
   ]
  },
  {
   "cell_type": "code",
   "execution_count": 29,
   "metadata": {},
   "outputs": [],
   "source": [
    "C = -A;"
   ]
  },
  {
   "cell_type": "markdown",
   "metadata": {},
   "source": [
    "`A*C` would be an error. "
   ]
  },
  {
   "cell_type": "code",
   "execution_count": 30,
   "metadata": {},
   "outputs": [
    {
     "data": {
      "text/plain": [
       "3×5 Array{Float64,2}:\n",
       "    -1.0        -4.0    -9.0       -16.0       -25.0    \n",
       " -2500.0     -1600.0  -900.0      -400.0      -100.0    \n",
       "    -9.8696     -2.0    -7.38906    -2.61803    -1.20695"
      ]
     },
     "execution_count": 30,
     "metadata": {},
     "output_type": "execute_result"
    }
   ],
   "source": [
    "elementwise = A.*C"
   ]
  },
  {
   "cell_type": "markdown",
   "metadata": {},
   "source": [
    "The two operands of a dot operator have to have the same size—unless one is a scalar, in which case it is expanded or \"broadcast\" to be the same size as the other operand. "
   ]
  },
  {
   "cell_type": "code",
   "execution_count": 31,
   "metadata": {},
   "outputs": [
    {
     "data": {
      "text/plain": [
       "5-element Array{Int64,1}:\n",
       " 9\n",
       " 9\n",
       " 0\n",
       " 1\n",
       " 0"
      ]
     },
     "execution_count": 31,
     "metadata": {},
     "output_type": "execute_result"
    }
   ],
   "source": [
    "xtotwo = x.^2"
   ]
  },
  {
   "cell_type": "code",
   "execution_count": 32,
   "metadata": {},
   "outputs": [
    {
     "data": {
      "text/plain": [
       "5-element Array{Float64,1}:\n",
       " 8.0\n",
       " 8.0\n",
       " 1.0\n",
       " 2.0\n",
       " 1.0"
      ]
     },
     "execution_count": 32,
     "metadata": {},
     "output_type": "execute_result"
    }
   ],
   "source": [
    "twotox = 2.0.^x"
   ]
  },
  {
   "cell_type": "markdown",
   "metadata": {},
   "source": [
    "Most of the mathematical functions, such as cos, sin, log, exp and sqrt, expect scalars as operands. However, you can broadcast any function across a vector or array by using a special dot syntax. "
   ]
  },
  {
   "cell_type": "code",
   "execution_count": 33,
   "metadata": {},
   "outputs": [
    {
     "name": "stdout",
     "output_type": "stream",
     "text": [
      "[-1.0, -1.0, 1.0, -1.0, 1.0]\n",
      "[-1.0, -1.0, 1.0, -1.0, 1.0]\n"
     ]
    }
   ],
   "source": [
    "println(cos.(pi*x));      # vectorize a single function\n",
    "println(@. cos(pi*x));    # vectorize an entire expression"
   ]
  },
  {
   "cell_type": "markdown",
   "metadata": {},
   "source": [
    "# Example 2.3.2"
   ]
  },
  {
   "cell_type": "markdown",
   "metadata": {},
   "source": [
    "For a square matrix $A$, the command `A\\b` is mathematically equivalent to $A^{-1}b$. This command is not part of the core Julia, though, so it has to be explicitly loaded before the first use in a session. "
   ]
  },
  {
   "cell_type": "code",
   "execution_count": 34,
   "metadata": {},
   "outputs": [
    {
     "data": {
      "text/plain": [
       "3×3 Array{Int64,2}:\n",
       "  1   0  -1\n",
       "  2   2   1\n",
       " -1  -3   0"
      ]
     },
     "execution_count": 34,
     "metadata": {},
     "output_type": "execute_result"
    }
   ],
   "source": [
    "A = [1 0 -1; 2 2 1; -1 -3 0]"
   ]
  },
  {
   "cell_type": "code",
   "execution_count": 35,
   "metadata": {},
   "outputs": [
    {
     "data": {
      "text/plain": [
       "3-element Array{Int64,1}:\n",
       " 1\n",
       " 2\n",
       " 3"
      ]
     },
     "execution_count": 35,
     "metadata": {},
     "output_type": "execute_result"
    }
   ],
   "source": [
    "b = [1,2,3]"
   ]
  },
  {
   "cell_type": "code",
   "execution_count": 36,
   "metadata": {},
   "outputs": [
    {
     "data": {
      "text/plain": [
       "3-element Array{Float64,1}:\n",
       "  2.142857142857143 \n",
       " -1.7142857142857142\n",
       "  1.1428571428571428"
      ]
     },
     "execution_count": 36,
     "metadata": {},
     "output_type": "execute_result"
    }
   ],
   "source": [
    "x = A\\b"
   ]
  },
  {
   "cell_type": "markdown",
   "metadata": {},
   "source": [
    "One way to check the answer is to compute a quantity known as the **residual**. It is (hopefully) close to machine precision, scaled by the size of the entries of the data."
   ]
  },
  {
   "cell_type": "code",
   "execution_count": 37,
   "metadata": {},
   "outputs": [
    {
     "data": {
      "text/plain": [
       "3-element Array{Float64,1}:\n",
       " 0.0                  \n",
       " 0.0                  \n",
       " 4.440892098500626e-16"
      ]
     },
     "execution_count": 37,
     "metadata": {},
     "output_type": "execute_result"
    }
   ],
   "source": [
    "residual = b - A*x"
   ]
  },
  {
   "cell_type": "markdown",
   "metadata": {},
   "source": [
    "If the matrix $A$ is singular, you may get an error (\"exception\" in Julia-speak)."
   ]
  },
  {
   "cell_type": "code",
   "execution_count": 38,
   "metadata": {},
   "outputs": [
    {
     "ename": "LAPACKException",
     "evalue": "LAPACKException(1)",
     "output_type": "error",
     "traceback": [
      "LAPACKException(1)",
      "",
      "Stacktrace:",
      " [1] chklapackerror at /Users/osx/buildbot/slave/package_osx64/build/usr/share/julia/stdlib/v1.1/LinearAlgebra/src/lapack.jl:38 [inlined]",
      " [2] trtrs!(::Char, ::Char, ::Char, ::Array{Float64,2}, ::Array{Float64,1}) at /Users/osx/buildbot/slave/package_osx64/build/usr/share/julia/stdlib/v1.1/LinearAlgebra/src/lapack.jl:3348",
      " [3] ldiv! at /Users/osx/buildbot/slave/package_osx64/build/usr/share/julia/stdlib/v1.1/LinearAlgebra/src/triangular.jl:583 [inlined]",
      " [4] \\(::UpperTriangular{Int64,Array{Int64,2}}, ::Array{Int64,1}) at /Users/osx/buildbot/slave/package_osx64/build/usr/share/julia/stdlib/v1.1/LinearAlgebra/src/triangular.jl:1854",
      " [5] \\(::Array{Int64,2}, ::Array{Int64,1}) at /Users/osx/buildbot/slave/package_osx64/build/usr/share/julia/stdlib/v1.1/LinearAlgebra/src/generic.jl:903",
      " [6] top-level scope at In[38]:3"
     ]
    }
   ],
   "source": [
    "A = [0 1; 0 0]\n",
    "b = [1,-1]\n",
    "x = A\\b"
   ]
  },
  {
   "cell_type": "markdown",
   "metadata": {},
   "source": [
    "It's not exactly user-friendly here. Moreover, detecting singularity is a lot like checking whether two floating point numbers are *exactly* equal: because of roundoff, it could be missed. We're headed toward a more robust way to fully describe the situation."
   ]
  },
  {
   "cell_type": "markdown",
   "metadata": {},
   "source": [
    "# Example 2.3.3"
   ]
  },
  {
   "cell_type": "markdown",
   "metadata": {},
   "source": [
    "It's easy to get just the lower triangular part of any matrix using the `tril` command."
   ]
  },
  {
   "cell_type": "code",
   "execution_count": 39,
   "metadata": {},
   "outputs": [
    {
     "data": {
      "text/plain": [
       "5×5 Array{Float64,2}:\n",
       " 4.0  0.0  0.0  0.0  0.0\n",
       " 2.0  2.0  0.0  0.0  0.0\n",
       " 4.0  6.0  7.0  0.0  0.0\n",
       " 9.0  4.0  3.0  6.0  0.0\n",
       " 7.0  5.0  1.0  2.0  4.0"
      ]
     },
     "execution_count": 39,
     "metadata": {},
     "output_type": "execute_result"
    }
   ],
   "source": [
    "A = rand(1.:9.,5,5)\n",
    "L = tril(A)"
   ]
  },
  {
   "cell_type": "markdown",
   "metadata": {},
   "source": [
    "We'll set up and solve a linear system with this matrix."
   ]
  },
  {
   "cell_type": "code",
   "execution_count": 40,
   "metadata": {},
   "outputs": [
    {
     "data": {
      "text/plain": [
       "5-element Array{Float64,1}:\n",
       "  0.25               \n",
       "  0.25               \n",
       " -0.21428571428571427\n",
       " -0.26785714285714285\n",
       " -0.3125             "
      ]
     },
     "execution_count": 40,
     "metadata": {},
     "output_type": "execute_result"
    }
   ],
   "source": [
    "b = ones(5)\n",
    "x = FNC.forwardsub(L,b)"
   ]
  },
  {
   "cell_type": "markdown",
   "metadata": {},
   "source": [
    "It's not clear what the error in this answer is. However, the residual, while not zero, is comparable to $\\varepsilon_\\text{mach}$ in size."
   ]
  },
  {
   "cell_type": "code",
   "execution_count": 41,
   "metadata": {},
   "outputs": [
    {
     "data": {
      "text/plain": [
       "5-element Array{Float64,1}:\n",
       " 0.0\n",
       " 0.0\n",
       " 0.0\n",
       " 0.0\n",
       " 0.0"
      ]
     },
     "execution_count": 41,
     "metadata": {},
     "output_type": "execute_result"
    }
   ],
   "source": [
    "b - L*x"
   ]
  },
  {
   "cell_type": "markdown",
   "metadata": {},
   "source": [
    "Next we'll engineer a problem to which we know the exact answer. "
   ]
  },
  {
   "cell_type": "code",
   "execution_count": 42,
   "metadata": {},
   "outputs": [
    {
     "data": {
      "text/plain": [
       "5×5 Array{Float64,2}:\n",
       " 1.0  -1.0   0.0  -1.9   2.2\n",
       " 0.0   1.0  -1.0   0.0   0.0\n",
       " 0.0   0.0   1.0  -1.0   0.0\n",
       " 0.0   0.0   0.0   1.0  -1.0\n",
       " 0.0   0.0   0.0   0.0   1.0"
      ]
     },
     "execution_count": 42,
     "metadata": {},
     "output_type": "execute_result"
    }
   ],
   "source": [
    "alpha = 0.3;\n",
    "beta = 2.2;\n",
    "U = diagm(0=>ones(5),1=>[-1,-1,-1,-1])\n",
    "U[1,[4,5]] = [ alpha-beta, beta ]\n",
    "U"
   ]
  },
  {
   "cell_type": "code",
   "execution_count": 43,
   "metadata": {},
   "outputs": [
    {
     "data": {
      "text/plain": [
       "5-element Array{Float64,1}:\n",
       " 2.220446049250313e-16\n",
       " 0.0                  \n",
       " 0.0                  \n",
       " 0.0                  \n",
       " 0.0                  "
      ]
     },
     "execution_count": 43,
     "metadata": {},
     "output_type": "execute_result"
    }
   ],
   "source": [
    "x_exact = ones(5)\n",
    "b = [alpha,0,0,0,1]\n",
    "\n",
    "x = FNC.backsub(U,b)\n",
    "err = x - x_exact"
   ]
  },
  {
   "cell_type": "markdown",
   "metadata": {},
   "source": [
    "Everything seems OK here. But another example, with a different value for $\\beta$, is more troubling."
   ]
  },
  {
   "cell_type": "code",
   "execution_count": 44,
   "metadata": {},
   "outputs": [
    {
     "data": {
      "text/plain": [
       "5-element Array{Float64,1}:\n",
       " -4.882812499995559e-5\n",
       "  0.0                 \n",
       "  0.0                 \n",
       "  0.0                 \n",
       "  0.0                 "
      ]
     },
     "execution_count": 44,
     "metadata": {},
     "output_type": "execute_result"
    }
   ],
   "source": [
    "alpha = 0.3;\n",
    "beta = 1e12;\n",
    "U = diagm(0=>ones(5),1=>[-1,-1,-1,-1])\n",
    "U[1,[4,5]] = [ alpha-beta, beta ]\n",
    "b = [alpha,0,0,0,1]\n",
    "\n",
    "x = FNC.backsub(U,b)\n",
    "err = x - x_exact"
   ]
  },
  {
   "cell_type": "markdown",
   "metadata": {},
   "source": [
    "It's not so good to get four digits of accuracy after starting with sixteen! But the source of the error is not hard to track down. Solving for $x_1$ performs $(\\alpha-\\beta)+\\beta$ in the first row. Since $|\\alpha|$ is so much smaller than $|\\beta|$, this a recipe for losing digits to subtractive cancellation."
   ]
  },
  {
   "cell_type": "markdown",
   "metadata": {},
   "source": [
    "# Example 2.4.1"
   ]
  },
  {
   "cell_type": "markdown",
   "metadata": {},
   "source": [
    "We create a 4-by-4 linear system with the matrix"
   ]
  },
  {
   "cell_type": "code",
   "execution_count": 45,
   "metadata": {},
   "outputs": [],
   "source": [
    "A = [\n",
    "     2    0    4    3 \n",
    "    -4    5   -7  -10 \n",
    "     1   15    2   -4.5\n",
    "    -2    0    2  -13\n",
    "    ];"
   ]
  },
  {
   "cell_type": "markdown",
   "metadata": {},
   "source": [
    "and with the right-hand side"
   ]
  },
  {
   "cell_type": "code",
   "execution_count": 46,
   "metadata": {},
   "outputs": [],
   "source": [
    "b = [ 4, 9, 29, 40 ];"
   ]
  },
  {
   "cell_type": "markdown",
   "metadata": {},
   "source": [
    "We define an augmented matrix by tacking $b$ on the end as a new column."
   ]
  },
  {
   "cell_type": "code",
   "execution_count": 47,
   "metadata": {},
   "outputs": [
    {
     "data": {
      "text/plain": [
       "4×5 Array{Float64,2}:\n",
       "  2.0   0.0   4.0    3.0   4.0\n",
       " -4.0   5.0  -7.0  -10.0   9.0\n",
       "  1.0  15.0   2.0   -4.5  29.0\n",
       " -2.0   0.0   2.0  -13.0  40.0"
      ]
     },
     "execution_count": 47,
     "metadata": {},
     "output_type": "execute_result"
    }
   ],
   "source": [
    "S = [A b]"
   ]
  },
  {
   "cell_type": "markdown",
   "metadata": {},
   "source": [
    "The goal is to introduce zeros into the lower triangle of this matrix. By using only elementary row operations, we ensure that the matrix $S$ always represents a linear system that is equivalent to the original. We proceed from left to right and top to bottom. The first step is to put a zero in the (2,1) location using a multiple of row 1:"
   ]
  },
  {
   "cell_type": "code",
   "execution_count": 48,
   "metadata": {},
   "outputs": [
    {
     "name": "stdout",
     "output_type": "stream",
     "text": [
      "mult21 = S[2, 1] / S[1, 1] = -2.0\n"
     ]
    },
    {
     "data": {
      "text/plain": [
       "4×5 Array{Float64,2}:\n",
       "  2.0   0.0  4.0    3.0   4.0\n",
       "  0.0   5.0  1.0   -4.0  17.0\n",
       "  1.0  15.0  2.0   -4.5  29.0\n",
       " -2.0   0.0  2.0  -13.0  40.0"
      ]
     },
     "execution_count": 48,
     "metadata": {},
     "output_type": "execute_result"
    }
   ],
   "source": [
    "@show mult21 = S[2,1]/S[1,1];\n",
    "S[2,:] -= mult21*S[1,:];   # -= means \"subtract the following from\"\n",
    "S"
   ]
  },
  {
   "cell_type": "markdown",
   "metadata": {},
   "source": [
    "We repeat the process for the (3,1) and (4,1) entries."
   ]
  },
  {
   "cell_type": "code",
   "execution_count": 49,
   "metadata": {},
   "outputs": [
    {
     "name": "stdout",
     "output_type": "stream",
     "text": [
      "mult31 = S[3, 1] / S[1, 1] = 0.5\n",
      "mult41 = S[4, 1] / S[1, 1] = -1.0\n"
     ]
    },
    {
     "data": {
      "text/plain": [
       "4×5 Array{Float64,2}:\n",
       " 2.0   0.0  4.0    3.0   4.0\n",
       " 0.0   5.0  1.0   -4.0  17.0\n",
       " 0.0  15.0  0.0   -6.0  27.0\n",
       " 0.0   0.0  6.0  -10.0  44.0"
      ]
     },
     "execution_count": 49,
     "metadata": {},
     "output_type": "execute_result"
    }
   ],
   "source": [
    "@show mult31 = S[3,1]/S[1,1];\n",
    "S[3,:] -= mult31*S[1,:];\n",
    "@show mult41 = S[4,1]/S[1,1];\n",
    "S[4,:] -= mult41*S[1,:];\n",
    "S"
   ]
  },
  {
   "cell_type": "markdown",
   "metadata": {},
   "source": [
    "The first column has the zero structure we want. To avoid interfering with that, we no longer add multiples of row 1 to anything. Instead, to handle column 2, we use multiples of row 2. We'll also exploit the highly repetitive nature of the operations to write them as a loop. "
   ]
  },
  {
   "cell_type": "code",
   "execution_count": 50,
   "metadata": {},
   "outputs": [
    {
     "data": {
      "text/plain": [
       "4×5 Array{Float64,2}:\n",
       " 2.0  0.0   4.0    3.0    4.0\n",
       " 0.0  5.0   1.0   -4.0   17.0\n",
       " 0.0  0.0  -3.0    6.0  -24.0\n",
       " 0.0  0.0   6.0  -10.0   44.0"
      ]
     },
     "execution_count": 50,
     "metadata": {},
     "output_type": "execute_result"
    }
   ],
   "source": [
    "for i = 3:4\n",
    "    mult = S[i,2]/S[2,2]\n",
    "    S[i,:] -= mult*S[2,:]\n",
    "end\n",
    "S"
   ]
  },
  {
   "cell_type": "markdown",
   "metadata": {},
   "source": [
    "We finish out the triangularization with a zero in the (4,3) place. It's a little silly to use a loop for just one iteration, but the point is to establish a pattern."
   ]
  },
  {
   "cell_type": "code",
   "execution_count": 51,
   "metadata": {},
   "outputs": [
    {
     "data": {
      "text/plain": [
       "4×5 Array{Float64,2}:\n",
       " 2.0  0.0   4.0   3.0    4.0\n",
       " 0.0  5.0   1.0  -4.0   17.0\n",
       " 0.0  0.0  -3.0   6.0  -24.0\n",
       " 0.0  0.0   0.0   2.0   -4.0"
      ]
     },
     "execution_count": 51,
     "metadata": {},
     "output_type": "execute_result"
    }
   ],
   "source": [
    "for i = 4\n",
    "    mult = S[i,3]/S[3,3]\n",
    "    S[i,:] -= mult*S[3,:]\n",
    "end\n",
    "S"
   ]
  },
  {
   "cell_type": "markdown",
   "metadata": {},
   "source": [
    "Recall that $S$ is an augmented matrix: it represents the system $Ux=z$, where"
   ]
  },
  {
   "cell_type": "code",
   "execution_count": 52,
   "metadata": {},
   "outputs": [
    {
     "data": {
      "text/plain": [
       "4×4 Array{Float64,2}:\n",
       " 2.0  0.0   4.0   3.0\n",
       " 0.0  5.0   1.0  -4.0\n",
       " 0.0  0.0  -3.0   6.0\n",
       " 0.0  0.0   0.0   2.0"
      ]
     },
     "execution_count": 52,
     "metadata": {},
     "output_type": "execute_result"
    }
   ],
   "source": [
    "U = S[:,1:4]"
   ]
  },
  {
   "cell_type": "code",
   "execution_count": 53,
   "metadata": {},
   "outputs": [
    {
     "data": {
      "text/plain": [
       "4-element Array{Float64,1}:\n",
       "   4.0\n",
       "  17.0\n",
       " -24.0\n",
       "  -4.0"
      ]
     },
     "execution_count": 53,
     "metadata": {},
     "output_type": "execute_result"
    }
   ],
   "source": [
    "z = S[:,5]"
   ]
  },
  {
   "cell_type": "markdown",
   "metadata": {},
   "source": [
    "The solutions to this system are identical to those of the original system, but this one can be solved by backward substitution."
   ]
  },
  {
   "cell_type": "code",
   "execution_count": 54,
   "metadata": {},
   "outputs": [
    {
     "data": {
      "text/plain": [
       "4-element Array{Float64,1}:\n",
       " -3.0\n",
       "  1.0\n",
       "  4.0\n",
       " -2.0"
      ]
     },
     "execution_count": 54,
     "metadata": {},
     "output_type": "execute_result"
    }
   ],
   "source": [
    "x = FNC.backsub(U,z)"
   ]
  },
  {
   "cell_type": "code",
   "execution_count": 55,
   "metadata": {
    "scrolled": true
   },
   "outputs": [
    {
     "data": {
      "text/plain": [
       "4-element Array{Float64,1}:\n",
       " 0.0\n",
       " 0.0\n",
       " 0.0\n",
       " 0.0"
      ]
     },
     "execution_count": 55,
     "metadata": {},
     "output_type": "execute_result"
    }
   ],
   "source": [
    "b - A*x"
   ]
  },
  {
   "cell_type": "markdown",
   "metadata": {},
   "source": [
    "# Example 2.4.2"
   ]
  },
  {
   "cell_type": "markdown",
   "metadata": {},
   "source": [
    "We revisit the previous example using algebra to express the row operations on $A$."
   ]
  },
  {
   "cell_type": "code",
   "execution_count": 56,
   "metadata": {},
   "outputs": [],
   "source": [
    "A = [2 0 4 3 ; -4 5 -7 -10 ; 1 15 2 -4.5 ; -2 0 2 -13];"
   ]
  },
  {
   "cell_type": "markdown",
   "metadata": {},
   "source": [
    "We use the identity and its columns heavily."
   ]
  },
  {
   "cell_type": "code",
   "execution_count": 57,
   "metadata": {},
   "outputs": [
    {
     "data": {
      "text/plain": [
       "4×4 Array{Float64,2}:\n",
       " 1.0  0.0  0.0  0.0\n",
       " 0.0  1.0  0.0  0.0\n",
       " 0.0  0.0  1.0  0.0\n",
       " 0.0  0.0  0.0  1.0"
      ]
     },
     "execution_count": 57,
     "metadata": {},
     "output_type": "execute_result"
    }
   ],
   "source": [
    "I = diagm(0=>ones(4))"
   ]
  },
  {
   "cell_type": "markdown",
   "metadata": {},
   "source": [
    "The first step is to put a zero in the (2,1) location using a multiple of row 1:"
   ]
  },
  {
   "cell_type": "code",
   "execution_count": 58,
   "metadata": {},
   "outputs": [
    {
     "data": {
      "text/plain": [
       "4×4 Array{Float64,2}:\n",
       "  2.0   0.0  4.0    3.0\n",
       "  0.0   5.0  1.0   -4.0\n",
       "  1.0  15.0  2.0   -4.5\n",
       " -2.0   0.0  2.0  -13.0"
      ]
     },
     "execution_count": 58,
     "metadata": {},
     "output_type": "execute_result"
    }
   ],
   "source": [
    "mult21 = A[2,1]/A[1,1]\n",
    "L21 = I - mult21*I[:,2]*I[:,1]'\n",
    "A = L21*A"
   ]
  },
  {
   "cell_type": "markdown",
   "metadata": {},
   "source": [
    "We repeat the process for the (3,1) and (4,1) entries. "
   ]
  },
  {
   "cell_type": "code",
   "execution_count": 59,
   "metadata": {},
   "outputs": [
    {
     "data": {
      "text/plain": [
       "4×4 Array{Float64,2}:\n",
       " 2.0   0.0  4.0    3.0\n",
       " 0.0   5.0  1.0   -4.0\n",
       " 0.0  15.0  0.0   -6.0\n",
       " 0.0   0.0  6.0  -10.0"
      ]
     },
     "execution_count": 59,
     "metadata": {},
     "output_type": "execute_result"
    }
   ],
   "source": [
    "mult31 = A[3,1]/A[1,1];\n",
    "L31 = I - mult31*I[:,3]*I[:,1]';\n",
    "A = L31*A;\n",
    "\n",
    "mult41 = A[4,1]/A[1,1];\n",
    "L41 = I - mult41*I[:,4]*I[:,1]';\n",
    "A = L41*A"
   ]
  },
  {
   "cell_type": "markdown",
   "metadata": {},
   "source": [
    "And so on, following the pattern as before. "
   ]
  },
  {
   "cell_type": "markdown",
   "metadata": {},
   "source": [
    "# Example 2.4.3"
   ]
  },
  {
   "cell_type": "code",
   "execution_count": 60,
   "metadata": {},
   "outputs": [],
   "source": [
    "A = [2 0 4 3; -4 5 -7 -10; 1 15 2 -4.5; -2 0 2 -13];"
   ]
  },
  {
   "cell_type": "code",
   "execution_count": 61,
   "metadata": {},
   "outputs": [
    {
     "data": {
      "text/plain": [
       "([1.0 0.0 0.0 0.0; -2.0 1.0 0.0 0.0; 0.5 3.0 1.0 0.0; -1.0 0.0 -2.0 1.0], [2.0 0.0 4.0 3.0; 0.0 5.0 1.0 -4.0; 0.0 0.0 -3.0 6.0; 0.0 0.0 0.0 2.0])"
      ]
     },
     "execution_count": 61,
     "metadata": {},
     "output_type": "execute_result"
    }
   ],
   "source": [
    "L,U = FNC.lufact(A)"
   ]
  },
  {
   "cell_type": "code",
   "execution_count": 62,
   "metadata": {},
   "outputs": [
    {
     "data": {
      "text/plain": [
       "4×4 Array{Float64,2}:\n",
       "  2.0   0.0   4.0    3.0\n",
       " -4.0   5.0  -7.0  -10.0\n",
       "  1.0  15.0   2.0   -4.5\n",
       " -2.0   0.0   2.0  -13.0"
      ]
     },
     "execution_count": 62,
     "metadata": {},
     "output_type": "execute_result"
    }
   ],
   "source": [
    "LtimesU = L*U"
   ]
  },
  {
   "cell_type": "markdown",
   "metadata": {},
   "source": [
    "It's best to compare two floating-point quantities by taking their difference."
   ]
  },
  {
   "cell_type": "code",
   "execution_count": 63,
   "metadata": {},
   "outputs": [
    {
     "data": {
      "text/plain": [
       "4×4 Array{Float64,2}:\n",
       " 0.0  0.0  0.0  0.0\n",
       " 0.0  0.0  0.0  0.0\n",
       " 0.0  0.0  0.0  0.0\n",
       " 0.0  0.0  0.0  0.0"
      ]
     },
     "execution_count": 63,
     "metadata": {},
     "output_type": "execute_result"
    }
   ],
   "source": [
    "A - LtimesU"
   ]
  },
  {
   "cell_type": "markdown",
   "metadata": {},
   "source": [
    "(Usually we can expect \"zero\" only up to machine precision. However, all the exact numbers in this example are also floating-point numbers.)\n",
    "\n",
    "To solve a linear system, we no longer need the matrix $A$. "
   ]
  },
  {
   "cell_type": "code",
   "execution_count": 64,
   "metadata": {},
   "outputs": [
    {
     "data": {
      "text/plain": [
       "4-element Array{Float64,1}:\n",
       " -3.0\n",
       "  1.0\n",
       "  4.0\n",
       " -2.0"
      ]
     },
     "execution_count": 64,
     "metadata": {},
     "output_type": "execute_result"
    }
   ],
   "source": [
    "b = [4,9,29,40]\n",
    "z = FNC.forwardsub(L,b)\n",
    "x = FNC.backsub(U,z)"
   ]
  },
  {
   "cell_type": "code",
   "execution_count": 65,
   "metadata": {
    "scrolled": true
   },
   "outputs": [
    {
     "data": {
      "text/plain": [
       "4-element Array{Float64,1}:\n",
       " 0.0\n",
       " 0.0\n",
       " 0.0\n",
       " 0.0"
      ]
     },
     "execution_count": 65,
     "metadata": {},
     "output_type": "execute_result"
    }
   ],
   "source": [
    "b - A*x"
   ]
  },
  {
   "cell_type": "markdown",
   "metadata": {},
   "source": [
    "# Example 2.5.3"
   ]
  },
  {
   "cell_type": "code",
   "execution_count": 66,
   "metadata": {},
   "outputs": [],
   "source": [
    "n = 6\n",
    "A = randn(n,n)\n",
    "x = ones(n)\n",
    "y = zeros(n)\n",
    "for i = 1:n\n",
    "    for j = 1:n\n",
    "        y[i] = y[i] + A[i,j]*x[j]   # 2 flops\n",
    "    end\n",
    "end"
   ]
  },
  {
   "cell_type": "markdown",
   "metadata": {},
   "source": [
    "Each of the loops implies a summation of flops. The total flop count for this algorithm is\n",
    "\\[ \\sum_{i=1}^n \\sum_{j=1}^n 2 = \\sum_{i=1}^n 2n = 2n^2. \\]\n",
    "Since the matrix $A$ has $n^2$ elements, all of which have to be involved in the product, it seems unlikely that we could get a flop count that is smaller than $O(n^2)$."
   ]
  },
  {
   "cell_type": "markdown",
   "metadata": {},
   "source": [
    "Let's run an experiment with the built-in matrix-vector multiplication. We assume that flops dominate the computation time and thus measure elapsed time. "
   ]
  },
  {
   "cell_type": "code",
   "execution_count": 67,
   "metadata": {},
   "outputs": [],
   "source": [
    "n = 400:400:4000\n",
    "t = zeros(size(n))\n",
    "for (i,n) in enumerate(n) \n",
    "    A = randn(n,n)  \n",
    "    x = randn(n)\n",
    "    t[i] = @elapsed for j = 1:10; A*x; end\n",
    "end"
   ]
  },
  {
   "cell_type": "markdown",
   "metadata": {},
   "source": [
    "The reason for doing multiple repetitions at each value of $n$ is to avoid having times so short that the resolution of the timer is a factor."
   ]
  },
  {
   "cell_type": "code",
   "execution_count": 68,
   "metadata": {
    "scrolled": true
   },
   "outputs": [
    {
     "data": {
      "text/html": [
       "<table class=\"data-frame\"><thead><tr><th></th><th>size</th><th>time</th></tr><tr><th></th><th>Int64</th><th>Float64</th></tr></thead><tbody><p>10 rows × 2 columns</p><tr><th>1</th><td>400</td><td>0.00209597</td></tr><tr><th>2</th><td>800</td><td>0.00133588</td></tr><tr><th>3</th><td>1200</td><td>0.00318038</td></tr><tr><th>4</th><td>1600</td><td>0.00467836</td></tr><tr><th>5</th><td>2000</td><td>0.00782304</td></tr><tr><th>6</th><td>2400</td><td>0.0114309</td></tr><tr><th>7</th><td>2800</td><td>0.0167785</td></tr><tr><th>8</th><td>3200</td><td>0.0269892</td></tr><tr><th>9</th><td>3600</td><td>0.039873</td></tr><tr><th>10</th><td>4000</td><td>0.0595233</td></tr></tbody></table>"
      ],
      "text/latex": [
       "\\begin{tabular}{r|cc}\n",
       "\t& size & time\\\\\n",
       "\t\\hline\n",
       "\t& Int64 & Float64\\\\\n",
       "\t\\hline\n",
       "\t1 & 400 & 0.00209597 \\\\\n",
       "\t2 & 800 & 0.00133588 \\\\\n",
       "\t3 & 1200 & 0.00318038 \\\\\n",
       "\t4 & 1600 & 0.00467836 \\\\\n",
       "\t5 & 2000 & 0.00782304 \\\\\n",
       "\t6 & 2400 & 0.0114309 \\\\\n",
       "\t7 & 2800 & 0.0167785 \\\\\n",
       "\t8 & 3200 & 0.0269892 \\\\\n",
       "\t9 & 3600 & 0.039873 \\\\\n",
       "\t10 & 4000 & 0.0595233 \\\\\n",
       "\\end{tabular}\n"
      ],
      "text/plain": [
       "10×2 DataFrame\n",
       "│ Row │ size  │ time       │\n",
       "│     │ \u001b[90mInt64\u001b[39m │ \u001b[90mFloat64\u001b[39m    │\n",
       "├─────┼───────┼────────────┤\n",
       "│ 1   │ 400   │ 0.00209597 │\n",
       "│ 2   │ 800   │ 0.00133588 │\n",
       "│ 3   │ 1200  │ 0.00318038 │\n",
       "│ 4   │ 1600  │ 0.00467836 │\n",
       "│ 5   │ 2000  │ 0.00782304 │\n",
       "│ 6   │ 2400  │ 0.0114309  │\n",
       "│ 7   │ 2800  │ 0.0167785  │\n",
       "│ 8   │ 3200  │ 0.0269892  │\n",
       "│ 9   │ 3600  │ 0.039873   │\n",
       "│ 10  │ 4000  │ 0.0595233  │"
      ]
     },
     "execution_count": 68,
     "metadata": {},
     "output_type": "execute_result"
    }
   ],
   "source": [
    "DataFrame(size=n,time=t)"
   ]
  },
  {
   "cell_type": "markdown",
   "metadata": {},
   "source": [
    "# Example 2.5.4"
   ]
  },
  {
   "cell_type": "markdown",
   "metadata": {},
   "source": [
    "Let's repeat the experiment of the previous example for more, and larger, values of $n$."
   ]
  },
  {
   "cell_type": "code",
   "execution_count": 69,
   "metadata": {},
   "outputs": [],
   "source": [
    "n = 400:200:6000\n",
    "t = zeros(size(n))\n",
    "for (i,n) in enumerate(n) \n",
    "    A = randn(n,n)  \n",
    "    x = randn(n)\n",
    "    t[i] = @elapsed for j = 1:10; A*x; end\n",
    "end"
   ]
  },
  {
   "cell_type": "markdown",
   "metadata": {},
   "source": [
    "Plotting the time as a function of $n$ on log-log scales is equivalent to plotting the logs of the variables, but is formatted more neatly. "
   ]
  },
  {
   "cell_type": "code",
   "execution_count": 70,
   "metadata": {},
   "outputs": [
    {
     "data": {
      "image/svg+xml": [
       "<?xml version=\"1.0\" encoding=\"utf-8\"?>\n",
       "<svg xmlns=\"http://www.w3.org/2000/svg\" xmlns:xlink=\"http://www.w3.org/1999/xlink\" width=\"600\" height=\"400\" viewBox=\"0 0 2400 1600\">\n",
       "<defs>\n",
       "  <clipPath id=\"clip0700\">\n",
       "    <rect x=\"0\" y=\"0\" width=\"2400\" height=\"1600\"/>\n",
       "  </clipPath>\n",
       "</defs>\n",
       "<polygon clip-path=\"url(#clip0700)\" points=\"\n",
       "0,1600 2400,1600 2400,0 0,0 \n",
       "  \" fill=\"#ffffff\" fill-rule=\"evenodd\" fill-opacity=\"1\"/>\n",
       "<defs>\n",
       "  <clipPath id=\"clip0701\">\n",
       "    <rect x=\"480\" y=\"0\" width=\"1681\" height=\"1600\"/>\n",
       "  </clipPath>\n",
       "</defs>\n",
       "<polygon clip-path=\"url(#clip0700)\" points=\"\n",
       "319.964,1451.73 2352.76,1451.73 2352.76,121.675 319.964,121.675 \n",
       "  \" fill=\"#ffffff\" fill-rule=\"evenodd\" fill-opacity=\"1\"/>\n",
       "<defs>\n",
       "  <clipPath id=\"clip0702\">\n",
       "    <rect x=\"319\" y=\"121\" width=\"2034\" height=\"1331\"/>\n",
       "  </clipPath>\n",
       "</defs>\n",
       "<polyline clip-path=\"url(#clip0702)\" style=\"stroke:#000000; stroke-width:2; stroke-opacity:0.1; fill:none\" points=\"\n",
       "  618.726,1451.73 618.726,121.675 \n",
       "  \"/>\n",
       "<polyline clip-path=\"url(#clip0702)\" style=\"stroke:#000000; stroke-width:2; stroke-opacity:0.1; fill:none\" points=\"\n",
       "  1026.37,1451.73 1026.37,121.675 \n",
       "  \"/>\n",
       "<polyline clip-path=\"url(#clip0702)\" style=\"stroke:#000000; stroke-width:2; stroke-opacity:0.1; fill:none\" points=\"\n",
       "  1434.02,1451.73 1434.02,121.675 \n",
       "  \"/>\n",
       "<polyline clip-path=\"url(#clip0702)\" style=\"stroke:#000000; stroke-width:2; stroke-opacity:0.1; fill:none\" points=\"\n",
       "  1841.67,1451.73 1841.67,121.675 \n",
       "  \"/>\n",
       "<polyline clip-path=\"url(#clip0702)\" style=\"stroke:#000000; stroke-width:2; stroke-opacity:0.1; fill:none\" points=\"\n",
       "  2249.32,1451.73 2249.32,121.675 \n",
       "  \"/>\n",
       "<polyline clip-path=\"url(#clip0702)\" style=\"stroke:#000000; stroke-width:2; stroke-opacity:0.1; fill:none\" points=\"\n",
       "  319.964,1386.15 2352.76,1386.15 \n",
       "  \"/>\n",
       "<polyline clip-path=\"url(#clip0702)\" style=\"stroke:#000000; stroke-width:2; stroke-opacity:0.1; fill:none\" points=\"\n",
       "  319.964,1148.4 2352.76,1148.4 \n",
       "  \"/>\n",
       "<polyline clip-path=\"url(#clip0702)\" style=\"stroke:#000000; stroke-width:2; stroke-opacity:0.1; fill:none\" points=\"\n",
       "  319.964,910.645 2352.76,910.645 \n",
       "  \"/>\n",
       "<polyline clip-path=\"url(#clip0702)\" style=\"stroke:#000000; stroke-width:2; stroke-opacity:0.1; fill:none\" points=\"\n",
       "  319.964,672.894 2352.76,672.894 \n",
       "  \"/>\n",
       "<polyline clip-path=\"url(#clip0702)\" style=\"stroke:#000000; stroke-width:2; stroke-opacity:0.1; fill:none\" points=\"\n",
       "  319.964,435.144 2352.76,435.144 \n",
       "  \"/>\n",
       "<polyline clip-path=\"url(#clip0702)\" style=\"stroke:#000000; stroke-width:2; stroke-opacity:0.1; fill:none\" points=\"\n",
       "  319.964,197.393 2352.76,197.393 \n",
       "  \"/>\n",
       "<polyline clip-path=\"url(#clip0700)\" style=\"stroke:#000000; stroke-width:4; stroke-opacity:1; fill:none\" points=\"\n",
       "  319.964,1451.73 2352.76,1451.73 \n",
       "  \"/>\n",
       "<polyline clip-path=\"url(#clip0700)\" style=\"stroke:#000000; stroke-width:4; stroke-opacity:1; fill:none\" points=\"\n",
       "  319.964,1451.73 319.964,121.675 \n",
       "  \"/>\n",
       "<polyline clip-path=\"url(#clip0700)\" style=\"stroke:#000000; stroke-width:4; stroke-opacity:1; fill:none\" points=\"\n",
       "  618.726,1451.73 618.726,1431.78 \n",
       "  \"/>\n",
       "<polyline clip-path=\"url(#clip0700)\" style=\"stroke:#000000; stroke-width:4; stroke-opacity:1; fill:none\" points=\"\n",
       "  1026.37,1451.73 1026.37,1431.78 \n",
       "  \"/>\n",
       "<polyline clip-path=\"url(#clip0700)\" style=\"stroke:#000000; stroke-width:4; stroke-opacity:1; fill:none\" points=\"\n",
       "  1434.02,1451.73 1434.02,1431.78 \n",
       "  \"/>\n",
       "<polyline clip-path=\"url(#clip0700)\" style=\"stroke:#000000; stroke-width:4; stroke-opacity:1; fill:none\" points=\"\n",
       "  1841.67,1451.73 1841.67,1431.78 \n",
       "  \"/>\n",
       "<polyline clip-path=\"url(#clip0700)\" style=\"stroke:#000000; stroke-width:4; stroke-opacity:1; fill:none\" points=\"\n",
       "  2249.32,1451.73 2249.32,1431.78 \n",
       "  \"/>\n",
       "<polyline clip-path=\"url(#clip0700)\" style=\"stroke:#000000; stroke-width:4; stroke-opacity:1; fill:none\" points=\"\n",
       "  319.964,1386.15 350.455,1386.15 \n",
       "  \"/>\n",
       "<polyline clip-path=\"url(#clip0700)\" style=\"stroke:#000000; stroke-width:4; stroke-opacity:1; fill:none\" points=\"\n",
       "  319.964,1148.4 350.455,1148.4 \n",
       "  \"/>\n",
       "<polyline clip-path=\"url(#clip0700)\" style=\"stroke:#000000; stroke-width:4; stroke-opacity:1; fill:none\" points=\"\n",
       "  319.964,910.645 350.455,910.645 \n",
       "  \"/>\n",
       "<polyline clip-path=\"url(#clip0700)\" style=\"stroke:#000000; stroke-width:4; stroke-opacity:1; fill:none\" points=\"\n",
       "  319.964,672.894 350.455,672.894 \n",
       "  \"/>\n",
       "<polyline clip-path=\"url(#clip0700)\" style=\"stroke:#000000; stroke-width:4; stroke-opacity:1; fill:none\" points=\"\n",
       "  319.964,435.144 350.455,435.144 \n",
       "  \"/>\n",
       "<polyline clip-path=\"url(#clip0700)\" style=\"stroke:#000000; stroke-width:4; stroke-opacity:1; fill:none\" points=\"\n",
       "  319.964,197.393 350.455,197.393 \n",
       "  \"/>\n",
       "<g clip-path=\"url(#clip0700)\">\n",
       "<text style=\"fill:#000000; fill-opacity:1; font-family:Arial,Helvetica Neue,Helvetica,sans-serif; font-size:48px; text-anchor:start;\" transform=\"rotate(0, 548.475, 1526.73)\" x=\"548.475\" y=\"1526.73\">10</text>\n",
       "</g>\n",
       "<g clip-path=\"url(#clip0700)\">\n",
       "<text style=\"fill:#000000; fill-opacity:1; font-family:Arial,Helvetica Neue,Helvetica,sans-serif; font-size:38px; text-anchor:start;\" transform=\"rotate(0, 601.999, 1499.32)\" x=\"601.999\" y=\"1499.32\">2.75 </text>\n",
       "</g>\n",
       "<g clip-path=\"url(#clip0700)\">\n",
       "<text style=\"fill:#000000; fill-opacity:1; font-family:Arial,Helvetica Neue,Helvetica,sans-serif; font-size:48px; text-anchor:start;\" transform=\"rotate(0, 956.123, 1526.73)\" x=\"956.123\" y=\"1526.73\">10</text>\n",
       "</g>\n",
       "<g clip-path=\"url(#clip0700)\">\n",
       "<text style=\"fill:#000000; fill-opacity:1; font-family:Arial,Helvetica Neue,Helvetica,sans-serif; font-size:38px; text-anchor:start;\" transform=\"rotate(0, 1009.65, 1499.32)\" x=\"1009.65\" y=\"1499.32\">3.00 </text>\n",
       "</g>\n",
       "<g clip-path=\"url(#clip0700)\">\n",
       "<text style=\"fill:#000000; fill-opacity:1; font-family:Arial,Helvetica Neue,Helvetica,sans-serif; font-size:48px; text-anchor:start;\" transform=\"rotate(0, 1363.77, 1526.73)\" x=\"1363.77\" y=\"1526.73\">10</text>\n",
       "</g>\n",
       "<g clip-path=\"url(#clip0700)\">\n",
       "<text style=\"fill:#000000; fill-opacity:1; font-family:Arial,Helvetica Neue,Helvetica,sans-serif; font-size:38px; text-anchor:start;\" transform=\"rotate(0, 1417.3, 1499.32)\" x=\"1417.3\" y=\"1499.32\">3.25 </text>\n",
       "</g>\n",
       "<g clip-path=\"url(#clip0700)\">\n",
       "<text style=\"fill:#000000; fill-opacity:1; font-family:Arial,Helvetica Neue,Helvetica,sans-serif; font-size:48px; text-anchor:start;\" transform=\"rotate(0, 1771.42, 1526.73)\" x=\"1771.42\" y=\"1526.73\">10</text>\n",
       "</g>\n",
       "<g clip-path=\"url(#clip0700)\">\n",
       "<text style=\"fill:#000000; fill-opacity:1; font-family:Arial,Helvetica Neue,Helvetica,sans-serif; font-size:38px; text-anchor:start;\" transform=\"rotate(0, 1824.95, 1499.32)\" x=\"1824.95\" y=\"1499.32\">3.50 </text>\n",
       "</g>\n",
       "<g clip-path=\"url(#clip0700)\">\n",
       "<text style=\"fill:#000000; fill-opacity:1; font-family:Arial,Helvetica Neue,Helvetica,sans-serif; font-size:48px; text-anchor:start;\" transform=\"rotate(0, 2179.07, 1526.73)\" x=\"2179.07\" y=\"1526.73\">10</text>\n",
       "</g>\n",
       "<g clip-path=\"url(#clip0700)\">\n",
       "<text style=\"fill:#000000; fill-opacity:1; font-family:Arial,Helvetica Neue,Helvetica,sans-serif; font-size:38px; text-anchor:start;\" transform=\"rotate(0, 2232.59, 1499.32)\" x=\"2232.59\" y=\"1499.32\">3.75 </text>\n",
       "</g>\n",
       "<g clip-path=\"url(#clip0700)\">\n",
       "<text style=\"fill:#000000; fill-opacity:1; font-family:Arial,Helvetica Neue,Helvetica,sans-serif; font-size:48px; text-anchor:start;\" transform=\"rotate(0, 154.366, 1409.87)\" x=\"154.366\" y=\"1409.87\">10</text>\n",
       "</g>\n",
       "<g clip-path=\"url(#clip0700)\">\n",
       "<text style=\"fill:#000000; fill-opacity:1; font-family:Arial,Helvetica Neue,Helvetica,sans-serif; font-size:38px; text-anchor:start;\" transform=\"rotate(0, 207.891, 1382.46)\" x=\"207.891\" y=\"1382.46\">-</text>\n",
       "</g>\n",
       "<g clip-path=\"url(#clip0700)\">\n",
       "<text style=\"fill:#000000; fill-opacity:1; font-family:Arial,Helvetica Neue,Helvetica,sans-serif; font-size:38px; text-anchor:start;\" transform=\"rotate(0, 230.73, 1382.46)\" x=\"230.73\" y=\"1382.46\">3.5 </text>\n",
       "</g>\n",
       "<g clip-path=\"url(#clip0700)\">\n",
       "<text style=\"fill:#000000; fill-opacity:1; font-family:Arial,Helvetica Neue,Helvetica,sans-serif; font-size:48px; text-anchor:start;\" transform=\"rotate(0, 154.366, 1172.12)\" x=\"154.366\" y=\"1172.12\">10</text>\n",
       "</g>\n",
       "<g clip-path=\"url(#clip0700)\">\n",
       "<text style=\"fill:#000000; fill-opacity:1; font-family:Arial,Helvetica Neue,Helvetica,sans-serif; font-size:38px; text-anchor:start;\" transform=\"rotate(0, 207.891, 1144.71)\" x=\"207.891\" y=\"1144.71\">-</text>\n",
       "</g>\n",
       "<g clip-path=\"url(#clip0700)\">\n",
       "<text style=\"fill:#000000; fill-opacity:1; font-family:Arial,Helvetica Neue,Helvetica,sans-serif; font-size:38px; text-anchor:start;\" transform=\"rotate(0, 230.73, 1144.71)\" x=\"230.73\" y=\"1144.71\">3.0 </text>\n",
       "</g>\n",
       "<g clip-path=\"url(#clip0700)\">\n",
       "<text style=\"fill:#000000; fill-opacity:1; font-family:Arial,Helvetica Neue,Helvetica,sans-serif; font-size:48px; text-anchor:start;\" transform=\"rotate(0, 154.366, 934.372)\" x=\"154.366\" y=\"934.372\">10</text>\n",
       "</g>\n",
       "<g clip-path=\"url(#clip0700)\">\n",
       "<text style=\"fill:#000000; fill-opacity:1; font-family:Arial,Helvetica Neue,Helvetica,sans-serif; font-size:38px; text-anchor:start;\" transform=\"rotate(0, 207.891, 906.962)\" x=\"207.891\" y=\"906.962\">-</text>\n",
       "</g>\n",
       "<g clip-path=\"url(#clip0700)\">\n",
       "<text style=\"fill:#000000; fill-opacity:1; font-family:Arial,Helvetica Neue,Helvetica,sans-serif; font-size:38px; text-anchor:start;\" transform=\"rotate(0, 230.73, 906.962)\" x=\"230.73\" y=\"906.962\">2.5 </text>\n",
       "</g>\n",
       "<g clip-path=\"url(#clip0700)\">\n",
       "<text style=\"fill:#000000; fill-opacity:1; font-family:Arial,Helvetica Neue,Helvetica,sans-serif; font-size:48px; text-anchor:start;\" transform=\"rotate(0, 154.366, 696.622)\" x=\"154.366\" y=\"696.622\">10</text>\n",
       "</g>\n",
       "<g clip-path=\"url(#clip0700)\">\n",
       "<text style=\"fill:#000000; fill-opacity:1; font-family:Arial,Helvetica Neue,Helvetica,sans-serif; font-size:38px; text-anchor:start;\" transform=\"rotate(0, 207.891, 669.211)\" x=\"207.891\" y=\"669.211\">-</text>\n",
       "</g>\n",
       "<g clip-path=\"url(#clip0700)\">\n",
       "<text style=\"fill:#000000; fill-opacity:1; font-family:Arial,Helvetica Neue,Helvetica,sans-serif; font-size:38px; text-anchor:start;\" transform=\"rotate(0, 230.73, 669.211)\" x=\"230.73\" y=\"669.211\">2.0 </text>\n",
       "</g>\n",
       "<g clip-path=\"url(#clip0700)\">\n",
       "<text style=\"fill:#000000; fill-opacity:1; font-family:Arial,Helvetica Neue,Helvetica,sans-serif; font-size:48px; text-anchor:start;\" transform=\"rotate(0, 154.366, 458.871)\" x=\"154.366\" y=\"458.871\">10</text>\n",
       "</g>\n",
       "<g clip-path=\"url(#clip0700)\">\n",
       "<text style=\"fill:#000000; fill-opacity:1; font-family:Arial,Helvetica Neue,Helvetica,sans-serif; font-size:38px; text-anchor:start;\" transform=\"rotate(0, 207.891, 431.461)\" x=\"207.891\" y=\"431.461\">-</text>\n",
       "</g>\n",
       "<g clip-path=\"url(#clip0700)\">\n",
       "<text style=\"fill:#000000; fill-opacity:1; font-family:Arial,Helvetica Neue,Helvetica,sans-serif; font-size:38px; text-anchor:start;\" transform=\"rotate(0, 230.73, 431.461)\" x=\"230.73\" y=\"431.461\">1.5 </text>\n",
       "</g>\n",
       "<g clip-path=\"url(#clip0700)\">\n",
       "<text style=\"fill:#000000; fill-opacity:1; font-family:Arial,Helvetica Neue,Helvetica,sans-serif; font-size:48px; text-anchor:start;\" transform=\"rotate(0, 154.366, 221.121)\" x=\"154.366\" y=\"221.121\">10</text>\n",
       "</g>\n",
       "<g clip-path=\"url(#clip0700)\">\n",
       "<text style=\"fill:#000000; fill-opacity:1; font-family:Arial,Helvetica Neue,Helvetica,sans-serif; font-size:38px; text-anchor:start;\" transform=\"rotate(0, 207.891, 193.71)\" x=\"207.891\" y=\"193.71\">-</text>\n",
       "</g>\n",
       "<g clip-path=\"url(#clip0700)\">\n",
       "<text style=\"fill:#000000; fill-opacity:1; font-family:Arial,Helvetica Neue,Helvetica,sans-serif; font-size:38px; text-anchor:start;\" transform=\"rotate(0, 230.73, 193.71)\" x=\"230.73\" y=\"193.71\">1.0 </text>\n",
       "</g>\n",
       "<g clip-path=\"url(#clip0700)\">\n",
       "<text style=\"fill:#000000; fill-opacity:1; font-family:Arial,Helvetica Neue,Helvetica,sans-serif; font-size:84px; text-anchor:middle;\" transform=\"rotate(0, 1336.36, 73.2)\" x=\"1336.36\" y=\"73.2\">Timing of matrix-vector multiplications</text>\n",
       "</g>\n",
       "<g clip-path=\"url(#clip0700)\">\n",
       "<image width=\"37\" height=\"30\" xlink:href=\"data:image/png;base64,\n",
       "iVBORw0KGgoAAAANSUhEUgAAACUAAAAeCAYAAACrI9dtAAACX0lEQVRYhbVYYdHjIBDd++YTkFYC\n",
       "EtCABDRQB2hAQjRQB0wl0CjIRAKtg3e/yCUECMm1mXnTgS6PZfeRhRAASmGthRACXdeBMQYpJbz3\n",
       "yNkuMY4jjDHzWCICEc0czrldDgC06VBKgYgghIAxBpzzmVwplSUNIUBKOdsJIaCUgjEGUsqVg0II\n",
       "hBCqzq0afd+DiKC1Xg1ijM2kfd+v/nPOgYjQdR2MMdkJQwhYcnDO25wKIRQHxOhFxImttc2rj7YR\n",
       "xpii/SZKubxrrVeE1lrESUopzU624Oi6bt8pznnRMI2UEGL+bXUIAC21tYx41qmYulRLEdGJJRhj\n",
       "uynbc6q0owkAGWOKqcuR1QhLiAtvdipGImcwjuOG7IiOIrz3G55q+mr6iBughayGdPeVggCAfoiI\n",
       "OOektabc83g8Vm3OOV0ulz9Z48qT4yk9v0REz+ezOMkwDKu2EOKoP1mnqjxHxdlav/6H52M6qCGn\n",
       "y5r9z5GQ13RwhGdXAjWPl0WUKi/XPVASpbSoN6fvU3rKSeDQ0eUbekpLVEu9LGrqE3p6vV5IeaSU\n",
       "+wO/qacj1cA5N0fxq3o6krp4ri86dUacLQuz1mY5oq2UsuxUeqhjjH0kdXu28SjTpKczR5Xl7WYZ\n",
       "hRw456uF/+Z2zDRNq74zRfj9fjdx3O93DMNAfd//6/yGnnISKG0UxthGHptIee9XbcbYqfNT+l67\n",
       "Xq8bm9vthmmaNnPubuMzesppM6138dqWq4O7Ij96QVjCez9f2eMNWms935ZLhXnT4ZxDzPNeNW9B\n",
       "CAFa6/mbBGMMSimM41jk/gstvP0rpCiSvwAAAABJRU5ErkJggg==\n",
       "\" transform=\"translate(1318, 1528)\"/>\n",
       "</g>\n",
       "<g clip-path=\"url(#clip0700)\">\n",
       "<text style=\"fill:#000000; fill-opacity:1; font-family:Arial,Helvetica Neue,Helvetica,sans-serif; font-size:66px; text-anchor:middle;\" transform=\"rotate(-90, 89.2861, 786.701)\" x=\"89.2861\" y=\"786.701\">elapsed time (sec)</text>\n",
       "</g>\n",
       "<polyline clip-path=\"url(#clip0702)\" style=\"stroke:#009af9; stroke-width:4; stroke-opacity:1; fill:none\" points=\"\n",
       "  377.495,1414.08 664.629,1236.1 868.353,1091.72 1026.37,1010.03 1155.49,862.66 1264.65,523.269 1359.21,788.448 1442.62,776.888 1517.23,726.253 1584.73,686.424 \n",
       "  1646.35,643.091 1703.03,605.7 1755.51,559.773 1804.37,521.448 1850.07,461.718 1893,431.987 1933.48,384.557 1971.77,368.015 2008.09,340.379 2042.64,316.466 \n",
       "  2075.59,288.988 2107.06,264.486 2137.2,255.135 2166.11,231.109 2193.89,218.656 2220.61,196.053 2246.37,186.687 2271.22,173.719 2295.22,159.318 \n",
       "  \"/>\n",
       "<polygon clip-path=\"url(#clip0702)\" style=\"fill:#000000; fill-opacity:1\" points=\"\n",
       "  377.495,1434.08 363.355,1428.22 357.495,1414.08 363.355,1399.94 377.495,1394.08 391.635,1399.94 397.495,1414.08 391.635,1428.22 \n",
       "  \"/>\n",
       "<polygon clip-path=\"url(#clip0702)\" style=\"fill:#009af9; fill-opacity:1\" points=\"\n",
       "  377.495,1430.08 366.183,1425.4 361.495,1414.08 366.183,1402.77 377.495,1398.08 388.807,1402.77 393.495,1414.08 388.807,1425.4 \n",
       "  \"/>\n",
       "<polygon clip-path=\"url(#clip0702)\" style=\"fill:#000000; fill-opacity:1\" points=\"\n",
       "  664.629,1256.1 650.489,1250.24 644.629,1236.1 650.489,1221.96 664.629,1216.1 678.769,1221.96 684.629,1236.1 678.769,1250.24 \n",
       "  \"/>\n",
       "<polygon clip-path=\"url(#clip0702)\" style=\"fill:#009af9; fill-opacity:1\" points=\"\n",
       "  664.629,1252.1 653.317,1247.42 648.629,1236.1 653.317,1224.79 664.629,1220.1 675.941,1224.79 680.629,1236.1 675.941,1247.42 \n",
       "  \"/>\n",
       "<polygon clip-path=\"url(#clip0702)\" style=\"fill:#000000; fill-opacity:1\" points=\"\n",
       "  868.353,1111.72 854.213,1105.86 848.353,1091.72 854.213,1077.58 868.353,1071.72 882.493,1077.58 888.353,1091.72 882.493,1105.86 \n",
       "  \"/>\n",
       "<polygon clip-path=\"url(#clip0702)\" style=\"fill:#009af9; fill-opacity:1\" points=\"\n",
       "  868.353,1107.72 857.041,1103.03 852.353,1091.72 857.041,1080.4 868.353,1075.72 879.665,1080.4 884.353,1091.72 879.665,1103.03 \n",
       "  \"/>\n",
       "<polygon clip-path=\"url(#clip0702)\" style=\"fill:#000000; fill-opacity:1\" points=\"\n",
       "  1026.37,1030.03 1012.23,1024.17 1006.37,1010.03 1012.23,995.885 1026.37,990.025 1040.51,995.885 1046.37,1010.03 1040.51,1024.17 \n",
       "  \"/>\n",
       "<polygon clip-path=\"url(#clip0702)\" style=\"fill:#009af9; fill-opacity:1\" points=\"\n",
       "  1026.37,1026.03 1015.06,1021.34 1010.37,1010.03 1015.06,998.713 1026.37,994.025 1037.69,998.713 1042.37,1010.03 1037.69,1021.34 \n",
       "  \"/>\n",
       "<polygon clip-path=\"url(#clip0702)\" style=\"fill:#000000; fill-opacity:1\" points=\"\n",
       "  1155.49,882.66 1141.35,876.8 1135.49,862.66 1141.35,848.52 1155.49,842.66 1169.63,848.52 1175.49,862.66 1169.63,876.8 \n",
       "  \"/>\n",
       "<polygon clip-path=\"url(#clip0702)\" style=\"fill:#009af9; fill-opacity:1\" points=\"\n",
       "  1155.49,878.66 1144.17,873.972 1139.49,862.66 1144.17,851.348 1155.49,846.66 1166.8,851.348 1171.49,862.66 1166.8,873.972 \n",
       "  \"/>\n",
       "<polygon clip-path=\"url(#clip0702)\" style=\"fill:#000000; fill-opacity:1\" points=\"\n",
       "  1264.65,543.269 1250.51,537.409 1244.65,523.269 1250.51,509.129 1264.65,503.269 1278.79,509.129 1284.65,523.269 1278.79,537.409 \n",
       "  \"/>\n",
       "<polygon clip-path=\"url(#clip0702)\" style=\"fill:#009af9; fill-opacity:1\" points=\"\n",
       "  1264.65,539.269 1253.34,534.581 1248.65,523.269 1253.34,511.957 1264.65,507.269 1275.96,511.957 1280.65,523.269 1275.96,534.581 \n",
       "  \"/>\n",
       "<polygon clip-path=\"url(#clip0702)\" style=\"fill:#000000; fill-opacity:1\" points=\"\n",
       "  1359.21,808.448 1345.07,802.588 1339.21,788.448 1345.07,774.308 1359.21,768.448 1373.35,774.308 1379.21,788.448 1373.35,802.588 \n",
       "  \"/>\n",
       "<polygon clip-path=\"url(#clip0702)\" style=\"fill:#009af9; fill-opacity:1\" points=\"\n",
       "  1359.21,804.448 1347.9,799.76 1343.21,788.448 1347.9,777.136 1359.21,772.448 1370.52,777.136 1375.21,788.448 1370.52,799.76 \n",
       "  \"/>\n",
       "<polygon clip-path=\"url(#clip0702)\" style=\"fill:#000000; fill-opacity:1\" points=\"\n",
       "  1442.62,796.888 1428.48,791.028 1422.62,776.888 1428.48,762.748 1442.62,756.888 1456.76,762.748 1462.62,776.888 1456.76,791.028 \n",
       "  \"/>\n",
       "<polygon clip-path=\"url(#clip0702)\" style=\"fill:#009af9; fill-opacity:1\" points=\"\n",
       "  1442.62,792.888 1431.31,788.2 1426.62,776.888 1431.31,765.576 1442.62,760.888 1453.93,765.576 1458.62,776.888 1453.93,788.2 \n",
       "  \"/>\n",
       "<polygon clip-path=\"url(#clip0702)\" style=\"fill:#000000; fill-opacity:1\" points=\"\n",
       "  1517.23,746.253 1503.09,740.393 1497.23,726.253 1503.09,712.113 1517.23,706.253 1531.37,712.113 1537.23,726.253 1531.37,740.393 \n",
       "  \"/>\n",
       "<polygon clip-path=\"url(#clip0702)\" style=\"fill:#009af9; fill-opacity:1\" points=\"\n",
       "  1517.23,742.253 1505.92,737.565 1501.23,726.253 1505.92,714.941 1517.23,710.253 1528.54,714.941 1533.23,726.253 1528.54,737.565 \n",
       "  \"/>\n",
       "<polygon clip-path=\"url(#clip0702)\" style=\"fill:#000000; fill-opacity:1\" points=\"\n",
       "  1584.73,706.424 1570.59,700.564 1564.73,686.424 1570.59,672.284 1584.73,666.424 1598.87,672.284 1604.73,686.424 1598.87,700.564 \n",
       "  \"/>\n",
       "<polygon clip-path=\"url(#clip0702)\" style=\"fill:#009af9; fill-opacity:1\" points=\"\n",
       "  1584.73,702.424 1573.42,697.736 1568.73,686.424 1573.42,675.112 1584.73,670.424 1596.04,675.112 1600.73,686.424 1596.04,697.736 \n",
       "  \"/>\n",
       "<polygon clip-path=\"url(#clip0702)\" style=\"fill:#000000; fill-opacity:1\" points=\"\n",
       "  1646.35,663.091 1632.21,657.231 1626.35,643.091 1632.21,628.951 1646.35,623.091 1660.49,628.951 1666.35,643.091 1660.49,657.231 \n",
       "  \"/>\n",
       "<polygon clip-path=\"url(#clip0702)\" style=\"fill:#009af9; fill-opacity:1\" points=\"\n",
       "  1646.35,659.091 1635.03,654.403 1630.35,643.091 1635.03,631.779 1646.35,627.091 1657.66,631.779 1662.35,643.091 1657.66,654.403 \n",
       "  \"/>\n",
       "<polygon clip-path=\"url(#clip0702)\" style=\"fill:#000000; fill-opacity:1\" points=\"\n",
       "  1703.03,625.7 1688.89,619.84 1683.03,605.7 1688.89,591.56 1703.03,585.7 1717.17,591.56 1723.03,605.7 1717.17,619.84 \n",
       "  \"/>\n",
       "<polygon clip-path=\"url(#clip0702)\" style=\"fill:#009af9; fill-opacity:1\" points=\"\n",
       "  1703.03,621.7 1691.72,617.012 1687.03,605.7 1691.72,594.388 1703.03,589.7 1714.34,594.388 1719.03,605.7 1714.34,617.012 \n",
       "  \"/>\n",
       "<polygon clip-path=\"url(#clip0702)\" style=\"fill:#000000; fill-opacity:1\" points=\"\n",
       "  1755.51,579.773 1741.37,573.913 1735.51,559.773 1741.37,545.633 1755.51,539.773 1769.65,545.633 1775.51,559.773 1769.65,573.913 \n",
       "  \"/>\n",
       "<polygon clip-path=\"url(#clip0702)\" style=\"fill:#009af9; fill-opacity:1\" points=\"\n",
       "  1755.51,575.773 1744.2,571.085 1739.51,559.773 1744.2,548.461 1755.51,543.773 1766.82,548.461 1771.51,559.773 1766.82,571.085 \n",
       "  \"/>\n",
       "<polygon clip-path=\"url(#clip0702)\" style=\"fill:#000000; fill-opacity:1\" points=\"\n",
       "  1804.37,541.448 1790.23,535.588 1784.37,521.448 1790.23,507.308 1804.37,501.448 1818.51,507.308 1824.37,521.448 1818.51,535.588 \n",
       "  \"/>\n",
       "<polygon clip-path=\"url(#clip0702)\" style=\"fill:#009af9; fill-opacity:1\" points=\"\n",
       "  1804.37,537.448 1793.05,532.76 1788.37,521.448 1793.05,510.136 1804.37,505.448 1815.68,510.136 1820.37,521.448 1815.68,532.76 \n",
       "  \"/>\n",
       "<polygon clip-path=\"url(#clip0702)\" style=\"fill:#000000; fill-opacity:1\" points=\"\n",
       "  1850.07,481.718 1835.93,475.858 1830.07,461.718 1835.93,447.578 1850.07,441.718 1864.21,447.578 1870.07,461.718 1864.21,475.858 \n",
       "  \"/>\n",
       "<polygon clip-path=\"url(#clip0702)\" style=\"fill:#009af9; fill-opacity:1\" points=\"\n",
       "  1850.07,477.718 1838.76,473.03 1834.07,461.718 1838.76,450.406 1850.07,445.718 1861.38,450.406 1866.07,461.718 1861.38,473.03 \n",
       "  \"/>\n",
       "<polygon clip-path=\"url(#clip0702)\" style=\"fill:#000000; fill-opacity:1\" points=\"\n",
       "  1893,451.987 1878.86,446.127 1873,431.987 1878.86,417.847 1893,411.987 1907.14,417.847 1913,431.987 1907.14,446.127 \n",
       "  \"/>\n",
       "<polygon clip-path=\"url(#clip0702)\" style=\"fill:#009af9; fill-opacity:1\" points=\"\n",
       "  1893,447.987 1881.69,443.299 1877,431.987 1881.69,420.675 1893,415.987 1904.31,420.675 1909,431.987 1904.31,443.299 \n",
       "  \"/>\n",
       "<polygon clip-path=\"url(#clip0702)\" style=\"fill:#000000; fill-opacity:1\" points=\"\n",
       "  1933.48,404.557 1919.34,398.697 1913.48,384.557 1919.34,370.417 1933.48,364.557 1947.62,370.417 1953.48,384.557 1947.62,398.697 \n",
       "  \"/>\n",
       "<polygon clip-path=\"url(#clip0702)\" style=\"fill:#009af9; fill-opacity:1\" points=\"\n",
       "  1933.48,400.557 1922.17,395.869 1917.48,384.557 1922.17,373.245 1933.48,368.557 1944.79,373.245 1949.48,384.557 1944.79,395.869 \n",
       "  \"/>\n",
       "<polygon clip-path=\"url(#clip0702)\" style=\"fill:#000000; fill-opacity:1\" points=\"\n",
       "  1971.77,388.015 1957.63,382.155 1951.77,368.015 1957.63,353.875 1971.77,348.015 1985.91,353.875 1991.77,368.015 1985.91,382.155 \n",
       "  \"/>\n",
       "<polygon clip-path=\"url(#clip0702)\" style=\"fill:#009af9; fill-opacity:1\" points=\"\n",
       "  1971.77,384.015 1960.45,379.327 1955.77,368.015 1960.45,356.703 1971.77,352.015 1983.08,356.703 1987.77,368.015 1983.08,379.327 \n",
       "  \"/>\n",
       "<polygon clip-path=\"url(#clip0702)\" style=\"fill:#000000; fill-opacity:1\" points=\"\n",
       "  2008.09,360.379 1993.95,354.519 1988.09,340.379 1993.95,326.239 2008.09,320.379 2022.23,326.239 2028.09,340.379 2022.23,354.519 \n",
       "  \"/>\n",
       "<polygon clip-path=\"url(#clip0702)\" style=\"fill:#009af9; fill-opacity:1\" points=\"\n",
       "  2008.09,356.379 1996.78,351.691 1992.09,340.379 1996.78,329.067 2008.09,324.379 2019.4,329.067 2024.09,340.379 2019.4,351.691 \n",
       "  \"/>\n",
       "<polygon clip-path=\"url(#clip0702)\" style=\"fill:#000000; fill-opacity:1\" points=\"\n",
       "  2042.64,336.466 2028.5,330.606 2022.64,316.466 2028.5,302.326 2042.64,296.466 2056.78,302.326 2062.64,316.466 2056.78,330.606 \n",
       "  \"/>\n",
       "<polygon clip-path=\"url(#clip0702)\" style=\"fill:#009af9; fill-opacity:1\" points=\"\n",
       "  2042.64,332.466 2031.33,327.778 2026.64,316.466 2031.33,305.154 2042.64,300.466 2053.95,305.154 2058.64,316.466 2053.95,327.778 \n",
       "  \"/>\n",
       "<polygon clip-path=\"url(#clip0702)\" style=\"fill:#000000; fill-opacity:1\" points=\"\n",
       "  2075.59,308.988 2061.45,303.128 2055.59,288.988 2061.45,274.848 2075.59,268.988 2089.73,274.848 2095.59,288.988 2089.73,303.128 \n",
       "  \"/>\n",
       "<polygon clip-path=\"url(#clip0702)\" style=\"fill:#009af9; fill-opacity:1\" points=\"\n",
       "  2075.59,304.988 2064.27,300.3 2059.59,288.988 2064.27,277.676 2075.59,272.988 2086.9,277.676 2091.59,288.988 2086.9,300.3 \n",
       "  \"/>\n",
       "<polygon clip-path=\"url(#clip0702)\" style=\"fill:#000000; fill-opacity:1\" points=\"\n",
       "  2107.06,284.486 2092.92,278.626 2087.06,264.486 2092.92,250.346 2107.06,244.486 2121.2,250.346 2127.06,264.486 2121.2,278.626 \n",
       "  \"/>\n",
       "<polygon clip-path=\"url(#clip0702)\" style=\"fill:#009af9; fill-opacity:1\" points=\"\n",
       "  2107.06,280.486 2095.75,275.798 2091.06,264.486 2095.75,253.174 2107.06,248.486 2118.38,253.174 2123.06,264.486 2118.38,275.798 \n",
       "  \"/>\n",
       "<polygon clip-path=\"url(#clip0702)\" style=\"fill:#000000; fill-opacity:1\" points=\"\n",
       "  2137.2,275.135 2123.06,269.275 2117.2,255.135 2123.06,240.995 2137.2,235.135 2151.34,240.995 2157.2,255.135 2151.34,269.275 \n",
       "  \"/>\n",
       "<polygon clip-path=\"url(#clip0702)\" style=\"fill:#009af9; fill-opacity:1\" points=\"\n",
       "  2137.2,271.135 2125.89,266.447 2121.2,255.135 2125.89,243.823 2137.2,239.135 2148.52,243.823 2153.2,255.135 2148.52,266.447 \n",
       "  \"/>\n",
       "<polygon clip-path=\"url(#clip0702)\" style=\"fill:#000000; fill-opacity:1\" points=\"\n",
       "  2166.11,251.109 2151.97,245.249 2146.11,231.109 2151.97,216.969 2166.11,211.109 2180.25,216.969 2186.11,231.109 2180.25,245.249 \n",
       "  \"/>\n",
       "<polygon clip-path=\"url(#clip0702)\" style=\"fill:#009af9; fill-opacity:1\" points=\"\n",
       "  2166.11,247.109 2154.8,242.421 2150.11,231.109 2154.8,219.797 2166.11,215.109 2177.42,219.797 2182.11,231.109 2177.42,242.421 \n",
       "  \"/>\n",
       "<polygon clip-path=\"url(#clip0702)\" style=\"fill:#000000; fill-opacity:1\" points=\"\n",
       "  2193.89,238.656 2179.75,232.796 2173.89,218.656 2179.75,204.516 2193.89,198.656 2208.03,204.516 2213.89,218.656 2208.03,232.796 \n",
       "  \"/>\n",
       "<polygon clip-path=\"url(#clip0702)\" style=\"fill:#009af9; fill-opacity:1\" points=\"\n",
       "  2193.89,234.656 2182.57,229.968 2177.89,218.656 2182.57,207.344 2193.89,202.656 2205.2,207.344 2209.89,218.656 2205.2,229.968 \n",
       "  \"/>\n",
       "<polygon clip-path=\"url(#clip0702)\" style=\"fill:#000000; fill-opacity:1\" points=\"\n",
       "  2220.61,216.053 2206.47,210.193 2200.61,196.053 2206.47,181.913 2220.61,176.053 2234.75,181.913 2240.61,196.053 2234.75,210.193 \n",
       "  \"/>\n",
       "<polygon clip-path=\"url(#clip0702)\" style=\"fill:#009af9; fill-opacity:1\" points=\"\n",
       "  2220.61,212.053 2209.3,207.365 2204.61,196.053 2209.3,184.741 2220.61,180.053 2231.92,184.741 2236.61,196.053 2231.92,207.365 \n",
       "  \"/>\n",
       "<polygon clip-path=\"url(#clip0702)\" style=\"fill:#000000; fill-opacity:1\" points=\"\n",
       "  2246.37,206.687 2232.23,200.827 2226.37,186.687 2232.23,172.547 2246.37,166.687 2260.51,172.547 2266.37,186.687 2260.51,200.827 \n",
       "  \"/>\n",
       "<polygon clip-path=\"url(#clip0702)\" style=\"fill:#009af9; fill-opacity:1\" points=\"\n",
       "  2246.37,202.687 2235.05,197.999 2230.37,186.687 2235.05,175.375 2246.37,170.687 2257.68,175.375 2262.37,186.687 2257.68,197.999 \n",
       "  \"/>\n",
       "<polygon clip-path=\"url(#clip0702)\" style=\"fill:#000000; fill-opacity:1\" points=\"\n",
       "  2271.22,193.719 2257.08,187.859 2251.22,173.719 2257.08,159.579 2271.22,153.719 2285.36,159.579 2291.22,173.719 2285.36,187.859 \n",
       "  \"/>\n",
       "<polygon clip-path=\"url(#clip0702)\" style=\"fill:#009af9; fill-opacity:1\" points=\"\n",
       "  2271.22,189.719 2259.9,185.031 2255.22,173.719 2259.9,162.407 2271.22,157.719 2282.53,162.407 2287.22,173.719 2282.53,185.031 \n",
       "  \"/>\n",
       "<polygon clip-path=\"url(#clip0702)\" style=\"fill:#000000; fill-opacity:1\" points=\"\n",
       "  2295.22,179.318 2281.08,173.458 2275.22,159.318 2281.08,145.178 2295.22,139.318 2309.36,145.178 2315.22,159.318 2309.36,173.458 \n",
       "  \"/>\n",
       "<polygon clip-path=\"url(#clip0702)\" style=\"fill:#009af9; fill-opacity:1\" points=\"\n",
       "  2295.22,175.318 2283.91,170.63 2279.22,159.318 2283.91,148.006 2295.22,143.318 2306.54,148.006 2311.22,159.318 2306.54,170.63 \n",
       "  \"/>\n",
       "</svg>\n"
      ]
     },
     "execution_count": 70,
     "metadata": {},
     "output_type": "execute_result"
    }
   ],
   "source": [
    "plot(n,t,m=:o,\n",
    "    xaxis=(:log10,\"\\$n\\$\"),yaxis=(:log10,\"elapsed time (sec)\"),\n",
    "    title=\"Timing of matrix-vector multiplications\",label=\"data\",leg=false)"
   ]
  },
  {
   "cell_type": "markdown",
   "metadata": {},
   "source": [
    "You can see that while the full story is complicated, the graph is trending to a straight line of positive slope. For comparison, we can plot a line that represents $O(n^2)$ growth exactly. (All such lines have slope equal to 2.)"
   ]
  },
  {
   "cell_type": "code",
   "execution_count": 71,
   "metadata": {
    "scrolled": true
   },
   "outputs": [
    {
     "data": {
      "image/svg+xml": [
       "<?xml version=\"1.0\" encoding=\"utf-8\"?>\n",
       "<svg xmlns=\"http://www.w3.org/2000/svg\" xmlns:xlink=\"http://www.w3.org/1999/xlink\" width=\"600\" height=\"400\" viewBox=\"0 0 2400 1600\">\n",
       "<defs>\n",
       "  <clipPath id=\"clip1100\">\n",
       "    <rect x=\"0\" y=\"0\" width=\"2400\" height=\"1600\"/>\n",
       "  </clipPath>\n",
       "</defs>\n",
       "<polygon clip-path=\"url(#clip1100)\" points=\"\n",
       "0,1600 2400,1600 2400,0 0,0 \n",
       "  \" fill=\"#ffffff\" fill-rule=\"evenodd\" fill-opacity=\"1\"/>\n",
       "<defs>\n",
       "  <clipPath id=\"clip1101\">\n",
       "    <rect x=\"480\" y=\"0\" width=\"1681\" height=\"1600\"/>\n",
       "  </clipPath>\n",
       "</defs>\n",
       "<polygon clip-path=\"url(#clip1100)\" points=\"\n",
       "319.964,1451.73 2352.76,1451.73 2352.76,121.675 319.964,121.675 \n",
       "  \" fill=\"#ffffff\" fill-rule=\"evenodd\" fill-opacity=\"1\"/>\n",
       "<defs>\n",
       "  <clipPath id=\"clip1102\">\n",
       "    <rect x=\"319\" y=\"121\" width=\"2034\" height=\"1331\"/>\n",
       "  </clipPath>\n",
       "</defs>\n",
       "<polyline clip-path=\"url(#clip1102)\" style=\"stroke:#000000; stroke-width:2; stroke-opacity:0.1; fill:none\" points=\"\n",
       "  618.726,1451.73 618.726,121.675 \n",
       "  \"/>\n",
       "<polyline clip-path=\"url(#clip1102)\" style=\"stroke:#000000; stroke-width:2; stroke-opacity:0.1; fill:none\" points=\"\n",
       "  1026.37,1451.73 1026.37,121.675 \n",
       "  \"/>\n",
       "<polyline clip-path=\"url(#clip1102)\" style=\"stroke:#000000; stroke-width:2; stroke-opacity:0.1; fill:none\" points=\"\n",
       "  1434.02,1451.73 1434.02,121.675 \n",
       "  \"/>\n",
       "<polyline clip-path=\"url(#clip1102)\" style=\"stroke:#000000; stroke-width:2; stroke-opacity:0.1; fill:none\" points=\"\n",
       "  1841.67,1451.73 1841.67,121.675 \n",
       "  \"/>\n",
       "<polyline clip-path=\"url(#clip1102)\" style=\"stroke:#000000; stroke-width:2; stroke-opacity:0.1; fill:none\" points=\"\n",
       "  2249.32,1451.73 2249.32,121.675 \n",
       "  \"/>\n",
       "<polyline clip-path=\"url(#clip1102)\" style=\"stroke:#000000; stroke-width:2; stroke-opacity:0.1; fill:none\" points=\"\n",
       "  319.964,1386.15 2352.76,1386.15 \n",
       "  \"/>\n",
       "<polyline clip-path=\"url(#clip1102)\" style=\"stroke:#000000; stroke-width:2; stroke-opacity:0.1; fill:none\" points=\"\n",
       "  319.964,1148.4 2352.76,1148.4 \n",
       "  \"/>\n",
       "<polyline clip-path=\"url(#clip1102)\" style=\"stroke:#000000; stroke-width:2; stroke-opacity:0.1; fill:none\" points=\"\n",
       "  319.964,910.645 2352.76,910.645 \n",
       "  \"/>\n",
       "<polyline clip-path=\"url(#clip1102)\" style=\"stroke:#000000; stroke-width:2; stroke-opacity:0.1; fill:none\" points=\"\n",
       "  319.964,672.894 2352.76,672.894 \n",
       "  \"/>\n",
       "<polyline clip-path=\"url(#clip1102)\" style=\"stroke:#000000; stroke-width:2; stroke-opacity:0.1; fill:none\" points=\"\n",
       "  319.964,435.144 2352.76,435.144 \n",
       "  \"/>\n",
       "<polyline clip-path=\"url(#clip1102)\" style=\"stroke:#000000; stroke-width:2; stroke-opacity:0.1; fill:none\" points=\"\n",
       "  319.964,197.393 2352.76,197.393 \n",
       "  \"/>\n",
       "<polyline clip-path=\"url(#clip1100)\" style=\"stroke:#000000; stroke-width:4; stroke-opacity:1; fill:none\" points=\"\n",
       "  319.964,1451.73 2352.76,1451.73 \n",
       "  \"/>\n",
       "<polyline clip-path=\"url(#clip1100)\" style=\"stroke:#000000; stroke-width:4; stroke-opacity:1; fill:none\" points=\"\n",
       "  319.964,1451.73 319.964,121.675 \n",
       "  \"/>\n",
       "<polyline clip-path=\"url(#clip1100)\" style=\"stroke:#000000; stroke-width:4; stroke-opacity:1; fill:none\" points=\"\n",
       "  618.726,1451.73 618.726,1431.78 \n",
       "  \"/>\n",
       "<polyline clip-path=\"url(#clip1100)\" style=\"stroke:#000000; stroke-width:4; stroke-opacity:1; fill:none\" points=\"\n",
       "  1026.37,1451.73 1026.37,1431.78 \n",
       "  \"/>\n",
       "<polyline clip-path=\"url(#clip1100)\" style=\"stroke:#000000; stroke-width:4; stroke-opacity:1; fill:none\" points=\"\n",
       "  1434.02,1451.73 1434.02,1431.78 \n",
       "  \"/>\n",
       "<polyline clip-path=\"url(#clip1100)\" style=\"stroke:#000000; stroke-width:4; stroke-opacity:1; fill:none\" points=\"\n",
       "  1841.67,1451.73 1841.67,1431.78 \n",
       "  \"/>\n",
       "<polyline clip-path=\"url(#clip1100)\" style=\"stroke:#000000; stroke-width:4; stroke-opacity:1; fill:none\" points=\"\n",
       "  2249.32,1451.73 2249.32,1431.78 \n",
       "  \"/>\n",
       "<polyline clip-path=\"url(#clip1100)\" style=\"stroke:#000000; stroke-width:4; stroke-opacity:1; fill:none\" points=\"\n",
       "  319.964,1386.15 350.455,1386.15 \n",
       "  \"/>\n",
       "<polyline clip-path=\"url(#clip1100)\" style=\"stroke:#000000; stroke-width:4; stroke-opacity:1; fill:none\" points=\"\n",
       "  319.964,1148.4 350.455,1148.4 \n",
       "  \"/>\n",
       "<polyline clip-path=\"url(#clip1100)\" style=\"stroke:#000000; stroke-width:4; stroke-opacity:1; fill:none\" points=\"\n",
       "  319.964,910.645 350.455,910.645 \n",
       "  \"/>\n",
       "<polyline clip-path=\"url(#clip1100)\" style=\"stroke:#000000; stroke-width:4; stroke-opacity:1; fill:none\" points=\"\n",
       "  319.964,672.894 350.455,672.894 \n",
       "  \"/>\n",
       "<polyline clip-path=\"url(#clip1100)\" style=\"stroke:#000000; stroke-width:4; stroke-opacity:1; fill:none\" points=\"\n",
       "  319.964,435.144 350.455,435.144 \n",
       "  \"/>\n",
       "<polyline clip-path=\"url(#clip1100)\" style=\"stroke:#000000; stroke-width:4; stroke-opacity:1; fill:none\" points=\"\n",
       "  319.964,197.393 350.455,197.393 \n",
       "  \"/>\n",
       "<g clip-path=\"url(#clip1100)\">\n",
       "<text style=\"fill:#000000; fill-opacity:1; font-family:Arial,Helvetica Neue,Helvetica,sans-serif; font-size:48px; text-anchor:start;\" transform=\"rotate(0, 548.475, 1526.73)\" x=\"548.475\" y=\"1526.73\">10</text>\n",
       "</g>\n",
       "<g clip-path=\"url(#clip1100)\">\n",
       "<text style=\"fill:#000000; fill-opacity:1; font-family:Arial,Helvetica Neue,Helvetica,sans-serif; font-size:38px; text-anchor:start;\" transform=\"rotate(0, 601.999, 1499.32)\" x=\"601.999\" y=\"1499.32\">2.75 </text>\n",
       "</g>\n",
       "<g clip-path=\"url(#clip1100)\">\n",
       "<text style=\"fill:#000000; fill-opacity:1; font-family:Arial,Helvetica Neue,Helvetica,sans-serif; font-size:48px; text-anchor:start;\" transform=\"rotate(0, 956.123, 1526.73)\" x=\"956.123\" y=\"1526.73\">10</text>\n",
       "</g>\n",
       "<g clip-path=\"url(#clip1100)\">\n",
       "<text style=\"fill:#000000; fill-opacity:1; font-family:Arial,Helvetica Neue,Helvetica,sans-serif; font-size:38px; text-anchor:start;\" transform=\"rotate(0, 1009.65, 1499.32)\" x=\"1009.65\" y=\"1499.32\">3.00 </text>\n",
       "</g>\n",
       "<g clip-path=\"url(#clip1100)\">\n",
       "<text style=\"fill:#000000; fill-opacity:1; font-family:Arial,Helvetica Neue,Helvetica,sans-serif; font-size:48px; text-anchor:start;\" transform=\"rotate(0, 1363.77, 1526.73)\" x=\"1363.77\" y=\"1526.73\">10</text>\n",
       "</g>\n",
       "<g clip-path=\"url(#clip1100)\">\n",
       "<text style=\"fill:#000000; fill-opacity:1; font-family:Arial,Helvetica Neue,Helvetica,sans-serif; font-size:38px; text-anchor:start;\" transform=\"rotate(0, 1417.3, 1499.32)\" x=\"1417.3\" y=\"1499.32\">3.25 </text>\n",
       "</g>\n",
       "<g clip-path=\"url(#clip1100)\">\n",
       "<text style=\"fill:#000000; fill-opacity:1; font-family:Arial,Helvetica Neue,Helvetica,sans-serif; font-size:48px; text-anchor:start;\" transform=\"rotate(0, 1771.42, 1526.73)\" x=\"1771.42\" y=\"1526.73\">10</text>\n",
       "</g>\n",
       "<g clip-path=\"url(#clip1100)\">\n",
       "<text style=\"fill:#000000; fill-opacity:1; font-family:Arial,Helvetica Neue,Helvetica,sans-serif; font-size:38px; text-anchor:start;\" transform=\"rotate(0, 1824.95, 1499.32)\" x=\"1824.95\" y=\"1499.32\">3.50 </text>\n",
       "</g>\n",
       "<g clip-path=\"url(#clip1100)\">\n",
       "<text style=\"fill:#000000; fill-opacity:1; font-family:Arial,Helvetica Neue,Helvetica,sans-serif; font-size:48px; text-anchor:start;\" transform=\"rotate(0, 2179.07, 1526.73)\" x=\"2179.07\" y=\"1526.73\">10</text>\n",
       "</g>\n",
       "<g clip-path=\"url(#clip1100)\">\n",
       "<text style=\"fill:#000000; fill-opacity:1; font-family:Arial,Helvetica Neue,Helvetica,sans-serif; font-size:38px; text-anchor:start;\" transform=\"rotate(0, 2232.59, 1499.32)\" x=\"2232.59\" y=\"1499.32\">3.75 </text>\n",
       "</g>\n",
       "<g clip-path=\"url(#clip1100)\">\n",
       "<text style=\"fill:#000000; fill-opacity:1; font-family:Arial,Helvetica Neue,Helvetica,sans-serif; font-size:48px; text-anchor:start;\" transform=\"rotate(0, 154.366, 1409.87)\" x=\"154.366\" y=\"1409.87\">10</text>\n",
       "</g>\n",
       "<g clip-path=\"url(#clip1100)\">\n",
       "<text style=\"fill:#000000; fill-opacity:1; font-family:Arial,Helvetica Neue,Helvetica,sans-serif; font-size:38px; text-anchor:start;\" transform=\"rotate(0, 207.891, 1382.46)\" x=\"207.891\" y=\"1382.46\">-</text>\n",
       "</g>\n",
       "<g clip-path=\"url(#clip1100)\">\n",
       "<text style=\"fill:#000000; fill-opacity:1; font-family:Arial,Helvetica Neue,Helvetica,sans-serif; font-size:38px; text-anchor:start;\" transform=\"rotate(0, 230.73, 1382.46)\" x=\"230.73\" y=\"1382.46\">3.5 </text>\n",
       "</g>\n",
       "<g clip-path=\"url(#clip1100)\">\n",
       "<text style=\"fill:#000000; fill-opacity:1; font-family:Arial,Helvetica Neue,Helvetica,sans-serif; font-size:48px; text-anchor:start;\" transform=\"rotate(0, 154.366, 1172.12)\" x=\"154.366\" y=\"1172.12\">10</text>\n",
       "</g>\n",
       "<g clip-path=\"url(#clip1100)\">\n",
       "<text style=\"fill:#000000; fill-opacity:1; font-family:Arial,Helvetica Neue,Helvetica,sans-serif; font-size:38px; text-anchor:start;\" transform=\"rotate(0, 207.891, 1144.71)\" x=\"207.891\" y=\"1144.71\">-</text>\n",
       "</g>\n",
       "<g clip-path=\"url(#clip1100)\">\n",
       "<text style=\"fill:#000000; fill-opacity:1; font-family:Arial,Helvetica Neue,Helvetica,sans-serif; font-size:38px; text-anchor:start;\" transform=\"rotate(0, 230.73, 1144.71)\" x=\"230.73\" y=\"1144.71\">3.0 </text>\n",
       "</g>\n",
       "<g clip-path=\"url(#clip1100)\">\n",
       "<text style=\"fill:#000000; fill-opacity:1; font-family:Arial,Helvetica Neue,Helvetica,sans-serif; font-size:48px; text-anchor:start;\" transform=\"rotate(0, 154.366, 934.372)\" x=\"154.366\" y=\"934.372\">10</text>\n",
       "</g>\n",
       "<g clip-path=\"url(#clip1100)\">\n",
       "<text style=\"fill:#000000; fill-opacity:1; font-family:Arial,Helvetica Neue,Helvetica,sans-serif; font-size:38px; text-anchor:start;\" transform=\"rotate(0, 207.891, 906.962)\" x=\"207.891\" y=\"906.962\">-</text>\n",
       "</g>\n",
       "<g clip-path=\"url(#clip1100)\">\n",
       "<text style=\"fill:#000000; fill-opacity:1; font-family:Arial,Helvetica Neue,Helvetica,sans-serif; font-size:38px; text-anchor:start;\" transform=\"rotate(0, 230.73, 906.962)\" x=\"230.73\" y=\"906.962\">2.5 </text>\n",
       "</g>\n",
       "<g clip-path=\"url(#clip1100)\">\n",
       "<text style=\"fill:#000000; fill-opacity:1; font-family:Arial,Helvetica Neue,Helvetica,sans-serif; font-size:48px; text-anchor:start;\" transform=\"rotate(0, 154.366, 696.622)\" x=\"154.366\" y=\"696.622\">10</text>\n",
       "</g>\n",
       "<g clip-path=\"url(#clip1100)\">\n",
       "<text style=\"fill:#000000; fill-opacity:1; font-family:Arial,Helvetica Neue,Helvetica,sans-serif; font-size:38px; text-anchor:start;\" transform=\"rotate(0, 207.891, 669.211)\" x=\"207.891\" y=\"669.211\">-</text>\n",
       "</g>\n",
       "<g clip-path=\"url(#clip1100)\">\n",
       "<text style=\"fill:#000000; fill-opacity:1; font-family:Arial,Helvetica Neue,Helvetica,sans-serif; font-size:38px; text-anchor:start;\" transform=\"rotate(0, 230.73, 669.211)\" x=\"230.73\" y=\"669.211\">2.0 </text>\n",
       "</g>\n",
       "<g clip-path=\"url(#clip1100)\">\n",
       "<text style=\"fill:#000000; fill-opacity:1; font-family:Arial,Helvetica Neue,Helvetica,sans-serif; font-size:48px; text-anchor:start;\" transform=\"rotate(0, 154.366, 458.871)\" x=\"154.366\" y=\"458.871\">10</text>\n",
       "</g>\n",
       "<g clip-path=\"url(#clip1100)\">\n",
       "<text style=\"fill:#000000; fill-opacity:1; font-family:Arial,Helvetica Neue,Helvetica,sans-serif; font-size:38px; text-anchor:start;\" transform=\"rotate(0, 207.891, 431.461)\" x=\"207.891\" y=\"431.461\">-</text>\n",
       "</g>\n",
       "<g clip-path=\"url(#clip1100)\">\n",
       "<text style=\"fill:#000000; fill-opacity:1; font-family:Arial,Helvetica Neue,Helvetica,sans-serif; font-size:38px; text-anchor:start;\" transform=\"rotate(0, 230.73, 431.461)\" x=\"230.73\" y=\"431.461\">1.5 </text>\n",
       "</g>\n",
       "<g clip-path=\"url(#clip1100)\">\n",
       "<text style=\"fill:#000000; fill-opacity:1; font-family:Arial,Helvetica Neue,Helvetica,sans-serif; font-size:48px; text-anchor:start;\" transform=\"rotate(0, 154.366, 221.121)\" x=\"154.366\" y=\"221.121\">10</text>\n",
       "</g>\n",
       "<g clip-path=\"url(#clip1100)\">\n",
       "<text style=\"fill:#000000; fill-opacity:1; font-family:Arial,Helvetica Neue,Helvetica,sans-serif; font-size:38px; text-anchor:start;\" transform=\"rotate(0, 207.891, 193.71)\" x=\"207.891\" y=\"193.71\">-</text>\n",
       "</g>\n",
       "<g clip-path=\"url(#clip1100)\">\n",
       "<text style=\"fill:#000000; fill-opacity:1; font-family:Arial,Helvetica Neue,Helvetica,sans-serif; font-size:38px; text-anchor:start;\" transform=\"rotate(0, 230.73, 193.71)\" x=\"230.73\" y=\"193.71\">1.0 </text>\n",
       "</g>\n",
       "<g clip-path=\"url(#clip1100)\">\n",
       "<text style=\"fill:#000000; fill-opacity:1; font-family:Arial,Helvetica Neue,Helvetica,sans-serif; font-size:84px; text-anchor:middle;\" transform=\"rotate(0, 1336.36, 73.2)\" x=\"1336.36\" y=\"73.2\">Timing of matrix-vector multiplications</text>\n",
       "</g>\n",
       "<g clip-path=\"url(#clip1100)\">\n",
       "<image width=\"37\" height=\"30\" xlink:href=\"data:image/png;base64,\n",
       "iVBORw0KGgoAAAANSUhEUgAAACUAAAAeCAYAAACrI9dtAAACX0lEQVRYhbVYYdHjIBDd++YTkFYC\n",
       "EtCABDRQB2hAQjRQB0wl0CjIRAKtg3e/yCUECMm1mXnTgS6PZfeRhRAASmGthRACXdeBMQYpJbz3\n",
       "yNkuMY4jjDHzWCICEc0czrldDgC06VBKgYgghIAxBpzzmVwplSUNIUBKOdsJIaCUgjEGUsqVg0II\n",
       "hBCqzq0afd+DiKC1Xg1ijM2kfd+v/nPOgYjQdR2MMdkJQwhYcnDO25wKIRQHxOhFxImttc2rj7YR\n",
       "xpii/SZKubxrrVeE1lrESUopzU624Oi6bt8pznnRMI2UEGL+bXUIAC21tYx41qmYulRLEdGJJRhj\n",
       "uynbc6q0owkAGWOKqcuR1QhLiAtvdipGImcwjuOG7IiOIrz3G55q+mr6iBughayGdPeVggCAfoiI\n",
       "OOektabc83g8Vm3OOV0ulz9Z48qT4yk9v0REz+ezOMkwDKu2EOKoP1mnqjxHxdlav/6H52M6qCGn\n",
       "y5r9z5GQ13RwhGdXAjWPl0WUKi/XPVASpbSoN6fvU3rKSeDQ0eUbekpLVEu9LGrqE3p6vV5IeaSU\n",
       "+wO/qacj1cA5N0fxq3o6krp4ri86dUacLQuz1mY5oq2UsuxUeqhjjH0kdXu28SjTpKczR5Xl7WYZ\n",
       "hRw456uF/+Z2zDRNq74zRfj9fjdx3O93DMNAfd//6/yGnnISKG0UxthGHptIee9XbcbYqfNT+l67\n",
       "Xq8bm9vthmmaNnPubuMzesppM6138dqWq4O7Ij96QVjCez9f2eMNWms935ZLhXnT4ZxDzPNeNW9B\n",
       "CAFa6/mbBGMMSimM41jk/gstvP0rpCiSvwAAAABJRU5ErkJggg==\n",
       "\" transform=\"translate(1318, 1528)\"/>\n",
       "</g>\n",
       "<g clip-path=\"url(#clip1100)\">\n",
       "<text style=\"fill:#000000; fill-opacity:1; font-family:Arial,Helvetica Neue,Helvetica,sans-serif; font-size:66px; text-anchor:middle;\" transform=\"rotate(-90, 89.2861, 786.701)\" x=\"89.2861\" y=\"786.701\">elapsed time (sec)</text>\n",
       "</g>\n",
       "<polyline clip-path=\"url(#clip1102)\" style=\"stroke:#009af9; stroke-width:4; stroke-opacity:1; fill:none\" points=\"\n",
       "  377.495,1414.08 664.629,1236.1 868.353,1091.72 1026.37,1010.03 1155.49,862.66 1264.65,523.269 1359.21,788.448 1442.62,776.888 1517.23,726.253 1584.73,686.424 \n",
       "  1646.35,643.091 1703.03,605.7 1755.51,559.773 1804.37,521.448 1850.07,461.718 1893,431.987 1933.48,384.557 1971.77,368.015 2008.09,340.379 2042.64,316.466 \n",
       "  2075.59,288.988 2107.06,264.486 2137.2,255.135 2166.11,231.109 2193.89,218.656 2220.61,196.053 2246.37,186.687 2271.22,173.719 2295.22,159.318 \n",
       "  \"/>\n",
       "<polygon clip-path=\"url(#clip1102)\" style=\"fill:#000000; fill-opacity:1\" points=\"\n",
       "  377.495,1434.08 363.355,1428.22 357.495,1414.08 363.355,1399.94 377.495,1394.08 391.635,1399.94 397.495,1414.08 391.635,1428.22 \n",
       "  \"/>\n",
       "<polygon clip-path=\"url(#clip1102)\" style=\"fill:#009af9; fill-opacity:1\" points=\"\n",
       "  377.495,1430.08 366.183,1425.4 361.495,1414.08 366.183,1402.77 377.495,1398.08 388.807,1402.77 393.495,1414.08 388.807,1425.4 \n",
       "  \"/>\n",
       "<polygon clip-path=\"url(#clip1102)\" style=\"fill:#000000; fill-opacity:1\" points=\"\n",
       "  664.629,1256.1 650.489,1250.24 644.629,1236.1 650.489,1221.96 664.629,1216.1 678.769,1221.96 684.629,1236.1 678.769,1250.24 \n",
       "  \"/>\n",
       "<polygon clip-path=\"url(#clip1102)\" style=\"fill:#009af9; fill-opacity:1\" points=\"\n",
       "  664.629,1252.1 653.317,1247.42 648.629,1236.1 653.317,1224.79 664.629,1220.1 675.941,1224.79 680.629,1236.1 675.941,1247.42 \n",
       "  \"/>\n",
       "<polygon clip-path=\"url(#clip1102)\" style=\"fill:#000000; fill-opacity:1\" points=\"\n",
       "  868.353,1111.72 854.213,1105.86 848.353,1091.72 854.213,1077.58 868.353,1071.72 882.493,1077.58 888.353,1091.72 882.493,1105.86 \n",
       "  \"/>\n",
       "<polygon clip-path=\"url(#clip1102)\" style=\"fill:#009af9; fill-opacity:1\" points=\"\n",
       "  868.353,1107.72 857.041,1103.03 852.353,1091.72 857.041,1080.4 868.353,1075.72 879.665,1080.4 884.353,1091.72 879.665,1103.03 \n",
       "  \"/>\n",
       "<polygon clip-path=\"url(#clip1102)\" style=\"fill:#000000; fill-opacity:1\" points=\"\n",
       "  1026.37,1030.03 1012.23,1024.17 1006.37,1010.03 1012.23,995.885 1026.37,990.025 1040.51,995.885 1046.37,1010.03 1040.51,1024.17 \n",
       "  \"/>\n",
       "<polygon clip-path=\"url(#clip1102)\" style=\"fill:#009af9; fill-opacity:1\" points=\"\n",
       "  1026.37,1026.03 1015.06,1021.34 1010.37,1010.03 1015.06,998.713 1026.37,994.025 1037.69,998.713 1042.37,1010.03 1037.69,1021.34 \n",
       "  \"/>\n",
       "<polygon clip-path=\"url(#clip1102)\" style=\"fill:#000000; fill-opacity:1\" points=\"\n",
       "  1155.49,882.66 1141.35,876.8 1135.49,862.66 1141.35,848.52 1155.49,842.66 1169.63,848.52 1175.49,862.66 1169.63,876.8 \n",
       "  \"/>\n",
       "<polygon clip-path=\"url(#clip1102)\" style=\"fill:#009af9; fill-opacity:1\" points=\"\n",
       "  1155.49,878.66 1144.17,873.972 1139.49,862.66 1144.17,851.348 1155.49,846.66 1166.8,851.348 1171.49,862.66 1166.8,873.972 \n",
       "  \"/>\n",
       "<polygon clip-path=\"url(#clip1102)\" style=\"fill:#000000; fill-opacity:1\" points=\"\n",
       "  1264.65,543.269 1250.51,537.409 1244.65,523.269 1250.51,509.129 1264.65,503.269 1278.79,509.129 1284.65,523.269 1278.79,537.409 \n",
       "  \"/>\n",
       "<polygon clip-path=\"url(#clip1102)\" style=\"fill:#009af9; fill-opacity:1\" points=\"\n",
       "  1264.65,539.269 1253.34,534.581 1248.65,523.269 1253.34,511.957 1264.65,507.269 1275.96,511.957 1280.65,523.269 1275.96,534.581 \n",
       "  \"/>\n",
       "<polygon clip-path=\"url(#clip1102)\" style=\"fill:#000000; fill-opacity:1\" points=\"\n",
       "  1359.21,808.448 1345.07,802.588 1339.21,788.448 1345.07,774.308 1359.21,768.448 1373.35,774.308 1379.21,788.448 1373.35,802.588 \n",
       "  \"/>\n",
       "<polygon clip-path=\"url(#clip1102)\" style=\"fill:#009af9; fill-opacity:1\" points=\"\n",
       "  1359.21,804.448 1347.9,799.76 1343.21,788.448 1347.9,777.136 1359.21,772.448 1370.52,777.136 1375.21,788.448 1370.52,799.76 \n",
       "  \"/>\n",
       "<polygon clip-path=\"url(#clip1102)\" style=\"fill:#000000; fill-opacity:1\" points=\"\n",
       "  1442.62,796.888 1428.48,791.028 1422.62,776.888 1428.48,762.748 1442.62,756.888 1456.76,762.748 1462.62,776.888 1456.76,791.028 \n",
       "  \"/>\n",
       "<polygon clip-path=\"url(#clip1102)\" style=\"fill:#009af9; fill-opacity:1\" points=\"\n",
       "  1442.62,792.888 1431.31,788.2 1426.62,776.888 1431.31,765.576 1442.62,760.888 1453.93,765.576 1458.62,776.888 1453.93,788.2 \n",
       "  \"/>\n",
       "<polygon clip-path=\"url(#clip1102)\" style=\"fill:#000000; fill-opacity:1\" points=\"\n",
       "  1517.23,746.253 1503.09,740.393 1497.23,726.253 1503.09,712.113 1517.23,706.253 1531.37,712.113 1537.23,726.253 1531.37,740.393 \n",
       "  \"/>\n",
       "<polygon clip-path=\"url(#clip1102)\" style=\"fill:#009af9; fill-opacity:1\" points=\"\n",
       "  1517.23,742.253 1505.92,737.565 1501.23,726.253 1505.92,714.941 1517.23,710.253 1528.54,714.941 1533.23,726.253 1528.54,737.565 \n",
       "  \"/>\n",
       "<polygon clip-path=\"url(#clip1102)\" style=\"fill:#000000; fill-opacity:1\" points=\"\n",
       "  1584.73,706.424 1570.59,700.564 1564.73,686.424 1570.59,672.284 1584.73,666.424 1598.87,672.284 1604.73,686.424 1598.87,700.564 \n",
       "  \"/>\n",
       "<polygon clip-path=\"url(#clip1102)\" style=\"fill:#009af9; fill-opacity:1\" points=\"\n",
       "  1584.73,702.424 1573.42,697.736 1568.73,686.424 1573.42,675.112 1584.73,670.424 1596.04,675.112 1600.73,686.424 1596.04,697.736 \n",
       "  \"/>\n",
       "<polygon clip-path=\"url(#clip1102)\" style=\"fill:#000000; fill-opacity:1\" points=\"\n",
       "  1646.35,663.091 1632.21,657.231 1626.35,643.091 1632.21,628.951 1646.35,623.091 1660.49,628.951 1666.35,643.091 1660.49,657.231 \n",
       "  \"/>\n",
       "<polygon clip-path=\"url(#clip1102)\" style=\"fill:#009af9; fill-opacity:1\" points=\"\n",
       "  1646.35,659.091 1635.03,654.403 1630.35,643.091 1635.03,631.779 1646.35,627.091 1657.66,631.779 1662.35,643.091 1657.66,654.403 \n",
       "  \"/>\n",
       "<polygon clip-path=\"url(#clip1102)\" style=\"fill:#000000; fill-opacity:1\" points=\"\n",
       "  1703.03,625.7 1688.89,619.84 1683.03,605.7 1688.89,591.56 1703.03,585.7 1717.17,591.56 1723.03,605.7 1717.17,619.84 \n",
       "  \"/>\n",
       "<polygon clip-path=\"url(#clip1102)\" style=\"fill:#009af9; fill-opacity:1\" points=\"\n",
       "  1703.03,621.7 1691.72,617.012 1687.03,605.7 1691.72,594.388 1703.03,589.7 1714.34,594.388 1719.03,605.7 1714.34,617.012 \n",
       "  \"/>\n",
       "<polygon clip-path=\"url(#clip1102)\" style=\"fill:#000000; fill-opacity:1\" points=\"\n",
       "  1755.51,579.773 1741.37,573.913 1735.51,559.773 1741.37,545.633 1755.51,539.773 1769.65,545.633 1775.51,559.773 1769.65,573.913 \n",
       "  \"/>\n",
       "<polygon clip-path=\"url(#clip1102)\" style=\"fill:#009af9; fill-opacity:1\" points=\"\n",
       "  1755.51,575.773 1744.2,571.085 1739.51,559.773 1744.2,548.461 1755.51,543.773 1766.82,548.461 1771.51,559.773 1766.82,571.085 \n",
       "  \"/>\n",
       "<polygon clip-path=\"url(#clip1102)\" style=\"fill:#000000; fill-opacity:1\" points=\"\n",
       "  1804.37,541.448 1790.23,535.588 1784.37,521.448 1790.23,507.308 1804.37,501.448 1818.51,507.308 1824.37,521.448 1818.51,535.588 \n",
       "  \"/>\n",
       "<polygon clip-path=\"url(#clip1102)\" style=\"fill:#009af9; fill-opacity:1\" points=\"\n",
       "  1804.37,537.448 1793.05,532.76 1788.37,521.448 1793.05,510.136 1804.37,505.448 1815.68,510.136 1820.37,521.448 1815.68,532.76 \n",
       "  \"/>\n",
       "<polygon clip-path=\"url(#clip1102)\" style=\"fill:#000000; fill-opacity:1\" points=\"\n",
       "  1850.07,481.718 1835.93,475.858 1830.07,461.718 1835.93,447.578 1850.07,441.718 1864.21,447.578 1870.07,461.718 1864.21,475.858 \n",
       "  \"/>\n",
       "<polygon clip-path=\"url(#clip1102)\" style=\"fill:#009af9; fill-opacity:1\" points=\"\n",
       "  1850.07,477.718 1838.76,473.03 1834.07,461.718 1838.76,450.406 1850.07,445.718 1861.38,450.406 1866.07,461.718 1861.38,473.03 \n",
       "  \"/>\n",
       "<polygon clip-path=\"url(#clip1102)\" style=\"fill:#000000; fill-opacity:1\" points=\"\n",
       "  1893,451.987 1878.86,446.127 1873,431.987 1878.86,417.847 1893,411.987 1907.14,417.847 1913,431.987 1907.14,446.127 \n",
       "  \"/>\n",
       "<polygon clip-path=\"url(#clip1102)\" style=\"fill:#009af9; fill-opacity:1\" points=\"\n",
       "  1893,447.987 1881.69,443.299 1877,431.987 1881.69,420.675 1893,415.987 1904.31,420.675 1909,431.987 1904.31,443.299 \n",
       "  \"/>\n",
       "<polygon clip-path=\"url(#clip1102)\" style=\"fill:#000000; fill-opacity:1\" points=\"\n",
       "  1933.48,404.557 1919.34,398.697 1913.48,384.557 1919.34,370.417 1933.48,364.557 1947.62,370.417 1953.48,384.557 1947.62,398.697 \n",
       "  \"/>\n",
       "<polygon clip-path=\"url(#clip1102)\" style=\"fill:#009af9; fill-opacity:1\" points=\"\n",
       "  1933.48,400.557 1922.17,395.869 1917.48,384.557 1922.17,373.245 1933.48,368.557 1944.79,373.245 1949.48,384.557 1944.79,395.869 \n",
       "  \"/>\n",
       "<polygon clip-path=\"url(#clip1102)\" style=\"fill:#000000; fill-opacity:1\" points=\"\n",
       "  1971.77,388.015 1957.63,382.155 1951.77,368.015 1957.63,353.875 1971.77,348.015 1985.91,353.875 1991.77,368.015 1985.91,382.155 \n",
       "  \"/>\n",
       "<polygon clip-path=\"url(#clip1102)\" style=\"fill:#009af9; fill-opacity:1\" points=\"\n",
       "  1971.77,384.015 1960.45,379.327 1955.77,368.015 1960.45,356.703 1971.77,352.015 1983.08,356.703 1987.77,368.015 1983.08,379.327 \n",
       "  \"/>\n",
       "<polygon clip-path=\"url(#clip1102)\" style=\"fill:#000000; fill-opacity:1\" points=\"\n",
       "  2008.09,360.379 1993.95,354.519 1988.09,340.379 1993.95,326.239 2008.09,320.379 2022.23,326.239 2028.09,340.379 2022.23,354.519 \n",
       "  \"/>\n",
       "<polygon clip-path=\"url(#clip1102)\" style=\"fill:#009af9; fill-opacity:1\" points=\"\n",
       "  2008.09,356.379 1996.78,351.691 1992.09,340.379 1996.78,329.067 2008.09,324.379 2019.4,329.067 2024.09,340.379 2019.4,351.691 \n",
       "  \"/>\n",
       "<polygon clip-path=\"url(#clip1102)\" style=\"fill:#000000; fill-opacity:1\" points=\"\n",
       "  2042.64,336.466 2028.5,330.606 2022.64,316.466 2028.5,302.326 2042.64,296.466 2056.78,302.326 2062.64,316.466 2056.78,330.606 \n",
       "  \"/>\n",
       "<polygon clip-path=\"url(#clip1102)\" style=\"fill:#009af9; fill-opacity:1\" points=\"\n",
       "  2042.64,332.466 2031.33,327.778 2026.64,316.466 2031.33,305.154 2042.64,300.466 2053.95,305.154 2058.64,316.466 2053.95,327.778 \n",
       "  \"/>\n",
       "<polygon clip-path=\"url(#clip1102)\" style=\"fill:#000000; fill-opacity:1\" points=\"\n",
       "  2075.59,308.988 2061.45,303.128 2055.59,288.988 2061.45,274.848 2075.59,268.988 2089.73,274.848 2095.59,288.988 2089.73,303.128 \n",
       "  \"/>\n",
       "<polygon clip-path=\"url(#clip1102)\" style=\"fill:#009af9; fill-opacity:1\" points=\"\n",
       "  2075.59,304.988 2064.27,300.3 2059.59,288.988 2064.27,277.676 2075.59,272.988 2086.9,277.676 2091.59,288.988 2086.9,300.3 \n",
       "  \"/>\n",
       "<polygon clip-path=\"url(#clip1102)\" style=\"fill:#000000; fill-opacity:1\" points=\"\n",
       "  2107.06,284.486 2092.92,278.626 2087.06,264.486 2092.92,250.346 2107.06,244.486 2121.2,250.346 2127.06,264.486 2121.2,278.626 \n",
       "  \"/>\n",
       "<polygon clip-path=\"url(#clip1102)\" style=\"fill:#009af9; fill-opacity:1\" points=\"\n",
       "  2107.06,280.486 2095.75,275.798 2091.06,264.486 2095.75,253.174 2107.06,248.486 2118.38,253.174 2123.06,264.486 2118.38,275.798 \n",
       "  \"/>\n",
       "<polygon clip-path=\"url(#clip1102)\" style=\"fill:#000000; fill-opacity:1\" points=\"\n",
       "  2137.2,275.135 2123.06,269.275 2117.2,255.135 2123.06,240.995 2137.2,235.135 2151.34,240.995 2157.2,255.135 2151.34,269.275 \n",
       "  \"/>\n",
       "<polygon clip-path=\"url(#clip1102)\" style=\"fill:#009af9; fill-opacity:1\" points=\"\n",
       "  2137.2,271.135 2125.89,266.447 2121.2,255.135 2125.89,243.823 2137.2,239.135 2148.52,243.823 2153.2,255.135 2148.52,266.447 \n",
       "  \"/>\n",
       "<polygon clip-path=\"url(#clip1102)\" style=\"fill:#000000; fill-opacity:1\" points=\"\n",
       "  2166.11,251.109 2151.97,245.249 2146.11,231.109 2151.97,216.969 2166.11,211.109 2180.25,216.969 2186.11,231.109 2180.25,245.249 \n",
       "  \"/>\n",
       "<polygon clip-path=\"url(#clip1102)\" style=\"fill:#009af9; fill-opacity:1\" points=\"\n",
       "  2166.11,247.109 2154.8,242.421 2150.11,231.109 2154.8,219.797 2166.11,215.109 2177.42,219.797 2182.11,231.109 2177.42,242.421 \n",
       "  \"/>\n",
       "<polygon clip-path=\"url(#clip1102)\" style=\"fill:#000000; fill-opacity:1\" points=\"\n",
       "  2193.89,238.656 2179.75,232.796 2173.89,218.656 2179.75,204.516 2193.89,198.656 2208.03,204.516 2213.89,218.656 2208.03,232.796 \n",
       "  \"/>\n",
       "<polygon clip-path=\"url(#clip1102)\" style=\"fill:#009af9; fill-opacity:1\" points=\"\n",
       "  2193.89,234.656 2182.57,229.968 2177.89,218.656 2182.57,207.344 2193.89,202.656 2205.2,207.344 2209.89,218.656 2205.2,229.968 \n",
       "  \"/>\n",
       "<polygon clip-path=\"url(#clip1102)\" style=\"fill:#000000; fill-opacity:1\" points=\"\n",
       "  2220.61,216.053 2206.47,210.193 2200.61,196.053 2206.47,181.913 2220.61,176.053 2234.75,181.913 2240.61,196.053 2234.75,210.193 \n",
       "  \"/>\n",
       "<polygon clip-path=\"url(#clip1102)\" style=\"fill:#009af9; fill-opacity:1\" points=\"\n",
       "  2220.61,212.053 2209.3,207.365 2204.61,196.053 2209.3,184.741 2220.61,180.053 2231.92,184.741 2236.61,196.053 2231.92,207.365 \n",
       "  \"/>\n",
       "<polygon clip-path=\"url(#clip1102)\" style=\"fill:#000000; fill-opacity:1\" points=\"\n",
       "  2246.37,206.687 2232.23,200.827 2226.37,186.687 2232.23,172.547 2246.37,166.687 2260.51,172.547 2266.37,186.687 2260.51,200.827 \n",
       "  \"/>\n",
       "<polygon clip-path=\"url(#clip1102)\" style=\"fill:#009af9; fill-opacity:1\" points=\"\n",
       "  2246.37,202.687 2235.05,197.999 2230.37,186.687 2235.05,175.375 2246.37,170.687 2257.68,175.375 2262.37,186.687 2257.68,197.999 \n",
       "  \"/>\n",
       "<polygon clip-path=\"url(#clip1102)\" style=\"fill:#000000; fill-opacity:1\" points=\"\n",
       "  2271.22,193.719 2257.08,187.859 2251.22,173.719 2257.08,159.579 2271.22,153.719 2285.36,159.579 2291.22,173.719 2285.36,187.859 \n",
       "  \"/>\n",
       "<polygon clip-path=\"url(#clip1102)\" style=\"fill:#009af9; fill-opacity:1\" points=\"\n",
       "  2271.22,189.719 2259.9,185.031 2255.22,173.719 2259.9,162.407 2271.22,157.719 2282.53,162.407 2287.22,173.719 2282.53,185.031 \n",
       "  \"/>\n",
       "<polygon clip-path=\"url(#clip1102)\" style=\"fill:#000000; fill-opacity:1\" points=\"\n",
       "  2295.22,179.318 2281.08,173.458 2275.22,159.318 2281.08,145.178 2295.22,139.318 2309.36,145.178 2315.22,159.318 2309.36,173.458 \n",
       "  \"/>\n",
       "<polygon clip-path=\"url(#clip1102)\" style=\"fill:#009af9; fill-opacity:1\" points=\"\n",
       "  2295.22,175.318 2283.91,170.63 2279.22,159.318 2283.91,148.006 2295.22,143.318 2306.54,148.006 2311.22,159.318 2306.54,170.63 \n",
       "  \"/>\n",
       "<polyline clip-path=\"url(#clip1102)\" style=\"stroke:#e26f46; stroke-width:4; stroke-opacity:1; fill:none\" stroke-dasharray=\"16, 10\" points=\"\n",
       "  377.495,1277.78 664.629,1110.32 868.353,991.503 1026.37,899.342 1155.49,824.04 1264.65,760.374 1359.21,705.223 1442.62,656.577 1517.23,613.062 1584.73,573.697 \n",
       "  1646.35,537.76 1703.03,504.701 1755.51,474.093 1804.37,445.598 1850.07,418.943 1893,393.904 1933.48,370.297 1971.77,347.966 2008.09,326.781 2042.64,306.63 \n",
       "  2075.59,287.417 2107.06,269.058 2137.2,251.48 2166.11,234.62 2193.89,218.421 2220.61,202.834 2246.37,187.813 2271.22,173.32 2295.22,159.318 \n",
       "  \"/>\n",
       "<polygon clip-path=\"url(#clip1100)\" points=\"\n",
       "391.964,386.635 747.964,386.635 747.964,205.195 391.964,205.195 \n",
       "  \" fill=\"#ffffff\" fill-rule=\"evenodd\" fill-opacity=\"1\"/>\n",
       "<polyline clip-path=\"url(#clip1100)\" style=\"stroke:#000000; stroke-width:4; stroke-opacity:1; fill:none\" points=\"\n",
       "  391.964,386.635 747.964,386.635 747.964,205.195 391.964,205.195 391.964,386.635 \n",
       "  \"/>\n",
       "<polyline clip-path=\"url(#clip1100)\" style=\"stroke:#009af9; stroke-width:4; stroke-opacity:1; fill:none\" points=\"\n",
       "  415.964,265.675 559.964,265.675 \n",
       "  \"/>\n",
       "<polygon clip-path=\"url(#clip1100)\" style=\"fill:#000000; fill-opacity:1\" points=\"\n",
       "  499.964,293.675 480.168,285.471 471.964,265.675 480.168,245.879 499.964,237.675 519.76,245.879 527.964,265.675 519.76,285.471 \n",
       "  \"/>\n",
       "<polygon clip-path=\"url(#clip1100)\" style=\"fill:#009af9; fill-opacity:1\" points=\"\n",
       "  499.964,289.675 482.996,282.643 475.964,265.675 482.996,248.707 499.964,241.675 516.932,248.707 523.964,265.675 516.932,282.643 \n",
       "  \"/>\n",
       "<g clip-path=\"url(#clip1100)\">\n",
       "<text style=\"fill:#000000; fill-opacity:1; font-family:Arial,Helvetica Neue,Helvetica,sans-serif; font-size:48px; text-anchor:start;\" transform=\"rotate(0, 583.964, 283.175)\" x=\"583.964\" y=\"283.175\">data</text>\n",
       "</g>\n",
       "<polyline clip-path=\"url(#clip1100)\" style=\"stroke:#e26f46; stroke-width:4; stroke-opacity:1; fill:none\" stroke-dasharray=\"16, 10\" points=\"\n",
       "  415.964,326.155 559.964,326.155 \n",
       "  \"/>\n",
       "<g clip-path=\"url(#clip1100)\">\n",
       "<image width=\"116\" height=\"54\" xlink:href=\"data:image/png;base64,\n",
       "iVBORw0KGgoAAAANSUhEUgAAAHQAAAA2CAYAAAAWCr1AAAAHf0lEQVR4nO1c7ZGbPBBee1KAfCXI\n",
       "HSgpQbkK8JWgdECuBJwKOEogqQC7BJwKMCXI7mDfH3lFFhmMAHFwl9uZnbHHYEn78exqtQCICB/s\n",
       "n4uiQKUUCiGQMYYAgJxzlFJimqY41bhr+CDvtNvt8PHxEYQQkCQJXC6XFSKu0jQFAICnpyfYbDZ4\n",
       "Op3Q++BzW/J7Y6UUcs5Ra93qhUIIBAAEAMzz3Ku3zi6A98ZGUZzzVkVFUVQpVErpVaEfkOuRzudz\n",
       "BaFlWcLlcmmEVM450Ot80odCPdJ2u10ppYAxBkop2Gw2q6brqBKpcr3Q3BD1L3IQBBXkxnHsFXJn\n",
       "X5wvAfkWzFRcFEWlzHtxll4vhMCiKJzWN/sCx7DWGoUQ3hOLKVlKiQCAjLG7mTDlKIqQMeaUEY+e\n",
       "YJqmqJRCKSVyzqvJmk10HMfOE++rTM65k5XPzUVRYJqmaLYrQRD0lolSCgGg01MHTTDPczQDwP+p\n",
       "dxiGmKYp5nmOWZZhFEVI91tKKa+KlVL2svI52HiWqRQZWQ3dewohOve4vf5Qa400oCulOi0my7La\n",
       "grIsG62AMAwRACYtoU3BeZ6jgVzOeW/Fmvh7L8T0sjajFCFEL88w8Ogjs8uybJIN+WsyRbe+sojj\n",
       "GAEAoyhqvM/pT4xVGa8csgia3cGIkpcxDNesb4mstR4lCyODJqfqHNiXZyH+hUrXlN1mY51DjWpJ\n",
       "TPOLIAh6rSdN09b7Wm8qiqIW+3wI0bbMPgaita7ms1TvNFDqEg5oLjLEuI0s7JykVXjUM33GK/q/\n",
       "fRZivHupsdMOKV0JGw1jQojea2qTR+dgvrcGNCHo423GIpea2fbNESj6hWHYe00U7agMWzXvamlD\n",
       "LasP7JrM9k/peX7ltbEpdHTJLM/zmgyGOoxBO2oQdwcaAgVdbBKbPrHZxJulwq1hY3hdRkoTojEO\n",
       "Y5yDMdasUDqQryKAzXQ/65rhmWvb9l5L4izLqpJkFEWYZRkWRYFaa0zTtFYeHStfilwG4qsfTSo8\n",
       "JvPqY1WuCRdFjaF71ziOK0EKIVq9wjR2UaELIQYZUpZlGARBrUmMMVbVt33J0zb26geafQ4N1C5M\n",
       "03UXD6UePVSZxhuKoqiUZStJKYWMMQzDEPM8R6012qW6JdaNzXqMHG+8YKw3dLEN612GQ4+b+o5l\n",
       "MkG6FooQBgqFEHcNa2gB4DXYOIiRzxoAIEkSoMQYg8+fPze2T4yl379/1753tWCYdo0vX770HitJ\n",
       "EpBS1tZCx/v16xdIKUFKCT9//mxdr5Syun5pZNZzvV7hcrngGgDA9Isaenp6mmTww+GAbRNqI6NQ\n",
       "xljv8ZIkAaVU4/8BADw/P8PDwwPs9/u7xkvHnqSXdgQ9PDxUn8uyhPXpdMLr9Vq7yFikb7K9EwDg\n",
       "69evrcKkXXR04i50Pp+xLMubtdA5MMZujLmJqBForXvNY2qyOwjXTW2EQohJBreF12U41ND6eujx\n",
       "eAQhxE3nXZ7n1ecoilo78yhN2qU3kqhcWhW63W69x8/T6YS2h9pwaBP1hr4eWpblTeg4n881NPr2\n",
       "7VvnOi+XS+2eKWQzhmy5fLIVOpUF2okXAMBut7srnDEe2hQXj8dj9dkVhSiqTIVcvkhrDWs7JgxJ\n",
       "PlzIVmgURZOMc4+oQl3zhCH3vCZRfV2vV1jbLtsX2lzo5eWllhkyxuD79++vDl3vUaE2iq2n8khK\n",
       "z8/Pte9N8NtEtvWNITt+3suuDR0Oh+oexpjTPa9Ndp6xtmOm77R8v9/XBCml7IyddIK+5jUkftJC\n",
       "wlR787FkG/rahhGfT0Odz2ek3sk5d9r3GfLpoUOgk841CIJR409F1NA557Debrcr6qXX67W2oR9D\n",
       "j4+Pte9Zljnt+wzRLcJYD6VbJheFdsHt4XDA3W43e9WIGjrn/E8tNwzD2kU+apa73Q6pt2dZNmgP\n",
       "Z4xtDHJcLpfaXFzqwl1wmyTJJAlkX7I99OYYBjychdK+IdeHbLpOW2BE+wk963VdW1e3P0x4IjXm\n",
       "tKX6wT5CG9odQJXp4wyRnocObd+kc3JpeaENX03HdnEcT9KeM4Qbz0MN210LfVok6OGxq+BcmBra\n",
       "0P4bOi+X/6AddU2KY4wtpvvQdsCbC+yHi7o81bRtUAH4boQeayTUSF0Rw8jAbpEJgmAxzWp3e4oo\n",
       "a63Rhk76uGCaphiGIdL4FgTBJE1liH/j6BCYox7eJzcwaMUYw6IoMM/zqkdobkUa7uz6a1JsHMcY\n",
       "BAFyzm/eiKWUepVH4aklDonJ5rnKvklMlmXVM67GqOdWor0uG0Vnn5QrG2N6K+9SmJpp4kaN/M28\n",
       "1sacnS6xr2cOMvVwKWW9WDO3pbly27Mc/yobxLLDyJvx0M1mszJnqD9+/Jh5NvPSy8sLXq9XCILg\n",
       "pjtzhTh7ObIXbbdbLMsStNa96sLvie7J4M14qKE4jgFgucdZU9N+v8eyLNsb3OaOBUP4rb4FZSx7\n",
       "fQvK0ti8p+hfSpC8v6doSUzfJLbEh4h8szlVmeRNYkvht/iuvyEchqEzGr25pIjSZrNZnU6nFWPs\n",
       "prPwvdD5fMbj8Qh5njs1CPwH5lOfyFUfkGkAAAAASUVORK5CYII=\n",
       "\" transform=\"translate(584, 299)\"/>\n",
       "</g>\n",
       "</svg>\n"
      ]
     },
     "execution_count": 71,
     "metadata": {},
     "output_type": "execute_result"
    }
   ],
   "source": [
    "plot!(n,(n/n[end]).^2*t[end],l=:dash,\n",
    "    label=\"\\$O(n^3)\\$\",legend=:topleft)"
   ]
  },
  {
   "cell_type": "markdown",
   "metadata": {},
   "source": [
    "# Example 2.5.5"
   ]
  },
  {
   "cell_type": "markdown",
   "metadata": {},
   "source": [
    "We'll test the conclusion of $O(n^3)$ flops experimentally, using the built-in `lu` function instead of the purely instructive `lufact`."
   ]
  },
  {
   "cell_type": "code",
   "execution_count": 72,
   "metadata": {},
   "outputs": [],
   "source": [
    "n = 200:100:2400\n",
    "t = zeros(size(n))\n",
    "for (i,n) in enumerate(n) \n",
    "    A = randn(n,n)  \n",
    "    t[i] = @elapsed for j = 1:6; lu(A); end\n",
    "end"
   ]
  },
  {
   "cell_type": "markdown",
   "metadata": {},
   "source": [
    "We plot the timings on a log-log graph and compare it to $O(n^3)$. The result could vary significantly from machine to machine. "
   ]
  },
  {
   "cell_type": "code",
   "execution_count": 73,
   "metadata": {},
   "outputs": [
    {
     "data": {
      "image/svg+xml": [
       "<?xml version=\"1.0\" encoding=\"utf-8\"?>\n",
       "<svg xmlns=\"http://www.w3.org/2000/svg\" xmlns:xlink=\"http://www.w3.org/1999/xlink\" width=\"600\" height=\"400\" viewBox=\"0 0 2400 1600\">\n",
       "<defs>\n",
       "  <clipPath id=\"clip1500\">\n",
       "    <rect x=\"0\" y=\"0\" width=\"2400\" height=\"1600\"/>\n",
       "  </clipPath>\n",
       "</defs>\n",
       "<polygon clip-path=\"url(#clip1500)\" points=\"\n",
       "0,1600 2400,1600 2400,0 0,0 \n",
       "  \" fill=\"#ffffff\" fill-rule=\"evenodd\" fill-opacity=\"1\"/>\n",
       "<defs>\n",
       "  <clipPath id=\"clip1501\">\n",
       "    <rect x=\"480\" y=\"0\" width=\"1681\" height=\"1600\"/>\n",
       "  </clipPath>\n",
       "</defs>\n",
       "<polygon clip-path=\"url(#clip1500)\" points=\"\n",
       "279.82,1451.73 2352.76,1451.73 2352.76,47.2441 279.82,47.2441 \n",
       "  \" fill=\"#ffffff\" fill-rule=\"evenodd\" fill-opacity=\"1\"/>\n",
       "<defs>\n",
       "  <clipPath id=\"clip1502\">\n",
       "    <rect x=\"279\" y=\"47\" width=\"2074\" height=\"1405\"/>\n",
       "  </clipPath>\n",
       "</defs>\n",
       "<polyline clip-path=\"url(#clip1502)\" style=\"stroke:#000000; stroke-width:2; stroke-opacity:0.1; fill:none\" points=\"\n",
       "  699.044,1451.73 699.044,47.2441 \n",
       "  \"/>\n",
       "<polyline clip-path=\"url(#clip1502)\" style=\"stroke:#000000; stroke-width:2; stroke-opacity:0.1; fill:none\" points=\"\n",
       "  1152.07,1451.73 1152.07,47.2441 \n",
       "  \"/>\n",
       "<polyline clip-path=\"url(#clip1502)\" style=\"stroke:#000000; stroke-width:2; stroke-opacity:0.1; fill:none\" points=\"\n",
       "  1605.1,1451.73 1605.1,47.2441 \n",
       "  \"/>\n",
       "<polyline clip-path=\"url(#clip1502)\" style=\"stroke:#000000; stroke-width:2; stroke-opacity:0.1; fill:none\" points=\"\n",
       "  2058.13,1451.73 2058.13,47.2441 \n",
       "  \"/>\n",
       "<polyline clip-path=\"url(#clip1502)\" style=\"stroke:#000000; stroke-width:2; stroke-opacity:0.1; fill:none\" points=\"\n",
       "  279.82,1317.74 2352.76,1317.74 \n",
       "  \"/>\n",
       "<polyline clip-path=\"url(#clip1502)\" style=\"stroke:#000000; stroke-width:2; stroke-opacity:0.1; fill:none\" points=\"\n",
       "  279.82,908.484 2352.76,908.484 \n",
       "  \"/>\n",
       "<polyline clip-path=\"url(#clip1502)\" style=\"stroke:#000000; stroke-width:2; stroke-opacity:0.1; fill:none\" points=\"\n",
       "  279.82,499.228 2352.76,499.228 \n",
       "  \"/>\n",
       "<polyline clip-path=\"url(#clip1502)\" style=\"stroke:#000000; stroke-width:2; stroke-opacity:0.1; fill:none\" points=\"\n",
       "  279.82,89.9726 2352.76,89.9726 \n",
       "  \"/>\n",
       "<polyline clip-path=\"url(#clip1500)\" style=\"stroke:#000000; stroke-width:4; stroke-opacity:1; fill:none\" points=\"\n",
       "  279.82,1451.73 2352.76,1451.73 \n",
       "  \"/>\n",
       "<polyline clip-path=\"url(#clip1500)\" style=\"stroke:#000000; stroke-width:4; stroke-opacity:1; fill:none\" points=\"\n",
       "  279.82,1451.73 279.82,47.2441 \n",
       "  \"/>\n",
       "<polyline clip-path=\"url(#clip1500)\" style=\"stroke:#000000; stroke-width:4; stroke-opacity:1; fill:none\" points=\"\n",
       "  699.044,1451.73 699.044,1430.66 \n",
       "  \"/>\n",
       "<polyline clip-path=\"url(#clip1500)\" style=\"stroke:#000000; stroke-width:4; stroke-opacity:1; fill:none\" points=\"\n",
       "  1152.07,1451.73 1152.07,1430.66 \n",
       "  \"/>\n",
       "<polyline clip-path=\"url(#clip1500)\" style=\"stroke:#000000; stroke-width:4; stroke-opacity:1; fill:none\" points=\"\n",
       "  1605.1,1451.73 1605.1,1430.66 \n",
       "  \"/>\n",
       "<polyline clip-path=\"url(#clip1500)\" style=\"stroke:#000000; stroke-width:4; stroke-opacity:1; fill:none\" points=\"\n",
       "  2058.13,1451.73 2058.13,1430.66 \n",
       "  \"/>\n",
       "<polyline clip-path=\"url(#clip1500)\" style=\"stroke:#000000; stroke-width:4; stroke-opacity:1; fill:none\" points=\"\n",
       "  279.82,1317.74 310.914,1317.74 \n",
       "  \"/>\n",
       "<polyline clip-path=\"url(#clip1500)\" style=\"stroke:#000000; stroke-width:4; stroke-opacity:1; fill:none\" points=\"\n",
       "  279.82,908.484 310.914,908.484 \n",
       "  \"/>\n",
       "<polyline clip-path=\"url(#clip1500)\" style=\"stroke:#000000; stroke-width:4; stroke-opacity:1; fill:none\" points=\"\n",
       "  279.82,499.228 310.914,499.228 \n",
       "  \"/>\n",
       "<polyline clip-path=\"url(#clip1500)\" style=\"stroke:#000000; stroke-width:4; stroke-opacity:1; fill:none\" points=\"\n",
       "  279.82,89.9726 310.914,89.9726 \n",
       "  \"/>\n",
       "<g clip-path=\"url(#clip1500)\">\n",
       "<text style=\"fill:#000000; fill-opacity:1; font-family:Arial,Helvetica Neue,Helvetica,sans-serif; font-size:48px; text-anchor:start;\" transform=\"rotate(0, 628.793, 1526.73)\" x=\"628.793\" y=\"1526.73\">10</text>\n",
       "</g>\n",
       "<g clip-path=\"url(#clip1500)\">\n",
       "<text style=\"fill:#000000; fill-opacity:1; font-family:Arial,Helvetica Neue,Helvetica,sans-serif; font-size:38px; text-anchor:start;\" transform=\"rotate(0, 682.318, 1499.32)\" x=\"682.318\" y=\"1499.32\">2.50 </text>\n",
       "</g>\n",
       "<g clip-path=\"url(#clip1500)\">\n",
       "<text style=\"fill:#000000; fill-opacity:1; font-family:Arial,Helvetica Neue,Helvetica,sans-serif; font-size:48px; text-anchor:start;\" transform=\"rotate(0, 1081.82, 1526.73)\" x=\"1081.82\" y=\"1526.73\">10</text>\n",
       "</g>\n",
       "<g clip-path=\"url(#clip1500)\">\n",
       "<text style=\"fill:#000000; fill-opacity:1; font-family:Arial,Helvetica Neue,Helvetica,sans-serif; font-size:38px; text-anchor:start;\" transform=\"rotate(0, 1135.35, 1499.32)\" x=\"1135.35\" y=\"1499.32\">2.75 </text>\n",
       "</g>\n",
       "<g clip-path=\"url(#clip1500)\">\n",
       "<text style=\"fill:#000000; fill-opacity:1; font-family:Arial,Helvetica Neue,Helvetica,sans-serif; font-size:48px; text-anchor:start;\" transform=\"rotate(0, 1534.85, 1526.73)\" x=\"1534.85\" y=\"1526.73\">10</text>\n",
       "</g>\n",
       "<g clip-path=\"url(#clip1500)\">\n",
       "<text style=\"fill:#000000; fill-opacity:1; font-family:Arial,Helvetica Neue,Helvetica,sans-serif; font-size:38px; text-anchor:start;\" transform=\"rotate(0, 1588.38, 1499.32)\" x=\"1588.38\" y=\"1499.32\">3.00 </text>\n",
       "</g>\n",
       "<g clip-path=\"url(#clip1500)\">\n",
       "<text style=\"fill:#000000; fill-opacity:1; font-family:Arial,Helvetica Neue,Helvetica,sans-serif; font-size:48px; text-anchor:start;\" transform=\"rotate(0, 1987.88, 1526.73)\" x=\"1987.88\" y=\"1526.73\">10</text>\n",
       "</g>\n",
       "<g clip-path=\"url(#clip1500)\">\n",
       "<text style=\"fill:#000000; fill-opacity:1; font-family:Arial,Helvetica Neue,Helvetica,sans-serif; font-size:38px; text-anchor:start;\" transform=\"rotate(0, 2041.4, 1499.32)\" x=\"2041.4\" y=\"1499.32\">3.25 </text>\n",
       "</g>\n",
       "<g clip-path=\"url(#clip1500)\">\n",
       "<text style=\"fill:#000000; fill-opacity:1; font-family:Arial,Helvetica Neue,Helvetica,sans-serif; font-size:48px; text-anchor:start;\" transform=\"rotate(0, 146.839, 1341.47)\" x=\"146.839\" y=\"1341.47\">10</text>\n",
       "</g>\n",
       "<g clip-path=\"url(#clip1500)\">\n",
       "<text style=\"fill:#000000; fill-opacity:1; font-family:Arial,Helvetica Neue,Helvetica,sans-serif; font-size:38px; text-anchor:start;\" transform=\"rotate(0, 200.364, 1314.06)\" x=\"200.364\" y=\"1314.06\">-</text>\n",
       "</g>\n",
       "<g clip-path=\"url(#clip1500)\">\n",
       "<text style=\"fill:#000000; fill-opacity:1; font-family:Arial,Helvetica Neue,Helvetica,sans-serif; font-size:38px; text-anchor:start;\" transform=\"rotate(0, 223.203, 1314.06)\" x=\"223.203\" y=\"1314.06\">3 </text>\n",
       "</g>\n",
       "<g clip-path=\"url(#clip1500)\">\n",
       "<text style=\"fill:#000000; fill-opacity:1; font-family:Arial,Helvetica Neue,Helvetica,sans-serif; font-size:48px; text-anchor:start;\" transform=\"rotate(0, 146.839, 932.212)\" x=\"146.839\" y=\"932.212\">10</text>\n",
       "</g>\n",
       "<g clip-path=\"url(#clip1500)\">\n",
       "<text style=\"fill:#000000; fill-opacity:1; font-family:Arial,Helvetica Neue,Helvetica,sans-serif; font-size:38px; text-anchor:start;\" transform=\"rotate(0, 200.364, 904.801)\" x=\"200.364\" y=\"904.801\">-</text>\n",
       "</g>\n",
       "<g clip-path=\"url(#clip1500)\">\n",
       "<text style=\"fill:#000000; fill-opacity:1; font-family:Arial,Helvetica Neue,Helvetica,sans-serif; font-size:38px; text-anchor:start;\" transform=\"rotate(0, 223.203, 904.801)\" x=\"223.203\" y=\"904.801\">2 </text>\n",
       "</g>\n",
       "<g clip-path=\"url(#clip1500)\">\n",
       "<text style=\"fill:#000000; fill-opacity:1; font-family:Arial,Helvetica Neue,Helvetica,sans-serif; font-size:48px; text-anchor:start;\" transform=\"rotate(0, 146.839, 522.956)\" x=\"146.839\" y=\"522.956\">10</text>\n",
       "</g>\n",
       "<g clip-path=\"url(#clip1500)\">\n",
       "<text style=\"fill:#000000; fill-opacity:1; font-family:Arial,Helvetica Neue,Helvetica,sans-serif; font-size:38px; text-anchor:start;\" transform=\"rotate(0, 200.364, 495.546)\" x=\"200.364\" y=\"495.546\">-</text>\n",
       "</g>\n",
       "<g clip-path=\"url(#clip1500)\">\n",
       "<text style=\"fill:#000000; fill-opacity:1; font-family:Arial,Helvetica Neue,Helvetica,sans-serif; font-size:38px; text-anchor:start;\" transform=\"rotate(0, 223.203, 495.546)\" x=\"223.203\" y=\"495.546\">1 </text>\n",
       "</g>\n",
       "<g clip-path=\"url(#clip1500)\">\n",
       "<text style=\"fill:#000000; fill-opacity:1; font-family:Arial,Helvetica Neue,Helvetica,sans-serif; font-size:48px; text-anchor:start;\" transform=\"rotate(0, 169.679, 113.7)\" x=\"169.679\" y=\"113.7\">10</text>\n",
       "</g>\n",
       "<g clip-path=\"url(#clip1500)\">\n",
       "<text style=\"fill:#000000; fill-opacity:1; font-family:Arial,Helvetica Neue,Helvetica,sans-serif; font-size:38px; text-anchor:start;\" transform=\"rotate(0, 223.203, 86.2898)\" x=\"223.203\" y=\"86.2898\">0 </text>\n",
       "</g>\n",
       "<g clip-path=\"url(#clip1500)\">\n",
       "<image width=\"37\" height=\"30\" xlink:href=\"data:image/png;base64,\n",
       "iVBORw0KGgoAAAANSUhEUgAAACUAAAAeCAYAAACrI9dtAAACX0lEQVRYhbVYYdHjIBDd++YTkFYC\n",
       "EtCABDRQB2hAQjRQB0wl0CjIRAKtg3e/yCUECMm1mXnTgS6PZfeRhRAASmGthRACXdeBMQYpJbz3\n",
       "yNkuMY4jjDHzWCICEc0czrldDgC06VBKgYgghIAxBpzzmVwplSUNIUBKOdsJIaCUgjEGUsqVg0II\n",
       "hBCqzq0afd+DiKC1Xg1ijM2kfd+v/nPOgYjQdR2MMdkJQwhYcnDO25wKIRQHxOhFxImttc2rj7YR\n",
       "xpii/SZKubxrrVeE1lrESUopzU624Oi6bt8pznnRMI2UEGL+bXUIAC21tYx41qmYulRLEdGJJRhj\n",
       "uynbc6q0owkAGWOKqcuR1QhLiAtvdipGImcwjuOG7IiOIrz3G55q+mr6iBughayGdPeVggCAfoiI\n",
       "OOektabc83g8Vm3OOV0ulz9Z48qT4yk9v0REz+ezOMkwDKu2EOKoP1mnqjxHxdlav/6H52M6qCGn\n",
       "y5r9z5GQ13RwhGdXAjWPl0WUKi/XPVASpbSoN6fvU3rKSeDQ0eUbekpLVEu9LGrqE3p6vV5IeaSU\n",
       "+wO/qacj1cA5N0fxq3o6krp4ri86dUacLQuz1mY5oq2UsuxUeqhjjH0kdXu28SjTpKczR5Xl7WYZ\n",
       "hRw456uF/+Z2zDRNq74zRfj9fjdx3O93DMNAfd//6/yGnnISKG0UxthGHptIee9XbcbYqfNT+l67\n",
       "Xq8bm9vthmmaNnPubuMzesppM6138dqWq4O7Ij96QVjCez9f2eMNWms935ZLhXnT4ZxDzPNeNW9B\n",
       "CAFa6/mbBGMMSimM41jk/gstvP0rpCiSvwAAAABJRU5ErkJggg==\n",
       "\" transform=\"translate(1298, 1528)\"/>\n",
       "</g>\n",
       "<g clip-path=\"url(#clip1500)\">\n",
       "<text style=\"fill:#000000; fill-opacity:1; font-family:Arial,Helvetica Neue,Helvetica,sans-serif; font-size:66px; text-anchor:middle;\" transform=\"rotate(-90, 89.2861, 749.485)\" x=\"89.2861\" y=\"749.485\">elapsed time</text>\n",
       "</g>\n",
       "<polyline clip-path=\"url(#clip1502)\" style=\"stroke:#009af9; stroke-width:4; stroke-opacity:1; fill:none\" points=\"\n",
       "  338.488,796.59 657.586,911.035 883.989,818.508 1059.6,663.581 1203.09,619.755 1324.4,572.95 1429.49,564.625 1522.18,524.687 1605.1,491.131 1680.11,447.046 \n",
       "  1748.59,421.902 1811.58,385.708 1869.9,318.869 1924.2,264.677 1974.99,297.471 2022.7,227.037 2067.68,246.762 2110.24,183.941 2150.6,197.258 2189,144.219 \n",
       "  2225.61,151.422 2260.59,106.615 2294.09,86.9936 \n",
       "  \"/>\n",
       "<polygon clip-path=\"url(#clip1502)\" style=\"fill:#000000; fill-opacity:1\" points=\"\n",
       "  338.488,816.59 324.348,810.73 318.488,796.59 324.348,782.45 338.488,776.59 352.628,782.45 358.488,796.59 352.628,810.73 \n",
       "  \"/>\n",
       "<polygon clip-path=\"url(#clip1502)\" style=\"fill:#009af9; fill-opacity:1\" points=\"\n",
       "  338.488,812.59 327.176,807.902 322.488,796.59 327.176,785.278 338.488,780.59 349.8,785.278 354.488,796.59 349.8,807.902 \n",
       "  \"/>\n",
       "<polygon clip-path=\"url(#clip1502)\" style=\"fill:#000000; fill-opacity:1\" points=\"\n",
       "  657.586,931.035 643.446,925.175 637.586,911.035 643.446,896.895 657.586,891.035 671.726,896.895 677.586,911.035 671.726,925.175 \n",
       "  \"/>\n",
       "<polygon clip-path=\"url(#clip1502)\" style=\"fill:#009af9; fill-opacity:1\" points=\"\n",
       "  657.586,927.035 646.274,922.347 641.586,911.035 646.274,899.723 657.586,895.035 668.898,899.723 673.586,911.035 668.898,922.347 \n",
       "  \"/>\n",
       "<polygon clip-path=\"url(#clip1502)\" style=\"fill:#000000; fill-opacity:1\" points=\"\n",
       "  883.989,838.508 869.849,832.648 863.989,818.508 869.849,804.368 883.989,798.508 898.129,804.368 903.989,818.508 898.129,832.648 \n",
       "  \"/>\n",
       "<polygon clip-path=\"url(#clip1502)\" style=\"fill:#009af9; fill-opacity:1\" points=\"\n",
       "  883.989,834.508 872.677,829.82 867.989,818.508 872.677,807.196 883.989,802.508 895.301,807.196 899.989,818.508 895.301,829.82 \n",
       "  \"/>\n",
       "<polygon clip-path=\"url(#clip1502)\" style=\"fill:#000000; fill-opacity:1\" points=\"\n",
       "  1059.6,683.581 1045.46,677.721 1039.6,663.581 1045.46,649.441 1059.6,643.581 1073.74,649.441 1079.6,663.581 1073.74,677.721 \n",
       "  \"/>\n",
       "<polygon clip-path=\"url(#clip1502)\" style=\"fill:#009af9; fill-opacity:1\" points=\"\n",
       "  1059.6,679.581 1048.29,674.893 1043.6,663.581 1048.29,652.269 1059.6,647.581 1070.91,652.269 1075.6,663.581 1070.91,674.893 \n",
       "  \"/>\n",
       "<polygon clip-path=\"url(#clip1502)\" style=\"fill:#000000; fill-opacity:1\" points=\"\n",
       "  1203.09,639.755 1188.95,633.895 1183.09,619.755 1188.95,605.615 1203.09,599.755 1217.23,605.615 1223.09,619.755 1217.23,633.895 \n",
       "  \"/>\n",
       "<polygon clip-path=\"url(#clip1502)\" style=\"fill:#009af9; fill-opacity:1\" points=\"\n",
       "  1203.09,635.755 1191.77,631.067 1187.09,619.755 1191.77,608.443 1203.09,603.755 1214.4,608.443 1219.09,619.755 1214.4,631.067 \n",
       "  \"/>\n",
       "<polygon clip-path=\"url(#clip1502)\" style=\"fill:#000000; fill-opacity:1\" points=\"\n",
       "  1324.4,592.95 1310.26,587.09 1304.4,572.95 1310.26,558.81 1324.4,552.95 1338.54,558.81 1344.4,572.95 1338.54,587.09 \n",
       "  \"/>\n",
       "<polygon clip-path=\"url(#clip1502)\" style=\"fill:#009af9; fill-opacity:1\" points=\"\n",
       "  1324.4,588.95 1313.09,584.262 1308.4,572.95 1313.09,561.638 1324.4,556.95 1335.71,561.638 1340.4,572.95 1335.71,584.262 \n",
       "  \"/>\n",
       "<polygon clip-path=\"url(#clip1502)\" style=\"fill:#000000; fill-opacity:1\" points=\"\n",
       "  1429.49,584.625 1415.35,578.765 1409.49,564.625 1415.35,550.485 1429.49,544.625 1443.63,550.485 1449.49,564.625 1443.63,578.765 \n",
       "  \"/>\n",
       "<polygon clip-path=\"url(#clip1502)\" style=\"fill:#009af9; fill-opacity:1\" points=\"\n",
       "  1429.49,580.625 1418.18,575.937 1413.49,564.625 1418.18,553.313 1429.49,548.625 1440.8,553.313 1445.49,564.625 1440.8,575.937 \n",
       "  \"/>\n",
       "<polygon clip-path=\"url(#clip1502)\" style=\"fill:#000000; fill-opacity:1\" points=\"\n",
       "  1522.18,544.687 1508.04,538.827 1502.18,524.687 1508.04,510.547 1522.18,504.687 1536.32,510.547 1542.18,524.687 1536.32,538.827 \n",
       "  \"/>\n",
       "<polygon clip-path=\"url(#clip1502)\" style=\"fill:#009af9; fill-opacity:1\" points=\"\n",
       "  1522.18,540.687 1510.87,535.999 1506.18,524.687 1510.87,513.375 1522.18,508.687 1533.5,513.375 1538.18,524.687 1533.5,535.999 \n",
       "  \"/>\n",
       "<polygon clip-path=\"url(#clip1502)\" style=\"fill:#000000; fill-opacity:1\" points=\"\n",
       "  1605.1,511.131 1590.96,505.271 1585.1,491.131 1590.96,476.991 1605.1,471.131 1619.24,476.991 1625.1,491.131 1619.24,505.271 \n",
       "  \"/>\n",
       "<polygon clip-path=\"url(#clip1502)\" style=\"fill:#009af9; fill-opacity:1\" points=\"\n",
       "  1605.1,507.131 1593.79,502.443 1589.1,491.131 1593.79,479.819 1605.1,475.131 1616.41,479.819 1621.1,491.131 1616.41,502.443 \n",
       "  \"/>\n",
       "<polygon clip-path=\"url(#clip1502)\" style=\"fill:#000000; fill-opacity:1\" points=\"\n",
       "  1680.11,467.046 1665.97,461.186 1660.11,447.046 1665.97,432.906 1680.11,427.046 1694.25,432.906 1700.11,447.046 1694.25,461.186 \n",
       "  \"/>\n",
       "<polygon clip-path=\"url(#clip1502)\" style=\"fill:#009af9; fill-opacity:1\" points=\"\n",
       "  1680.11,463.046 1668.8,458.358 1664.11,447.046 1668.8,435.734 1680.11,431.046 1691.42,435.734 1696.11,447.046 1691.42,458.358 \n",
       "  \"/>\n",
       "<polygon clip-path=\"url(#clip1502)\" style=\"fill:#000000; fill-opacity:1\" points=\"\n",
       "  1748.59,441.902 1734.45,436.042 1728.59,421.902 1734.45,407.762 1748.59,401.902 1762.73,407.762 1768.59,421.902 1762.73,436.042 \n",
       "  \"/>\n",
       "<polygon clip-path=\"url(#clip1502)\" style=\"fill:#009af9; fill-opacity:1\" points=\"\n",
       "  1748.59,437.902 1737.28,433.214 1732.59,421.902 1737.28,410.59 1748.59,405.902 1759.9,410.59 1764.59,421.902 1759.9,433.214 \n",
       "  \"/>\n",
       "<polygon clip-path=\"url(#clip1502)\" style=\"fill:#000000; fill-opacity:1\" points=\"\n",
       "  1811.58,405.708 1797.44,399.848 1791.58,385.708 1797.44,371.568 1811.58,365.708 1825.72,371.568 1831.58,385.708 1825.72,399.848 \n",
       "  \"/>\n",
       "<polygon clip-path=\"url(#clip1502)\" style=\"fill:#009af9; fill-opacity:1\" points=\"\n",
       "  1811.58,401.708 1800.27,397.02 1795.58,385.708 1800.27,374.396 1811.58,369.708 1822.89,374.396 1827.58,385.708 1822.89,397.02 \n",
       "  \"/>\n",
       "<polygon clip-path=\"url(#clip1502)\" style=\"fill:#000000; fill-opacity:1\" points=\"\n",
       "  1869.9,338.869 1855.76,333.009 1849.9,318.869 1855.76,304.729 1869.9,298.869 1884.04,304.729 1889.9,318.869 1884.04,333.009 \n",
       "  \"/>\n",
       "<polygon clip-path=\"url(#clip1502)\" style=\"fill:#009af9; fill-opacity:1\" points=\"\n",
       "  1869.9,334.869 1858.59,330.181 1853.9,318.869 1858.59,307.557 1869.9,302.869 1881.21,307.557 1885.9,318.869 1881.21,330.181 \n",
       "  \"/>\n",
       "<polygon clip-path=\"url(#clip1502)\" style=\"fill:#000000; fill-opacity:1\" points=\"\n",
       "  1924.2,284.677 1910.06,278.817 1904.2,264.677 1910.06,250.537 1924.2,244.677 1938.34,250.537 1944.2,264.677 1938.34,278.817 \n",
       "  \"/>\n",
       "<polygon clip-path=\"url(#clip1502)\" style=\"fill:#009af9; fill-opacity:1\" points=\"\n",
       "  1924.2,280.677 1912.89,275.989 1908.2,264.677 1912.89,253.365 1924.2,248.677 1935.51,253.365 1940.2,264.677 1935.51,275.989 \n",
       "  \"/>\n",
       "<polygon clip-path=\"url(#clip1502)\" style=\"fill:#000000; fill-opacity:1\" points=\"\n",
       "  1974.99,317.471 1960.85,311.611 1954.99,297.471 1960.85,283.331 1974.99,277.471 1989.13,283.331 1994.99,297.471 1989.13,311.611 \n",
       "  \"/>\n",
       "<polygon clip-path=\"url(#clip1502)\" style=\"fill:#009af9; fill-opacity:1\" points=\"\n",
       "  1974.99,313.471 1963.68,308.783 1958.99,297.471 1963.68,286.159 1974.99,281.471 1986.3,286.159 1990.99,297.471 1986.3,308.783 \n",
       "  \"/>\n",
       "<polygon clip-path=\"url(#clip1502)\" style=\"fill:#000000; fill-opacity:1\" points=\"\n",
       "  2022.7,247.037 2008.56,241.177 2002.7,227.037 2008.56,212.897 2022.7,207.037 2036.84,212.897 2042.7,227.037 2036.84,241.177 \n",
       "  \"/>\n",
       "<polygon clip-path=\"url(#clip1502)\" style=\"fill:#009af9; fill-opacity:1\" points=\"\n",
       "  2022.7,243.037 2011.39,238.349 2006.7,227.037 2011.39,215.725 2022.7,211.037 2034.01,215.725 2038.7,227.037 2034.01,238.349 \n",
       "  \"/>\n",
       "<polygon clip-path=\"url(#clip1502)\" style=\"fill:#000000; fill-opacity:1\" points=\"\n",
       "  2067.68,266.762 2053.54,260.902 2047.68,246.762 2053.54,232.622 2067.68,226.762 2081.82,232.622 2087.68,246.762 2081.82,260.902 \n",
       "  \"/>\n",
       "<polygon clip-path=\"url(#clip1502)\" style=\"fill:#009af9; fill-opacity:1\" points=\"\n",
       "  2067.68,262.762 2056.37,258.074 2051.68,246.762 2056.37,235.45 2067.68,230.762 2079,235.45 2083.68,246.762 2079,258.074 \n",
       "  \"/>\n",
       "<polygon clip-path=\"url(#clip1502)\" style=\"fill:#000000; fill-opacity:1\" points=\"\n",
       "  2110.24,203.941 2096.1,198.081 2090.24,183.941 2096.1,169.801 2110.24,163.941 2124.38,169.801 2130.24,183.941 2124.38,198.081 \n",
       "  \"/>\n",
       "<polygon clip-path=\"url(#clip1502)\" style=\"fill:#009af9; fill-opacity:1\" points=\"\n",
       "  2110.24,199.941 2098.92,195.253 2094.24,183.941 2098.92,172.629 2110.24,167.941 2121.55,172.629 2126.24,183.941 2121.55,195.253 \n",
       "  \"/>\n",
       "<polygon clip-path=\"url(#clip1502)\" style=\"fill:#000000; fill-opacity:1\" points=\"\n",
       "  2150.6,217.258 2136.46,211.398 2130.6,197.258 2136.46,183.118 2150.6,177.258 2164.74,183.118 2170.6,197.258 2164.74,211.398 \n",
       "  \"/>\n",
       "<polygon clip-path=\"url(#clip1502)\" style=\"fill:#009af9; fill-opacity:1\" points=\"\n",
       "  2150.6,213.258 2139.29,208.57 2134.6,197.258 2139.29,185.946 2150.6,181.258 2161.91,185.946 2166.6,197.258 2161.91,208.57 \n",
       "  \"/>\n",
       "<polygon clip-path=\"url(#clip1502)\" style=\"fill:#000000; fill-opacity:1\" points=\"\n",
       "  2189,164.219 2174.86,158.359 2169,144.219 2174.86,130.079 2189,124.219 2203.14,130.079 2209,144.219 2203.14,158.359 \n",
       "  \"/>\n",
       "<polygon clip-path=\"url(#clip1502)\" style=\"fill:#009af9; fill-opacity:1\" points=\"\n",
       "  2189,160.219 2177.69,155.531 2173,144.219 2177.69,132.907 2189,128.219 2200.31,132.907 2205,144.219 2200.31,155.531 \n",
       "  \"/>\n",
       "<polygon clip-path=\"url(#clip1502)\" style=\"fill:#000000; fill-opacity:1\" points=\"\n",
       "  2225.61,171.422 2211.47,165.562 2205.61,151.422 2211.47,137.282 2225.61,131.422 2239.75,137.282 2245.61,151.422 2239.75,165.562 \n",
       "  \"/>\n",
       "<polygon clip-path=\"url(#clip1502)\" style=\"fill:#009af9; fill-opacity:1\" points=\"\n",
       "  2225.61,167.422 2214.3,162.734 2209.61,151.422 2214.3,140.11 2225.61,135.422 2236.92,140.11 2241.61,151.422 2236.92,162.734 \n",
       "  \"/>\n",
       "<polygon clip-path=\"url(#clip1502)\" style=\"fill:#000000; fill-opacity:1\" points=\"\n",
       "  2260.59,126.615 2246.45,120.755 2240.59,106.615 2246.45,92.475 2260.59,86.615 2274.73,92.475 2280.59,106.615 2274.73,120.755 \n",
       "  \"/>\n",
       "<polygon clip-path=\"url(#clip1502)\" style=\"fill:#009af9; fill-opacity:1\" points=\"\n",
       "  2260.59,122.615 2249.28,117.927 2244.59,106.615 2249.28,95.303 2260.59,90.615 2271.91,95.303 2276.59,106.615 2271.91,117.927 \n",
       "  \"/>\n",
       "<polygon clip-path=\"url(#clip1502)\" style=\"fill:#000000; fill-opacity:1\" points=\"\n",
       "  2294.09,106.994 2279.95,101.134 2274.09,86.9936 2279.95,72.8536 2294.09,66.9936 2308.23,72.8536 2314.09,86.9936 2308.23,101.134 \n",
       "  \"/>\n",
       "<polygon clip-path=\"url(#clip1502)\" style=\"fill:#009af9; fill-opacity:1\" points=\"\n",
       "  2294.09,102.994 2282.78,98.3056 2278.09,86.9936 2282.78,75.6816 2294.09,70.9936 2305.4,75.6816 2310.09,86.9936 2305.4,98.3056 \n",
       "  \"/>\n",
       "<polyline clip-path=\"url(#clip1502)\" style=\"stroke:#e26f46; stroke-width:4; stroke-opacity:1; fill:none\" stroke-dasharray=\"16, 10\" points=\"\n",
       "  338.488,1411.98 657.586,1195.78 883.989,1042.38 1059.6,923.399 1203.09,826.183 1324.4,743.988 1429.49,672.788 1522.18,609.984 1605.1,553.805 1680.11,502.984 \n",
       "  1748.59,456.588 1811.58,413.909 1869.9,374.393 1924.2,337.605 1974.99,303.193 2022.7,270.867 2067.68,240.389 2110.24,211.56 2150.6,184.21 2189,158.194 \n",
       "  2225.61,133.389 2260.59,109.687 2294.09,86.9936 \n",
       "  \"/>\n",
       "<polygon clip-path=\"url(#clip1500)\" points=\"\n",
       "1924.76,312.204 2280.76,312.204 2280.76,130.764 1924.76,130.764 \n",
       "  \" fill=\"#ffffff\" fill-rule=\"evenodd\" fill-opacity=\"1\"/>\n",
       "<polyline clip-path=\"url(#clip1500)\" style=\"stroke:#000000; stroke-width:4; stroke-opacity:1; fill:none\" points=\"\n",
       "  1924.76,312.204 2280.76,312.204 2280.76,130.764 1924.76,130.764 1924.76,312.204 \n",
       "  \"/>\n",
       "<polyline clip-path=\"url(#clip1500)\" style=\"stroke:#009af9; stroke-width:4; stroke-opacity:1; fill:none\" points=\"\n",
       "  1948.76,191.244 2092.76,191.244 \n",
       "  \"/>\n",
       "<polygon clip-path=\"url(#clip1500)\" style=\"fill:#000000; fill-opacity:1\" points=\"\n",
       "  2032.76,219.244 2012.96,211.04 2004.76,191.244 2012.96,171.448 2032.76,163.244 2052.55,171.448 2060.76,191.244 2052.55,211.04 \n",
       "  \"/>\n",
       "<polygon clip-path=\"url(#clip1500)\" style=\"fill:#009af9; fill-opacity:1\" points=\"\n",
       "  2032.76,215.244 2015.79,208.212 2008.76,191.244 2015.79,174.276 2032.76,167.244 2049.72,174.276 2056.76,191.244 2049.72,208.212 \n",
       "  \"/>\n",
       "<g clip-path=\"url(#clip1500)\">\n",
       "<text style=\"fill:#000000; fill-opacity:1; font-family:Arial,Helvetica Neue,Helvetica,sans-serif; font-size:48px; text-anchor:start;\" transform=\"rotate(0, 2116.76, 208.744)\" x=\"2116.76\" y=\"208.744\">data</text>\n",
       "</g>\n",
       "<polyline clip-path=\"url(#clip1500)\" style=\"stroke:#e26f46; stroke-width:4; stroke-opacity:1; fill:none\" stroke-dasharray=\"16, 10\" points=\"\n",
       "  1948.76,251.724 2092.76,251.724 \n",
       "  \"/>\n",
       "<g clip-path=\"url(#clip1500)\">\n",
       "<image width=\"116\" height=\"54\" xlink:href=\"data:image/png;base64,\n",
       "iVBORw0KGgoAAAANSUhEUgAAAHQAAAA2CAYAAAAWCr1AAAAHf0lEQVR4nO1c7ZGbPBBee1KAfCXI\n",
       "HSgpQbkK8JWgdECuBJwKOEogqQC7BJwKMCXI7mDfH3lFFhmMAHFwl9uZnbHHYEn78exqtQCICB/s\n",
       "n4uiQKUUCiGQMYYAgJxzlFJimqY41bhr+CDvtNvt8PHxEYQQkCQJXC6XFSKu0jQFAICnpyfYbDZ4\n",
       "Op3Q++BzW/J7Y6UUcs5Ra93qhUIIBAAEAMzz3Ku3zi6A98ZGUZzzVkVFUVQpVErpVaEfkOuRzudz\n",
       "BaFlWcLlcmmEVM450Ot80odCPdJ2u10ppYAxBkop2Gw2q6brqBKpcr3Q3BD1L3IQBBXkxnHsFXJn\n",
       "X5wvAfkWzFRcFEWlzHtxll4vhMCiKJzWN/sCx7DWGoUQ3hOLKVlKiQCAjLG7mTDlKIqQMeaUEY+e\n",
       "YJqmqJRCKSVyzqvJmk10HMfOE++rTM65k5XPzUVRYJqmaLYrQRD0lolSCgGg01MHTTDPczQDwP+p\n",
       "dxiGmKYp5nmOWZZhFEVI91tKKa+KlVL2svI52HiWqRQZWQ3dewohOve4vf5Qa400oCulOi0my7La\n",
       "grIsG62AMAwRACYtoU3BeZ6jgVzOeW/Fmvh7L8T0sjajFCFEL88w8Ogjs8uybJIN+WsyRbe+sojj\n",
       "GAEAoyhqvM/pT4xVGa8csgia3cGIkpcxDNesb4mstR4lCyODJqfqHNiXZyH+hUrXlN1mY51DjWpJ\n",
       "TPOLIAh6rSdN09b7Wm8qiqIW+3wI0bbMPgaita7ms1TvNFDqEg5oLjLEuI0s7JykVXjUM33GK/q/\n",
       "fRZivHupsdMOKV0JGw1jQojea2qTR+dgvrcGNCHo423GIpea2fbNESj6hWHYe00U7agMWzXvamlD\n",
       "LasP7JrM9k/peX7ltbEpdHTJLM/zmgyGOoxBO2oQdwcaAgVdbBKbPrHZxJulwq1hY3hdRkoTojEO\n",
       "Y5yDMdasUDqQryKAzXQ/65rhmWvb9l5L4izLqpJkFEWYZRkWRYFaa0zTtFYeHStfilwG4qsfTSo8\n",
       "JvPqY1WuCRdFjaF71ziOK0EKIVq9wjR2UaELIQYZUpZlGARBrUmMMVbVt33J0zb26geafQ4N1C5M\n",
       "03UXD6UePVSZxhuKoqiUZStJKYWMMQzDEPM8R6012qW6JdaNzXqMHG+8YKw3dLEN612GQ4+b+o5l\n",
       "MkG6FooQBgqFEHcNa2gB4DXYOIiRzxoAIEkSoMQYg8+fPze2T4yl379/1753tWCYdo0vX770HitJ\n",
       "EpBS1tZCx/v16xdIKUFKCT9//mxdr5Syun5pZNZzvV7hcrngGgDA9Isaenp6mmTww+GAbRNqI6NQ\n",
       "xljv8ZIkAaVU4/8BADw/P8PDwwPs9/u7xkvHnqSXdgQ9PDxUn8uyhPXpdMLr9Vq7yFikb7K9EwDg\n",
       "69evrcKkXXR04i50Pp+xLMubtdA5MMZujLmJqBForXvNY2qyOwjXTW2EQohJBreF12U41ND6eujx\n",
       "eAQhxE3nXZ7n1ecoilo78yhN2qU3kqhcWhW63W69x8/T6YS2h9pwaBP1hr4eWpblTeg4n881NPr2\n",
       "7VvnOi+XS+2eKWQzhmy5fLIVOpUF2okXAMBut7srnDEe2hQXj8dj9dkVhSiqTIVcvkhrDWs7JgxJ\n",
       "PlzIVmgURZOMc4+oQl3zhCH3vCZRfV2vV1jbLtsX2lzo5eWllhkyxuD79++vDl3vUaE2iq2n8khK\n",
       "z8/Pte9N8NtEtvWNITt+3suuDR0Oh+oexpjTPa9Ndp6xtmOm77R8v9/XBCml7IyddIK+5jUkftJC\n",
       "wlR787FkG/rahhGfT0Odz2ek3sk5d9r3GfLpoUOgk841CIJR409F1NA557Debrcr6qXX67W2oR9D\n",
       "j4+Pte9Zljnt+wzRLcJYD6VbJheFdsHt4XDA3W43e9WIGjrn/E8tNwzD2kU+apa73Q6pt2dZNmgP\n",
       "Z4xtDHJcLpfaXFzqwl1wmyTJJAlkX7I99OYYBjychdK+IdeHbLpOW2BE+wk963VdW1e3P0x4IjXm\n",
       "tKX6wT5CG9odQJXp4wyRnocObd+kc3JpeaENX03HdnEcT9KeM4Qbz0MN210LfVok6OGxq+BcmBra\n",
       "0P4bOi+X/6AddU2KY4wtpvvQdsCbC+yHi7o81bRtUAH4boQeayTUSF0Rw8jAbpEJgmAxzWp3e4oo\n",
       "a63Rhk76uGCaphiGIdL4FgTBJE1liH/j6BCYox7eJzcwaMUYw6IoMM/zqkdobkUa7uz6a1JsHMcY\n",
       "BAFyzm/eiKWUepVH4aklDonJ5rnKvklMlmXVM67GqOdWor0uG0Vnn5QrG2N6K+9SmJpp4kaN/M28\n",
       "1sacnS6xr2cOMvVwKWW9WDO3pbly27Mc/yobxLLDyJvx0M1mszJnqD9+/Jh5NvPSy8sLXq9XCILg\n",
       "pjtzhTh7ObIXbbdbLMsStNa96sLvie7J4M14qKE4jgFgucdZU9N+v8eyLNsb3OaOBUP4rb4FZSx7\n",
       "fQvK0ti8p+hfSpC8v6doSUzfJLbEh4h8szlVmeRNYkvht/iuvyEchqEzGr25pIjSZrNZnU6nFWPs\n",
       "prPwvdD5fMbj8Qh5njs1CPwH5lOfyFUfkGkAAAAASUVORK5CYII=\n",
       "\" transform=\"translate(2117, 225)\"/>\n",
       "</g>\n",
       "</svg>\n"
      ]
     },
     "execution_count": 73,
     "metadata": {},
     "output_type": "execute_result"
    }
   ],
   "source": [
    "plot(n,t,m=:o,\n",
    "    xaxis=(:log10,\"\\$n\\$\"),yaxis=(:log10,\"elapsed time\"),label=\"data\")\n",
    "plot!(n,(n/n[end]).^3*t[end],l=:dash,\n",
    "    label=\"\\$O(n^3)\\$\")"
   ]
  },
  {
   "cell_type": "markdown",
   "metadata": {},
   "source": [
    "# Example 2.6.1"
   ]
  },
  {
   "cell_type": "markdown",
   "metadata": {},
   "source": [
    "Here is the previously solved system."
   ]
  },
  {
   "cell_type": "code",
   "execution_count": 74,
   "metadata": {},
   "outputs": [],
   "source": [
    "A = [2 0 4 3; -4 5 -7 -10; 1 15 2 -4.5; -2 0 2 -13];\n",
    "b = [4,9,29,40];"
   ]
  },
  {
   "cell_type": "markdown",
   "metadata": {},
   "source": [
    "It has a perfectly good solution, obtainable through LU factorization."
   ]
  },
  {
   "cell_type": "code",
   "execution_count": 75,
   "metadata": {},
   "outputs": [
    {
     "data": {
      "text/plain": [
       "4-element Array{Float64,1}:\n",
       " -3.0\n",
       "  1.0\n",
       "  4.0\n",
       " -2.0"
      ]
     },
     "execution_count": 75,
     "metadata": {},
     "output_type": "execute_result"
    }
   ],
   "source": [
    "L,U = FNC.lufact(A)\n",
    "x = FNC.backsub( U, FNC.forwardsub(L,b) )"
   ]
  },
  {
   "cell_type": "markdown",
   "metadata": {},
   "source": [
    "If we swap the second and fourth equations, nothing essential is changed, and Julia still finds the solution."
   ]
  },
  {
   "cell_type": "code",
   "execution_count": 76,
   "metadata": {},
   "outputs": [
    {
     "data": {
      "text/plain": [
       "4-element Array{Float64,1}:\n",
       " -3.0000000000000138\n",
       "  1.000000000000001 \n",
       "  4.000000000000004 \n",
       " -1.9999999999999973"
      ]
     },
     "execution_count": 76,
     "metadata": {},
     "output_type": "execute_result"
    }
   ],
   "source": [
    "A[[2,4],:] = A[[4,2],:]  \n",
    "b[[2,4]] = b[[4,2]]\n",
    "x = A\\b"
   ]
  },
  {
   "cell_type": "markdown",
   "metadata": {},
   "source": [
    "However, LU factorization fails."
   ]
  },
  {
   "cell_type": "code",
   "execution_count": 77,
   "metadata": {},
   "outputs": [
    {
     "data": {
      "text/plain": [
       "4×4 Array{Float64,2}:\n",
       "  1.0    0.0    0.0  0.0\n",
       " -1.0    1.0    0.0  0.0\n",
       "  0.5  Inf      1.0  0.0\n",
       " -2.0  Inf    NaN    1.0"
      ]
     },
     "execution_count": 77,
     "metadata": {},
     "output_type": "execute_result"
    }
   ],
   "source": [
    "L,U = FNC.lufact(A)\n",
    "L"
   ]
  },
  {
   "cell_type": "markdown",
   "metadata": {},
   "source": [
    "# Example 2.6.2"
   ]
  },
  {
   "cell_type": "markdown",
   "metadata": {},
   "source": [
    "Here is the system that \"broke\" LU factorization for us."
   ]
  },
  {
   "cell_type": "code",
   "execution_count": 78,
   "metadata": {},
   "outputs": [],
   "source": [
    "A = [2 0 4 3; -4 5 -7 -10; 1 15 2 -4.5; -2 0 2 -13];\n",
    "b = [4,9,29,40];"
   ]
  },
  {
   "cell_type": "markdown",
   "metadata": {},
   "source": [
    "When we use the `lu` function (from `LinearAlgebra`) with three outputs, we get the elements of the PLU factorization."
   ]
  },
  {
   "cell_type": "code",
   "execution_count": 79,
   "metadata": {},
   "outputs": [
    {
     "data": {
      "text/plain": [
       "4×4 Array{Float64,2}:\n",
       "  1.0    0.0       0.0        0.0\n",
       " -0.25   1.0       0.0        0.0\n",
       "  0.5   -0.153846  1.0        0.0\n",
       " -0.5    0.153846  0.0833333  1.0"
      ]
     },
     "execution_count": 79,
     "metadata": {},
     "output_type": "execute_result"
    }
   ],
   "source": [
    "L,U,p = lu(A);\n",
    "L"
   ]
  },
  {
   "cell_type": "code",
   "execution_count": 80,
   "metadata": {},
   "outputs": [
    {
     "data": {
      "text/plain": [
       "4×4 Array{Float64,2}:\n",
       " -4.0   5.0   -7.0      -10.0     \n",
       "  0.0  16.25   0.25      -7.0     \n",
       "  0.0   0.0    5.53846   -9.07692 \n",
       "  0.0   0.0    0.0       -0.166667"
      ]
     },
     "execution_count": 80,
     "metadata": {},
     "output_type": "execute_result"
    }
   ],
   "source": [
    "U"
   ]
  },
  {
   "cell_type": "code",
   "execution_count": 81,
   "metadata": {},
   "outputs": [
    {
     "data": {
      "text/plain": [
       "4-element Array{Int64,1}:\n",
       " 2\n",
       " 3\n",
       " 4\n",
       " 1"
      ]
     },
     "execution_count": 81,
     "metadata": {},
     "output_type": "execute_result"
    }
   ],
   "source": [
    "p"
   ]
  },
  {
   "cell_type": "markdown",
   "metadata": {},
   "source": [
    "As you see above, the `p` return is a vector permutation of `1:n`, rather than the permutation matrix `P`. We can recover the latter as follows:"
   ]
  },
  {
   "cell_type": "code",
   "execution_count": 82,
   "metadata": {},
   "outputs": [
    {
     "data": {
      "text/plain": [
       "4×4 Array{Float64,2}:\n",
       " 0.0  1.0  0.0  0.0\n",
       " 0.0  0.0  1.0  0.0\n",
       " 0.0  0.0  0.0  1.0\n",
       " 1.0  0.0  0.0  0.0"
      ]
     },
     "execution_count": 82,
     "metadata": {},
     "output_type": "execute_result"
    }
   ],
   "source": [
    "I = diagm(0=>ones(4))\n",
    "P = I[p,:]"
   ]
  },
  {
   "cell_type": "markdown",
   "metadata": {},
   "source": [
    "However, this is rarely necessary in practice (and the vector requires a lot less storage). We can the linear system, for example, using only `p`."
   ]
  },
  {
   "cell_type": "code",
   "execution_count": 83,
   "metadata": {},
   "outputs": [
    {
     "data": {
      "text/plain": [
       "4-element Array{Float64,1}:\n",
       " -3.000000000000014 \n",
       "  1.0000000000000009\n",
       "  4.000000000000004 \n",
       " -1.9999999999999973"
      ]
     },
     "execution_count": 83,
     "metadata": {},
     "output_type": "execute_result"
    }
   ],
   "source": [
    "x = FNC.backsub( U, FNC.forwardsub(L,b[p,:]) )"
   ]
  },
  {
   "cell_type": "markdown",
   "metadata": {},
   "source": [
    "If you call `lu` with just one output, it is a \"factorization object\". You can access the individual parts of it using a dot syntax. "
   ]
  },
  {
   "cell_type": "code",
   "execution_count": 84,
   "metadata": {},
   "outputs": [
    {
     "data": {
      "text/plain": [
       "4×4 Array{Float64,2}:\n",
       "  1.0    0.0       0.0        0.0\n",
       " -0.25   1.0       0.0        0.0\n",
       "  0.5   -0.153846  1.0        0.0\n",
       " -0.5    0.153846  0.0833333  1.0"
      ]
     },
     "execution_count": 84,
     "metadata": {},
     "output_type": "execute_result"
    }
   ],
   "source": [
    "fact = lu(A)\n",
    "fact.L"
   ]
  },
  {
   "cell_type": "markdown",
   "metadata": {},
   "source": [
    "The factorization object can be used efficiently to solve linear systems by the backslash. "
   ]
  },
  {
   "cell_type": "code",
   "execution_count": 85,
   "metadata": {},
   "outputs": [
    {
     "data": {
      "text/plain": [
       "4-element Array{Float64,1}:\n",
       " -3.0000000000000138\n",
       "  1.000000000000001 \n",
       "  4.000000000000004 \n",
       " -1.9999999999999973"
      ]
     },
     "execution_count": 85,
     "metadata": {},
     "output_type": "execute_result"
    }
   ],
   "source": [
    "x = fact\\b"
   ]
  },
  {
   "cell_type": "markdown",
   "metadata": {},
   "source": [
    "The idea here is that if you have to solve many different linear systems for the same matrix, you can perform the computationally expensive factorization just once, and repeat only the much faster triangular solves for the different right-hand sides. "
   ]
  },
  {
   "cell_type": "markdown",
   "metadata": {},
   "source": [
    "# Example 2.7.1"
   ]
  },
  {
   "cell_type": "markdown",
   "metadata": {},
   "source": [
    "In Julia the standard `LinearAlgebra` package has a `norm` command for vector norms."
   ]
  },
  {
   "cell_type": "code",
   "execution_count": 86,
   "metadata": {},
   "outputs": [
    {
     "data": {
      "text/plain": [
       "3.872983346207417"
      ]
     },
     "execution_count": 86,
     "metadata": {},
     "output_type": "execute_result"
    }
   ],
   "source": [
    "x = [2,-3,1,-1]\n",
    "twonorm = norm(x)         # or norm(x,2)"
   ]
  },
  {
   "cell_type": "code",
   "execution_count": 87,
   "metadata": {},
   "outputs": [
    {
     "data": {
      "text/plain": [
       "3.0"
      ]
     },
     "execution_count": 87,
     "metadata": {},
     "output_type": "execute_result"
    }
   ],
   "source": [
    "infnorm = norm(x,Inf)"
   ]
  },
  {
   "cell_type": "code",
   "execution_count": 88,
   "metadata": {},
   "outputs": [
    {
     "data": {
      "text/plain": [
       "7.0"
      ]
     },
     "execution_count": 88,
     "metadata": {},
     "output_type": "execute_result"
    }
   ],
   "source": [
    "onenorm = norm(x,1)"
   ]
  },
  {
   "cell_type": "markdown",
   "metadata": {},
   "source": [
    "# Example 2.7.2"
   ]
  },
  {
   "cell_type": "code",
   "execution_count": 89,
   "metadata": {},
   "outputs": [
    {
     "data": {
      "text/plain": [
       "2×2 Array{Int64,2}:\n",
       " 2   0\n",
       " 1  -1"
      ]
     },
     "execution_count": 89,
     "metadata": {},
     "output_type": "execute_result"
    }
   ],
   "source": [
    "A = [ 2  0; 1  -1 ]"
   ]
  },
  {
   "cell_type": "markdown",
   "metadata": {},
   "source": [
    "In Julia one uses `norm` for vector norms and `opnorm` for induced matrix norms. The default matrix norm is the 2-norm."
   ]
  },
  {
   "cell_type": "code",
   "execution_count": 90,
   "metadata": {},
   "outputs": [
    {
     "data": {
      "text/plain": [
       "2.2882456112707374"
      ]
     },
     "execution_count": 90,
     "metadata": {},
     "output_type": "execute_result"
    }
   ],
   "source": [
    "twonorm = opnorm(A)"
   ]
  },
  {
   "cell_type": "markdown",
   "metadata": {},
   "source": [
    "(A potential snag is that `norm` does work on a matrix but treats it like a vector of stacked columns, giving a different result.)"
   ]
  },
  {
   "cell_type": "markdown",
   "metadata": {},
   "source": [
    "You can get the 1-norm as well."
   ]
  },
  {
   "cell_type": "code",
   "execution_count": 91,
   "metadata": {},
   "outputs": [
    {
     "data": {
      "text/plain": [
       "3.0"
      ]
     },
     "execution_count": 91,
     "metadata": {},
     "output_type": "execute_result"
    }
   ],
   "source": [
    "onenorm = opnorm(A,1)"
   ]
  },
  {
   "cell_type": "markdown",
   "metadata": {},
   "source": [
    "The 1-norm is equivalent to "
   ]
  },
  {
   "cell_type": "code",
   "execution_count": 92,
   "metadata": {},
   "outputs": [
    {
     "data": {
      "text/plain": [
       "3"
      ]
     },
     "execution_count": 92,
     "metadata": {},
     "output_type": "execute_result"
    }
   ],
   "source": [
    "maximum( sum(abs.(A),dims=1) )   # sum down the rows (1st matrix dimension)"
   ]
  },
  {
   "cell_type": "markdown",
   "metadata": {},
   "source": [
    "Similarly, we can get the $\\infty$-norm and check our formula for it."
   ]
  },
  {
   "cell_type": "code",
   "execution_count": 93,
   "metadata": {},
   "outputs": [
    {
     "data": {
      "text/plain": [
       "2.0"
      ]
     },
     "execution_count": 93,
     "metadata": {},
     "output_type": "execute_result"
    }
   ],
   "source": [
    "infnorm = opnorm(A,Inf)"
   ]
  },
  {
   "cell_type": "code",
   "execution_count": 94,
   "metadata": {},
   "outputs": [
    {
     "data": {
      "text/plain": [
       "2"
      ]
     },
     "execution_count": 94,
     "metadata": {},
     "output_type": "execute_result"
    }
   ],
   "source": [
    "maximum( sum(abs.(A),dims=2) )   # sum across columns (2nd matrix dimension)"
   ]
  },
  {
   "cell_type": "markdown",
   "metadata": {},
   "source": [
    "Here we illustrate the geometric interpretation of the 2-norm. First, we will sample a lot of vectors on the unit circle in $\\mathbb{R}^2$. "
   ]
  },
  {
   "cell_type": "code",
   "execution_count": 95,
   "metadata": {},
   "outputs": [
    {
     "data": {
      "image/svg+xml": [
       "<?xml version=\"1.0\" encoding=\"utf-8\"?>\n",
       "<svg xmlns=\"http://www.w3.org/2000/svg\" xmlns:xlink=\"http://www.w3.org/1999/xlink\" width=\"600\" height=\"400\" viewBox=\"0 0 2400 1600\">\n",
       "<defs>\n",
       "  <clipPath id=\"clip1900\">\n",
       "    <rect x=\"0\" y=\"0\" width=\"2400\" height=\"1600\"/>\n",
       "  </clipPath>\n",
       "</defs>\n",
       "<polygon clip-path=\"url(#clip1900)\" points=\"\n",
       "0,1600 2400,1600 2400,0 0,0 \n",
       "  \" fill=\"#ffffff\" fill-rule=\"evenodd\" fill-opacity=\"1\"/>\n",
       "<defs>\n",
       "  <clipPath id=\"clip1901\">\n",
       "    <rect x=\"480\" y=\"0\" width=\"1681\" height=\"1600\"/>\n",
       "  </clipPath>\n",
       "</defs>\n",
       "<polygon clip-path=\"url(#clip1900)\" points=\"\n",
       "223.756,1265.67 1187.68,1265.67 1187.68,301.736 223.756,301.736 \n",
       "  \" fill=\"#ffffff\" fill-rule=\"evenodd\" fill-opacity=\"1\"/>\n",
       "<defs>\n",
       "  <clipPath id=\"clip1902\">\n",
       "    <rect x=\"223\" y=\"301\" width=\"965\" height=\"965\"/>\n",
       "  </clipPath>\n",
       "</defs>\n",
       "<polyline clip-path=\"url(#clip1902)\" style=\"stroke:#000000; stroke-width:2; stroke-opacity:0.1; fill:none\" points=\"\n",
       "  251.037,1265.67 251.037,301.736 \n",
       "  \"/>\n",
       "<polyline clip-path=\"url(#clip1902)\" style=\"stroke:#000000; stroke-width:2; stroke-opacity:0.1; fill:none\" points=\"\n",
       "  478.379,1265.67 478.379,301.736 \n",
       "  \"/>\n",
       "<polyline clip-path=\"url(#clip1902)\" style=\"stroke:#000000; stroke-width:2; stroke-opacity:0.1; fill:none\" points=\"\n",
       "  705.721,1265.67 705.721,301.736 \n",
       "  \"/>\n",
       "<polyline clip-path=\"url(#clip1902)\" style=\"stroke:#000000; stroke-width:2; stroke-opacity:0.1; fill:none\" points=\"\n",
       "  933.062,1265.67 933.062,301.736 \n",
       "  \"/>\n",
       "<polyline clip-path=\"url(#clip1902)\" style=\"stroke:#000000; stroke-width:2; stroke-opacity:0.1; fill:none\" points=\"\n",
       "  1160.4,1265.67 1160.4,301.736 \n",
       "  \"/>\n",
       "<polyline clip-path=\"url(#clip1902)\" style=\"stroke:#000000; stroke-width:2; stroke-opacity:0.1; fill:none\" points=\"\n",
       "  223.756,1238.38 1187.68,1238.38 \n",
       "  \"/>\n",
       "<polyline clip-path=\"url(#clip1902)\" style=\"stroke:#000000; stroke-width:2; stroke-opacity:0.1; fill:none\" points=\"\n",
       "  223.756,1011.04 1187.68,1011.04 \n",
       "  \"/>\n",
       "<polyline clip-path=\"url(#clip1902)\" style=\"stroke:#000000; stroke-width:2; stroke-opacity:0.1; fill:none\" points=\"\n",
       "  223.756,783.701 1187.68,783.701 \n",
       "  \"/>\n",
       "<polyline clip-path=\"url(#clip1902)\" style=\"stroke:#000000; stroke-width:2; stroke-opacity:0.1; fill:none\" points=\"\n",
       "  223.756,556.359 1187.68,556.359 \n",
       "  \"/>\n",
       "<polyline clip-path=\"url(#clip1902)\" style=\"stroke:#000000; stroke-width:2; stroke-opacity:0.1; fill:none\" points=\"\n",
       "  223.756,329.017 1187.68,329.017 \n",
       "  \"/>\n",
       "<polyline clip-path=\"url(#clip1900)\" style=\"stroke:#000000; stroke-width:4; stroke-opacity:1; fill:none\" points=\"\n",
       "  223.756,1265.67 1187.68,1265.67 \n",
       "  \"/>\n",
       "<polyline clip-path=\"url(#clip1900)\" style=\"stroke:#000000; stroke-width:4; stroke-opacity:1; fill:none\" points=\"\n",
       "  223.756,1265.67 223.756,301.736 \n",
       "  \"/>\n",
       "<polyline clip-path=\"url(#clip1900)\" style=\"stroke:#000000; stroke-width:4; stroke-opacity:1; fill:none\" points=\"\n",
       "  251.037,1265.67 251.037,1251.21 \n",
       "  \"/>\n",
       "<polyline clip-path=\"url(#clip1900)\" style=\"stroke:#000000; stroke-width:4; stroke-opacity:1; fill:none\" points=\"\n",
       "  478.379,1265.67 478.379,1251.21 \n",
       "  \"/>\n",
       "<polyline clip-path=\"url(#clip1900)\" style=\"stroke:#000000; stroke-width:4; stroke-opacity:1; fill:none\" points=\"\n",
       "  705.721,1265.67 705.721,1251.21 \n",
       "  \"/>\n",
       "<polyline clip-path=\"url(#clip1900)\" style=\"stroke:#000000; stroke-width:4; stroke-opacity:1; fill:none\" points=\"\n",
       "  933.062,1265.67 933.062,1251.21 \n",
       "  \"/>\n",
       "<polyline clip-path=\"url(#clip1900)\" style=\"stroke:#000000; stroke-width:4; stroke-opacity:1; fill:none\" points=\"\n",
       "  1160.4,1265.67 1160.4,1251.21 \n",
       "  \"/>\n",
       "<polyline clip-path=\"url(#clip1900)\" style=\"stroke:#000000; stroke-width:4; stroke-opacity:1; fill:none\" points=\"\n",
       "  223.756,1238.38 238.215,1238.38 \n",
       "  \"/>\n",
       "<polyline clip-path=\"url(#clip1900)\" style=\"stroke:#000000; stroke-width:4; stroke-opacity:1; fill:none\" points=\"\n",
       "  223.756,1011.04 238.215,1011.04 \n",
       "  \"/>\n",
       "<polyline clip-path=\"url(#clip1900)\" style=\"stroke:#000000; stroke-width:4; stroke-opacity:1; fill:none\" points=\"\n",
       "  223.756,783.701 238.215,783.701 \n",
       "  \"/>\n",
       "<polyline clip-path=\"url(#clip1900)\" style=\"stroke:#000000; stroke-width:4; stroke-opacity:1; fill:none\" points=\"\n",
       "  223.756,556.359 238.215,556.359 \n",
       "  \"/>\n",
       "<polyline clip-path=\"url(#clip1900)\" style=\"stroke:#000000; stroke-width:4; stroke-opacity:1; fill:none\" points=\"\n",
       "  223.756,329.017 238.215,329.017 \n",
       "  \"/>\n",
       "<g clip-path=\"url(#clip1900)\">\n",
       "<text style=\"fill:#000000; fill-opacity:1; font-family:Arial,Helvetica Neue,Helvetica,sans-serif; font-size:48px; text-anchor:middle;\" transform=\"rotate(0, 251.037, 1319.67)\" x=\"251.037\" y=\"1319.67\">-1.0</text>\n",
       "</g>\n",
       "<g clip-path=\"url(#clip1900)\">\n",
       "<text style=\"fill:#000000; fill-opacity:1; font-family:Arial,Helvetica Neue,Helvetica,sans-serif; font-size:48px; text-anchor:middle;\" transform=\"rotate(0, 478.379, 1319.67)\" x=\"478.379\" y=\"1319.67\">-0.5</text>\n",
       "</g>\n",
       "<g clip-path=\"url(#clip1900)\">\n",
       "<text style=\"fill:#000000; fill-opacity:1; font-family:Arial,Helvetica Neue,Helvetica,sans-serif; font-size:48px; text-anchor:middle;\" transform=\"rotate(0, 705.721, 1319.67)\" x=\"705.721\" y=\"1319.67\">0.0</text>\n",
       "</g>\n",
       "<g clip-path=\"url(#clip1900)\">\n",
       "<text style=\"fill:#000000; fill-opacity:1; font-family:Arial,Helvetica Neue,Helvetica,sans-serif; font-size:48px; text-anchor:middle;\" transform=\"rotate(0, 933.062, 1319.67)\" x=\"933.062\" y=\"1319.67\">0.5</text>\n",
       "</g>\n",
       "<g clip-path=\"url(#clip1900)\">\n",
       "<text style=\"fill:#000000; fill-opacity:1; font-family:Arial,Helvetica Neue,Helvetica,sans-serif; font-size:48px; text-anchor:middle;\" transform=\"rotate(0, 1160.4, 1319.67)\" x=\"1160.4\" y=\"1319.67\">1.0</text>\n",
       "</g>\n",
       "<g clip-path=\"url(#clip1900)\">\n",
       "<text style=\"fill:#000000; fill-opacity:1; font-family:Arial,Helvetica Neue,Helvetica,sans-serif; font-size:48px; text-anchor:end;\" transform=\"rotate(0, 199.756, 1255.88)\" x=\"199.756\" y=\"1255.88\">-1.0</text>\n",
       "</g>\n",
       "<g clip-path=\"url(#clip1900)\">\n",
       "<text style=\"fill:#000000; fill-opacity:1; font-family:Arial,Helvetica Neue,Helvetica,sans-serif; font-size:48px; text-anchor:end;\" transform=\"rotate(0, 199.756, 1028.54)\" x=\"199.756\" y=\"1028.54\">-0.5</text>\n",
       "</g>\n",
       "<g clip-path=\"url(#clip1900)\">\n",
       "<text style=\"fill:#000000; fill-opacity:1; font-family:Arial,Helvetica Neue,Helvetica,sans-serif; font-size:48px; text-anchor:end;\" transform=\"rotate(0, 199.756, 801.201)\" x=\"199.756\" y=\"801.201\">0.0</text>\n",
       "</g>\n",
       "<g clip-path=\"url(#clip1900)\">\n",
       "<text style=\"fill:#000000; fill-opacity:1; font-family:Arial,Helvetica Neue,Helvetica,sans-serif; font-size:48px; text-anchor:end;\" transform=\"rotate(0, 199.756, 573.859)\" x=\"199.756\" y=\"573.859\">0.5</text>\n",
       "</g>\n",
       "<g clip-path=\"url(#clip1900)\">\n",
       "<text style=\"fill:#000000; fill-opacity:1; font-family:Arial,Helvetica Neue,Helvetica,sans-serif; font-size:48px; text-anchor:end;\" transform=\"rotate(0, 199.756, 346.517)\" x=\"199.756\" y=\"346.517\">1.0</text>\n",
       "</g>\n",
       "<g clip-path=\"url(#clip1900)\">\n",
       "<text style=\"fill:#000000; fill-opacity:1; font-family:Arial,Helvetica Neue,Helvetica,sans-serif; font-size:84px; text-anchor:middle;\" transform=\"rotate(0, 705.721, 73.2)\" x=\"705.721\" y=\"73.2\">Unit circle</text>\n",
       "</g>\n",
       "<g clip-path=\"url(#clip1900)\">\n",
       "<image width=\"58\" height=\"39\" xlink:href=\"data:image/png;base64,\n",
       "iVBORw0KGgoAAAANSUhEUgAAADoAAAAnCAYAAABe81ttAAADW0lEQVRoge1Z23WjMBAdcraAMSUo\n",
       "HQiXoBKUFlSCkhJkV+CkBJwKsEtQUgFxCTIdzH7siuUhMAZMNtm958xHFCTPnRm9roCIYIjtdjsS\n",
       "QhBjjACAEJGklJRlGfX1S9OUhBCEiAQAxBgb1G9uG0TQO8k5J6UUGWNICEEAQABAQghyztUcd86R\n",
       "lLLsp7UmYwwppWrjNft9ClGlVEnEWttyKE3TkixjrOY0Y4wQMZg5Y0zZj3P+uUQ9SWNMryPVzEop\n",
       "qdoWCg7nvPze2xJZDTb6iF8i2cwOAFBfgJrfesvzfHmizrladi5ZtXy9IWKwbzX7Vbs1SSKCO2hA\n",
       "KQUAAC8vL81/BeGca7X5MZpgjLXajDGDfmcyqqyzLCMAIK314ChrrQeXYnUlZozRbrdbJJut0vVO\n",
       "XLM4NMuRMbaY86OJIiIJIa5y1O+J3pRSixOVUhIi9iao1SG0JfRGqlG2aZouRjTLsvKkBh3bWZDo\n",
       "tWatXXRPzPOcsiyrna6q1kf0x5SF7Hg81v5GRFitVtGUMUOIooiabZxziOO45UMXZiUqhJgyXCeU\n",
       "UoCIEMcxMMZACAGr1SrabDb0rYg+Pz9PrpLWgWEo3t7eWuV0K6JzYDTR0Py8v7+ffX7OhdmIrtfr\n",
       "yc7cErMR/ZvLFmAk0anz8+Pjgx4eHlpj3BKjiIaW9CRJBs/P7XYLr6+vcD6fFyM7C1HO+VX90zQF\n",
       "zvlNDhddKIkeDgdKkoSiKKIkSagv2lMWov1+T0VRwNPT0xh/x4MorBJ0KQyhb4dILt4QcTZBrCnN\n",
       "9J117wAgGN3T6RQMTEgRQMRBQX18fKSiKAarF3Pi7nw+U4hUqBz3+z29v7+DlLLW3hWUKg6HA223\n",
       "W1BKXbVwzYbQnbKp0RL9kkEQsVQQqhLKJVXBSzTXXurnLF0g+qPhwm+FoEnSWkuISIhY04OqMkpo\n",
       "nuZ5XmpEc5McRZToj16EiOWzg9aavODc9Xzg+/lvtNaktaZLQfg0oj5zUsraQxLn/KJaZ60lpVQZ\n",
       "FK89GWNuqjiMJvrV7Ort5V/Af6LfDf+JfkWEHrw8vjTR5i2qT/qMiBa96I/CZrOh0+kEzjkoigIA\n",
       "ukkhIqzX6/KiEccxSCmn6bpL4Xg8lsQ8AS9oN+GcA2ttGRCAX++yPwE3jOepoZ43vgAAAABJRU5E\n",
       "rkJggg==\n",
       "\" transform=\"translate(677, 1342)\"/>\n",
       "</g>\n",
       "<g clip-path=\"url(#clip1900)\">\n",
       "<image width=\"39\" height=\"59\" xlink:href=\"data:image/png;base64,\n",
       "iVBORw0KGgoAAAANSUhEUgAAACcAAAA7CAYAAAD4t5PVAAADt0lEQVRoge2ay3HjOBCGf01tAO0U\n",
       "4AxghgArAsTAEBgDnQFjgB0BSyHQioBiCJQz6Dl4mss3AZDy7mFQ1RfbAD60+i2fmBkx6/Pzk51z\n",
       "uFwuaJoGAKCUgjEGaZri+fn5tLb/drvx+XyG1hpKKSRJAq31cB8zB0nbtmytZQCrkmUZb51jjGEi\n",
       "muxVSn3fEQqmlNoE61/Stu0qJDOjrmtO03R6Rgic1tobrA9Y1/Um4B/zGuz9x9fG3t7e+Hq9Dn5G\n",
       "RJ2tAMD1ekVVVfj6+ur+pmkaJEmCpmn46elp1Q6JaLDXW2t921BKsXNuURtlWbIxZqAFrfWm9ib2\n",
       "5wPmnOs2WGu9PiKB7F+Ypunq3ok9+1wixurz+iWvlAvzPF88IwpOHKGqqmA4kX74Kcty9pwoOCJi\n",
       "IooGGwMS0awHR8EBYGPMbrg+4FwMjNZciCNsidjg+MFRcEqpKGfwAeynuV3eeiRcH7AoCo6GK8ty\n",
       "cMiR0o8EUXDyKiKaGHGe52yt3QWutWaJCFFwVVVNAvG4klgLsL4ajIITLUmccs5NXrrHaWbLsdBD\n",
       "+nl2LHvDzQQw9pAsy3hcqfjWbb6AJ+a4HqK/7vf7Zq0Wc+YhcI9av/5rgLX1Fy52DeDu9zvfbrf/\n",
       "jxGK+44j9J5of5Qsp47IRO/TRHvDScUxJ0qpoIukytVar7aO3nDWWiYilrw5lpDDZKwgmUNrvasp\n",
       "glKq6yfHH++eXNkvDLb61UW4sfHnec7GGE7T1GsIsyVZls32C15wRLQ5rtorYtehgDDGHN68rAGG\n",
       "hKiuPlvqwo8U8WZfc+k2EdEuz/KRuq6DtAfmYYH36MxgjPG2vclG/OkRsiw7pLIdi1TQwXDM045K\n",
       "4qBz7tDQEgTnOyWXuUlRFFGa1Vp7R4eJzYUKEbExhvM833QoSZG+GePEzHh9feXL5XJEBQYA0Foj\n",
       "SRIopUBEaJoGHx8f3ZcpVVXh5eVlsyE6lWXJ5/MZAGCMgTEGSim0bYumaWYn5HuWtRbv7+9+nZrY\n",
       "mU+JU1UVS+5FhAkEpy+xmRjPC4GNyd/AgYF3CTa29BrUc0eLc67rTWLGFT9SlUjhOTffW4UrioKB\n",
       "fd8x+EjbtkxEQYoAM+9yihCRAaRvVwdm7rT3E71qcPpi/jfhPxowuioRQGvt7gpECgmt9aBZkvwa\n",
       "DNffLIEzFnLcZsrXSWmaejfrq6/up51Qb57LEtJw+wbl1V+WZcnSX4RG+bX/B/B96MMMf2kGE/LI\n",
       "h8Exf2eGfhEbmiZ/ZGAdO23/DYg5qW8K7VbcAAAAAElFTkSuQmCC\n",
       "\" transform=\"translate(40, 754)\"/>\n",
       "</g>\n",
       "<polyline clip-path=\"url(#clip1902)\" style=\"stroke:#009af9; stroke-width:4; stroke-opacity:1; fill:none\" points=\"\n",
       "  1160.4,783.701 1160.38,778.94 1160.3,774.179 1160.18,769.419 1160.01,764.661 1159.78,759.905 1159.51,755.151 1159.18,750.401 1158.81,745.654 1158.39,740.911 \n",
       "  1157.91,736.174 1157.39,731.441 1156.82,726.714 1156.2,721.993 1155.53,717.279 1154.81,712.573 1154.04,707.874 1153.22,703.183 1152.35,698.502 1151.43,693.829 \n",
       "  1150.47,689.167 1149.45,684.515 1148.39,679.874 1147.28,675.244 1146.12,670.626 1144.91,666.02 1143.65,661.428 1142.35,656.848 1141,652.283 1139.6,647.732 \n",
       "  1138.15,643.196 1136.66,638.675 1135.11,634.171 1133.52,629.682 1131.89,625.211 1130.2,620.757 1128.47,616.321 1126.7,611.903 1124.88,607.504 1123.01,603.124 \n",
       "  1121.09,598.765 1119.14,594.425 1117.13,590.106 1115.08,585.809 1112.99,581.533 1110.85,577.279 1108.66,573.048 1106.43,568.84 1104.16,564.656 1101.85,560.495 \n",
       "  1099.49,556.359 1097.09,552.248 1094.64,548.163 1092.15,544.103 1089.62,540.069 1087.05,536.063 1084.44,532.083 1081.78,528.131 1079.08,524.207 1076.35,520.311 \n",
       "  1073.57,516.445 1070.75,512.607 1067.89,508.8 1064.99,505.022 1062.05,501.275 1059.08,497.559 1056.06,493.875 1053.01,490.222 1049.91,486.601 1046.78,483.013 \n",
       "  1043.62,479.458 1040.41,475.937 1037.17,472.449 1033.89,468.995 1030.58,465.576 1027.23,462.191 1023.85,458.842 1020.43,455.528 1016.97,452.251 1013.48,449.01 \n",
       "  1009.96,445.805 1006.41,442.638 1002.82,439.508 999.199,436.416 995.547,433.361 991.862,430.346 988.146,427.368 984.399,424.431 980.622,421.532 976.814,418.673 \n",
       "  972.977,415.854 969.11,413.076 965.215,410.338 961.291,407.641 957.338,404.985 953.359,402.371 949.352,399.799 945.319,397.269 941.259,394.781 937.173,392.336 \n",
       "  933.062,389.934 928.926,387.574 924.766,385.259 920.582,382.987 916.374,380.759 912.142,378.575 907.889,376.436 903.613,374.341 899.315,372.291 894.997,370.286 \n",
       "  890.657,368.327 886.297,366.413 881.917,364.545 877.518,362.723 873.101,360.947 868.664,359.217 864.21,357.534 859.739,355.898 855.251,354.309 850.746,352.766 \n",
       "  846.225,351.271 841.689,349.824 837.138,348.424 832.573,347.071 827.994,345.767 823.401,344.51 818.796,343.302 814.178,342.142 809.548,341.031 804.907,339.968 \n",
       "  800.255,338.953 795.592,337.988 790.92,337.071 786.238,336.203 781.548,335.385 776.849,334.615 772.142,333.895 767.428,333.224 762.707,332.603 757.981,332.031 \n",
       "  753.248,331.508 748.51,331.035 743.767,330.612 739.021,330.239 734.27,329.915 729.517,329.641 724.761,329.416 720.002,329.242 715.243,329.117 710.482,329.042 \n",
       "  705.721,329.017 700.959,329.042 696.198,329.117 691.439,329.242 686.68,329.416 681.924,329.641 677.171,329.915 672.42,330.239 667.674,330.612 662.931,331.035 \n",
       "  658.193,331.508 653.461,332.031 648.734,332.603 644.013,333.224 639.299,333.895 634.592,334.615 629.894,335.385 625.203,336.203 620.521,337.071 615.849,337.988 \n",
       "  611.187,338.953 606.534,339.968 601.893,341.031 597.263,342.142 592.645,343.302 588.04,344.51 583.447,345.767 578.868,347.071 574.303,348.424 569.752,349.824 \n",
       "  565.216,351.271 560.695,352.766 556.19,354.309 551.702,355.898 547.231,357.534 542.777,359.217 538.34,360.947 533.923,362.723 529.524,364.545 525.144,366.413 \n",
       "  520.784,368.327 516.445,370.286 512.126,372.291 507.828,374.341 503.552,376.436 499.299,378.575 495.067,380.759 490.86,382.987 486.675,385.259 482.515,387.574 \n",
       "  478.379,389.934 474.268,392.336 470.182,394.781 466.122,397.269 462.089,399.799 458.082,402.371 454.103,404.985 450.151,407.641 446.227,410.338 442.331,413.076 \n",
       "  438.464,415.854 434.627,418.673 430.819,421.532 427.042,424.431 423.295,427.368 419.579,430.346 415.894,433.361 412.242,436.416 408.621,439.508 405.033,442.638 \n",
       "  401.478,445.805 397.956,449.01 394.468,452.251 391.014,455.528 387.595,458.842 384.211,462.191 380.862,465.576 377.548,468.995 374.271,472.449 371.029,475.937 \n",
       "  367.825,479.458 364.657,483.013 361.527,486.601 358.435,490.222 355.381,493.875 352.365,497.559 349.388,501.275 346.45,505.022 343.552,508.8 340.693,512.607 \n",
       "  337.874,516.445 335.095,520.311 332.358,524.207 329.661,528.131 327.005,532.083 324.391,536.063 321.819,540.069 319.288,544.103 316.801,548.163 314.355,552.248 \n",
       "  311.953,556.359 309.594,560.495 307.278,564.656 305.006,568.84 302.778,573.048 300.595,577.279 298.455,581.533 296.36,585.809 294.311,590.106 292.306,594.425 \n",
       "  290.347,598.765 288.433,603.124 286.565,607.504 284.743,611.903 282.967,616.321 281.237,620.757 279.554,625.211 277.918,629.682 276.328,634.171 274.786,638.675 \n",
       "  273.291,643.196 271.843,647.732 270.443,652.283 269.091,656.848 267.786,661.428 266.53,666.02 265.322,670.626 264.162,675.244 263.05,679.874 261.987,684.515 \n",
       "  260.973,689.167 260.007,693.829 259.091,698.502 258.223,703.183 257.404,707.874 256.635,712.573 255.915,717.279 255.244,721.993 254.622,726.714 254.05,731.441 \n",
       "  253.528,736.174 253.055,740.911 252.632,745.654 252.258,750.401 251.934,755.151 251.66,759.905 251.436,764.661 251.261,769.419 251.137,774.179 251.062,778.94 \n",
       "  251.037,783.701 251.062,788.462 251.137,793.223 251.261,797.983 251.436,802.741 251.66,807.497 251.934,812.251 252.258,817.001 252.632,821.748 253.055,826.49 \n",
       "  253.528,831.228 254.05,835.961 254.622,840.688 255.244,845.409 255.915,850.122 256.635,854.829 257.404,859.528 258.223,864.218 259.091,868.9 260.007,873.572 \n",
       "  260.973,878.235 261.987,882.887 263.05,887.528 264.162,892.158 265.322,896.776 266.53,901.382 267.786,905.974 269.091,910.554 270.443,915.119 271.843,919.67 \n",
       "  273.291,924.206 274.786,928.726 276.328,933.231 277.918,937.719 279.554,942.191 281.237,946.645 282.967,951.081 284.743,955.499 286.565,959.898 288.433,964.277 \n",
       "  290.347,968.637 292.306,972.977 294.311,977.296 296.36,981.593 298.455,985.869 300.595,990.123 302.778,994.354 305.006,998.562 307.278,1002.75 309.594,1006.91 \n",
       "  311.953,1011.04 314.355,1015.15 316.801,1019.24 319.288,1023.3 321.819,1027.33 324.391,1031.34 327.005,1035.32 329.661,1039.27 332.358,1043.19 335.095,1047.09 \n",
       "  337.874,1050.96 340.693,1054.79 343.552,1058.6 346.45,1062.38 349.388,1066.13 352.365,1069.84 355.381,1073.53 358.435,1077.18 361.527,1080.8 364.657,1084.39 \n",
       "  367.825,1087.94 371.029,1091.47 374.271,1094.95 377.548,1098.41 380.862,1101.83 384.211,1105.21 387.595,1108.56 391.014,1111.87 394.468,1115.15 397.956,1118.39 \n",
       "  401.478,1121.6 405.033,1124.76 408.621,1127.89 412.242,1130.99 415.894,1134.04 419.579,1137.06 423.295,1140.03 427.042,1142.97 430.819,1145.87 434.627,1148.73 \n",
       "  438.464,1151.55 442.331,1154.33 446.227,1157.06 450.151,1159.76 454.103,1162.42 458.082,1165.03 462.089,1167.6 466.122,1170.13 470.182,1172.62 474.268,1175.07 \n",
       "  478.379,1177.47 482.515,1179.83 486.675,1182.14 490.86,1184.41 495.067,1186.64 499.299,1188.83 503.552,1190.97 507.828,1193.06 512.126,1195.11 516.445,1197.12 \n",
       "  520.784,1199.07 525.144,1200.99 529.524,1202.86 533.923,1204.68 538.34,1206.45 542.777,1208.18 547.231,1209.87 551.702,1211.5 556.19,1213.09 560.695,1214.64 \n",
       "  565.216,1216.13 569.752,1217.58 574.303,1218.98 578.868,1220.33 583.447,1221.63 588.04,1222.89 592.645,1224.1 597.263,1225.26 601.893,1226.37 606.534,1227.43 \n",
       "  611.187,1228.45 615.849,1229.41 620.521,1230.33 625.203,1231.2 629.894,1232.02 634.592,1232.79 639.299,1233.51 644.013,1234.18 648.734,1234.8 653.461,1235.37 \n",
       "  658.193,1235.89 662.931,1236.37 667.674,1236.79 672.42,1237.16 677.171,1237.49 681.924,1237.76 686.68,1237.99 691.439,1238.16 696.198,1238.28 700.959,1238.36 \n",
       "  705.721,1238.38 710.482,1238.36 715.243,1238.28 720.002,1238.16 724.761,1237.99 729.517,1237.76 734.27,1237.49 739.021,1237.16 743.767,1236.79 748.51,1236.37 \n",
       "  753.248,1235.89 757.981,1235.37 762.707,1234.8 767.428,1234.18 772.142,1233.51 776.849,1232.79 781.548,1232.02 786.238,1231.2 790.92,1230.33 795.592,1229.41 \n",
       "  800.255,1228.45 804.907,1227.43 809.548,1226.37 814.178,1225.26 818.796,1224.1 823.401,1222.89 827.994,1221.63 832.573,1220.33 837.138,1218.98 841.689,1217.58 \n",
       "  846.225,1216.13 850.746,1214.64 855.251,1213.09 859.739,1211.5 864.21,1209.87 868.664,1208.18 873.101,1206.45 877.518,1204.68 881.917,1202.86 886.297,1200.99 \n",
       "  890.657,1199.07 894.997,1197.12 899.315,1195.11 903.613,1193.06 907.889,1190.97 912.142,1188.83 916.374,1186.64 920.582,1184.41 924.766,1182.14 928.926,1179.83 \n",
       "  933.062,1177.47 937.173,1175.07 941.259,1172.62 945.319,1170.13 949.352,1167.6 953.359,1165.03 957.338,1162.42 961.291,1159.76 965.215,1157.06 969.11,1154.33 \n",
       "  972.977,1151.55 976.814,1148.73 980.622,1145.87 984.399,1142.97 988.146,1140.03 991.862,1137.06 995.547,1134.04 999.199,1130.99 1002.82,1127.89 1006.41,1124.76 \n",
       "  1009.96,1121.6 1013.48,1118.39 1016.97,1115.15 1020.43,1111.87 1023.85,1108.56 1027.23,1105.21 1030.58,1101.83 1033.89,1098.41 1037.17,1094.95 1040.41,1091.47 \n",
       "  1043.62,1087.94 1046.78,1084.39 1049.91,1080.8 1053.01,1077.18 1056.06,1073.53 1059.08,1069.84 1062.05,1066.13 1064.99,1062.38 1067.89,1058.6 1070.75,1054.79 \n",
       "  1073.57,1050.96 1076.35,1047.09 1079.08,1043.19 1081.78,1039.27 1084.44,1035.32 1087.05,1031.34 1089.62,1027.33 1092.15,1023.3 1094.64,1019.24 1097.09,1015.15 \n",
       "  1099.49,1011.04 1101.85,1006.91 1104.16,1002.75 1106.43,998.562 1108.66,994.354 1110.85,990.123 1112.99,985.869 1115.08,981.593 1117.13,977.296 1119.14,972.977 \n",
       "  1121.09,968.637 1123.01,964.277 1124.88,959.898 1126.7,955.499 1128.47,951.081 1130.2,946.645 1131.89,942.191 1133.52,937.719 1135.11,933.231 1136.66,928.726 \n",
       "  1138.15,924.206 1139.6,919.67 1141,915.119 1142.35,910.554 1143.65,905.974 1144.91,901.382 1146.12,896.776 1147.28,892.158 1148.39,887.528 1149.45,882.887 \n",
       "  1150.47,878.235 1151.43,873.572 1152.35,868.9 1153.22,864.218 1154.04,859.528 1154.81,854.829 1155.53,850.122 1156.2,845.409 1156.82,840.688 1157.39,835.961 \n",
       "  1157.91,831.228 1158.39,826.49 1158.81,821.748 1159.18,817.001 1159.51,812.251 1159.78,807.497 1160.01,802.741 1160.18,797.983 1160.3,793.223 1160.38,788.462 \n",
       "  1160.4,783.701 \n",
       "  \"/>\n",
       "<polygon clip-path=\"url(#clip1900)\" points=\"\n",
       "1388.83,1445.73 2352.76,1445.73 2352.76,121.675 1388.83,121.675 \n",
       "  \" fill=\"#ffffff\" fill-rule=\"evenodd\" fill-opacity=\"1\"/>\n",
       "<defs>\n",
       "  <clipPath id=\"clip1903\">\n",
       "    <rect x=\"1388\" y=\"121\" width=\"965\" height=\"1325\"/>\n",
       "  </clipPath>\n",
       "</defs>\n",
       "<polyline clip-path=\"url(#clip1903)\" style=\"stroke:#000000; stroke-width:2; stroke-opacity:0.1; fill:none\" points=\"\n",
       "  1388.83,1445.73 1388.83,121.675 \n",
       "  \"/>\n",
       "<polyline clip-path=\"url(#clip1903)\" style=\"stroke:#000000; stroke-width:2; stroke-opacity:0.1; fill:none\" points=\"\n",
       "  1581.61,1445.73 1581.61,121.675 \n",
       "  \"/>\n",
       "<polyline clip-path=\"url(#clip1903)\" style=\"stroke:#000000; stroke-width:2; stroke-opacity:0.1; fill:none\" points=\"\n",
       "  1774.4,1445.73 1774.4,121.675 \n",
       "  \"/>\n",
       "<polyline clip-path=\"url(#clip1903)\" style=\"stroke:#000000; stroke-width:2; stroke-opacity:0.1; fill:none\" points=\"\n",
       "  1967.18,1445.73 1967.18,121.675 \n",
       "  \"/>\n",
       "<polyline clip-path=\"url(#clip1903)\" style=\"stroke:#000000; stroke-width:2; stroke-opacity:0.1; fill:none\" points=\"\n",
       "  2159.97,1445.73 2159.97,121.675 \n",
       "  \"/>\n",
       "<polyline clip-path=\"url(#clip1903)\" style=\"stroke:#000000; stroke-width:2; stroke-opacity:0.1; fill:none\" points=\"\n",
       "  2352.76,1445.73 2352.76,121.675 \n",
       "  \"/>\n",
       "<polyline clip-path=\"url(#clip1903)\" style=\"stroke:#000000; stroke-width:2; stroke-opacity:0.1; fill:none\" points=\"\n",
       "  1388.83,1445.73 2352.76,1445.73 \n",
       "  \"/>\n",
       "<polyline clip-path=\"url(#clip1903)\" style=\"stroke:#000000; stroke-width:2; stroke-opacity:0.1; fill:none\" points=\"\n",
       "  1388.83,1180.92 2352.76,1180.92 \n",
       "  \"/>\n",
       "<polyline clip-path=\"url(#clip1903)\" style=\"stroke:#000000; stroke-width:2; stroke-opacity:0.1; fill:none\" points=\"\n",
       "  1388.83,916.106 2352.76,916.106 \n",
       "  \"/>\n",
       "<polyline clip-path=\"url(#clip1903)\" style=\"stroke:#000000; stroke-width:2; stroke-opacity:0.1; fill:none\" points=\"\n",
       "  1388.83,651.296 2352.76,651.296 \n",
       "  \"/>\n",
       "<polyline clip-path=\"url(#clip1903)\" style=\"stroke:#000000; stroke-width:2; stroke-opacity:0.1; fill:none\" points=\"\n",
       "  1388.83,386.485 2352.76,386.485 \n",
       "  \"/>\n",
       "<polyline clip-path=\"url(#clip1903)\" style=\"stroke:#000000; stroke-width:2; stroke-opacity:0.1; fill:none\" points=\"\n",
       "  1388.83,121.675 2352.76,121.675 \n",
       "  \"/>\n",
       "<polyline clip-path=\"url(#clip1900)\" style=\"stroke:#000000; stroke-width:4; stroke-opacity:1; fill:none\" points=\"\n",
       "  1388.83,1445.73 2352.76,1445.73 \n",
       "  \"/>\n",
       "<polyline clip-path=\"url(#clip1900)\" style=\"stroke:#000000; stroke-width:4; stroke-opacity:1; fill:none\" points=\"\n",
       "  1388.83,1445.73 1388.83,121.675 \n",
       "  \"/>\n",
       "<polyline clip-path=\"url(#clip1900)\" style=\"stroke:#000000; stroke-width:4; stroke-opacity:1; fill:none\" points=\"\n",
       "  1388.83,1445.73 1388.83,1425.87 \n",
       "  \"/>\n",
       "<polyline clip-path=\"url(#clip1900)\" style=\"stroke:#000000; stroke-width:4; stroke-opacity:1; fill:none\" points=\"\n",
       "  1581.61,1445.73 1581.61,1425.87 \n",
       "  \"/>\n",
       "<polyline clip-path=\"url(#clip1900)\" style=\"stroke:#000000; stroke-width:4; stroke-opacity:1; fill:none\" points=\"\n",
       "  1774.4,1445.73 1774.4,1425.87 \n",
       "  \"/>\n",
       "<polyline clip-path=\"url(#clip1900)\" style=\"stroke:#000000; stroke-width:4; stroke-opacity:1; fill:none\" points=\"\n",
       "  1967.18,1445.73 1967.18,1425.87 \n",
       "  \"/>\n",
       "<polyline clip-path=\"url(#clip1900)\" style=\"stroke:#000000; stroke-width:4; stroke-opacity:1; fill:none\" points=\"\n",
       "  2159.97,1445.73 2159.97,1425.87 \n",
       "  \"/>\n",
       "<polyline clip-path=\"url(#clip1900)\" style=\"stroke:#000000; stroke-width:4; stroke-opacity:1; fill:none\" points=\"\n",
       "  2352.76,1445.73 2352.76,1425.87 \n",
       "  \"/>\n",
       "<polyline clip-path=\"url(#clip1900)\" style=\"stroke:#000000; stroke-width:4; stroke-opacity:1; fill:none\" points=\"\n",
       "  1388.83,1445.73 1403.29,1445.73 \n",
       "  \"/>\n",
       "<polyline clip-path=\"url(#clip1900)\" style=\"stroke:#000000; stroke-width:4; stroke-opacity:1; fill:none\" points=\"\n",
       "  1388.83,1180.92 1403.29,1180.92 \n",
       "  \"/>\n",
       "<polyline clip-path=\"url(#clip1900)\" style=\"stroke:#000000; stroke-width:4; stroke-opacity:1; fill:none\" points=\"\n",
       "  1388.83,916.106 1403.29,916.106 \n",
       "  \"/>\n",
       "<polyline clip-path=\"url(#clip1900)\" style=\"stroke:#000000; stroke-width:4; stroke-opacity:1; fill:none\" points=\"\n",
       "  1388.83,651.296 1403.29,651.296 \n",
       "  \"/>\n",
       "<polyline clip-path=\"url(#clip1900)\" style=\"stroke:#000000; stroke-width:4; stroke-opacity:1; fill:none\" points=\"\n",
       "  1388.83,386.485 1403.29,386.485 \n",
       "  \"/>\n",
       "<polyline clip-path=\"url(#clip1900)\" style=\"stroke:#000000; stroke-width:4; stroke-opacity:1; fill:none\" points=\"\n",
       "  1388.83,121.675 1403.29,121.675 \n",
       "  \"/>\n",
       "<g clip-path=\"url(#clip1900)\">\n",
       "<text style=\"fill:#000000; fill-opacity:1; font-family:Arial,Helvetica Neue,Helvetica,sans-serif; font-size:48px; text-anchor:middle;\" transform=\"rotate(0, 1388.83, 1499.73)\" x=\"1388.83\" y=\"1499.73\">0.0</text>\n",
       "</g>\n",
       "<g clip-path=\"url(#clip1900)\">\n",
       "<text style=\"fill:#000000; fill-opacity:1; font-family:Arial,Helvetica Neue,Helvetica,sans-serif; font-size:48px; text-anchor:middle;\" transform=\"rotate(0, 1581.61, 1499.73)\" x=\"1581.61\" y=\"1499.73\">0.2</text>\n",
       "</g>\n",
       "<g clip-path=\"url(#clip1900)\">\n",
       "<text style=\"fill:#000000; fill-opacity:1; font-family:Arial,Helvetica Neue,Helvetica,sans-serif; font-size:48px; text-anchor:middle;\" transform=\"rotate(0, 1774.4, 1499.73)\" x=\"1774.4\" y=\"1499.73\">0.4</text>\n",
       "</g>\n",
       "<g clip-path=\"url(#clip1900)\">\n",
       "<text style=\"fill:#000000; fill-opacity:1; font-family:Arial,Helvetica Neue,Helvetica,sans-serif; font-size:48px; text-anchor:middle;\" transform=\"rotate(0, 1967.18, 1499.73)\" x=\"1967.18\" y=\"1499.73\">0.6</text>\n",
       "</g>\n",
       "<g clip-path=\"url(#clip1900)\">\n",
       "<text style=\"fill:#000000; fill-opacity:1; font-family:Arial,Helvetica Neue,Helvetica,sans-serif; font-size:48px; text-anchor:middle;\" transform=\"rotate(0, 2159.97, 1499.73)\" x=\"2159.97\" y=\"1499.73\">0.8</text>\n",
       "</g>\n",
       "<g clip-path=\"url(#clip1900)\">\n",
       "<text style=\"fill:#000000; fill-opacity:1; font-family:Arial,Helvetica Neue,Helvetica,sans-serif; font-size:48px; text-anchor:middle;\" transform=\"rotate(0, 2352.76, 1499.73)\" x=\"2352.76\" y=\"1499.73\">1.0</text>\n",
       "</g>\n",
       "<g clip-path=\"url(#clip1900)\">\n",
       "<text style=\"fill:#000000; fill-opacity:1; font-family:Arial,Helvetica Neue,Helvetica,sans-serif; font-size:48px; text-anchor:end;\" transform=\"rotate(0, 1364.83, 1463.23)\" x=\"1364.83\" y=\"1463.23\">0.0</text>\n",
       "</g>\n",
       "<g clip-path=\"url(#clip1900)\">\n",
       "<text style=\"fill:#000000; fill-opacity:1; font-family:Arial,Helvetica Neue,Helvetica,sans-serif; font-size:48px; text-anchor:end;\" transform=\"rotate(0, 1364.83, 1198.42)\" x=\"1364.83\" y=\"1198.42\">0.2</text>\n",
       "</g>\n",
       "<g clip-path=\"url(#clip1900)\">\n",
       "<text style=\"fill:#000000; fill-opacity:1; font-family:Arial,Helvetica Neue,Helvetica,sans-serif; font-size:48px; text-anchor:end;\" transform=\"rotate(0, 1364.83, 933.606)\" x=\"1364.83\" y=\"933.606\">0.4</text>\n",
       "</g>\n",
       "<g clip-path=\"url(#clip1900)\">\n",
       "<text style=\"fill:#000000; fill-opacity:1; font-family:Arial,Helvetica Neue,Helvetica,sans-serif; font-size:48px; text-anchor:end;\" transform=\"rotate(0, 1364.83, 668.796)\" x=\"1364.83\" y=\"668.796\">0.6</text>\n",
       "</g>\n",
       "<g clip-path=\"url(#clip1900)\">\n",
       "<text style=\"fill:#000000; fill-opacity:1; font-family:Arial,Helvetica Neue,Helvetica,sans-serif; font-size:48px; text-anchor:end;\" transform=\"rotate(0, 1364.83, 403.985)\" x=\"1364.83\" y=\"403.985\">0.8</text>\n",
       "</g>\n",
       "<g clip-path=\"url(#clip1900)\">\n",
       "<text style=\"fill:#000000; fill-opacity:1; font-family:Arial,Helvetica Neue,Helvetica,sans-serif; font-size:48px; text-anchor:end;\" transform=\"rotate(0, 1364.83, 139.175)\" x=\"1364.83\" y=\"139.175\">1.0</text>\n",
       "</g>\n",
       "</svg>\n"
      ]
     },
     "execution_count": 95,
     "metadata": {},
     "output_type": "execute_result"
    }
   ],
   "source": [
    "theta = 2*pi*(0:1/600:1)\n",
    "x = @. [ cos(theta) sin(theta) ]'   # 601 unit columns\n",
    "\n",
    "plot(x[1,:],x[2,:],aspect_ratio=1,layout=(1,2),subplot=1,\n",
    "    title=\"Unit circle\",leg=:none,xlabel=\"\\$x_1\\$\",ylabel=\"\\$x_2\\$\")"
   ]
  },
  {
   "cell_type": "markdown",
   "metadata": {},
   "source": [
    "We can apply `A` to every column of `x` simply by using a matrix multiplication."
   ]
  },
  {
   "cell_type": "code",
   "execution_count": 96,
   "metadata": {},
   "outputs": [],
   "source": [
    "Ax = A*x;"
   ]
  },
  {
   "cell_type": "markdown",
   "metadata": {},
   "source": [
    "We superimpose the image of the unit circle with the circle whose radius is $\\|A\\|_2$, and display the plots side by side."
   ]
  },
  {
   "cell_type": "code",
   "execution_count": 97,
   "metadata": {},
   "outputs": [
    {
     "data": {
      "image/svg+xml": [
       "<?xml version=\"1.0\" encoding=\"utf-8\"?>\n",
       "<svg xmlns=\"http://www.w3.org/2000/svg\" xmlns:xlink=\"http://www.w3.org/1999/xlink\" width=\"600\" height=\"400\" viewBox=\"0 0 2400 1600\">\n",
       "<defs>\n",
       "  <clipPath id=\"clip2300\">\n",
       "    <rect x=\"0\" y=\"0\" width=\"2400\" height=\"1600\"/>\n",
       "  </clipPath>\n",
       "</defs>\n",
       "<polygon clip-path=\"url(#clip2300)\" points=\"\n",
       "0,1600 2400,1600 2400,0 0,0 \n",
       "  \" fill=\"#ffffff\" fill-rule=\"evenodd\" fill-opacity=\"1\"/>\n",
       "<defs>\n",
       "  <clipPath id=\"clip2301\">\n",
       "    <rect x=\"480\" y=\"0\" width=\"1681\" height=\"1600\"/>\n",
       "  </clipPath>\n",
       "</defs>\n",
       "<polygon clip-path=\"url(#clip2300)\" points=\"\n",
       "223.756,1258.24 1172.83,1258.24 1172.83,309.165 223.756,309.165 \n",
       "  \" fill=\"#ffffff\" fill-rule=\"evenodd\" fill-opacity=\"1\"/>\n",
       "<defs>\n",
       "  <clipPath id=\"clip2302\">\n",
       "    <rect x=\"223\" y=\"309\" width=\"950\" height=\"950\"/>\n",
       "  </clipPath>\n",
       "</defs>\n",
       "<polyline clip-path=\"url(#clip2302)\" style=\"stroke:#000000; stroke-width:2; stroke-opacity:0.1; fill:none\" points=\"\n",
       "  250.617,1258.24 250.617,309.165 \n",
       "  \"/>\n",
       "<polyline clip-path=\"url(#clip2302)\" style=\"stroke:#000000; stroke-width:2; stroke-opacity:0.1; fill:none\" points=\"\n",
       "  474.454,1258.24 474.454,309.165 \n",
       "  \"/>\n",
       "<polyline clip-path=\"url(#clip2302)\" style=\"stroke:#000000; stroke-width:2; stroke-opacity:0.1; fill:none\" points=\"\n",
       "  698.292,1258.24 698.292,309.165 \n",
       "  \"/>\n",
       "<polyline clip-path=\"url(#clip2302)\" style=\"stroke:#000000; stroke-width:2; stroke-opacity:0.1; fill:none\" points=\"\n",
       "  922.13,1258.24 922.13,309.165 \n",
       "  \"/>\n",
       "<polyline clip-path=\"url(#clip2302)\" style=\"stroke:#000000; stroke-width:2; stroke-opacity:0.1; fill:none\" points=\"\n",
       "  1145.97,1258.24 1145.97,309.165 \n",
       "  \"/>\n",
       "<polyline clip-path=\"url(#clip2302)\" style=\"stroke:#000000; stroke-width:2; stroke-opacity:0.1; fill:none\" points=\"\n",
       "  223.756,1231.38 1172.83,1231.38 \n",
       "  \"/>\n",
       "<polyline clip-path=\"url(#clip2302)\" style=\"stroke:#000000; stroke-width:2; stroke-opacity:0.1; fill:none\" points=\"\n",
       "  223.756,1007.54 1172.83,1007.54 \n",
       "  \"/>\n",
       "<polyline clip-path=\"url(#clip2302)\" style=\"stroke:#000000; stroke-width:2; stroke-opacity:0.1; fill:none\" points=\"\n",
       "  223.756,783.701 1172.83,783.701 \n",
       "  \"/>\n",
       "<polyline clip-path=\"url(#clip2302)\" style=\"stroke:#000000; stroke-width:2; stroke-opacity:0.1; fill:none\" points=\"\n",
       "  223.756,559.863 1172.83,559.863 \n",
       "  \"/>\n",
       "<polyline clip-path=\"url(#clip2302)\" style=\"stroke:#000000; stroke-width:2; stroke-opacity:0.1; fill:none\" points=\"\n",
       "  223.756,336.026 1172.83,336.026 \n",
       "  \"/>\n",
       "<polyline clip-path=\"url(#clip2300)\" style=\"stroke:#000000; stroke-width:4; stroke-opacity:1; fill:none\" points=\"\n",
       "  223.756,1258.24 1172.83,1258.24 \n",
       "  \"/>\n",
       "<polyline clip-path=\"url(#clip2300)\" style=\"stroke:#000000; stroke-width:4; stroke-opacity:1; fill:none\" points=\"\n",
       "  223.756,1258.24 223.756,309.165 \n",
       "  \"/>\n",
       "<polyline clip-path=\"url(#clip2300)\" style=\"stroke:#000000; stroke-width:4; stroke-opacity:1; fill:none\" points=\"\n",
       "  250.617,1258.24 250.617,1244 \n",
       "  \"/>\n",
       "<polyline clip-path=\"url(#clip2300)\" style=\"stroke:#000000; stroke-width:4; stroke-opacity:1; fill:none\" points=\"\n",
       "  474.454,1258.24 474.454,1244 \n",
       "  \"/>\n",
       "<polyline clip-path=\"url(#clip2300)\" style=\"stroke:#000000; stroke-width:4; stroke-opacity:1; fill:none\" points=\"\n",
       "  698.292,1258.24 698.292,1244 \n",
       "  \"/>\n",
       "<polyline clip-path=\"url(#clip2300)\" style=\"stroke:#000000; stroke-width:4; stroke-opacity:1; fill:none\" points=\"\n",
       "  922.13,1258.24 922.13,1244 \n",
       "  \"/>\n",
       "<polyline clip-path=\"url(#clip2300)\" style=\"stroke:#000000; stroke-width:4; stroke-opacity:1; fill:none\" points=\"\n",
       "  1145.97,1258.24 1145.97,1244 \n",
       "  \"/>\n",
       "<polyline clip-path=\"url(#clip2300)\" style=\"stroke:#000000; stroke-width:4; stroke-opacity:1; fill:none\" points=\"\n",
       "  223.756,1231.38 237.992,1231.38 \n",
       "  \"/>\n",
       "<polyline clip-path=\"url(#clip2300)\" style=\"stroke:#000000; stroke-width:4; stroke-opacity:1; fill:none\" points=\"\n",
       "  223.756,1007.54 237.992,1007.54 \n",
       "  \"/>\n",
       "<polyline clip-path=\"url(#clip2300)\" style=\"stroke:#000000; stroke-width:4; stroke-opacity:1; fill:none\" points=\"\n",
       "  223.756,783.701 237.992,783.701 \n",
       "  \"/>\n",
       "<polyline clip-path=\"url(#clip2300)\" style=\"stroke:#000000; stroke-width:4; stroke-opacity:1; fill:none\" points=\"\n",
       "  223.756,559.863 237.992,559.863 \n",
       "  \"/>\n",
       "<polyline clip-path=\"url(#clip2300)\" style=\"stroke:#000000; stroke-width:4; stroke-opacity:1; fill:none\" points=\"\n",
       "  223.756,336.026 237.992,336.026 \n",
       "  \"/>\n",
       "<g clip-path=\"url(#clip2300)\">\n",
       "<text style=\"fill:#000000; fill-opacity:1; font-family:Arial,Helvetica Neue,Helvetica,sans-serif; font-size:48px; text-anchor:middle;\" transform=\"rotate(0, 250.617, 1312.24)\" x=\"250.617\" y=\"1312.24\">-1.0</text>\n",
       "</g>\n",
       "<g clip-path=\"url(#clip2300)\">\n",
       "<text style=\"fill:#000000; fill-opacity:1; font-family:Arial,Helvetica Neue,Helvetica,sans-serif; font-size:48px; text-anchor:middle;\" transform=\"rotate(0, 474.454, 1312.24)\" x=\"474.454\" y=\"1312.24\">-0.5</text>\n",
       "</g>\n",
       "<g clip-path=\"url(#clip2300)\">\n",
       "<text style=\"fill:#000000; fill-opacity:1; font-family:Arial,Helvetica Neue,Helvetica,sans-serif; font-size:48px; text-anchor:middle;\" transform=\"rotate(0, 698.292, 1312.24)\" x=\"698.292\" y=\"1312.24\">0.0</text>\n",
       "</g>\n",
       "<g clip-path=\"url(#clip2300)\">\n",
       "<text style=\"fill:#000000; fill-opacity:1; font-family:Arial,Helvetica Neue,Helvetica,sans-serif; font-size:48px; text-anchor:middle;\" transform=\"rotate(0, 922.13, 1312.24)\" x=\"922.13\" y=\"1312.24\">0.5</text>\n",
       "</g>\n",
       "<g clip-path=\"url(#clip2300)\">\n",
       "<text style=\"fill:#000000; fill-opacity:1; font-family:Arial,Helvetica Neue,Helvetica,sans-serif; font-size:48px; text-anchor:middle;\" transform=\"rotate(0, 1145.97, 1312.24)\" x=\"1145.97\" y=\"1312.24\">1.0</text>\n",
       "</g>\n",
       "<g clip-path=\"url(#clip2300)\">\n",
       "<text style=\"fill:#000000; fill-opacity:1; font-family:Arial,Helvetica Neue,Helvetica,sans-serif; font-size:48px; text-anchor:end;\" transform=\"rotate(0, 199.756, 1248.88)\" x=\"199.756\" y=\"1248.88\">-1.0</text>\n",
       "</g>\n",
       "<g clip-path=\"url(#clip2300)\">\n",
       "<text style=\"fill:#000000; fill-opacity:1; font-family:Arial,Helvetica Neue,Helvetica,sans-serif; font-size:48px; text-anchor:end;\" transform=\"rotate(0, 199.756, 1025.04)\" x=\"199.756\" y=\"1025.04\">-0.5</text>\n",
       "</g>\n",
       "<g clip-path=\"url(#clip2300)\">\n",
       "<text style=\"fill:#000000; fill-opacity:1; font-family:Arial,Helvetica Neue,Helvetica,sans-serif; font-size:48px; text-anchor:end;\" transform=\"rotate(0, 199.756, 801.201)\" x=\"199.756\" y=\"801.201\">0.0</text>\n",
       "</g>\n",
       "<g clip-path=\"url(#clip2300)\">\n",
       "<text style=\"fill:#000000; fill-opacity:1; font-family:Arial,Helvetica Neue,Helvetica,sans-serif; font-size:48px; text-anchor:end;\" transform=\"rotate(0, 199.756, 577.363)\" x=\"199.756\" y=\"577.363\">0.5</text>\n",
       "</g>\n",
       "<g clip-path=\"url(#clip2300)\">\n",
       "<text style=\"fill:#000000; fill-opacity:1; font-family:Arial,Helvetica Neue,Helvetica,sans-serif; font-size:48px; text-anchor:end;\" transform=\"rotate(0, 199.756, 353.526)\" x=\"199.756\" y=\"353.526\">1.0</text>\n",
       "</g>\n",
       "<g clip-path=\"url(#clip2300)\">\n",
       "<text style=\"fill:#000000; fill-opacity:1; font-family:Arial,Helvetica Neue,Helvetica,sans-serif; font-size:84px; text-anchor:middle;\" transform=\"rotate(0, 698.292, 73.2)\" x=\"698.292\" y=\"73.2\">Unit circle</text>\n",
       "</g>\n",
       "<g clip-path=\"url(#clip2300)\">\n",
       "<image width=\"58\" height=\"39\" xlink:href=\"data:image/png;base64,\n",
       "iVBORw0KGgoAAAANSUhEUgAAADoAAAAnCAYAAABe81ttAAADW0lEQVRoge1Z23WjMBAdcraAMSUo\n",
       "HQiXoBKUFlSCkhJkV+CkBJwKsEtQUgFxCTIdzH7siuUhMAZMNtm958xHFCTPnRm9roCIYIjtdjsS\n",
       "QhBjjACAEJGklJRlGfX1S9OUhBCEiAQAxBgb1G9uG0TQO8k5J6UUGWNICEEAQABAQghyztUcd86R\n",
       "lLLsp7UmYwwppWrjNft9ClGlVEnEWttyKE3TkixjrOY0Y4wQMZg5Y0zZj3P+uUQ9SWNMryPVzEop\n",
       "qdoWCg7nvPze2xJZDTb6iF8i2cwOAFBfgJrfesvzfHmizrladi5ZtXy9IWKwbzX7Vbs1SSKCO2hA\n",
       "KQUAAC8vL81/BeGca7X5MZpgjLXajDGDfmcyqqyzLCMAIK314ChrrQeXYnUlZozRbrdbJJut0vVO\n",
       "XLM4NMuRMbaY86OJIiIJIa5y1O+J3pRSixOVUhIi9iao1SG0JfRGqlG2aZouRjTLsvKkBh3bWZDo\n",
       "tWatXXRPzPOcsiyrna6q1kf0x5SF7Hg81v5GRFitVtGUMUOIooiabZxziOO45UMXZiUqhJgyXCeU\n",
       "UoCIEMcxMMZACAGr1SrabDb0rYg+Pz9PrpLWgWEo3t7eWuV0K6JzYDTR0Py8v7+ffX7OhdmIrtfr\n",
       "yc7cErMR/ZvLFmAk0anz8+Pjgx4eHlpj3BKjiIaW9CRJBs/P7XYLr6+vcD6fFyM7C1HO+VX90zQF\n",
       "zvlNDhddKIkeDgdKkoSiKKIkSagv2lMWov1+T0VRwNPT0xh/x4MorBJ0KQyhb4dILt4QcTZBrCnN\n",
       "9J117wAgGN3T6RQMTEgRQMRBQX18fKSiKAarF3Pi7nw+U4hUqBz3+z29v7+DlLLW3hWUKg6HA223\n",
       "W1BKXbVwzYbQnbKp0RL9kkEQsVQQqhLKJVXBSzTXXurnLF0g+qPhwm+FoEnSWkuISIhY04OqMkpo\n",
       "nuZ5XmpEc5McRZToj16EiOWzg9aavODc9Xzg+/lvtNaktaZLQfg0oj5zUsraQxLn/KJaZ60lpVQZ\n",
       "FK89GWNuqjiMJvrV7Ort5V/Af6LfDf+JfkWEHrw8vjTR5i2qT/qMiBa96I/CZrOh0+kEzjkoigIA\n",
       "ukkhIqzX6/KiEccxSCmn6bpL4Xg8lsQ8AS9oN+GcA2ttGRCAX++yPwE3jOepoZ43vgAAAABJRU5E\n",
       "rkJggg==\n",
       "\" transform=\"translate(669, 1334)\"/>\n",
       "</g>\n",
       "<g clip-path=\"url(#clip2300)\">\n",
       "<image width=\"39\" height=\"59\" xlink:href=\"data:image/png;base64,\n",
       "iVBORw0KGgoAAAANSUhEUgAAACcAAAA7CAYAAAD4t5PVAAADt0lEQVRoge2ay3HjOBCGf01tAO0U\n",
       "4AxghgArAsTAEBgDnQFjgB0BSyHQioBiCJQz6Dl4mss3AZDy7mFQ1RfbAD60+i2fmBkx6/Pzk51z\n",
       "uFwuaJoGAKCUgjEGaZri+fn5tLb/drvx+XyG1hpKKSRJAq31cB8zB0nbtmytZQCrkmUZb51jjGEi\n",
       "muxVSn3fEQqmlNoE61/Stu0qJDOjrmtO03R6Rgic1tobrA9Y1/Um4B/zGuz9x9fG3t7e+Hq9Dn5G\n",
       "RJ2tAMD1ekVVVfj6+ur+pmkaJEmCpmn46elp1Q6JaLDXW2t921BKsXNuURtlWbIxZqAFrfWm9ib2\n",
       "5wPmnOs2WGu9PiKB7F+Ypunq3ok9+1wixurz+iWvlAvzPF88IwpOHKGqqmA4kX74Kcty9pwoOCJi\n",
       "IooGGwMS0awHR8EBYGPMbrg+4FwMjNZciCNsidjg+MFRcEqpKGfwAeynuV3eeiRcH7AoCo6GK8ty\n",
       "cMiR0o8EUXDyKiKaGHGe52yt3QWutWaJCFFwVVVNAvG4klgLsL4ajIITLUmccs5NXrrHaWbLsdBD\n",
       "+nl2LHvDzQQw9pAsy3hcqfjWbb6AJ+a4HqK/7vf7Zq0Wc+YhcI9av/5rgLX1Fy52DeDu9zvfbrf/\n",
       "jxGK+44j9J5of5Qsp47IRO/TRHvDScUxJ0qpoIukytVar7aO3nDWWiYilrw5lpDDZKwgmUNrvasp\n",
       "glKq6yfHH++eXNkvDLb61UW4sfHnec7GGE7T1GsIsyVZls32C15wRLQ5rtorYtehgDDGHN68rAGG\n",
       "hKiuPlvqwo8U8WZfc+k2EdEuz/KRuq6DtAfmYYH36MxgjPG2vclG/OkRsiw7pLIdi1TQwXDM045K\n",
       "4qBz7tDQEgTnOyWXuUlRFFGa1Vp7R4eJzYUKEbExhvM833QoSZG+GePEzHh9feXL5XJEBQYA0Foj\n",
       "SRIopUBEaJoGHx8f3ZcpVVXh5eVlsyE6lWXJ5/MZAGCMgTEGSim0bYumaWYn5HuWtRbv7+9+nZrY\n",
       "mU+JU1UVS+5FhAkEpy+xmRjPC4GNyd/AgYF3CTa29BrUc0eLc67rTWLGFT9SlUjhOTffW4UrioKB\n",
       "fd8x+EjbtkxEQYoAM+9yihCRAaRvVwdm7rT3E71qcPpi/jfhPxowuioRQGvt7gpECgmt9aBZkvwa\n",
       "DNffLIEzFnLcZsrXSWmaejfrq6/up51Qb57LEtJw+wbl1V+WZcnSX4RG+bX/B/B96MMMf2kGE/LI\n",
       "h8Exf2eGfhEbmiZ/ZGAdO23/DYg5qW8K7VbcAAAAAElFTkSuQmCC\n",
       "\" transform=\"translate(40, 754)\"/>\n",
       "</g>\n",
       "<polyline clip-path=\"url(#clip2302)\" style=\"stroke:#009af9; stroke-width:4; stroke-opacity:1; fill:none\" points=\"\n",
       "  1145.97,783.701 1145.94,779.013 1145.87,774.326 1145.75,769.639 1145.57,764.954 1145.35,760.271 1145.08,755.591 1144.76,750.914 1144.4,746.24 1143.98,741.571 \n",
       "  1143.51,736.906 1143,732.246 1142.44,727.592 1141.83,722.944 1141.16,718.303 1140.46,713.669 1139.7,709.043 1138.89,704.424 1138.04,699.815 1137.14,695.215 \n",
       "  1136.18,690.624 1135.19,686.044 1134.14,681.474 1133.04,676.915 1131.9,672.369 1130.71,667.834 1129.48,663.312 1128.19,658.803 1126.86,654.309 1125.48,649.828 \n",
       "  1124.06,645.362 1122.58,640.911 1121.07,636.475 1119.5,632.056 1117.89,627.654 1116.23,623.268 1114.53,618.901 1112.78,614.551 1110.99,610.22 1109.15,605.908 \n",
       "  1107.26,601.615 1105.33,597.342 1103.36,593.09 1101.34,588.859 1099.28,584.649 1097.17,580.461 1095.02,576.295 1092.83,572.152 1090.59,568.032 1088.31,563.935 \n",
       "  1085.99,559.863 1083.62,555.816 1081.22,551.793 1078.77,547.796 1076.28,543.825 1073.74,539.879 1071.17,535.961 1068.56,532.07 1065.9,528.207 1063.2,524.371 \n",
       "  1060.47,520.564 1057.69,516.786 1054.88,513.037 1052.02,509.318 1049.13,505.628 1046.2,501.97 1043.23,498.342 1040.22,494.745 1037.18,491.181 1034.1,487.648 \n",
       "  1030.98,484.148 1027.82,480.68 1024.63,477.246 1021.41,473.846 1018.14,470.479 1014.85,467.147 1011.51,463.849 1008.15,460.587 1004.75,457.36 1001.31,454.168 \n",
       "  997.845,451.013 994.345,447.895 990.812,444.813 987.247,441.768 983.651,438.761 980.023,435.792 976.364,432.861 972.675,429.968 968.956,427.114 965.207,424.299 \n",
       "  961.429,421.524 957.622,418.788 953.786,416.093 949.923,413.437 946.032,410.823 942.113,408.249 938.168,405.716 934.197,403.225 930.2,400.775 926.177,398.368 \n",
       "  922.13,396.003 918.057,393.68 913.961,391.4 909.841,389.163 905.698,386.969 901.532,384.819 897.344,382.713 893.134,380.65 888.903,378.632 884.65,376.658 \n",
       "  880.378,374.729 876.085,372.845 871.773,371.006 867.442,369.212 863.092,367.463 858.724,365.76 854.339,364.103 849.936,362.492 845.517,360.927 841.082,359.408 \n",
       "  836.631,357.936 832.165,356.511 827.684,355.133 823.189,353.801 818.681,352.517 814.159,351.28 809.624,350.09 805.077,348.948 800.519,347.854 795.949,346.807 \n",
       "  791.369,345.808 786.778,344.858 782.178,343.955 777.568,343.101 772.95,342.295 768.324,341.537 763.69,340.828 759.048,340.168 754.4,339.556 749.746,338.992 \n",
       "  745.087,338.478 740.422,338.012 735.752,337.596 731.079,337.228 726.402,336.909 721.721,336.639 717.039,336.418 712.354,336.247 707.667,336.124 702.98,336.05 \n",
       "  698.292,336.026 693.604,336.05 688.916,336.124 684.23,336.247 679.545,336.418 674.862,336.639 670.182,336.909 665.505,337.228 660.831,337.596 656.162,338.012 \n",
       "  651.497,338.478 646.837,338.992 642.183,339.556 637.535,340.168 632.894,340.828 628.26,341.537 623.634,342.295 619.015,343.101 614.406,343.955 609.806,344.858 \n",
       "  605.215,345.808 600.635,346.807 596.065,347.854 591.506,348.948 586.96,350.09 582.425,351.28 577.903,352.517 573.394,353.801 568.899,355.133 564.419,356.511 \n",
       "  559.953,357.936 555.502,359.408 551.066,360.927 546.647,362.492 542.245,364.103 537.859,365.76 533.492,367.463 529.142,369.212 524.811,371.006 520.499,372.845 \n",
       "  516.206,374.729 511.933,376.658 507.681,378.632 503.45,380.65 499.24,382.713 495.052,384.819 490.886,386.969 486.743,389.163 482.623,391.4 478.526,393.68 \n",
       "  474.454,396.003 470.407,398.368 466.384,400.775 462.387,403.225 458.415,405.716 454.47,408.249 450.552,410.823 446.661,413.437 442.798,416.093 438.962,418.788 \n",
       "  435.155,421.524 431.377,424.299 427.628,427.114 423.909,429.968 420.219,432.861 416.561,435.792 412.933,438.761 409.336,441.768 405.772,444.813 402.239,447.895 \n",
       "  398.739,451.013 395.271,454.168 391.837,457.36 388.436,460.587 385.07,463.849 381.738,467.147 378.44,470.479 375.178,473.846 371.951,477.246 368.759,480.68 \n",
       "  365.604,484.148 362.486,487.648 359.404,491.181 356.359,494.745 353.352,498.342 350.383,501.97 347.452,505.628 344.559,509.318 341.705,513.037 338.89,516.786 \n",
       "  336.115,520.564 333.379,524.371 330.684,528.207 328.028,532.07 325.414,535.961 322.84,539.879 320.307,543.825 317.816,547.796 315.366,551.793 312.959,555.816 \n",
       "  310.594,559.863 308.271,563.935 305.991,568.032 303.754,572.152 301.56,576.295 299.41,580.461 297.304,584.649 295.241,588.859 293.223,593.09 291.249,597.342 \n",
       "  289.32,601.615 287.436,605.908 285.597,610.22 283.803,614.551 282.054,618.901 280.351,623.268 278.694,627.654 277.083,632.056 275.518,636.475 273.999,640.911 \n",
       "  272.527,645.362 271.102,649.828 269.724,654.309 268.392,658.803 267.108,663.312 265.871,667.834 264.681,672.369 263.539,676.915 262.445,681.474 261.398,686.044 \n",
       "  260.399,690.624 259.449,695.215 258.546,699.815 257.692,704.424 256.886,709.043 256.128,713.669 255.419,718.303 254.759,722.944 254.147,727.592 253.583,732.246 \n",
       "  253.069,736.906 252.603,741.571 252.187,746.24 251.819,750.914 251.5,755.591 251.23,760.271 251.009,764.954 250.838,769.639 250.715,774.326 250.641,779.013 \n",
       "  250.617,783.701 250.641,788.389 250.715,793.076 250.838,797.763 251.009,802.448 251.23,807.13 251.5,811.811 251.819,816.488 252.187,821.161 252.603,825.831 \n",
       "  253.069,830.496 253.583,835.155 254.147,839.81 254.759,844.457 255.419,849.099 256.128,853.733 256.886,858.359 257.692,862.977 258.546,867.587 259.449,872.187 \n",
       "  260.399,876.778 261.398,881.358 262.445,885.928 263.539,890.486 264.681,895.033 265.871,899.568 267.108,904.09 268.392,908.598 269.724,913.093 271.102,917.574 \n",
       "  272.527,922.04 273.999,926.491 275.518,930.926 277.083,935.346 278.694,939.748 280.351,944.133 282.054,948.501 283.803,952.851 285.597,957.182 287.436,961.494 \n",
       "  289.32,965.787 291.249,970.06 293.223,974.312 295.241,978.543 297.304,982.753 299.41,986.941 301.56,991.107 303.754,995.25 305.991,999.37 308.271,1003.47 \n",
       "  310.594,1007.54 312.959,1011.59 315.366,1015.61 317.816,1019.61 320.307,1023.58 322.84,1027.52 325.414,1031.44 328.028,1035.33 330.684,1039.2 333.379,1043.03 \n",
       "  336.115,1046.84 338.89,1050.62 341.705,1054.36 344.559,1058.08 347.452,1061.77 350.383,1065.43 353.352,1069.06 356.359,1072.66 359.404,1076.22 362.486,1079.75 \n",
       "  365.604,1083.25 368.759,1086.72 371.951,1090.16 375.178,1093.56 378.44,1096.92 381.738,1100.26 385.07,1103.55 388.436,1106.82 391.837,1110.04 395.271,1113.23 \n",
       "  398.739,1116.39 402.239,1119.51 405.772,1122.59 409.336,1125.63 412.933,1128.64 416.561,1131.61 420.219,1134.54 423.909,1137.43 427.628,1140.29 431.377,1143.1 \n",
       "  435.155,1145.88 438.962,1148.61 442.798,1151.31 446.661,1153.96 450.552,1156.58 454.47,1159.15 458.415,1161.69 462.387,1164.18 466.384,1166.63 470.407,1169.03 \n",
       "  474.454,1171.4 478.526,1173.72 482.623,1176 486.743,1178.24 490.886,1180.43 495.052,1182.58 499.24,1184.69 503.45,1186.75 507.681,1188.77 511.933,1190.74 \n",
       "  516.206,1192.67 520.499,1194.56 524.811,1196.4 529.142,1198.19 533.492,1199.94 537.859,1201.64 542.245,1203.3 546.647,1204.91 551.066,1206.47 555.502,1207.99 \n",
       "  559.953,1209.47 564.419,1210.89 568.899,1212.27 573.394,1213.6 577.903,1214.88 582.425,1216.12 586.96,1217.31 591.506,1218.45 596.065,1219.55 600.635,1220.59 \n",
       "  605.215,1221.59 609.806,1222.54 614.406,1223.45 619.015,1224.3 623.634,1225.11 628.26,1225.86 632.894,1226.57 637.535,1227.23 642.183,1227.85 646.837,1228.41 \n",
       "  651.497,1228.92 656.162,1229.39 660.831,1229.81 665.505,1230.17 670.182,1230.49 674.862,1230.76 679.545,1230.98 684.23,1231.16 688.916,1231.28 693.604,1231.35 \n",
       "  698.292,1231.38 702.98,1231.35 707.667,1231.28 712.354,1231.16 717.039,1230.98 721.721,1230.76 726.402,1230.49 731.079,1230.17 735.752,1229.81 740.422,1229.39 \n",
       "  745.087,1228.92 749.746,1228.41 754.4,1227.85 759.048,1227.23 763.69,1226.57 768.324,1225.86 772.95,1225.11 777.568,1224.3 782.178,1223.45 786.778,1222.54 \n",
       "  791.369,1221.59 795.949,1220.59 800.519,1219.55 805.077,1218.45 809.624,1217.31 814.159,1216.12 818.681,1214.88 823.189,1213.6 827.684,1212.27 832.165,1210.89 \n",
       "  836.631,1209.47 841.082,1207.99 845.517,1206.47 849.936,1204.91 854.339,1203.3 858.724,1201.64 863.092,1199.94 867.442,1198.19 871.773,1196.4 876.085,1194.56 \n",
       "  880.378,1192.67 884.65,1190.74 888.903,1188.77 893.134,1186.75 897.344,1184.69 901.532,1182.58 905.698,1180.43 909.841,1178.24 913.961,1176 918.057,1173.72 \n",
       "  922.13,1171.4 926.177,1169.03 930.2,1166.63 934.197,1164.18 938.168,1161.69 942.113,1159.15 946.032,1156.58 949.923,1153.96 953.786,1151.31 957.622,1148.61 \n",
       "  961.429,1145.88 965.207,1143.1 968.956,1140.29 972.675,1137.43 976.364,1134.54 980.023,1131.61 983.651,1128.64 987.247,1125.63 990.812,1122.59 994.345,1119.51 \n",
       "  997.845,1116.39 1001.31,1113.23 1004.75,1110.04 1008.15,1106.82 1011.51,1103.55 1014.85,1100.26 1018.14,1096.92 1021.41,1093.56 1024.63,1090.16 1027.82,1086.72 \n",
       "  1030.98,1083.25 1034.1,1079.75 1037.18,1076.22 1040.22,1072.66 1043.23,1069.06 1046.2,1065.43 1049.13,1061.77 1052.02,1058.08 1054.88,1054.36 1057.69,1050.62 \n",
       "  1060.47,1046.84 1063.2,1043.03 1065.9,1039.2 1068.56,1035.33 1071.17,1031.44 1073.74,1027.52 1076.28,1023.58 1078.77,1019.61 1081.22,1015.61 1083.62,1011.59 \n",
       "  1085.99,1007.54 1088.31,1003.47 1090.59,999.37 1092.83,995.25 1095.02,991.107 1097.17,986.941 1099.28,982.753 1101.34,978.543 1103.36,974.312 1105.33,970.06 \n",
       "  1107.26,965.787 1109.15,961.494 1110.99,957.182 1112.78,952.851 1114.53,948.501 1116.23,944.133 1117.89,939.748 1119.5,935.346 1121.07,930.926 1122.58,926.491 \n",
       "  1124.06,922.04 1125.48,917.574 1126.86,913.093 1128.19,908.598 1129.48,904.09 1130.71,899.568 1131.9,895.033 1133.04,890.486 1134.14,885.928 1135.19,881.358 \n",
       "  1136.18,876.778 1137.14,872.187 1138.04,867.587 1138.89,862.977 1139.7,858.359 1140.46,853.733 1141.16,849.099 1141.83,844.457 1142.44,839.81 1143,835.155 \n",
       "  1143.51,830.496 1143.98,825.831 1144.4,821.161 1144.76,816.488 1145.08,811.811 1145.35,807.13 1145.57,802.448 1145.75,797.763 1145.87,793.076 1145.94,788.389 \n",
       "  1145.97,783.701 \n",
       "  \"/>\n",
       "<polygon clip-path=\"url(#clip2300)\" points=\"\n",
       "1403.68,1258.24 2352.76,1258.24 2352.76,309.165 1403.68,309.165 \n",
       "  \" fill=\"#ffffff\" fill-rule=\"evenodd\" fill-opacity=\"1\"/>\n",
       "<defs>\n",
       "  <clipPath id=\"clip2303\">\n",
       "    <rect x=\"1403\" y=\"309\" width=\"950\" height=\"950\"/>\n",
       "  </clipPath>\n",
       "</defs>\n",
       "<polyline clip-path=\"url(#clip2303)\" style=\"stroke:#000000; stroke-width:2; stroke-opacity:0.1; fill:none\" points=\"\n",
       "  1486.94,1258.24 1486.94,309.165 \n",
       "  \"/>\n",
       "<polyline clip-path=\"url(#clip2303)\" style=\"stroke:#000000; stroke-width:2; stroke-opacity:0.1; fill:none\" points=\"\n",
       "  1682.58,1258.24 1682.58,309.165 \n",
       "  \"/>\n",
       "<polyline clip-path=\"url(#clip2303)\" style=\"stroke:#000000; stroke-width:2; stroke-opacity:0.1; fill:none\" points=\"\n",
       "  1878.22,1258.24 1878.22,309.165 \n",
       "  \"/>\n",
       "<polyline clip-path=\"url(#clip2303)\" style=\"stroke:#000000; stroke-width:2; stroke-opacity:0.1; fill:none\" points=\"\n",
       "  2073.86,1258.24 2073.86,309.165 \n",
       "  \"/>\n",
       "<polyline clip-path=\"url(#clip2303)\" style=\"stroke:#000000; stroke-width:2; stroke-opacity:0.1; fill:none\" points=\"\n",
       "  2269.5,1258.24 2269.5,309.165 \n",
       "  \"/>\n",
       "<polyline clip-path=\"url(#clip2303)\" style=\"stroke:#000000; stroke-width:2; stroke-opacity:0.1; fill:none\" points=\"\n",
       "  1403.68,1174.98 2352.76,1174.98 \n",
       "  \"/>\n",
       "<polyline clip-path=\"url(#clip2303)\" style=\"stroke:#000000; stroke-width:2; stroke-opacity:0.1; fill:none\" points=\"\n",
       "  1403.68,979.342 2352.76,979.342 \n",
       "  \"/>\n",
       "<polyline clip-path=\"url(#clip2303)\" style=\"stroke:#000000; stroke-width:2; stroke-opacity:0.1; fill:none\" points=\"\n",
       "  1403.68,783.701 2352.76,783.701 \n",
       "  \"/>\n",
       "<polyline clip-path=\"url(#clip2303)\" style=\"stroke:#000000; stroke-width:2; stroke-opacity:0.1; fill:none\" points=\"\n",
       "  1403.68,588.06 2352.76,588.06 \n",
       "  \"/>\n",
       "<polyline clip-path=\"url(#clip2303)\" style=\"stroke:#000000; stroke-width:2; stroke-opacity:0.1; fill:none\" points=\"\n",
       "  1403.68,392.418 2352.76,392.418 \n",
       "  \"/>\n",
       "<polyline clip-path=\"url(#clip2300)\" style=\"stroke:#000000; stroke-width:4; stroke-opacity:1; fill:none\" points=\"\n",
       "  1403.68,1258.24 2352.76,1258.24 \n",
       "  \"/>\n",
       "<polyline clip-path=\"url(#clip2300)\" style=\"stroke:#000000; stroke-width:4; stroke-opacity:1; fill:none\" points=\"\n",
       "  1403.68,1258.24 1403.68,309.165 \n",
       "  \"/>\n",
       "<polyline clip-path=\"url(#clip2300)\" style=\"stroke:#000000; stroke-width:4; stroke-opacity:1; fill:none\" points=\"\n",
       "  1486.94,1258.24 1486.94,1244 \n",
       "  \"/>\n",
       "<polyline clip-path=\"url(#clip2300)\" style=\"stroke:#000000; stroke-width:4; stroke-opacity:1; fill:none\" points=\"\n",
       "  1682.58,1258.24 1682.58,1244 \n",
       "  \"/>\n",
       "<polyline clip-path=\"url(#clip2300)\" style=\"stroke:#000000; stroke-width:4; stroke-opacity:1; fill:none\" points=\"\n",
       "  1878.22,1258.24 1878.22,1244 \n",
       "  \"/>\n",
       "<polyline clip-path=\"url(#clip2300)\" style=\"stroke:#000000; stroke-width:4; stroke-opacity:1; fill:none\" points=\"\n",
       "  2073.86,1258.24 2073.86,1244 \n",
       "  \"/>\n",
       "<polyline clip-path=\"url(#clip2300)\" style=\"stroke:#000000; stroke-width:4; stroke-opacity:1; fill:none\" points=\"\n",
       "  2269.5,1258.24 2269.5,1244 \n",
       "  \"/>\n",
       "<polyline clip-path=\"url(#clip2300)\" style=\"stroke:#000000; stroke-width:4; stroke-opacity:1; fill:none\" points=\"\n",
       "  1403.68,1174.98 1417.92,1174.98 \n",
       "  \"/>\n",
       "<polyline clip-path=\"url(#clip2300)\" style=\"stroke:#000000; stroke-width:4; stroke-opacity:1; fill:none\" points=\"\n",
       "  1403.68,979.342 1417.92,979.342 \n",
       "  \"/>\n",
       "<polyline clip-path=\"url(#clip2300)\" style=\"stroke:#000000; stroke-width:4; stroke-opacity:1; fill:none\" points=\"\n",
       "  1403.68,783.701 1417.92,783.701 \n",
       "  \"/>\n",
       "<polyline clip-path=\"url(#clip2300)\" style=\"stroke:#000000; stroke-width:4; stroke-opacity:1; fill:none\" points=\"\n",
       "  1403.68,588.06 1417.92,588.06 \n",
       "  \"/>\n",
       "<polyline clip-path=\"url(#clip2300)\" style=\"stroke:#000000; stroke-width:4; stroke-opacity:1; fill:none\" points=\"\n",
       "  1403.68,392.418 1417.92,392.418 \n",
       "  \"/>\n",
       "<g clip-path=\"url(#clip2300)\">\n",
       "<text style=\"fill:#000000; fill-opacity:1; font-family:Arial,Helvetica Neue,Helvetica,sans-serif; font-size:48px; text-anchor:middle;\" transform=\"rotate(0, 1486.94, 1312.24)\" x=\"1486.94\" y=\"1312.24\">-2</text>\n",
       "</g>\n",
       "<g clip-path=\"url(#clip2300)\">\n",
       "<text style=\"fill:#000000; fill-opacity:1; font-family:Arial,Helvetica Neue,Helvetica,sans-serif; font-size:48px; text-anchor:middle;\" transform=\"rotate(0, 1682.58, 1312.24)\" x=\"1682.58\" y=\"1312.24\">-1</text>\n",
       "</g>\n",
       "<g clip-path=\"url(#clip2300)\">\n",
       "<text style=\"fill:#000000; fill-opacity:1; font-family:Arial,Helvetica Neue,Helvetica,sans-serif; font-size:48px; text-anchor:middle;\" transform=\"rotate(0, 1878.22, 1312.24)\" x=\"1878.22\" y=\"1312.24\">0</text>\n",
       "</g>\n",
       "<g clip-path=\"url(#clip2300)\">\n",
       "<text style=\"fill:#000000; fill-opacity:1; font-family:Arial,Helvetica Neue,Helvetica,sans-serif; font-size:48px; text-anchor:middle;\" transform=\"rotate(0, 2073.86, 1312.24)\" x=\"2073.86\" y=\"1312.24\">1</text>\n",
       "</g>\n",
       "<g clip-path=\"url(#clip2300)\">\n",
       "<text style=\"fill:#000000; fill-opacity:1; font-family:Arial,Helvetica Neue,Helvetica,sans-serif; font-size:48px; text-anchor:middle;\" transform=\"rotate(0, 2269.5, 1312.24)\" x=\"2269.5\" y=\"1312.24\">2</text>\n",
       "</g>\n",
       "<g clip-path=\"url(#clip2300)\">\n",
       "<text style=\"fill:#000000; fill-opacity:1; font-family:Arial,Helvetica Neue,Helvetica,sans-serif; font-size:48px; text-anchor:end;\" transform=\"rotate(0, 1379.68, 1192.48)\" x=\"1379.68\" y=\"1192.48\">-2</text>\n",
       "</g>\n",
       "<g clip-path=\"url(#clip2300)\">\n",
       "<text style=\"fill:#000000; fill-opacity:1; font-family:Arial,Helvetica Neue,Helvetica,sans-serif; font-size:48px; text-anchor:end;\" transform=\"rotate(0, 1379.68, 996.842)\" x=\"1379.68\" y=\"996.842\">-1</text>\n",
       "</g>\n",
       "<g clip-path=\"url(#clip2300)\">\n",
       "<text style=\"fill:#000000; fill-opacity:1; font-family:Arial,Helvetica Neue,Helvetica,sans-serif; font-size:48px; text-anchor:end;\" transform=\"rotate(0, 1379.68, 801.201)\" x=\"1379.68\" y=\"801.201\">0</text>\n",
       "</g>\n",
       "<g clip-path=\"url(#clip2300)\">\n",
       "<text style=\"fill:#000000; fill-opacity:1; font-family:Arial,Helvetica Neue,Helvetica,sans-serif; font-size:48px; text-anchor:end;\" transform=\"rotate(0, 1379.68, 605.56)\" x=\"1379.68\" y=\"605.56\">1</text>\n",
       "</g>\n",
       "<g clip-path=\"url(#clip2300)\">\n",
       "<text style=\"fill:#000000; fill-opacity:1; font-family:Arial,Helvetica Neue,Helvetica,sans-serif; font-size:48px; text-anchor:end;\" transform=\"rotate(0, 1379.68, 409.918)\" x=\"1379.68\" y=\"409.918\">2</text>\n",
       "</g>\n",
       "<g clip-path=\"url(#clip2300)\">\n",
       "<text style=\"fill:#000000; fill-opacity:1; font-family:Arial,Helvetica Neue,Helvetica,sans-serif; font-size:84px; text-anchor:middle;\" transform=\"rotate(0, 1878.22, 73.2)\" x=\"1878.22\" y=\"73.2\">Image under map</text>\n",
       "</g>\n",
       "<g clip-path=\"url(#clip2300)\">\n",
       "<image width=\"58\" height=\"39\" xlink:href=\"data:image/png;base64,\n",
       "iVBORw0KGgoAAAANSUhEUgAAADoAAAAnCAYAAABe81ttAAADW0lEQVRoge1Z23WjMBAdcraAMSUo\n",
       "HQiXoBKUFlSCkhJkV+CkBJwKsEtQUgFxCTIdzH7siuUhMAZMNtm958xHFCTPnRm9roCIYIjtdjsS\n",
       "QhBjjACAEJGklJRlGfX1S9OUhBCEiAQAxBgb1G9uG0TQO8k5J6UUGWNICEEAQABAQghyztUcd86R\n",
       "lLLsp7UmYwwppWrjNft9ClGlVEnEWttyKE3TkixjrOY0Y4wQMZg5Y0zZj3P+uUQ9SWNMryPVzEop\n",
       "qdoWCg7nvPze2xJZDTb6iF8i2cwOAFBfgJrfesvzfHmizrladi5ZtXy9IWKwbzX7Vbs1SSKCO2hA\n",
       "KQUAAC8vL81/BeGca7X5MZpgjLXajDGDfmcyqqyzLCMAIK314ChrrQeXYnUlZozRbrdbJJut0vVO\n",
       "XLM4NMuRMbaY86OJIiIJIa5y1O+J3pRSixOVUhIi9iao1SG0JfRGqlG2aZouRjTLsvKkBh3bWZDo\n",
       "tWatXXRPzPOcsiyrna6q1kf0x5SF7Hg81v5GRFitVtGUMUOIooiabZxziOO45UMXZiUqhJgyXCeU\n",
       "UoCIEMcxMMZACAGr1SrabDb0rYg+Pz9PrpLWgWEo3t7eWuV0K6JzYDTR0Py8v7+ffX7OhdmIrtfr\n",
       "yc7cErMR/ZvLFmAk0anz8+Pjgx4eHlpj3BKjiIaW9CRJBs/P7XYLr6+vcD6fFyM7C1HO+VX90zQF\n",
       "zvlNDhddKIkeDgdKkoSiKKIkSagv2lMWov1+T0VRwNPT0xh/x4MorBJ0KQyhb4dILt4QcTZBrCnN\n",
       "9J117wAgGN3T6RQMTEgRQMRBQX18fKSiKAarF3Pi7nw+U4hUqBz3+z29v7+DlLLW3hWUKg6HA223\n",
       "W1BKXbVwzYbQnbKp0RL9kkEQsVQQqhLKJVXBSzTXXurnLF0g+qPhwm+FoEnSWkuISIhY04OqMkpo\n",
       "nuZ5XmpEc5McRZToj16EiOWzg9aavODc9Xzg+/lvtNaktaZLQfg0oj5zUsraQxLn/KJaZ60lpVQZ\n",
       "FK89GWNuqjiMJvrV7Ort5V/Af6LfDf+JfkWEHrw8vjTR5i2qT/qMiBa96I/CZrOh0+kEzjkoigIA\n",
       "ukkhIqzX6/KiEccxSCmn6bpL4Xg8lsQ8AS9oN+GcA2ttGRCAX++yPwE3jOepoZ43vgAAAABJRU5E\n",
       "rkJggg==\n",
       "\" transform=\"translate(1849, 1334)\"/>\n",
       "</g>\n",
       "<g clip-path=\"url(#clip2300)\">\n",
       "<image width=\"39\" height=\"59\" xlink:href=\"data:image/png;base64,\n",
       "iVBORw0KGgoAAAANSUhEUgAAACcAAAA7CAYAAAD4t5PVAAADt0lEQVRoge2ay3HjOBCGf01tAO0U\n",
       "4AxghgArAsTAEBgDnQFjgB0BSyHQioBiCJQz6Dl4mss3AZDy7mFQ1RfbAD60+i2fmBkx6/Pzk51z\n",
       "uFwuaJoGAKCUgjEGaZri+fn5tLb/drvx+XyG1hpKKSRJAq31cB8zB0nbtmytZQCrkmUZb51jjGEi\n",
       "muxVSn3fEQqmlNoE61/Stu0qJDOjrmtO03R6Rgic1tobrA9Y1/Um4B/zGuz9x9fG3t7e+Hq9Dn5G\n",
       "RJ2tAMD1ekVVVfj6+ur+pmkaJEmCpmn46elp1Q6JaLDXW2t921BKsXNuURtlWbIxZqAFrfWm9ib2\n",
       "5wPmnOs2WGu9PiKB7F+Ypunq3ok9+1wixurz+iWvlAvzPF88IwpOHKGqqmA4kX74Kcty9pwoOCJi\n",
       "IooGGwMS0awHR8EBYGPMbrg+4FwMjNZciCNsidjg+MFRcEqpKGfwAeynuV3eeiRcH7AoCo6GK8ty\n",
       "cMiR0o8EUXDyKiKaGHGe52yt3QWutWaJCFFwVVVNAvG4klgLsL4ajIITLUmccs5NXrrHaWbLsdBD\n",
       "+nl2LHvDzQQw9pAsy3hcqfjWbb6AJ+a4HqK/7vf7Zq0Wc+YhcI9av/5rgLX1Fy52DeDu9zvfbrf/\n",
       "jxGK+44j9J5of5Qsp47IRO/TRHvDScUxJ0qpoIukytVar7aO3nDWWiYilrw5lpDDZKwgmUNrvasp\n",
       "glKq6yfHH++eXNkvDLb61UW4sfHnec7GGE7T1GsIsyVZls32C15wRLQ5rtorYtehgDDGHN68rAGG\n",
       "hKiuPlvqwo8U8WZfc+k2EdEuz/KRuq6DtAfmYYH36MxgjPG2vclG/OkRsiw7pLIdi1TQwXDM045K\n",
       "4qBz7tDQEgTnOyWXuUlRFFGa1Vp7R4eJzYUKEbExhvM833QoSZG+GePEzHh9feXL5XJEBQYA0Foj\n",
       "SRIopUBEaJoGHx8f3ZcpVVXh5eVlsyE6lWXJ5/MZAGCMgTEGSim0bYumaWYn5HuWtRbv7+9+nZrY\n",
       "mU+JU1UVS+5FhAkEpy+xmRjPC4GNyd/AgYF3CTa29BrUc0eLc67rTWLGFT9SlUjhOTffW4UrioKB\n",
       "fd8x+EjbtkxEQYoAM+9yihCRAaRvVwdm7rT3E71qcPpi/jfhPxowuioRQGvt7gpECgmt9aBZkvwa\n",
       "DNffLIEzFnLcZsrXSWmaejfrq6/up51Qb57LEtJw+wbl1V+WZcnSX4RG+bX/B/B96MMMf2kGE/LI\n",
       "h8Exf2eGfhEbmiZ/ZGAdO23/DYg5qW8K7VbcAAAAAElFTkSuQmCC\n",
       "\" transform=\"translate(1260, 754)\"/>\n",
       "</g>\n",
       "<polyline clip-path=\"url(#clip2303)\" style=\"stroke:#009af9; stroke-width:4; stroke-opacity:1; fill:none\" points=\"\n",
       "  2269.5,588.06 2269.48,590.119 2269.42,592.2 2269.31,594.301 2269.16,596.424 2268.97,598.567 2268.73,600.73 2268.45,602.913 2268.13,605.117 2267.77,607.339 \n",
       "  2267.36,609.581 2266.91,611.843 2266.42,614.123 2265.88,616.421 2265.31,618.738 2264.69,621.073 2264.02,623.426 2263.32,625.797 2262.57,628.185 2261.78,630.589 \n",
       "  2260.95,633.011 2260.08,635.449 2259.16,637.904 2258.21,640.374 2257.21,642.86 2256.17,645.362 2255.09,647.878 2253.97,650.41 2252.8,652.956 2251.6,655.517 \n",
       "  2250.35,658.091 2249.07,660.68 2247.74,663.282 2246.37,665.897 2244.96,668.525 2243.51,671.166 2242.03,673.819 2240.5,676.484 2238.93,679.16 2237.32,681.849 \n",
       "  2235.67,684.548 2233.99,687.259 2232.26,689.979 2230.5,692.711 2228.7,695.452 2226.86,698.203 2224.98,700.963 2223.06,703.732 2221.1,706.51 2219.11,709.297 \n",
       "  2217.08,712.091 2215.01,714.894 2212.91,717.704 2210.77,720.521 2208.59,723.345 2206.38,726.176 2204.13,729.013 2201.84,731.857 2199.52,734.705 2197.17,737.56 \n",
       "  2194.77,740.419 2192.35,743.283 2189.89,746.151 2187.39,749.024 2184.87,751.9 2182.3,754.78 2179.71,757.663 2177.08,760.549 2174.42,763.437 2171.73,766.328 \n",
       "  2169,769.221 2166.24,772.115 2163.45,775.01 2160.63,777.907 2157.78,780.804 2154.9,783.701 2151.99,786.598 2149.04,789.495 2146.07,792.392 2143.07,795.287 \n",
       "  2140.04,798.181 2136.98,801.074 2133.89,803.964 2130.78,806.853 2127.63,809.739 2124.46,812.622 2121.26,815.502 2118.04,818.378 2114.79,821.25 2111.51,824.119 \n",
       "  2108.21,826.983 2104.88,829.842 2101.53,832.696 2098.15,835.545 2094.75,838.388 2091.33,841.226 2087.88,844.056 2084.41,846.881 2080.92,849.698 2077.4,852.508 \n",
       "  2073.86,855.311 2070.3,858.105 2066.72,860.892 2063.12,863.67 2059.5,866.439 2055.86,869.199 2052.2,871.95 2048.52,874.691 2044.82,877.422 2041.1,880.143 \n",
       "  2037.37,882.854 2033.62,885.553 2029.85,888.241 2026.06,890.918 2022.26,893.583 2018.44,896.236 2014.61,898.877 2010.76,901.505 2006.9,904.12 2003.02,906.722 \n",
       "  1999.13,909.31 1995.23,911.885 1991.31,914.446 1987.38,916.992 1983.44,919.523 1979.49,922.04 1975.53,924.542 1971.55,927.028 1967.57,929.498 1963.58,931.953 \n",
       "  1959.57,934.391 1955.56,936.812 1951.54,939.217 1947.51,941.605 1943.47,943.976 1939.43,946.328 1935.38,948.664 1931.32,950.981 1927.26,953.279 1923.19,955.559 \n",
       "  1919.12,957.82 1915.04,960.062 1910.96,962.285 1906.88,964.488 1902.79,966.672 1898.7,968.835 1894.61,970.978 1890.51,973.1 1886.41,975.202 1882.32,977.283 \n",
       "  1878.22,979.342 1874.12,981.38 1870.03,983.396 1865.93,985.391 1861.83,987.363 1857.74,989.313 1853.65,991.241 1849.56,993.145 1845.48,995.027 1841.4,996.885 \n",
       "  1837.32,998.721 1833.25,1000.53 1829.18,1002.32 1825.12,1004.08 1821.06,1005.82 1817.01,1007.54 1812.97,1009.23 1808.93,1010.9 1804.9,1012.54 1800.88,1014.15 \n",
       "  1796.87,1015.74 1792.86,1017.31 1788.87,1018.85 1784.89,1020.36 1780.91,1021.85 1776.95,1023.31 1773,1024.75 1769.06,1026.16 1765.13,1027.54 1761.21,1028.89 \n",
       "  1757.31,1030.22 1753.42,1031.53 1749.54,1032.8 1745.68,1034.05 1741.83,1035.27 1738,1036.46 1734.18,1037.62 1730.38,1038.76 1726.59,1039.87 1722.82,1040.95 \n",
       "  1719.07,1042 1715.34,1043.03 1711.62,1044.02 1707.92,1044.99 1704.24,1045.93 1700.58,1046.84 1696.94,1047.72 1693.32,1048.57 1689.72,1049.39 1686.14,1050.19 \n",
       "  1682.58,1050.95 1679.04,1051.69 1675.53,1052.39 1672.03,1053.07 1668.56,1053.72 1665.11,1054.33 1661.69,1054.92 1658.29,1055.48 1654.91,1056.01 1651.56,1056.5 \n",
       "  1648.23,1056.97 1644.93,1057.41 1641.65,1057.82 1638.4,1058.2 1635.18,1058.55 1631.98,1058.86 1628.81,1059.15 1625.66,1059.41 1622.55,1059.64 1619.46,1059.83 \n",
       "  1616.4,1060 1613.37,1060.14 1610.37,1060.24 1607.4,1060.32 1604.45,1060.36 1601.54,1060.38 1598.66,1060.36 1595.81,1060.32 1592.99,1060.24 1590.2,1060.14 \n",
       "  1587.44,1060 1584.71,1059.83 1582.02,1059.64 1579.36,1059.41 1576.73,1059.15 1574.14,1058.86 1571.57,1058.55 1569.05,1058.2 1566.55,1057.82 1564.09,1057.41 \n",
       "  1561.67,1056.97 1559.27,1056.5 1556.92,1056.01 1554.6,1055.48 1552.31,1054.92 1550.06,1054.33 1547.85,1053.72 1545.67,1053.07 1543.53,1052.39 1541.43,1051.69 \n",
       "  1539.36,1050.95 1537.33,1050.19 1535.34,1049.39 1533.38,1048.57 1531.46,1047.72 1529.58,1046.84 1527.74,1045.93 1525.94,1044.99 1524.18,1044.02 1522.45,1043.03 \n",
       "  1520.77,1042 1519.12,1040.95 1517.51,1039.87 1515.94,1038.76 1514.41,1037.62 1512.93,1036.46 1511.48,1035.27 1510.07,1034.05 1508.7,1032.8 1507.37,1031.53 \n",
       "  1506.09,1030.22 1504.84,1028.89 1503.64,1027.54 1502.47,1026.16 1501.35,1024.75 1500.27,1023.31 1499.23,1021.85 1498.23,1020.36 1497.28,1018.85 1496.36,1017.31 \n",
       "  1495.49,1015.74 1494.66,1014.15 1493.87,1012.54 1493.12,1010.9 1492.42,1009.23 1491.75,1007.54 1491.14,1005.82 1490.56,1004.08 1490.02,1002.32 1489.53,1000.53 \n",
       "  1489.08,998.721 1488.67,996.885 1488.31,995.027 1487.99,993.145 1487.71,991.241 1487.47,989.313 1487.28,987.363 1487.13,985.391 1487.02,983.396 1486.96,981.38 \n",
       "  1486.94,979.342 1486.96,977.283 1487.02,975.202 1487.13,973.1 1487.28,970.978 1487.47,968.835 1487.71,966.672 1487.99,964.488 1488.31,962.285 1488.67,960.062 \n",
       "  1489.08,957.82 1489.53,955.559 1490.02,953.279 1490.56,950.981 1491.14,948.664 1491.75,946.328 1492.42,943.976 1493.12,941.605 1493.87,939.217 1494.66,936.812 \n",
       "  1495.49,934.391 1496.36,931.953 1497.28,929.498 1498.23,927.028 1499.23,924.542 1500.27,922.04 1501.35,919.523 1502.47,916.992 1503.64,914.446 1504.84,911.885 \n",
       "  1506.09,909.31 1507.37,906.722 1508.7,904.12 1510.07,901.505 1511.48,898.877 1512.93,896.236 1514.41,893.583 1515.94,890.918 1517.51,888.241 1519.12,885.553 \n",
       "  1520.77,882.854 1522.45,880.143 1524.18,877.422 1525.94,874.691 1527.74,871.95 1529.58,869.199 1531.46,866.439 1533.38,863.67 1535.34,860.892 1537.33,858.105 \n",
       "  1539.36,855.311 1541.43,852.508 1543.53,849.698 1545.67,846.881 1547.85,844.056 1550.06,841.226 1552.31,838.388 1554.6,835.545 1556.92,832.696 1559.27,829.842 \n",
       "  1561.67,826.983 1564.09,824.119 1566.55,821.25 1569.05,818.378 1571.57,815.502 1574.14,812.622 1576.73,809.739 1579.36,806.853 1582.02,803.964 1584.71,801.074 \n",
       "  1587.44,798.181 1590.2,795.287 1592.99,792.392 1595.81,789.495 1598.66,786.598 1601.54,783.701 1604.45,780.804 1607.4,777.907 1610.37,775.01 1613.37,772.115 \n",
       "  1616.4,769.221 1619.46,766.328 1622.55,763.437 1625.66,760.549 1628.81,757.663 1631.98,754.78 1635.18,751.9 1638.4,749.024 1641.65,746.151 1644.93,743.283 \n",
       "  1648.23,740.419 1651.56,737.56 1654.91,734.705 1658.29,731.857 1661.69,729.013 1665.11,726.176 1668.56,723.345 1672.03,720.521 1675.53,717.704 1679.04,714.894 \n",
       "  1682.58,712.091 1686.14,709.297 1689.72,706.51 1693.32,703.732 1696.94,700.963 1700.58,698.203 1704.24,695.452 1707.92,692.711 1711.62,689.979 1715.34,687.259 \n",
       "  1719.07,684.548 1722.82,681.849 1726.59,679.16 1730.38,676.484 1734.18,673.819 1738,671.166 1741.83,668.525 1745.68,665.897 1749.54,663.282 1753.42,660.68 \n",
       "  1757.31,658.091 1761.21,655.517 1765.13,652.956 1769.06,650.41 1773,647.878 1776.95,645.362 1780.91,642.86 1784.89,640.374 1788.87,637.904 1792.86,635.449 \n",
       "  1796.87,633.011 1800.88,630.589 1804.9,628.185 1808.93,625.797 1812.97,623.426 1817.01,621.073 1821.06,618.738 1825.12,616.421 1829.18,614.123 1833.25,611.843 \n",
       "  1837.32,609.581 1841.4,607.339 1845.48,605.117 1849.56,602.913 1853.65,600.73 1857.74,598.567 1861.83,596.424 1865.93,594.301 1870.03,592.2 1874.12,590.119 \n",
       "  1878.22,588.06 1882.32,586.022 1886.41,584.005 1890.51,582.011 1894.61,580.039 1898.7,578.089 1902.79,576.161 1906.88,574.257 1910.96,572.375 1915.04,570.516 \n",
       "  1919.12,568.681 1923.19,566.87 1927.26,565.082 1931.32,563.318 1935.38,561.579 1939.43,559.863 1943.47,558.173 1947.51,556.507 1951.54,554.865 1955.56,553.249 \n",
       "  1959.57,551.659 1963.58,550.094 1967.57,548.554 1971.55,547.04 1975.53,545.552 1979.49,544.09 1983.44,542.655 1987.38,541.246 1991.31,539.863 1995.23,538.507 \n",
       "  1999.13,537.179 2003.02,535.877 2006.9,534.602 2010.76,533.355 2014.61,532.135 2018.44,530.942 2022.26,529.778 2026.06,528.641 2029.85,527.532 2033.62,526.452 \n",
       "  2037.37,525.399 2041.1,524.375 2044.82,523.379 2048.52,522.412 2052.2,521.474 2055.86,520.564 2059.5,519.683 2063.12,518.831 2066.72,518.008 2070.3,517.215 \n",
       "  2073.86,516.45 2077.4,515.715 2080.92,515.009 2084.41,514.333 2087.88,513.686 2091.33,513.068 2094.75,512.481 2098.15,511.923 2101.53,511.395 2104.88,510.897 \n",
       "  2108.21,510.429 2111.51,509.99 2114.79,509.582 2118.04,509.204 2121.26,508.856 2124.46,508.538 2127.63,508.25 2130.78,507.993 2133.89,507.765 2136.98,507.568 \n",
       "  2140.04,507.402 2143.07,507.265 2146.07,507.159 2149.04,507.083 2151.99,507.038 2154.9,507.022 2157.78,507.038 2160.63,507.083 2163.45,507.159 2166.24,507.265 \n",
       "  2169,507.402 2171.73,507.568 2174.42,507.765 2177.08,507.993 2179.71,508.25 2182.3,508.538 2184.87,508.856 2187.39,509.204 2189.89,509.582 2192.35,509.99 \n",
       "  2194.77,510.429 2197.17,510.897 2199.52,511.395 2201.84,511.923 2204.13,512.481 2206.38,513.068 2208.59,513.686 2210.77,514.333 2212.91,515.009 2215.01,515.715 \n",
       "  2217.08,516.45 2219.11,517.215 2221.1,518.008 2223.06,518.831 2224.98,519.683 2226.86,520.564 2228.7,521.474 2230.5,522.412 2232.26,523.379 2233.99,524.375 \n",
       "  2235.67,525.399 2237.32,526.452 2238.93,527.532 2240.5,528.641 2242.03,529.778 2243.51,530.942 2244.96,532.135 2246.37,533.355 2247.74,534.602 2249.07,535.877 \n",
       "  2250.35,537.179 2251.6,538.507 2252.8,539.863 2253.97,541.246 2255.09,542.655 2256.17,544.09 2257.21,545.552 2258.21,547.04 2259.16,548.554 2260.08,550.094 \n",
       "  2260.95,551.659 2261.78,553.249 2262.57,554.865 2263.32,556.507 2264.02,558.173 2264.69,559.863 2265.31,561.579 2265.88,563.318 2266.42,565.082 2266.91,566.87 \n",
       "  2267.36,568.681 2267.77,570.516 2268.13,572.375 2268.45,574.257 2268.73,576.161 2268.97,578.089 2269.16,580.039 2269.31,582.011 2269.42,584.005 2269.48,586.022 \n",
       "  2269.5,588.06 \n",
       "  \"/>\n",
       "<polyline clip-path=\"url(#clip2303)\" style=\"stroke:#e26f46; stroke-width:4; stroke-opacity:1; fill:none\" stroke-dasharray=\"16, 10\" points=\"\n",
       "  2325.9,783.701 2325.87,779.013 2325.8,774.326 2325.67,769.639 2325.5,764.954 2325.28,760.271 2325.01,755.591 2324.69,750.914 2324.33,746.24 2323.91,741.571 \n",
       "  2323.44,736.906 2322.93,732.246 2322.37,727.592 2321.75,722.944 2321.09,718.303 2320.38,713.669 2319.63,709.043 2318.82,704.424 2317.97,699.815 2317.06,695.215 \n",
       "  2316.11,690.624 2315.11,686.044 2314.07,681.474 2312.97,676.915 2311.83,672.369 2310.64,667.834 2309.4,663.312 2308.12,658.803 2306.79,654.309 2305.41,649.828 \n",
       "  2303.98,645.362 2302.51,640.911 2300.99,636.475 2299.43,632.056 2297.82,627.654 2296.16,623.268 2294.46,618.901 2292.71,614.551 2290.92,610.22 2289.08,605.908 \n",
       "  2287.19,601.615 2285.26,597.342 2283.29,593.09 2281.27,588.859 2279.21,584.649 2277.1,580.461 2274.95,576.295 2272.76,572.152 2270.52,568.032 2268.24,563.935 \n",
       "  2265.92,559.863 2263.55,555.816 2261.15,551.793 2258.7,547.796 2256.2,543.825 2253.67,539.879 2251.1,535.961 2248.48,532.07 2245.83,528.207 2243.13,524.371 \n",
       "  2240.4,520.564 2237.62,516.786 2234.81,513.037 2231.95,509.318 2229.06,505.628 2226.13,501.97 2223.16,498.342 2220.15,494.745 2217.11,491.181 2214.03,487.648 \n",
       "  2210.91,484.148 2207.75,480.68 2204.56,477.246 2201.33,473.846 2198.07,470.479 2194.77,467.147 2191.44,463.849 2188.08,460.587 2184.67,457.36 2181.24,454.168 \n",
       "  2177.77,451.013 2174.27,447.895 2170.74,444.813 2167.18,441.768 2163.58,438.761 2159.95,435.792 2156.29,432.861 2152.6,429.968 2148.88,427.114 2145.14,424.299 \n",
       "  2141.36,421.524 2137.55,418.788 2133.71,416.093 2129.85,413.437 2125.96,410.823 2122.04,408.249 2118.1,405.716 2114.13,403.225 2110.13,400.775 2106.11,398.368 \n",
       "  2102.06,396.003 2097.99,393.68 2093.89,391.4 2089.77,389.163 2085.63,386.969 2081.46,384.819 2077.27,382.713 2073.06,380.65 2068.83,378.632 2064.58,376.658 \n",
       "  2060.31,374.729 2056.01,372.845 2051.7,371.006 2047.37,369.212 2043.02,367.463 2038.65,365.76 2034.27,364.103 2029.86,362.492 2025.45,360.927 2021.01,359.408 \n",
       "  2016.56,357.936 2012.09,356.511 2007.61,355.133 2003.12,353.801 1998.61,352.517 1994.09,351.28 1989.55,350.09 1985.01,348.948 1980.45,347.854 1975.88,346.807 \n",
       "  1971.3,345.808 1966.71,344.858 1962.11,343.955 1957.5,343.101 1952.88,342.295 1948.25,341.537 1943.62,340.828 1938.98,340.168 1934.33,339.556 1929.67,338.992 \n",
       "  1925.01,338.478 1920.35,338.012 1915.68,337.596 1911.01,337.228 1906.33,336.909 1901.65,336.639 1896.97,336.418 1892.28,336.247 1887.6,336.124 1882.91,336.05 \n",
       "  1878.22,336.026 1873.53,336.05 1868.84,336.124 1864.16,336.247 1859.47,336.418 1854.79,336.639 1850.11,336.909 1845.43,337.228 1840.76,337.596 1836.09,338.012 \n",
       "  1831.43,338.478 1826.77,338.992 1822.11,339.556 1817.46,340.168 1812.82,340.828 1808.19,341.537 1803.56,342.295 1798.94,343.101 1794.33,343.955 1789.73,344.858 \n",
       "  1785.14,345.808 1780.56,346.807 1775.99,347.854 1771.43,348.948 1766.89,350.09 1762.35,351.28 1757.83,352.517 1753.32,353.801 1748.83,355.133 1744.35,356.511 \n",
       "  1739.88,357.936 1735.43,359.408 1730.99,360.927 1726.58,362.492 1722.17,364.103 1717.79,365.76 1713.42,367.463 1709.07,369.212 1704.74,371.006 1700.43,372.845 \n",
       "  1696.13,374.729 1691.86,376.658 1687.61,378.632 1683.38,380.65 1679.17,382.713 1674.98,384.819 1670.81,386.969 1666.67,389.163 1662.55,391.4 1658.45,393.68 \n",
       "  1654.38,396.003 1650.33,398.368 1646.31,400.775 1642.32,403.225 1638.34,405.716 1634.4,408.249 1630.48,410.823 1626.59,413.437 1622.73,416.093 1618.89,418.788 \n",
       "  1615.08,421.524 1611.3,424.299 1607.56,427.114 1603.84,429.968 1600.15,432.861 1596.49,435.792 1592.86,438.761 1589.26,441.768 1585.7,444.813 1582.17,447.895 \n",
       "  1578.67,451.013 1575.2,454.168 1571.77,457.36 1568.36,460.587 1565,463.849 1561.67,467.147 1558.37,470.479 1555.11,473.846 1551.88,477.246 1548.69,480.68 \n",
       "  1545.53,484.148 1542.41,487.648 1539.33,491.181 1536.29,494.745 1533.28,498.342 1530.31,501.97 1527.38,505.628 1524.49,509.318 1521.63,513.037 1518.82,516.786 \n",
       "  1516.04,520.564 1513.31,524.371 1510.61,528.207 1507.96,532.07 1505.34,535.961 1502.77,539.879 1500.24,543.825 1497.74,547.796 1495.29,551.793 1492.89,555.816 \n",
       "  1490.52,559.863 1488.2,563.935 1485.92,568.032 1483.68,572.152 1481.49,576.295 1479.34,580.461 1477.23,584.649 1475.17,588.859 1473.15,593.09 1471.18,597.342 \n",
       "  1469.25,601.615 1467.36,605.908 1465.52,610.22 1463.73,614.551 1461.98,618.901 1460.28,623.268 1458.62,627.654 1457.01,632.056 1455.45,636.475 1453.93,640.911 \n",
       "  1452.46,645.362 1451.03,649.828 1449.65,654.309 1448.32,658.803 1447.04,663.312 1445.8,667.834 1444.61,672.369 1443.47,676.915 1442.37,681.474 1441.33,686.044 \n",
       "  1440.33,690.624 1439.38,695.215 1438.47,699.815 1437.62,704.424 1436.81,709.043 1436.06,713.669 1435.35,718.303 1434.69,722.944 1434.07,727.592 1433.51,732.246 \n",
       "  1433,736.906 1432.53,741.571 1432.11,746.24 1431.75,750.914 1431.43,755.591 1431.16,760.271 1430.94,764.954 1430.77,769.639 1430.64,774.326 1430.57,779.013 \n",
       "  1430.54,783.701 1430.57,788.389 1430.64,793.076 1430.77,797.763 1430.94,802.448 1431.16,807.13 1431.43,811.811 1431.75,816.488 1432.11,821.161 1432.53,825.831 \n",
       "  1433,830.496 1433.51,835.155 1434.07,839.81 1434.69,844.457 1435.35,849.099 1436.06,853.733 1436.81,858.359 1437.62,862.977 1438.47,867.587 1439.38,872.187 \n",
       "  1440.33,876.778 1441.33,881.358 1442.37,885.928 1443.47,890.486 1444.61,895.033 1445.8,899.568 1447.04,904.09 1448.32,908.598 1449.65,913.093 1451.03,917.574 \n",
       "  1452.46,922.04 1453.93,926.491 1455.45,930.926 1457.01,935.346 1458.62,939.748 1460.28,944.133 1461.98,948.501 1463.73,952.851 1465.52,957.182 1467.36,961.494 \n",
       "  1469.25,965.787 1471.18,970.06 1473.15,974.312 1475.17,978.543 1477.23,982.753 1479.34,986.941 1481.49,991.107 1483.68,995.25 1485.92,999.37 1488.2,1003.47 \n",
       "  1490.52,1007.54 1492.89,1011.59 1495.29,1015.61 1497.74,1019.61 1500.24,1023.58 1502.77,1027.52 1505.34,1031.44 1507.96,1035.33 1510.61,1039.2 1513.31,1043.03 \n",
       "  1516.04,1046.84 1518.82,1050.62 1521.63,1054.36 1524.49,1058.08 1527.38,1061.77 1530.31,1065.43 1533.28,1069.06 1536.29,1072.66 1539.33,1076.22 1542.41,1079.75 \n",
       "  1545.53,1083.25 1548.69,1086.72 1551.88,1090.16 1555.11,1093.56 1558.37,1096.92 1561.67,1100.26 1565,1103.55 1568.36,1106.82 1571.77,1110.04 1575.2,1113.23 \n",
       "  1578.67,1116.39 1582.17,1119.51 1585.7,1122.59 1589.26,1125.63 1592.86,1128.64 1596.49,1131.61 1600.15,1134.54 1603.84,1137.43 1607.56,1140.29 1611.3,1143.1 \n",
       "  1615.08,1145.88 1618.89,1148.61 1622.73,1151.31 1626.59,1153.96 1630.48,1156.58 1634.4,1159.15 1638.34,1161.69 1642.32,1164.18 1646.31,1166.63 1650.33,1169.03 \n",
       "  1654.38,1171.4 1658.45,1173.72 1662.55,1176 1666.67,1178.24 1670.81,1180.43 1674.98,1182.58 1679.17,1184.69 1683.38,1186.75 1687.61,1188.77 1691.86,1190.74 \n",
       "  1696.13,1192.67 1700.43,1194.56 1704.74,1196.4 1709.07,1198.19 1713.42,1199.94 1717.79,1201.64 1722.17,1203.3 1726.58,1204.91 1730.99,1206.47 1735.43,1207.99 \n",
       "  1739.88,1209.47 1744.35,1210.89 1748.83,1212.27 1753.32,1213.6 1757.83,1214.88 1762.35,1216.12 1766.89,1217.31 1771.43,1218.45 1775.99,1219.55 1780.56,1220.59 \n",
       "  1785.14,1221.59 1789.73,1222.54 1794.33,1223.45 1798.94,1224.3 1803.56,1225.11 1808.19,1225.86 1812.82,1226.57 1817.46,1227.23 1822.11,1227.85 1826.77,1228.41 \n",
       "  1831.43,1228.92 1836.09,1229.39 1840.76,1229.81 1845.43,1230.17 1850.11,1230.49 1854.79,1230.76 1859.47,1230.98 1864.16,1231.16 1868.84,1231.28 1873.53,1231.35 \n",
       "  1878.22,1231.38 1882.91,1231.35 1887.6,1231.28 1892.28,1231.16 1896.97,1230.98 1901.65,1230.76 1906.33,1230.49 1911.01,1230.17 1915.68,1229.81 1920.35,1229.39 \n",
       "  1925.01,1228.92 1929.67,1228.41 1934.33,1227.85 1938.98,1227.23 1943.62,1226.57 1948.25,1225.86 1952.88,1225.11 1957.5,1224.3 1962.11,1223.45 1966.71,1222.54 \n",
       "  1971.3,1221.59 1975.88,1220.59 1980.45,1219.55 1985.01,1218.45 1989.55,1217.31 1994.09,1216.12 1998.61,1214.88 2003.12,1213.6 2007.61,1212.27 2012.09,1210.89 \n",
       "  2016.56,1209.47 2021.01,1207.99 2025.45,1206.47 2029.86,1204.91 2034.27,1203.3 2038.65,1201.64 2043.02,1199.94 2047.37,1198.19 2051.7,1196.4 2056.01,1194.56 \n",
       "  2060.31,1192.67 2064.58,1190.74 2068.83,1188.77 2073.06,1186.75 2077.27,1184.69 2081.46,1182.58 2085.63,1180.43 2089.77,1178.24 2093.89,1176 2097.99,1173.72 \n",
       "  2102.06,1171.4 2106.11,1169.03 2110.13,1166.63 2114.13,1164.18 2118.1,1161.69 2122.04,1159.15 2125.96,1156.58 2129.85,1153.96 2133.71,1151.31 2137.55,1148.61 \n",
       "  2141.36,1145.88 2145.14,1143.1 2148.88,1140.29 2152.6,1137.43 2156.29,1134.54 2159.95,1131.61 2163.58,1128.64 2167.18,1125.63 2170.74,1122.59 2174.27,1119.51 \n",
       "  2177.77,1116.39 2181.24,1113.23 2184.67,1110.04 2188.08,1106.82 2191.44,1103.55 2194.77,1100.26 2198.07,1096.92 2201.33,1093.56 2204.56,1090.16 2207.75,1086.72 \n",
       "  2210.91,1083.25 2214.03,1079.75 2217.11,1076.22 2220.15,1072.66 2223.16,1069.06 2226.13,1065.43 2229.06,1061.77 2231.95,1058.08 2234.81,1054.36 2237.62,1050.62 \n",
       "  2240.4,1046.84 2243.13,1043.03 2245.83,1039.2 2248.48,1035.33 2251.1,1031.44 2253.67,1027.52 2256.2,1023.58 2258.7,1019.61 2261.15,1015.61 2263.55,1011.59 \n",
       "  2265.92,1007.54 2268.24,1003.47 2270.52,999.37 2272.76,995.25 2274.95,991.107 2277.1,986.941 2279.21,982.753 2281.27,978.543 2283.29,974.312 2285.26,970.06 \n",
       "  2287.19,965.787 2289.08,961.494 2290.92,957.182 2292.71,952.851 2294.46,948.501 2296.16,944.133 2297.82,939.748 2299.43,935.346 2300.99,930.926 2302.51,926.491 \n",
       "  2303.98,922.04 2305.41,917.574 2306.79,913.093 2308.12,908.598 2309.4,904.09 2310.64,899.568 2311.83,895.033 2312.97,890.486 2314.07,885.928 2315.11,881.358 \n",
       "  2316.11,876.778 2317.06,872.187 2317.97,867.587 2318.82,862.977 2319.63,858.359 2320.38,853.733 2321.09,849.099 2321.75,844.457 2322.37,839.81 2322.93,835.155 \n",
       "  2323.44,830.496 2323.91,825.831 2324.33,821.161 2324.69,816.488 2325.01,811.811 2325.28,807.13 2325.5,802.448 2325.67,797.763 2325.8,793.076 2325.87,788.389 \n",
       "  2325.9,783.701 \n",
       "  \"/>\n",
       "</svg>\n"
      ]
     },
     "execution_count": 97,
     "metadata": {},
     "output_type": "execute_result"
    }
   ],
   "source": [
    "plot!(Ax[1,:],Ax[2,:],subplot=2,aspect_ratio=1,\n",
    "    title=\"Image under map\",leg=:none,xlabel=\"\\$x_1\\$\",ylabel=\"\\$x_2\\$\")\n",
    "plot!(twonorm*x[1,:],twonorm*x[2,:],subplot=2,l=:dash)"
   ]
  },
  {
   "cell_type": "markdown",
   "metadata": {},
   "source": [
    "# Example 2.8.1"
   ]
  },
  {
   "cell_type": "markdown",
   "metadata": {},
   "source": [
    "Julia has a function `cond` to compute matrix condition numbers. By default, the 2-norm is used. As an example, the family of *Hilbert matrices* is famously badly conditioned. Here is the $7\\times 7$  case. "
   ]
  },
  {
   "cell_type": "code",
   "execution_count": 98,
   "metadata": {},
   "outputs": [
    {
     "data": {
      "text/plain": [
       "7×7 Array{Float64,2}:\n",
       " 0.5       0.333333  0.25      0.2        0.166667   0.142857   0.125    \n",
       " 0.333333  0.25      0.2       0.166667   0.142857   0.125      0.111111 \n",
       " 0.25      0.2       0.166667  0.142857   0.125      0.111111   0.1      \n",
       " 0.2       0.166667  0.142857  0.125      0.111111   0.1        0.0909091\n",
       " 0.166667  0.142857  0.125     0.111111   0.1        0.0909091  0.0833333\n",
       " 0.142857  0.125     0.111111  0.1        0.0909091  0.0833333  0.0769231\n",
       " 0.125     0.111111  0.1       0.0909091  0.0833333  0.0769231  0.0714286"
      ]
     },
     "execution_count": 98,
     "metadata": {},
     "output_type": "execute_result"
    }
   ],
   "source": [
    "A = [ 1/(i+j) for i=1:7, j=1:7 ]"
   ]
  },
  {
   "cell_type": "code",
   "execution_count": 99,
   "metadata": {},
   "outputs": [
    {
     "data": {
      "text/plain": [
       "1.6978363217187743e9"
      ]
     },
     "execution_count": 99,
     "metadata": {},
     "output_type": "execute_result"
    }
   ],
   "source": [
    "kappa = cond(A)"
   ]
  },
  {
   "cell_type": "markdown",
   "metadata": {},
   "source": [
    "Next we engineer a linear system problem to which we know the exact answer."
   ]
  },
  {
   "cell_type": "code",
   "execution_count": 100,
   "metadata": {},
   "outputs": [
    {
     "data": {
      "text/plain": [
       "7-element Array{Float64,1}:\n",
       " 5.282142857142857 \n",
       " 4.342063492063492 \n",
       " 3.7130952380952382\n",
       " 3.2538239538239537\n",
       " 2.900613275613275 \n",
       " 2.619197469197469 \n",
       " 2.389063714063714 "
      ]
     },
     "execution_count": 100,
     "metadata": {},
     "output_type": "execute_result"
    }
   ],
   "source": [
    "x_exact = 1.:7.\n",
    "b = A*x_exact"
   ]
  },
  {
   "cell_type": "markdown",
   "metadata": {},
   "source": [
    "Now we perturb the data randomly with a vector of norm $10^{-12}$. "
   ]
  },
  {
   "cell_type": "code",
   "execution_count": 101,
   "metadata": {},
   "outputs": [],
   "source": [
    "dA = randn(size(A));  dA = 1e-12*(dA/norm(dA));\n",
    "db = randn(size(b));  db = 1e-12*(db/norm(db));"
   ]
  },
  {
   "cell_type": "markdown",
   "metadata": {},
   "source": [
    "We solve the perturbed problem using built-in pivoted LU and see how the solution was changed."
   ]
  },
  {
   "cell_type": "code",
   "execution_count": 102,
   "metadata": {},
   "outputs": [],
   "source": [
    "x = (A+dA) \\ (b+db); \n",
    "dx = x - x_exact;"
   ]
  },
  {
   "cell_type": "markdown",
   "metadata": {},
   "source": [
    "Here is the relative error in the solution."
   ]
  },
  {
   "cell_type": "code",
   "execution_count": 103,
   "metadata": {},
   "outputs": [
    {
     "data": {
      "text/plain": [
       "0.0003655055219085402"
      ]
     },
     "execution_count": 103,
     "metadata": {},
     "output_type": "execute_result"
    }
   ],
   "source": [
    "rel_error = norm(dx) / norm(x_exact)"
   ]
  },
  {
   "cell_type": "markdown",
   "metadata": {},
   "source": [
    "And here are upper bounds predicted using the condition number of the original matrix. "
   ]
  },
  {
   "cell_type": "code",
   "execution_count": 104,
   "metadata": {},
   "outputs": [
    {
     "name": "stdout",
     "output_type": "stream",
     "text": [
      "b_bound = (kappa * 1.0e-12) / norm(b) = 0.00017690558703123912\n",
      "A_bound = (kappa * 1.0e-12) / norm(A) = 0.0014425077292288535\n"
     ]
    }
   ],
   "source": [
    "@show b_bound = kappa * 1e-12/norm(b);\n",
    "@show A_bound = kappa * 1e-12/norm(A);"
   ]
  },
  {
   "cell_type": "markdown",
   "metadata": {},
   "source": [
    "Even if we don't make any manual perturbations to the data, machine epsilon does when we solve the linear system numerically."
   ]
  },
  {
   "cell_type": "code",
   "execution_count": 105,
   "metadata": {},
   "outputs": [
    {
     "name": "stdout",
     "output_type": "stream",
     "text": [
      "rel_error = norm(x - x_exact) / norm(x_exact) = 3.6591498138119105e-8\n",
      "rounding_bound = kappa * eps() = 3.769953952834136e-7\n"
     ]
    }
   ],
   "source": [
    "x = A\\b;\n",
    "@show rel_error = norm(x - x_exact) / norm(x_exact);\n",
    "@show rounding_bound = kappa*eps();"
   ]
  },
  {
   "cell_type": "markdown",
   "metadata": {},
   "source": [
    "Because $\\kappa\\approx 10^8$, it's possible to lose 8 digits of accuracy in the process of passing from $A$ and $b$ to $x$. That's independent of the algorithm; it's inevitable once the data are expressed in double precision. \n",
    "\n",
    "Larger Hilbert matrices are even more poorly conditioned."
   ]
  },
  {
   "cell_type": "code",
   "execution_count": 106,
   "metadata": {},
   "outputs": [
    {
     "data": {
      "text/plain": [
       "2.9943121605195904e17"
      ]
     },
     "execution_count": 106,
     "metadata": {},
     "output_type": "execute_result"
    }
   ],
   "source": [
    "A = [ 1/(i+j) for i=1:14, j=1:14 ];\n",
    "kappa = cond(A)"
   ]
  },
  {
   "cell_type": "markdown",
   "metadata": {},
   "source": [
    "Before we compute the solution, note that $\\kappa$ exceeds `1/eps()`. In principle we therefore might end up with an answer that is completely wrong (i.e., a relative error greater than 100%)."
   ]
  },
  {
   "cell_type": "code",
   "execution_count": 107,
   "metadata": {},
   "outputs": [
    {
     "data": {
      "text/plain": [
       "66.48708607047894"
      ]
     },
     "execution_count": 107,
     "metadata": {},
     "output_type": "execute_result"
    }
   ],
   "source": [
    "rounding_bound = kappa*eps()"
   ]
  },
  {
   "cell_type": "code",
   "execution_count": 108,
   "metadata": {},
   "outputs": [],
   "source": [
    "x_exact = 1.:14.;\n",
    "b = A*x_exact;  \n",
    "x = A\\b;"
   ]
  },
  {
   "cell_type": "markdown",
   "metadata": {},
   "source": [
    "We got an answer. But in fact the error does exceed 100%."
   ]
  },
  {
   "cell_type": "code",
   "execution_count": 109,
   "metadata": {},
   "outputs": [
    {
     "data": {
      "text/plain": [
       "10.847226987239631"
      ]
     },
     "execution_count": 109,
     "metadata": {},
     "output_type": "execute_result"
    }
   ],
   "source": [
    "relative_error = norm(x_exact - x) / norm(x_exact)"
   ]
  },
  {
   "cell_type": "markdown",
   "metadata": {},
   "source": [
    "# Example 2.9.1"
   ]
  },
  {
   "cell_type": "markdown",
   "metadata": {},
   "source": [
    "Here is a matrix with both lower and upper bandwidth equal to one. Such a matrix is called tridiagonal."
   ]
  },
  {
   "cell_type": "code",
   "execution_count": 110,
   "metadata": {},
   "outputs": [
    {
     "data": {
      "text/plain": [
       "6×6 Array{Int64,2}:\n",
       " 2  -1   0   0   0   0\n",
       " 4   2  -1   0   0   0\n",
       " 0   3   0  -1   0   0\n",
       " 0   0   2   2  -1   0\n",
       " 0   0   0   1   1  -1\n",
       " 0   0   0   0   0   2"
      ]
     },
     "execution_count": 110,
     "metadata": {},
     "output_type": "execute_result"
    }
   ],
   "source": [
    "A = [ 2 -1  0  0  0  0\n",
    "      4  2 -1  0  0  0\n",
    "      0  3  0 -1  0  0\n",
    "      0  0  2  2 -1  0\n",
    "      0  0  0  1  1 -1\n",
    "      0  0  0  0  0  2 ]"
   ]
  },
  {
   "cell_type": "markdown",
   "metadata": {},
   "source": [
    "We can extract the elements on any diagonal using the `diag` command. The \"main\" or central diagonal is numbered zero, above and to the right of that is positive, and below and to the left is negative."
   ]
  },
  {
   "cell_type": "code",
   "execution_count": 111,
   "metadata": {},
   "outputs": [
    {
     "data": {
      "text/plain": [
       "6-element Array{Int64,1}:\n",
       " 2\n",
       " 2\n",
       " 0\n",
       " 2\n",
       " 1\n",
       " 2"
      ]
     },
     "execution_count": 111,
     "metadata": {},
     "output_type": "execute_result"
    }
   ],
   "source": [
    "diag_main = diag(A,0)"
   ]
  },
  {
   "cell_type": "code",
   "execution_count": 112,
   "metadata": {},
   "outputs": [
    {
     "data": {
      "text/plain": [
       "5-element Array{Int64,1}:\n",
       " -1\n",
       " -1\n",
       " -1\n",
       " -1\n",
       " -1"
      ]
     },
     "execution_count": 112,
     "metadata": {},
     "output_type": "execute_result"
    }
   ],
   "source": [
    "diag_plusone = diag(A,1)"
   ]
  },
  {
   "cell_type": "code",
   "execution_count": 113,
   "metadata": {},
   "outputs": [
    {
     "data": {
      "text/plain": [
       "5-element Array{Int64,1}:\n",
       " 4\n",
       " 3\n",
       " 2\n",
       " 1\n",
       " 0"
      ]
     },
     "execution_count": 113,
     "metadata": {},
     "output_type": "execute_result"
    }
   ],
   "source": [
    "diag_minusone = diag(A,-1)"
   ]
  },
  {
   "cell_type": "markdown",
   "metadata": {},
   "source": [
    "We can also put whatever numbers we like onto any diagonal with the `diagm` command."
   ]
  },
  {
   "cell_type": "code",
   "execution_count": 114,
   "metadata": {},
   "outputs": [
    {
     "data": {
      "text/plain": [
       "6×6 Array{Float64,2}:\n",
       " 2.0  -1.0   3.14159   0.0   0.0   0.0\n",
       " 4.0   2.0  -1.0       8.0   0.0   0.0\n",
       " 0.0   3.0   0.0      -1.0   6.0   0.0\n",
       " 0.0   0.0   2.0       2.0  -1.0   7.0\n",
       " 0.0   0.0   0.0       1.0   1.0  -1.0\n",
       " 0.0   0.0   0.0       0.0   0.0   2.0"
      ]
     },
     "execution_count": 114,
     "metadata": {},
     "output_type": "execute_result"
    }
   ],
   "source": [
    "A = A + diagm(2=>[pi,8,6,7])"
   ]
  },
  {
   "cell_type": "code",
   "execution_count": 115,
   "metadata": {},
   "outputs": [
    {
     "data": {
      "text/plain": [
       "6×6 Array{Float64,2}:\n",
       " 1.0  0.0   0.0      0.0       0.0  0.0\n",
       " 2.0  1.0   0.0      0.0       0.0  0.0\n",
       " 0.0  0.75  1.0      0.0       0.0  0.0\n",
       " 0.0  0.0   0.36614  1.0       0.0  0.0\n",
       " 0.0  0.0   0.0      0.219155  1.0  0.0\n",
       " 0.0  0.0   0.0      0.0       0.0  1.0"
      ]
     },
     "execution_count": 115,
     "metadata": {},
     "output_type": "execute_result"
    }
   ],
   "source": [
    "L,U = FNC.lufact(A)\n",
    "L"
   ]
  },
  {
   "cell_type": "code",
   "execution_count": 116,
   "metadata": {},
   "outputs": [
    {
     "data": {
      "text/plain": [
       "6×6 Array{Float64,2}:\n",
       " 2.0  -1.0   3.14159   0.0       0.0       0.0    \n",
       " 0.0   4.0  -7.28319   8.0       0.0       0.0    \n",
       " 0.0   0.0   5.46239  -7.0       6.0       0.0    \n",
       " 0.0   0.0   0.0       4.56298  -3.19684   7.0    \n",
       " 0.0   0.0   0.0       0.0       1.7006   -2.53408\n",
       " 0.0   0.0   0.0       0.0       0.0       2.0    "
      ]
     },
     "execution_count": 116,
     "metadata": {},
     "output_type": "execute_result"
    }
   ],
   "source": [
    "U"
   ]
  },
  {
   "cell_type": "markdown",
   "metadata": {},
   "source": [
    "Observe above that the lower and upper bandwidths of $A$ are preserved in the $L$ and $U$ results."
   ]
  },
  {
   "cell_type": "markdown",
   "metadata": {},
   "source": [
    "# Example 2.9.2"
   ]
  },
  {
   "cell_type": "markdown",
   "metadata": {},
   "source": [
    "We'll use a large banded matrix to observe the speedup possible in LU factorization. We'll also need to load in a (standard) package for sparse matrices."
   ]
  },
  {
   "cell_type": "markdown",
   "metadata": {},
   "source": [
    "If we use an ordinary \"dense\" matrix, then there's no way to exploit a banded structure such as tridiagonality."
   ]
  },
  {
   "cell_type": "code",
   "execution_count": 117,
   "metadata": {},
   "outputs": [
    {
     "data": {
      "text/plain": [
       "10000×10000 Array{Float64,2}:\n",
       " 1.0  9999.0     0.0     0.0     0.0  …     0.0     0.0     0.0      0.0\n",
       " 1.0     2.0  9998.0     0.0     0.0        0.0     0.0     0.0      0.0\n",
       " 0.0     1.0     3.0  9997.0     0.0        0.0     0.0     0.0      0.0\n",
       " 0.0     0.0     1.0     4.0  9996.0        0.0     0.0     0.0      0.0\n",
       " 0.0     0.0     0.0     1.0     5.0        0.0     0.0     0.0      0.0\n",
       " 0.0     0.0     0.0     0.0     1.0  …     0.0     0.0     0.0      0.0\n",
       " 0.0     0.0     0.0     0.0     0.0        0.0     0.0     0.0      0.0\n",
       " 0.0     0.0     0.0     0.0     0.0        0.0     0.0     0.0      0.0\n",
       " 0.0     0.0     0.0     0.0     0.0        0.0     0.0     0.0      0.0\n",
       " 0.0     0.0     0.0     0.0     0.0        0.0     0.0     0.0      0.0\n",
       " 0.0     0.0     0.0     0.0     0.0  …     0.0     0.0     0.0      0.0\n",
       " 0.0     0.0     0.0     0.0     0.0        0.0     0.0     0.0      0.0\n",
       " 0.0     0.0     0.0     0.0     0.0        0.0     0.0     0.0      0.0\n",
       " ⋮                                    ⋱                                 \n",
       " 0.0     0.0     0.0     0.0     0.0        0.0     0.0     0.0      0.0\n",
       " 0.0     0.0     0.0     0.0     0.0        0.0     0.0     0.0      0.0\n",
       " 0.0     0.0     0.0     0.0     0.0  …     0.0     0.0     0.0      0.0\n",
       " 0.0     0.0     0.0     0.0     0.0        0.0     0.0     0.0      0.0\n",
       " 0.0     0.0     0.0     0.0     0.0        0.0     0.0     0.0      0.0\n",
       " 0.0     0.0     0.0     0.0     0.0        0.0     0.0     0.0      0.0\n",
       " 0.0     0.0     0.0     0.0     0.0        0.0     0.0     0.0      0.0\n",
       " 0.0     0.0     0.0     0.0     0.0  …     4.0     0.0     0.0      0.0\n",
       " 0.0     0.0     0.0     0.0     0.0     9997.0     3.0     0.0      0.0\n",
       " 0.0     0.0     0.0     0.0     0.0        1.0  9998.0     2.0      0.0\n",
       " 0.0     0.0     0.0     0.0     0.0        0.0     1.0  9999.0      1.0\n",
       " 0.0     0.0     0.0     0.0     0.0        0.0     0.0     1.0  10000.0"
      ]
     },
     "execution_count": 117,
     "metadata": {},
     "output_type": "execute_result"
    }
   ],
   "source": [
    "n = 10000\n",
    "A = diagm(0=>1:n,1=>n-1:-1:1,-1=>ones(n-1))"
   ]
  },
  {
   "cell_type": "code",
   "execution_count": 118,
   "metadata": {},
   "outputs": [
    {
     "name": "stdout",
     "output_type": "stream",
     "text": [
      "  8.299734 seconds (9 allocations: 763.016 MiB, 1.69% gc time)\n"
     ]
    }
   ],
   "source": [
    "@time lu(A);"
   ]
  },
  {
   "cell_type": "markdown",
   "metadata": {},
   "source": [
    "If instead we construct a proper \"sparse\" matrix, though, the speedup can be dramatic."
   ]
  },
  {
   "cell_type": "code",
   "execution_count": 119,
   "metadata": {},
   "outputs": [
    {
     "data": {
      "text/plain": [
       "10000×10000 SparseMatrixCSC{Float64,Int64} with 29998 stored entries:\n",
       "  [1    ,     1]  =  1.0\n",
       "  [2    ,     1]  =  1.0\n",
       "  [1    ,     2]  =  9999.0\n",
       "  [2    ,     2]  =  2.0\n",
       "  [3    ,     2]  =  1.0\n",
       "  [2    ,     3]  =  9998.0\n",
       "  [3    ,     3]  =  3.0\n",
       "  [4    ,     3]  =  1.0\n",
       "  [3    ,     4]  =  9997.0\n",
       "  [4    ,     4]  =  4.0\n",
       "  [5    ,     4]  =  1.0\n",
       "  [4    ,     5]  =  9996.0\n",
       "  ⋮\n",
       "  [9997 ,  9996]  =  1.0\n",
       "  [9996 ,  9997]  =  4.0\n",
       "  [9997 ,  9997]  =  9997.0\n",
       "  [9998 ,  9997]  =  1.0\n",
       "  [9997 ,  9998]  =  3.0\n",
       "  [9998 ,  9998]  =  9998.0\n",
       "  [9999 ,  9998]  =  1.0\n",
       "  [9998 ,  9999]  =  2.0\n",
       "  [9999 ,  9999]  =  9999.0\n",
       "  [10000,  9999]  =  1.0\n",
       "  [9999 , 10000]  =  1.0\n",
       "  [10000, 10000]  =  10000.0"
      ]
     },
     "execution_count": 119,
     "metadata": {},
     "output_type": "execute_result"
    }
   ],
   "source": [
    "A = spdiagm(0=>1:n,1=>n-1:-1:1,-1=>ones(n-1))"
   ]
  },
  {
   "cell_type": "code",
   "execution_count": 120,
   "metadata": {},
   "outputs": [
    {
     "name": "stdout",
     "output_type": "stream",
     "text": [
      "  0.194607 seconds (424.66 k allocations: 31.096 MiB, 4.28% gc time)\n"
     ]
    }
   ],
   "source": [
    "@time lu(A);"
   ]
  },
  {
   "cell_type": "markdown",
   "metadata": {},
   "source": [
    "# Example 2.9.3"
   ]
  },
  {
   "cell_type": "markdown",
   "metadata": {},
   "source": [
    "We begin with a symmetric $A$. "
   ]
  },
  {
   "cell_type": "code",
   "execution_count": 121,
   "metadata": {},
   "outputs": [],
   "source": [
    "A = [  2     4     4     2\n",
    "       4     5     8    -5\n",
    "       4     8     6     2\n",
    "       2    -5     2   -26 ];"
   ]
  },
  {
   "cell_type": "markdown",
   "metadata": {},
   "source": [
    "Carrying out our usual elimination in the first column leads us to "
   ]
  },
  {
   "cell_type": "code",
   "execution_count": 122,
   "metadata": {},
   "outputs": [
    {
     "data": {
      "text/plain": [
       "4×4 Array{Float64,2}:\n",
       " 2.0   4.0   4.0    2.0\n",
       " 0.0  -3.0   0.0   -9.0\n",
       " 0.0   0.0  -2.0   -2.0\n",
       " 0.0  -9.0  -2.0  -28.0"
      ]
     },
     "execution_count": 122,
     "metadata": {},
     "output_type": "execute_result"
    }
   ],
   "source": [
    "L1 = diagm(0=>ones(4))\n",
    "L1[2:4,1] = [-2,-2,-1]\n",
    "A1 = L1*A"
   ]
  },
  {
   "cell_type": "markdown",
   "metadata": {},
   "source": [
    "But now let's note that if we transpose this result, we have the same first column as before! So we could apply  again and then transpose back."
   ]
  },
  {
   "cell_type": "code",
   "execution_count": 123,
   "metadata": {},
   "outputs": [
    {
     "data": {
      "text/plain": [
       "4×4 Adjoint{Float64,Array{Float64,2}}:\n",
       " 2.0   0.0   0.0    0.0\n",
       " 0.0  -3.0   0.0   -9.0\n",
       " 0.0   0.0  -2.0   -2.0\n",
       " 0.0  -9.0  -2.0  -28.0"
      ]
     },
     "execution_count": 123,
     "metadata": {},
     "output_type": "execute_result"
    }
   ],
   "source": [
    "A2 = (L1*A1')'"
   ]
  },
  {
   "cell_type": "markdown",
   "metadata": {},
   "source": [
    "Using transpose identities, this is just"
   ]
  },
  {
   "cell_type": "code",
   "execution_count": 124,
   "metadata": {},
   "outputs": [
    {
     "data": {
      "text/plain": [
       "4×4 Array{Float64,2}:\n",
       " 2.0   0.0   0.0    0.0\n",
       " 0.0  -3.0   0.0   -9.0\n",
       " 0.0   0.0  -2.0   -2.0\n",
       " 0.0  -9.0  -2.0  -28.0"
      ]
     },
     "execution_count": 124,
     "metadata": {},
     "output_type": "execute_result"
    }
   ],
   "source": [
    "A2 = A1*L1'"
   ]
  },
  {
   "cell_type": "markdown",
   "metadata": {},
   "source": [
    "Now you can see how we proceed down and to the right, eliminating in a column and then symmetrically in the corresponding row."
   ]
  },
  {
   "cell_type": "code",
   "execution_count": 125,
   "metadata": {},
   "outputs": [
    {
     "data": {
      "text/plain": [
       "4×4 Array{Float64,2}:\n",
       " 2.0   0.0   0.0   0.0\n",
       " 0.0  -3.0   0.0   0.0\n",
       " 0.0   0.0  -2.0  -2.0\n",
       " 0.0   0.0  -2.0  -1.0"
      ]
     },
     "execution_count": 125,
     "metadata": {},
     "output_type": "execute_result"
    }
   ],
   "source": [
    "L2 = diagm(0=>ones(4))\n",
    "L2[3:4,2] = [0,-3]\n",
    "A3 = L2*A2*L2'"
   ]
  },
  {
   "cell_type": "markdown",
   "metadata": {},
   "source": [
    "Finally, we arrive at a diagonal matrix."
   ]
  },
  {
   "cell_type": "code",
   "execution_count": 126,
   "metadata": {},
   "outputs": [
    {
     "data": {
      "text/plain": [
       "4×4 Array{Float64,2}:\n",
       " 2.0   0.0   0.0  0.0\n",
       " 0.0  -3.0   0.0  0.0\n",
       " 0.0   0.0  -2.0  0.0\n",
       " 0.0   0.0   0.0  1.0"
      ]
     },
     "execution_count": 126,
     "metadata": {},
     "output_type": "execute_result"
    }
   ],
   "source": [
    "L3 = diagm(0=>ones(4))\n",
    "L3[4,3] = -1\n",
    "D = L3*A3*L3'"
   ]
  },
  {
   "cell_type": "markdown",
   "metadata": {},
   "source": [
    "# Example 2.9.4"
   ]
  },
  {
   "cell_type": "markdown",
   "metadata": {},
   "source": [
    "A randomly chosen matrix is extremely unlikely to be symmetric. However, there is a simple way to symmetrize one."
   ]
  },
  {
   "cell_type": "code",
   "execution_count": 127,
   "metadata": {},
   "outputs": [
    {
     "data": {
      "text/plain": [
       "4×4 Array{Float64,2}:\n",
       " 14.0  16.0   8.0  11.0\n",
       " 16.0  16.0   7.0   3.0\n",
       "  8.0   7.0  18.0   3.0\n",
       " 11.0   3.0   3.0   8.0"
      ]
     },
     "execution_count": 127,
     "metadata": {},
     "output_type": "execute_result"
    }
   ],
   "source": [
    "A = rand(1.:9.,4,4)\n",
    "B = A + A'"
   ]
  },
  {
   "cell_type": "markdown",
   "metadata": {},
   "source": [
    "Similarly, a random symmetric matrix is unlikely to be positive definite. The Cholesky algorithm always detects a non-PD matrix by quitting with an error."
   ]
  },
  {
   "cell_type": "code",
   "execution_count": 128,
   "metadata": {},
   "outputs": [
    {
     "ename": "PosDefException",
     "evalue": "PosDefException: matrix is not positive definite; Cholesky factorization failed.",
     "output_type": "error",
     "traceback": [
      "PosDefException: matrix is not positive definite; Cholesky factorization failed.",
      "",
      "Stacktrace:",
      " [1] checkpositivedefinite at /Users/osx/buildbot/slave/package_osx64/build/usr/share/julia/stdlib/v1.1/LinearAlgebra/src/factorization.jl:11 [inlined]",
      " [2] #cholesky!#96(::Bool, ::Function, ::Hermitian{Float64,Array{Float64,2}}, ::Val{false}) at /Users/osx/buildbot/slave/package_osx64/build/usr/share/julia/stdlib/v1.1/LinearAlgebra/src/cholesky.jl:153",
      " [3] #cholesky! at ./none:0 [inlined]",
      " [4] #cholesky!#97(::Bool, ::Function, ::Array{Float64,2}, ::Val{false}) at /Users/osx/buildbot/slave/package_osx64/build/usr/share/julia/stdlib/v1.1/LinearAlgebra/src/cholesky.jl:185",
      " [5] #cholesky#101 at ./none:0 [inlined]",
      " [6] cholesky at /Users/osx/buildbot/slave/package_osx64/build/usr/share/julia/stdlib/v1.1/LinearAlgebra/src/cholesky.jl:275 [inlined] (repeats 2 times)",
      " [7] top-level scope at In[128]:1"
     ]
    }
   ],
   "source": [
    "cholesky(B)"
   ]
  },
  {
   "cell_type": "markdown",
   "metadata": {},
   "source": [
    "It's not hard to manufacture an SPD matrix to try out the Cholesky factorization."
   ]
  },
  {
   "cell_type": "code",
   "execution_count": 129,
   "metadata": {},
   "outputs": [
    {
     "data": {
      "text/plain": [
       "Cholesky{Float64,Array{Float64,2}}\n",
       "U factor:\n",
       "4×4 UpperTriangular{Float64,Array{Float64,2}}:\n",
       " 14.2127  10.2022    8.37281   5.62878 \n",
       "   ⋅       4.11289  -2.77683  -0.589791\n",
       "   ⋅        ⋅        5.76066  -2.04255 \n",
       "   ⋅        ⋅         ⋅        3.13001 "
      ]
     },
     "execution_count": 129,
     "metadata": {},
     "output_type": "execute_result"
    }
   ],
   "source": [
    "B = A'*A\n",
    "cf = cholesky(B)"
   ]
  },
  {
   "cell_type": "markdown",
   "metadata": {},
   "source": [
    "What's returned is a \"factorization object.\" (This allows it to be used efficiently in various contexts.) Another step is required to extract the factor as a matrix. "
   ]
  },
  {
   "cell_type": "code",
   "execution_count": 130,
   "metadata": {},
   "outputs": [
    {
     "data": {
      "text/plain": [
       "4×4 Array{Float64,2}:\n",
       " 14.2127  10.2022    8.37281   5.62878 \n",
       "  0.0      4.11289  -2.77683  -0.589791\n",
       "  0.0      0.0       5.76066  -2.04255 \n",
       "  0.0      0.0       0.0       3.13001 "
      ]
     },
     "execution_count": 130,
     "metadata": {},
     "output_type": "execute_result"
    }
   ],
   "source": [
    "R = Matrix(cf.U)"
   ]
  },
  {
   "cell_type": "code",
   "execution_count": 131,
   "metadata": {},
   "outputs": [
    {
     "data": {
      "text/plain": [
       "4.9227844771419234e-14"
      ]
     },
     "execution_count": 131,
     "metadata": {},
     "output_type": "execute_result"
    }
   ],
   "source": [
    "norm(R'*R - B)"
   ]
  }
 ],
 "metadata": {
  "@webio": {
   "lastCommId": null,
   "lastKernelId": null
  },
  "kernelspec": {
   "display_name": "Julia 1.1.0",
   "language": "julia",
   "name": "julia-1.1"
  },
  "language_info": {
   "file_extension": ".jl",
   "mimetype": "application/julia",
   "name": "julia",
   "version": "1.1.0"
  },
  "latex_envs": {
   "LaTeX_envs_menu_present": true,
   "autoclose": false,
   "autocomplete": true,
   "bibliofile": "biblio.bib",
   "cite_by": "apalike",
   "current_citInitial": 1,
   "eqLabelWithNumbers": true,
   "eqNumInitial": 1,
   "hotkeys": {
    "equation": "Ctrl-E",
    "itemize": "Ctrl-I"
   },
   "labels_anchors": false,
   "latex_user_defs": false,
   "report_style_numbering": true,
   "user_envs_cfg": false
  },
  "toc": {
   "base_numbering": 1,
   "nav_menu": {},
   "number_sections": true,
   "sideBar": true,
   "skip_h1_title": false,
   "title_cell": "Table of Contents",
   "title_sidebar": "Contents",
   "toc_cell": false,
   "toc_position": {},
   "toc_section_display": true,
   "toc_window_display": false
  }
 },
 "nbformat": 4,
 "nbformat_minor": 2
}
